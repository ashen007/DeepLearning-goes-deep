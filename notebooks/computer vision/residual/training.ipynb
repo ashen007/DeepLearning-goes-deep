{
 "metadata": {
  "kernelspec": {
   "language": "python",
   "display_name": "Python 3",
   "name": "python3"
  },
  "language_info": {
   "name": "python",
   "version": "3.7.12",
   "mimetype": "text/x-python",
   "codemirror_mode": {
    "name": "ipython",
    "version": 3
   },
   "pygments_lexer": "ipython3",
   "nbconvert_exporter": "python",
   "file_extension": ".py"
  }
 },
 "nbformat_minor": 4,
 "nbformat": 4,
 "cells": [
  {
   "cell_type": "code",
   "source": [
    "import os\n",
    "import random\n",
    "import pandas as pd\n",
    "import tensorflow_addons as tfa\n",
    "import numpy as np\n",
    "import PIL.Image\n",
    "import tensorflow as tf\n",
    "\n",
    "from matplotlib import pyplot as plt\n",
    "from tensorflow.keras.models import Model\n",
    "\n",
    "from tensorflow.keras.layers import Input\n",
    "from tensorflow.keras.layers import Conv2D\n",
    "from tensorflow.keras.layers import Dense\n",
    "from tensorflow.keras.layers import BatchNormalization\n",
    "from tensorflow.keras.layers import Add\n",
    "from tensorflow.keras.layers import Activation\n",
    "from tensorflow.keras.layers import MaxPooling2D\n",
    "from tensorflow.keras.layers import AveragePooling2D\n",
    "from tensorflow.keras.layers import Flatten\n",
    "from tensorflow.keras.layers import Dropout\n",
    "from tensorflow.keras.layers import concatenate\n",
    "\n",
    "from tensorflow.keras.metrics import Recall\n",
    "from tensorflow.keras.activations import relu, softmax\n",
    "from tensorflow.keras.losses import categorical_crossentropy\n",
    "from tensorflow.keras.optimizers import Nadam, SGD, Adam\n",
    "from tensorflow.keras.regularizers import l2\n",
    "\n",
    "from tensorflow.keras.preprocessing.image import ImageDataGenerator\n",
    "from tensorflow.keras.callbacks import EarlyStopping, ReduceLROnPlateau\n",
    "from tensorflow.keras.utils import array_to_img, img_to_array"
   ],
   "metadata": {
    "_uuid": "8f2839f25d086af736a60e9eeb907d3b93b6e0e5",
    "_cell_guid": "b1076dfc-b9ad-4769-8c92-a6c4dae69d19",
    "execution": {
     "iopub.status.busy": "2022-04-18T04:00:37.871925Z",
     "iopub.execute_input": "2022-04-18T04:00:37.872627Z",
     "iopub.status.idle": "2022-04-18T04:00:37.884230Z",
     "shell.execute_reply.started": "2022-04-18T04:00:37.872582Z",
     "shell.execute_reply": "2022-04-18T04:00:37.883261Z"
    },
    "trusted": true,
    "pycharm": {
     "name": "#%%\n"
    }
   },
   "execution_count": 15,
   "outputs": []
  },
  {
   "cell_type": "markdown",
   "source": [
    "### Dataset 1"
   ],
   "metadata": {
    "pycharm": {
     "name": "#%% md\n"
    }
   }
  },
  {
   "cell_type": "code",
   "source": [
    "train_generator = ImageDataGenerator(rescale=1 / 255.,\n",
    "                                     height_shift_range=0.4,\n",
    "                                     width_shift_range=0.4,\n",
    "                                     zoom_range=0.4,\n",
    "                                     rotation_range=12,\n",
    "                                     vertical_flip=True,\n",
    "                                     horizontal_flip=True,\n",
    "                                     brightness_range=(1,1.5))\n",
    "\n",
    "valid_generator = ImageDataGenerator(rescale=1 / 255.,\n",
    "                                     height_shift_range=0.4,\n",
    "                                     width_shift_range=0.4,\n",
    "                                     zoom_range=0.4,\n",
    "                                     rotation_range=12,\n",
    "                                     vertical_flip=True,\n",
    "                                     horizontal_flip=True,\n",
    "                                     brightness_range=(1,1.5))"
   ],
   "metadata": {
    "execution": {
     "iopub.status.busy": "2022-04-18T03:50:48.879171Z",
     "iopub.execute_input": "2022-04-18T03:50:48.881427Z",
     "iopub.status.idle": "2022-04-18T03:50:48.892853Z",
     "shell.execute_reply.started": "2022-04-18T03:50:48.881343Z",
     "shell.execute_reply": "2022-04-18T03:50:48.891334Z"
    },
    "trusted": true,
    "pycharm": {
     "name": "#%%\n"
    }
   },
   "execution_count": 2,
   "outputs": []
  },
  {
   "cell_type": "code",
   "source": [
    "train_set = train_generator.flow_from_directory('../input/100-bird-species/train/',\n",
    "                                                target_size=(224, 224),\n",
    "                                                batch_size=32)\n",
    "\n",
    "val_set = valid_generator.flow_from_directory('../input/100-bird-species/valid/',\n",
    "                                              target_size=(224, 224),\n",
    "                                              batch_size=32)"
   ],
   "metadata": {
    "execution": {
     "iopub.status.busy": "2022-04-18T03:51:29.295535Z",
     "iopub.execute_input": "2022-04-18T03:51:29.296001Z",
     "iopub.status.idle": "2022-04-18T03:51:33.894171Z",
     "shell.execute_reply.started": "2022-04-18T03:51:29.295937Z",
     "shell.execute_reply": "2022-04-18T03:51:33.893238Z"
    },
    "trusted": true,
    "pycharm": {
     "name": "#%%\n"
    }
   },
   "execution_count": 4,
   "outputs": []
  },
  {
   "cell_type": "markdown",
   "source": [
    "### ***Models***"
   ],
   "metadata": {
    "pycharm": {
     "name": "#%% md\n"
    }
   }
  },
  {
   "cell_type": "code",
   "source": [
    "optimizer = SGD(learning_rate=1e-2, momentum=9e-1)\n",
    "weight_decay = 5e-4\n",
    "\n",
    "\n",
    "def vgg_net16_d(input_shape=(224, 224, 3), classes=None):\n",
    "    # input layer\n",
    "    input_layer = Input(shape=input_shape, name='input_')\n",
    "\n",
    "    # first conv block\n",
    "    x = Conv2D(filters=64, kernel_size=(3, 3), strides=(1, 1), kernel_regularizer=l2(weight_decay), padding='same',\n",
    "               activation=relu)(input_layer)\n",
    "    x = Conv2D(filters=64, kernel_size=(3, 3), strides=(1, 1), kernel_regularizer=l2(weight_decay), padding='same',\n",
    "               activation=relu)(x)\n",
    "    x = MaxPooling2D(pool_size=(2, 2), strides=(2, 2), padding='valid')(x)\n",
    "\n",
    "    # second conv block\n",
    "    x = Conv2D(filters=128, kernel_size=(3, 3), strides=(1, 1), kernel_regularizer=l2(weight_decay), padding='same',\n",
    "               activation=relu)(x)\n",
    "    x = Conv2D(filters=128, kernel_size=(3, 3), strides=(1, 1), kernel_regularizer=l2(weight_decay), padding='same',\n",
    "               activation=relu)(x)\n",
    "    x = MaxPooling2D(pool_size=(2, 2), strides=(2, 2), padding='valid')(x)\n",
    "\n",
    "    # third conv block\n",
    "    x = Conv2D(filters=256, kernel_size=(3, 3), strides=(1, 1), kernel_regularizer=l2(weight_decay), padding='same',\n",
    "               activation=relu)(x)\n",
    "    x = Conv2D(filters=256, kernel_size=(3, 3), strides=(1, 1), kernel_regularizer=l2(weight_decay), padding='same',\n",
    "               activation=relu)(x)\n",
    "    x = Conv2D(filters=256, kernel_size=(3, 3), strides=(1, 1), kernel_regularizer=l2(weight_decay), padding='same',\n",
    "               activation=relu)(x)\n",
    "    x = MaxPooling2D(pool_size=(2, 2), strides=(2, 2), padding='valid')(x)\n",
    "\n",
    "    # fourth conv block\n",
    "    x = Conv2D(filters=512, kernel_size=(3, 3), strides=(1, 1), kernel_regularizer=l2(weight_decay), padding='same',\n",
    "               activation=relu)(x)\n",
    "    x = Conv2D(filters=512, kernel_size=(3, 3), strides=(1, 1), kernel_regularizer=l2(weight_decay), padding='same',\n",
    "               activation=relu)(x)\n",
    "    x = Conv2D(filters=512, kernel_size=(3, 3), strides=(1, 1), kernel_regularizer=l2(weight_decay), padding='same',\n",
    "               activation=relu)(x)\n",
    "    x = MaxPooling2D(pool_size=(2, 2), strides=(2, 2), padding='valid')(x)\n",
    "\n",
    "    # fifth conv block\n",
    "    x = Conv2D(filters=512, kernel_size=(3, 3), strides=(1, 1), kernel_regularizer=l2(weight_decay), padding='same',\n",
    "               activation=relu)(x)\n",
    "    x = Conv2D(filters=512, kernel_size=(3, 3), strides=(1, 1), kernel_regularizer=l2(weight_decay), padding='same',\n",
    "               activation=relu)(x)\n",
    "    x = Conv2D(filters=512, kernel_size=(3, 3), strides=(1, 1), kernel_regularizer=l2(weight_decay), padding='same',\n",
    "               activation=relu)(x)\n",
    "    x = MaxPooling2D(pool_size=(2, 2), strides=(2, 2), padding='valid')(x)\n",
    "\n",
    "    # classifier\n",
    "    x = Flatten()(x)\n",
    "    x = Dense(units=512, activation=relu)(x)\n",
    "    x = Dropout(rate=0.5)(x)\n",
    "    x = Dense(units=512, activation=relu)(x)\n",
    "    x = Dropout(rate=0.5)(x)\n",
    "    x = Dense(units=classes, activation=softmax)(x)\n",
    "\n",
    "    model = Model(input_layer, x)\n",
    "    model.compile(optimizer=optimizer, loss=categorical_crossentropy, metrics=['accuracy'])\n",
    "#     model.summary()\n",
    "\n",
    "    return model\n"
   ],
   "metadata": {
    "execution": {
     "iopub.status.busy": "2022-04-18T04:00:44.842462Z",
     "iopub.execute_input": "2022-04-18T04:00:44.842772Z",
     "iopub.status.idle": "2022-04-18T04:00:44.869009Z",
     "shell.execute_reply.started": "2022-04-18T04:00:44.842737Z",
     "shell.execute_reply": "2022-04-18T04:00:44.868302Z"
    },
    "trusted": true,
    "pycharm": {
     "name": "#%%\n"
    }
   },
   "execution_count": 16,
   "outputs": []
  },
  {
   "cell_type": "code",
   "source": [
    "def inception(x, filters, projection, name=None):\n",
    "    f_1x1, f_3x3, f_3x3_reduce, f_5x5, f_5x5_reduce = filters\n",
    "    x1 = Conv2D(filters=f_1x1, kernel_size=(1, 1), strides=(1, 1), activation=relu, padding='same')(x)\n",
    "    x3_reducer = Conv2D(filters=f_3x3_reduce, kernel_size=(1, 1), strides=(1, 1), activation=relu, padding='same')(x)\n",
    "    x5_reducer = Conv2D(filters=f_5x5_reduce, kernel_size=(1, 1), strides=(1, 1), activation=relu, padding='same')(x)\n",
    "    pool = MaxPooling2D(pool_size=(3, 3), strides=(1, 1), padding='same')(x)\n",
    "\n",
    "    x3 = Conv2D(filters=f_3x3, kernel_size=(3, 3), strides=(1, 1), activation=relu, padding='same')(x3_reducer)\n",
    "    x5 = Conv2D(filters=f_5x5, kernel_size=(5, 5), strides=(1, 1), activation=relu, padding='same')(x5_reducer)\n",
    "    proj = Conv2D(filters=projection, kernel_size=(1, 1), strides=(1, 1), activation=relu, padding='same')(pool)\n",
    "\n",
    "    x = concatenate([x1, x3, x5, proj], axis=3, name=name)\n",
    "\n",
    "    return x\n",
    "\n",
    "\n",
    "def model_builder(shape, classes):\n",
    "    input_layer = Input(shape=shape)\n",
    "    x = Conv2D(filters=64, kernel_size=(7, 7), strides=(2, 2), activation=relu, padding='same')(input_layer)\n",
    "    x = MaxPooling2D(pool_size=(3, 3), strides=(2, 2), padding='same')(x)\n",
    "    x = BatchNormalization()(x)\n",
    "    x = Conv2D(filters=64, kernel_size=(1, 1), strides=(1, 1), activation=relu, padding='same')(x)\n",
    "    x = Conv2D(filters=192, kernel_size=(3, 3), strides=(1, 1), activation=relu, padding='same')(x)\n",
    "    x = BatchNormalization()(x)\n",
    "    x = MaxPooling2D(pool_size=(3, 3), strides=(2, 2), padding='same')(x)\n",
    "    x = inception(x, [64, 128, 96, 32, 16], projection=32, name='inception_3a')\n",
    "    x = inception(x, [128, 192, 128, 96, 32], projection=64, name='inception_3b')\n",
    "    x = MaxPooling2D(pool_size=(3, 3), strides=(2, 2), padding='same')(x)\n",
    "    x = inception(x, [192, 208, 96, 48, 16], projection=64, name='inception_4a')\n",
    "\n",
    "    aux_1 = AveragePooling2D(pool_size=(5, 5), strides=(3, 3), padding='valid')(x)\n",
    "    aux_1 = Conv2D(filters=128, kernel_size=(1, 1), strides=(1, 1), activation=relu, padding='valid')(aux_1)\n",
    "    aux_1 = Dense(units=1024, activation=relu)(aux_1)\n",
    "    aux_1 = Dropout(rate=0.7)(aux_1)\n",
    "    aux_1 = Flatten()(aux_1)\n",
    "    aux_out1 = Dense(units=classes, activation=softmax, name='aux_out1')(aux_1)\n",
    "\n",
    "    x = inception(x, [160, 224, 112, 64, 24], projection=64, name='inception_4b')\n",
    "    x = inception(x, [128, 256, 128, 64, 24], projection=64, name='inception_4c')\n",
    "    x = inception(x, [112, 288, 144, 64, 32], projection=64, name='inception_4d')\n",
    "    x = inception(x, [256, 320, 160, 128, 32], projection=128, name='inception_4e')\n",
    "\n",
    "    aux_2 = AveragePooling2D(pool_size=(5, 5), strides=(3, 3), padding='valid')(x)\n",
    "    aux_2 = Conv2D(filters=128, kernel_size=(1, 1), strides=(1, 1), activation=relu, padding='valid')(aux_2)\n",
    "    aux_2 = Dense(units=1024, activation=relu)(aux_2)\n",
    "    aux_2 = Dropout(rate=0.7)(aux_2)\n",
    "    aux_2 = Flatten()(aux_2)\n",
    "    aux_out2 = Dense(units=classes, activation=softmax, name='aux_out2')(aux_2)\n",
    "\n",
    "    x = MaxPooling2D(pool_size=(3, 3), strides=(2, 2), padding='same')(x)\n",
    "    x = inception(x, [256, 320, 160, 128, 32], projection=128, name='inception_5a')\n",
    "    x = inception(x, [384, 384, 192, 128, 48], projection=128, name='inception_5b')\n",
    "    x = AveragePooling2D(pool_size=(7, 7), strides=(1, 1))(x)\n",
    "    x = Dropout(rate=0.4)(x)\n",
    "    x = Flatten()(x)\n",
    "    output_layer = Dense(units=classes, activation=softmax, name='main_out')(x)\n",
    "\n",
    "    model = Model(input_layer, [output_layer, aux_out1, aux_out2])\n",
    "    model.compile(optimizer=Adam(), loss=categorical_crossentropy,\n",
    "                  loss_weights={'main_out': 1, 'aux_out1': 0.3, 'aux_out2': 0.3},\n",
    "                  metrics=['accuracy'])\n",
    "#     model.summary()\n",
    "\n",
    "    return model"
   ],
   "metadata": {
    "execution": {
     "iopub.status.busy": "2022-04-18T04:00:46.553931Z",
     "iopub.execute_input": "2022-04-18T04:00:46.554648Z",
     "iopub.status.idle": "2022-04-18T04:00:46.589355Z",
     "shell.execute_reply.started": "2022-04-18T04:00:46.554594Z",
     "shell.execute_reply": "2022-04-18T04:00:46.587888Z"
    },
    "trusted": true,
    "pycharm": {
     "name": "#%%\n"
    }
   },
   "execution_count": 17,
   "outputs": []
  },
  {
   "cell_type": "code",
   "source": [
    "def residual_block(x, filters, kernel=(3, 3), strid=(1, 1), projection=False):\n",
    "    r = Conv2D(filters=filters, kernel_size=kernel, strides=strid, padding='same')(x)\n",
    "    r = BatchNormalization()(r)\n",
    "    r = Activation(activation=relu)(r)\n",
    "    r = Conv2D(filters=filters, kernel_size=kernel, padding='same')(r)\n",
    "    r = BatchNormalization()(r)\n",
    "\n",
    "    if projection:\n",
    "        skip = Conv2D(filters=filters, kernel_size=kernel, strides=strid, padding='same')(x)\n",
    "        skip = BatchNormalization()(skip)\n",
    "        r = Add()([r, skip])\n",
    "    else:\n",
    "        r = Add()([r, x])\n",
    "\n",
    "    r = Activation(activation=relu)(r)\n",
    "\n",
    "    return r\n",
    "\n",
    "\n",
    "def build(input_shape, classes):\n",
    "    input_layer = Input(input_shape)\n",
    "    x = Conv2D(filters=64, kernel_size=(7, 7), strides=(2, 2), padding='valid')(input_layer)\n",
    "    x = BatchNormalization()(x)\n",
    "    x = Activation(activation=relu)(x)\n",
    "    x = MaxPooling2D(pool_size=(3, 3), strides=(2, 2))(x)\n",
    "\n",
    "    x = residual_block(x, filters=64)\n",
    "    x = residual_block(x, filters=64)\n",
    "    x = residual_block(x, filters=64)\n",
    "\n",
    "    x = residual_block(x, filters=128, strid=(2, 2), projection=True)\n",
    "    x = residual_block(x, filters=128)\n",
    "    x = residual_block(x, filters=128)\n",
    "    x = residual_block(x, filters=128)\n",
    "\n",
    "    x = residual_block(x, filters=256, strid=(2, 2), projection=True)\n",
    "    x = residual_block(x, filters=256)\n",
    "    x = residual_block(x, filters=256)\n",
    "    x = residual_block(x, filters=256)\n",
    "    x = residual_block(x, filters=256)\n",
    "    x = residual_block(x, filters=256)\n",
    "\n",
    "    x = residual_block(x, filters=512, strid=(2, 2), projection=True)\n",
    "    x = residual_block(x, filters=512)\n",
    "    x = residual_block(x, filters=512)\n",
    "\n",
    "    x = AveragePooling2D(pool_size=(7, 7))(x)\n",
    "    x = Flatten()(x)\n",
    "    output_layer = Dense(units=classes, activation=softmax)(x)\n",
    "\n",
    "    model = Model(input_layer, output_layer)\n",
    "    model.compile(optimizer=Nadam(),\n",
    "                  loss=categorical_crossentropy,\n",
    "                  metrics=['accuracy'])\n",
    "#     model.summary()\n",
    "\n",
    "    return model"
   ],
   "metadata": {
    "execution": {
     "iopub.status.busy": "2022-04-18T04:00:48.544267Z",
     "iopub.execute_input": "2022-04-18T04:00:48.544635Z",
     "iopub.status.idle": "2022-04-18T04:00:48.565385Z",
     "shell.execute_reply.started": "2022-04-18T04:00:48.544592Z",
     "shell.execute_reply": "2022-04-18T04:00:48.564250Z"
    },
    "trusted": true,
    "pycharm": {
     "name": "#%%\n"
    }
   },
   "execution_count": 18,
   "outputs": []
  },
  {
   "cell_type": "markdown",
   "source": [
    "### Traing on dataset 1"
   ],
   "metadata": {
    "pycharm": {
     "name": "#%% md\n"
    }
   }
  },
  {
   "cell_type": "code",
   "source": [
    "vgg = vgg_net16_d((224, 224, 3),400)\n",
    "inception = model_builder((224, 224, 3),400)\n",
    "resnet = build((224, 224, 3),400)"
   ],
   "metadata": {
    "execution": {
     "iopub.status.busy": "2022-04-18T04:00:50.644038Z",
     "iopub.execute_input": "2022-04-18T04:00:50.644453Z",
     "iopub.status.idle": "2022-04-18T04:00:53.045396Z",
     "shell.execute_reply.started": "2022-04-18T04:00:50.644411Z",
     "shell.execute_reply": "2022-04-18T04:00:53.044071Z"
    },
    "trusted": true,
    "pycharm": {
     "name": "#%%\n"
    }
   },
   "execution_count": 19,
   "outputs": []
  },
  {
   "cell_type": "code",
   "source": [
    "early_stop = EarlyStopping(monitor='val_loss',\n",
    "                           patience=10,\n",
    "                           restore_best_weights=True)\n",
    "\n",
    "reduce_lr = ReduceLROnPlateau(monitor='val_loss',\n",
    "                              factor=0.1,\n",
    "                              patience=10)"
   ],
   "metadata": {
    "execution": {
     "iopub.status.busy": "2022-04-18T04:01:34.199755Z",
     "iopub.execute_input": "2022-04-18T04:01:34.200688Z",
     "iopub.status.idle": "2022-04-18T04:01:34.206892Z",
     "shell.execute_reply.started": "2022-04-18T04:01:34.200609Z",
     "shell.execute_reply": "2022-04-18T04:01:34.205925Z"
    },
    "trusted": true,
    "pycharm": {
     "name": "#%%\n"
    }
   },
   "execution_count": 20,
   "outputs": []
  },
  {
   "cell_type": "code",
   "source": [
    "history_vgg = vgg.fit(x=train_set,\n",
    "                      validation_data=val_set,\n",
    "                      epochs=100,\n",
    "                      callbacks=[early_stop, reduce_lr])"
   ],
   "metadata": {
    "pycharm": {
     "name": "#%%\n"
    }
   },
   "execution_count": null,
   "outputs": []
  },
  {
   "cell_type": "code",
   "source": [
    "pd.DataFrame(history_vgg.history).to_pickle('vgg_data_1.pkl')"
   ],
   "metadata": {
    "pycharm": {
     "name": "#%%\n"
    }
   },
   "execution_count": null,
   "outputs": []
  },
  {
   "cell_type": "code",
   "source": [
    "history_inc = inception.fit(x=train_set,\n",
    "                            validation_data=val_set,\n",
    "                            epochs=100,\n",
    "                            callbacks=[early_stop, reduce_lr])"
   ],
   "metadata": {
    "pycharm": {
     "name": "#%%\n"
    }
   },
   "execution_count": null,
   "outputs": []
  },
  {
   "cell_type": "code",
   "source": [
    "pd.DataFrame(history_inc.history).to_pickle('inc_data_1.pkl')"
   ],
   "metadata": {
    "pycharm": {
     "name": "#%%\n"
    }
   },
   "execution_count": null,
   "outputs": []
  },
  {
   "cell_type": "code",
   "source": [
    "history_res = resnet.fit(x=train_set,\n",
    "                         validation_data=val_set,\n",
    "                         epochs=100,\n",
    "                         callbacks=[early_stop, reduce_lr])"
   ],
   "metadata": {
    "pycharm": {
     "name": "#%%\n"
    }
   },
   "execution_count": null,
   "outputs": []
  },
  {
   "cell_type": "code",
   "source": [
    "pd.DataFrame(history_res.history).to_pickle('res_data_1.pkl')"
   ],
   "metadata": {
    "pycharm": {
     "name": "#%%\n"
    }
   },
   "execution_count": null,
   "outputs": []
  }
 ]
}
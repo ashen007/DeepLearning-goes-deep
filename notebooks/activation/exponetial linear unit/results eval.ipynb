{
 "cells": [
  {
   "cell_type": "code",
   "execution_count": 3,
   "metadata": {
    "collapsed": true
   },
   "outputs": [],
   "source": [
    "import json\n",
    "import pandas as pd\n",
    "import seaborn as sns\n",
    "import numpy as np\n",
    "\n",
    "from matplotlib import pyplot as plt"
   ]
  },
  {
   "cell_type": "code",
   "execution_count": 4,
   "outputs": [],
   "source": [
    "activations = pd.read_pickle('unit activations.pkl')\n",
    "\n",
    "with open('result_0.json', 'r') as file:\n",
    "    test_1_history = json.load(file)"
   ],
   "metadata": {
    "collapsed": false,
    "pycharm": {
     "name": "#%%\n"
    }
   }
  },
  {
   "cell_type": "code",
   "execution_count": 9,
   "outputs": [
    {
     "data": {
      "text/plain": "967"
     },
     "execution_count": 9,
     "metadata": {},
     "output_type": "execute_result"
    }
   ],
   "source": [
    "len(activations)"
   ],
   "metadata": {
    "collapsed": false,
    "pycharm": {
     "name": "#%%\n"
    }
   }
  },
  {
   "cell_type": "code",
   "execution_count": 12,
   "outputs": [],
   "source": [
    "activations = activations[367:]"
   ],
   "metadata": {
    "collapsed": false,
    "pycharm": {
     "name": "#%%\n"
    }
   }
  },
  {
   "cell_type": "code",
   "execution_count": 14,
   "outputs": [],
   "source": [
    "relu_ = activations[:150]\n",
    "lrelu_ = activations[150:300]\n",
    "srelu_ = activations[300:450]\n",
    "elu_ = activations[450:]"
   ],
   "metadata": {
    "collapsed": false,
    "pycharm": {
     "name": "#%%\n"
    }
   }
  },
  {
   "cell_type": "code",
   "execution_count": 27,
   "outputs": [],
   "source": [
    "relu_mean = []\n",
    "\n",
    "for i in range(3):\n",
    "    folds = []\n",
    "    for items in relu_[50 * i:50 * (i + 1)]:\n",
    "        means = np.mean(items)\n",
    "\n",
    "        folds.append(means)\n",
    "\n",
    "    relu_mean.append(folds)"
   ],
   "metadata": {
    "collapsed": false,
    "pycharm": {
     "name": "#%%\n"
    }
   }
  },
  {
   "cell_type": "code",
   "execution_count": 28,
   "outputs": [
    {
     "data": {
      "text/plain": "array([[ 90.123764,  88.94438 ,  90.114136,  88.399796,  88.5267  ,\n        102.83259 , 103.058   ,  97.50385 , 106.30205 , 101.61214 ,\n        100.51352 , 105.921814, 106.691216, 112.03551 , 102.96743 ,\n        116.48104 , 109.70157 , 118.28765 , 113.83508 , 115.23047 ,\n        113.39899 , 121.249275, 118.81743 , 119.652245, 114.752426,\n        118.93939 , 116.76643 , 122.419174, 123.94943 , 123.5405  ,\n        129.28818 , 123.90877 , 131.15244 , 128.6948  , 131.59851 ,\n        131.24323 , 129.02031 , 129.66647 , 133.41113 , 134.58525 ,\n        128.46161 , 128.74489 , 133.8189  , 131.79407 , 137.31995 ,\n        137.8121  , 138.6327  , 136.61269 , 135.81017 , 139.27635 ],\n       [ 95.268005,  92.61374 ,  90.74554 ,  90.372246,  84.26487 ,\n         92.45163 ,  89.455246,  90.2386  ,  87.34253 ,  93.99559 ,\n         87.18811 ,  88.207016,  90.48443 ,  90.72744 ,  91.074005,\n         92.24722 ,  98.41726 ,  96.990814, 101.627716,  97.10877 ,\n        101.779976,  99.82966 ,  99.71062 , 101.17644 , 107.41327 ,\n        108.92592 , 105.07532 , 111.5862  ,  99.40907 , 112.78499 ,\n        102.15523 , 118.09216 , 112.11554 , 107.27327 , 120.31915 ,\n        105.32261 , 116.22785 , 111.20032 , 123.71329 , 108.29495 ,\n        113.86656 , 117.41135 , 112.63423 , 119.11668 , 118.087616,\n        117.692345, 116.55239 , 111.28157 , 121.09064 , 114.77837 ],\n       [102.22867 ,  97.39096 ,  85.97092 ,  91.45107 ,  93.77779 ,\n         96.92595 ,  96.614   ,  94.9776  ,  95.53455 ,  92.97835 ,\n         94.35124 ,  90.834915, 100.08258 ,  95.75363 ,  99.7749  ,\n        103.118004, 111.73214 , 107.55704 , 108.84502 , 107.83409 ,\n        105.536606, 108.34251 , 109.10097 , 117.13502 , 114.674866,\n        116.77458 , 124.68625 , 115.298164, 121.462   , 123.97891 ,\n        124.71433 , 135.79308 , 132.524   , 130.11911 , 129.35678 ,\n        125.25058 , 128.40819 , 133.09732 , 132.6973  , 131.96355 ,\n        135.6235  , 138.59238 , 131.82483 , 140.5845  , 139.0207  ,\n        137.71288 , 137.0558  , 141.13654 , 134.89365 , 145.34741 ]],\n      dtype=float32)"
     },
     "execution_count": 28,
     "metadata": {},
     "output_type": "execute_result"
    }
   ],
   "source": [
    "relu_mean = np.array(relu_mean)\n",
    "relu_mean"
   ],
   "metadata": {
    "collapsed": false,
    "pycharm": {
     "name": "#%%\n"
    }
   }
  },
  {
   "cell_type": "code",
   "execution_count": 29,
   "outputs": [
    {
     "data": {
      "text/plain": "(3, 50)"
     },
     "execution_count": 29,
     "metadata": {},
     "output_type": "execute_result"
    }
   ],
   "source": [
    "relu_mean.shape"
   ],
   "metadata": {
    "collapsed": false,
    "pycharm": {
     "name": "#%%\n"
    }
   }
  },
  {
   "cell_type": "code",
   "execution_count": null,
   "outputs": [],
   "source": [],
   "metadata": {
    "collapsed": false,
    "pycharm": {
     "name": "#%%\n"
    }
   }
  }
 ],
 "metadata": {
  "kernelspec": {
   "display_name": "Python 3",
   "language": "python",
   "name": "python3"
  },
  "language_info": {
   "codemirror_mode": {
    "name": "ipython",
    "version": 2
   },
   "file_extension": ".py",
   "mimetype": "text/x-python",
   "name": "python",
   "nbconvert_exporter": "python",
   "pygments_lexer": "ipython2",
   "version": "2.7.6"
  }
 },
 "nbformat": 4,
 "nbformat_minor": 0
}
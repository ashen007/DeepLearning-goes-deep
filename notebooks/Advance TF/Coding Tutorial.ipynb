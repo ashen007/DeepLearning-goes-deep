{
 "cells": [
  {
   "cell_type": "code",
   "execution_count": 13,
   "metadata": {
    "scrolled": false
   },
   "outputs": [
    {
     "name": "stdout",
     "output_type": "stream",
     "text": [
      "2.7.0\n"
     ]
    }
   ],
   "source": [
    "import tensorflow as tf\n",
    "import tensorflow.keras as keras\n",
    "\n",
    "print(tf.__version__)"
   ]
  },
  {
   "cell_type": "markdown",
   "metadata": {},
   "source": [
    "# The Keras functional API"
   ]
  },
  {
   "cell_type": "markdown",
   "metadata": {},
   "source": [
    " ## Coding tutorials\n",
    " #### [1. Multiple inputs and outputs](#coding_tutorial_1)\n",
    " #### [2. Tensors and Variables](#coding_tutorial_2)\n",
    " #### [3. Accessing model layers](#coding_tutorial_3)\n",
    " #### [4. Freezing layers](#coding_tutorial_4)"
   ]
  },
  {
   "cell_type": "markdown",
   "metadata": {},
   "source": [
    "***\n",
    "<a id=\"coding_tutorial_1\"></a>\n",
    "## Multiple inputs and outputs"
   ]
  },
  {
   "cell_type": "code",
   "execution_count": 2,
   "metadata": {
    "scrolled": false
   },
   "outputs": [],
   "source": [
    "import numpy as np\n",
    "import pandas as pd\n",
    "import matplotlib.pyplot as plt\n",
    "% matplotlib inline"
   ]
  },
  {
   "cell_type": "markdown",
   "metadata": {},
   "source": [
    "#### Load the acute inflammations dataset\n",
    "\n",
    "The `acute inflammations` was created by a medical expert as a data set to test the expert system, which will perform the presumptive diagnosis of two diseases of the urinary system. You can find out more about the dataset [here](https://archive.ics.uci.edu/ml/datasets/Acute+Inflammations).\n",
    "\n",
    "Attribute information:\n",
    "\n",
    "Inputs:\n",
    "- Temperature of patient : 35C-42C\n",
    "- Occurrence of nausea : yes/no\n",
    "- Lumbar pain : yes/no\n",
    "- Urine pushing (continuous need for urination) : yes/no\n",
    "- Micturition pains : yes/no\n",
    "- Burning of urethra, itch, swelling of urethra outlet : yes/no\n",
    "\n",
    "Outputs:\n",
    "- decision 1: Inflammation of urinary bladder : yes/no\n",
    "- decision 2: Nephritis of renal pelvis origin : yes/no"
   ]
  },
  {
   "cell_type": "markdown",
   "metadata": {},
   "source": [
    "#### Load the data"
   ]
  },
  {
   "cell_type": "code",
   "execution_count": 83,
   "metadata": {
    "scrolled": false
   },
   "outputs": [
    {
     "data": {
      "text/plain": "array([[35.5,  0. ,  1. ,  0. ,  0. ,  0. ,  0. ,  0. ],\n       [35.9,  0. ,  0. ,  1. ,  1. ,  1. ,  1. ,  0. ],\n       [35.9,  0. ,  1. ,  0. ,  0. ,  0. ,  0. ,  0. ],\n       [36. ,  0. ,  0. ,  1. ,  1. ,  1. ,  1. ,  0. ],\n       [36. ,  0. ,  1. ,  0. ,  0. ,  0. ,  0. ,  0. ],\n       [36. ,  0. ,  1. ,  0. ,  0. ,  0. ,  0. ,  0. ],\n       [36.2,  0. ,  0. ,  1. ,  1. ,  1. ,  1. ,  0. ],\n       [36.2,  0. ,  1. ,  0. ,  0. ,  0. ,  0. ,  0. ],\n       [36.3,  0. ,  0. ,  1. ,  1. ,  1. ,  1. ,  0. ],\n       [36.6,  0. ,  0. ,  1. ,  1. ,  1. ,  1. ,  0. ],\n       [36.6,  0. ,  0. ,  1. ,  1. ,  1. ,  1. ,  0. ],\n       [36.6,  0. ,  1. ,  0. ,  0. ,  0. ,  0. ,  0. ],\n       [36.6,  0. ,  1. ,  0. ,  0. ,  0. ,  0. ,  0. ],\n       [36.7,  0. ,  0. ,  1. ,  1. ,  1. ,  1. ,  0. ],\n       [36.7,  0. ,  1. ,  0. ,  0. ,  0. ,  0. ,  0. ],\n       [36.7,  0. ,  1. ,  0. ,  0. ,  0. ,  0. ,  0. ],\n       [36.8,  0. ,  0. ,  1. ,  1. ,  1. ,  1. ,  0. ],\n       [36.8,  0. ,  0. ,  1. ,  1. ,  1. ,  1. ,  0. ],\n       [36.9,  0. ,  0. ,  1. ,  1. ,  1. ,  1. ,  0. ],\n       [36.9,  0. ,  1. ,  0. ,  0. ,  0. ,  0. ,  0. ],\n       [37. ,  0. ,  0. ,  1. ,  1. ,  0. ,  1. ,  0. ],\n       [37. ,  0. ,  0. ,  1. ,  1. ,  0. ,  1. ,  0. ],\n       [37. ,  0. ,  1. ,  0. ,  0. ,  0. ,  0. ,  0. ],\n       [37. ,  0. ,  0. ,  1. ,  1. ,  1. ,  1. ,  0. ],\n       [37. ,  0. ,  0. ,  1. ,  1. ,  1. ,  1. ,  0. ],\n       [37. ,  0. ,  0. ,  1. ,  1. ,  1. ,  1. ,  0. ],\n       [37. ,  0. ,  0. ,  1. ,  1. ,  1. ,  1. ,  0. ],\n       [37. ,  0. ,  0. ,  1. ,  0. ,  0. ,  1. ,  0. ],\n       [37.1,  0. ,  1. ,  0. ,  0. ,  0. ,  0. ,  0. ],\n       [37.1,  0. ,  0. ,  1. ,  1. ,  1. ,  1. ,  0. ],\n       [37.1,  0. ,  0. ,  1. ,  0. ,  0. ,  1. ,  0. ],\n       [37.2,  0. ,  0. ,  1. ,  1. ,  0. ,  1. ,  0. ],\n       [37.2,  0. ,  1. ,  0. ,  0. ,  0. ,  0. ,  0. ],\n       [37.2,  0. ,  0. ,  1. ,  0. ,  0. ,  1. ,  0. ],\n       [37.3,  0. ,  1. ,  0. ,  0. ,  0. ,  0. ,  0. ],\n       [37.3,  0. ,  0. ,  1. ,  1. ,  1. ,  1. ,  0. ],\n       [37.3,  0. ,  0. ,  1. ,  0. ,  0. ,  1. ,  0. ],\n       [37.4,  0. ,  1. ,  0. ,  0. ,  0. ,  0. ,  0. ],\n       [37.4,  0. ,  0. ,  1. ,  0. ,  0. ,  1. ,  0. ],\n       [37.5,  0. ,  0. ,  1. ,  1. ,  0. ,  1. ,  0. ],\n       [37.5,  0. ,  1. ,  0. ,  0. ,  0. ,  0. ,  0. ],\n       [37.5,  0. ,  1. ,  0. ,  0. ,  0. ,  0. ,  0. ],\n       [37.5,  0. ,  0. ,  1. ,  1. ,  1. ,  1. ,  0. ],\n       [37.5,  0. ,  0. ,  1. ,  0. ,  0. ,  1. ,  0. ],\n       [37.5,  0. ,  0. ,  1. ,  0. ,  0. ,  1. ,  0. ],\n       [37.6,  0. ,  0. ,  1. ,  1. ,  0. ,  1. ,  0. ],\n       [37.6,  0. ,  0. ,  1. ,  1. ,  0. ,  1. ,  0. ],\n       [37.6,  0. ,  0. ,  1. ,  1. ,  1. ,  1. ,  0. ],\n       [37.7,  0. ,  0. ,  1. ,  1. ,  0. ,  1. ,  0. ],\n       [37.7,  0. ,  0. ,  1. ,  1. ,  0. ,  1. ,  0. ],\n       [37.7,  0. ,  1. ,  0. ,  0. ,  0. ,  0. ,  0. ],\n       [37.7,  0. ,  0. ,  1. ,  0. ,  0. ,  1. ,  0. ],\n       [37.8,  0. ,  1. ,  0. ,  0. ,  0. ,  0. ,  0. ],\n       [37.8,  0. ,  0. ,  1. ,  1. ,  1. ,  1. ,  0. ],\n       [37.8,  0. ,  0. ,  1. ,  0. ,  0. ,  1. ,  0. ],\n       [37.9,  0. ,  0. ,  1. ,  1. ,  0. ,  1. ,  0. ],\n       [37.9,  0. ,  0. ,  1. ,  1. ,  0. ,  1. ,  0. ],\n       [37.9,  0. ,  1. ,  0. ,  0. ,  0. ,  0. ,  0. ],\n       [37.9,  0. ,  0. ,  1. ,  1. ,  1. ,  1. ,  0. ],\n       [37.9,  0. ,  0. ,  1. ,  0. ,  0. ,  1. ,  0. ],\n       [38. ,  0. ,  1. ,  1. ,  0. ,  1. ,  0. ,  1. ],\n       [38. ,  0. ,  1. ,  1. ,  0. ,  1. ,  0. ,  1. ],\n       [38.1,  0. ,  1. ,  1. ,  0. ,  1. ,  0. ,  1. ],\n       [38.3,  0. ,  1. ,  1. ,  0. ,  1. ,  0. ,  1. ],\n       [38.5,  0. ,  1. ,  1. ,  0. ,  1. ,  0. ,  1. ],\n       [38.7,  0. ,  1. ,  1. ,  0. ,  1. ,  0. ,  1. ],\n       [38.9,  0. ,  1. ,  1. ,  0. ,  1. ,  0. ,  1. ],\n       [39. ,  0. ,  1. ,  1. ,  0. ,  1. ,  0. ,  1. ],\n       [39.4,  0. ,  1. ,  1. ,  0. ,  1. ,  0. ,  1. ],\n       [39.7,  0. ,  1. ,  1. ,  0. ,  1. ,  0. ,  1. ],\n       [40. ,  1. ,  1. ,  1. ,  1. ,  1. ,  1. ,  1. ],\n       [40. ,  1. ,  1. ,  1. ,  1. ,  1. ,  1. ,  1. ],\n       [40. ,  1. ,  1. ,  1. ,  1. ,  0. ,  1. ,  1. ],\n       [40. ,  0. ,  0. ,  0. ,  0. ,  0. ,  0. ,  0. ],\n       [40. ,  0. ,  0. ,  0. ,  0. ,  0. ,  0. ,  0. ],\n       [40. ,  1. ,  1. ,  0. ,  1. ,  0. ,  0. ,  1. ],\n       [40. ,  1. ,  1. ,  0. ,  1. ,  0. ,  0. ,  1. ],\n       [40. ,  0. ,  1. ,  1. ,  0. ,  1. ,  0. ,  1. ],\n       [40.1,  1. ,  1. ,  1. ,  1. ,  0. ,  1. ,  1. ],\n       [40.2,  1. ,  1. ,  1. ,  1. ,  1. ,  1. ,  1. ],\n       [40.2,  0. ,  0. ,  0. ,  0. ,  0. ,  0. ,  0. ],\n       [40.2,  1. ,  1. ,  0. ,  1. ,  0. ,  0. ,  1. ],\n       [40.3,  0. ,  1. ,  1. ,  0. ,  1. ,  0. ,  1. ],\n       [40.4,  1. ,  1. ,  1. ,  1. ,  1. ,  1. ,  1. ],\n       [40.4,  1. ,  1. ,  1. ,  1. ,  0. ,  1. ,  1. ],\n       [40.4,  1. ,  1. ,  1. ,  1. ,  0. ,  1. ,  1. ],\n       [40.4,  0. ,  0. ,  0. ,  0. ,  0. ,  0. ,  0. ],\n       [40.4,  1. ,  1. ,  0. ,  1. ,  0. ,  0. ,  1. ],\n       [40.5,  1. ,  1. ,  1. ,  1. ,  0. ,  1. ,  1. ],\n       [40.6,  1. ,  1. ,  1. ,  1. ,  1. ,  1. ,  1. ],\n       [40.6,  0. ,  0. ,  0. ,  0. ,  0. ,  0. ,  0. ],\n       [40.6,  1. ,  1. ,  0. ,  1. ,  0. ,  0. ,  1. ],\n       [40.7,  1. ,  1. ,  1. ,  1. ,  1. ,  1. ,  1. ],\n       [40.7,  1. ,  1. ,  1. ,  1. ,  0. ,  1. ,  1. ],\n       [40.7,  0. ,  0. ,  0. ,  0. ,  0. ,  0. ,  0. ],\n       [40.7,  1. ,  1. ,  0. ,  1. ,  0. ,  0. ,  1. ],\n       [40.7,  0. ,  1. ,  1. ,  0. ,  1. ,  0. ,  1. ],\n       [40.8,  0. ,  1. ,  1. ,  0. ,  1. ,  0. ,  1. ],\n       [40.9,  1. ,  1. ,  1. ,  1. ,  0. ,  1. ,  1. ],\n       [40.9,  1. ,  1. ,  1. ,  1. ,  0. ,  1. ,  1. ],\n       [40.9,  0. ,  1. ,  1. ,  0. ,  1. ,  0. ,  1. ],\n       [41. ,  1. ,  1. ,  1. ,  1. ,  1. ,  1. ,  1. ],\n       [41. ,  0. ,  0. ,  0. ,  0. ,  0. ,  0. ,  0. ],\n       [41. ,  1. ,  1. ,  0. ,  1. ,  0. ,  0. ,  1. ],\n       [41. ,  0. ,  1. ,  1. ,  0. ,  1. ,  0. ,  1. ],\n       [41.1,  1. ,  1. ,  1. ,  1. ,  1. ,  1. ,  1. ],\n       [41.1,  1. ,  1. ,  1. ,  1. ,  0. ,  1. ,  1. ],\n       [41.1,  0. ,  0. ,  0. ,  0. ,  0. ,  0. ,  0. ],\n       [41.1,  1. ,  1. ,  0. ,  1. ,  0. ,  0. ,  1. ],\n       [41.1,  0. ,  1. ,  1. ,  0. ,  1. ,  0. ,  1. ],\n       [41.2,  1. ,  1. ,  1. ,  1. ,  1. ,  1. ,  1. ],\n       [41.2,  0. ,  0. ,  0. ,  0. ,  0. ,  0. ,  0. ],\n       [41.2,  1. ,  1. ,  0. ,  1. ,  0. ,  0. ,  1. ],\n       [41.2,  0. ,  1. ,  1. ,  0. ,  1. ,  0. ,  1. ],\n       [41.3,  1. ,  1. ,  1. ,  1. ,  0. ,  1. ,  1. ],\n       [41.4,  0. ,  1. ,  1. ,  0. ,  1. ,  0. ,  1. ],\n       [41.5,  0. ,  0. ,  0. ,  0. ,  0. ,  0. ,  0. ],\n       [41.5,  1. ,  1. ,  0. ,  1. ,  0. ,  0. ,  1. ],\n       [41.5,  0. ,  1. ,  1. ,  0. ,  1. ,  0. ,  1. ],\n       [41.5,  0. ,  1. ,  1. ,  0. ,  1. ,  0. ,  1. ]])"
     },
     "execution_count": 83,
     "metadata": {},
     "output_type": "execute_result"
    }
   ],
   "source": [
    "# Load the dataset\n",
    "\n",
    "from sklearn.model_selection import train_test_split\n",
    "from sklearn.preprocessing import OrdinalEncoder\n",
    "\n",
    "pd_dat = pd.read_csv('../../data/diagnosis.csv', header=None)\n",
    "\n",
    "encoder = OrdinalEncoder()\n",
    "pd_dat.loc[:, 1:] = encoder.fit_transform(pd_dat.loc[:, 1:])\n",
    "dataset = pd_dat.values\n",
    "dataset"
   ]
  },
  {
   "cell_type": "code",
   "execution_count": 84,
   "metadata": {
    "scrolled": false
   },
   "outputs": [],
   "source": [
    "# Build train and test data splits\n",
    "\n",
    "X_train, X_test, Y_train, Y_test = train_test_split(dataset[:, :6], dataset[:, 6:], test_size=0.33)"
   ]
  },
  {
   "cell_type": "code",
   "execution_count": 85,
   "outputs": [
    {
     "data": {
      "text/plain": "(array([[41. ,  1. ,  1. ,  1. ,  1. ,  1. ],\n        [37.1,  0. ,  1. ,  0. ,  0. ,  0. ],\n        [41. ,  0. ,  1. ,  1. ,  0. ,  1. ],\n        [37. ,  0. ,  0. ,  1. ,  1. ,  0. ],\n        [37.2,  0. ,  0. ,  1. ,  0. ,  0. ],\n        [41.2,  1. ,  1. ,  0. ,  1. ,  0. ],\n        [37.5,  0. ,  0. ,  1. ,  0. ,  0. ],\n        [40.4,  1. ,  1. ,  1. ,  1. ,  1. ],\n        [35.5,  0. ,  1. ,  0. ,  0. ,  0. ],\n        [36.2,  0. ,  1. ,  0. ,  0. ,  0. ],\n        [35.9,  0. ,  0. ,  1. ,  1. ,  1. ],\n        [37.9,  0. ,  0. ,  1. ,  0. ,  0. ],\n        [40. ,  0. ,  0. ,  0. ,  0. ,  0. ],\n        [37.5,  0. ,  0. ,  1. ,  0. ,  0. ],\n        [37. ,  0. ,  0. ,  1. ,  0. ,  0. ],\n        [37.4,  0. ,  1. ,  0. ,  0. ,  0. ],\n        [37.1,  0. ,  0. ,  1. ,  0. ,  0. ],\n        [38.9,  0. ,  1. ,  1. ,  0. ,  1. ],\n        [41.2,  0. ,  0. ,  0. ,  0. ,  0. ],\n        [37.6,  0. ,  0. ,  1. ,  1. ,  0. ],\n        [37.6,  0. ,  0. ,  1. ,  1. ,  0. ],\n        [37.5,  0. ,  0. ,  1. ,  1. ,  0. ],\n        [41.1,  0. ,  1. ,  1. ,  0. ,  1. ],\n        [40.9,  1. ,  1. ,  1. ,  1. ,  0. ],\n        [36. ,  0. ,  1. ,  0. ,  0. ,  0. ],\n        [40.4,  1. ,  1. ,  1. ,  1. ,  0. ],\n        [37.8,  0. ,  0. ,  1. ,  0. ,  0. ],\n        [40.4,  0. ,  0. ,  0. ,  0. ,  0. ],\n        [36.8,  0. ,  0. ,  1. ,  1. ,  1. ],\n        [40.6,  1. ,  1. ,  0. ,  1. ,  0. ],\n        [41.1,  1. ,  1. ,  0. ,  1. ,  0. ],\n        [41. ,  0. ,  0. ,  0. ,  0. ,  0. ],\n        [40.2,  0. ,  0. ,  0. ,  0. ,  0. ],\n        [39.7,  0. ,  1. ,  1. ,  0. ,  1. ],\n        [36.9,  0. ,  0. ,  1. ,  1. ,  1. ],\n        [40.6,  0. ,  0. ,  0. ,  0. ,  0. ],\n        [40. ,  0. ,  1. ,  1. ,  0. ,  1. ],\n        [37.3,  0. ,  0. ,  1. ,  1. ,  1. ],\n        [37. ,  0. ,  0. ,  1. ,  1. ,  1. ],\n        [36.6,  0. ,  1. ,  0. ,  0. ,  0. ],\n        [41.4,  0. ,  1. ,  1. ,  0. ,  1. ],\n        [38. ,  0. ,  1. ,  1. ,  0. ,  1. ],\n        [36.7,  0. ,  1. ,  0. ,  0. ,  0. ],\n        [41. ,  1. ,  1. ,  0. ,  1. ,  0. ],\n        [40. ,  1. ,  1. ,  0. ,  1. ,  0. ],\n        [37.1,  0. ,  0. ,  1. ,  1. ,  1. ],\n        [37.9,  0. ,  0. ,  1. ,  1. ,  0. ],\n        [39.4,  0. ,  1. ,  1. ,  0. ,  1. ],\n        [36.7,  0. ,  1. ,  0. ,  0. ,  0. ],\n        [41.5,  0. ,  1. ,  1. ,  0. ,  1. ],\n        [37.5,  0. ,  1. ,  0. ,  0. ,  0. ],\n        [40. ,  1. ,  1. ,  1. ,  1. ,  1. ],\n        [36.6,  0. ,  0. ,  1. ,  1. ,  1. ],\n        [40.2,  1. ,  1. ,  0. ,  1. ,  0. ],\n        [37.2,  0. ,  1. ,  0. ,  0. ,  0. ],\n        [41.1,  1. ,  1. ,  1. ,  1. ,  1. ],\n        [40. ,  0. ,  0. ,  0. ,  0. ,  0. ],\n        [40.9,  1. ,  1. ,  1. ,  1. ,  0. ],\n        [38.7,  0. ,  1. ,  1. ,  0. ,  1. ],\n        [37.9,  0. ,  1. ,  0. ,  0. ,  0. ],\n        [38.1,  0. ,  1. ,  1. ,  0. ,  1. ],\n        [41.5,  0. ,  1. ,  1. ,  0. ,  1. ],\n        [40.5,  1. ,  1. ,  1. ,  1. ,  0. ],\n        [36.3,  0. ,  0. ,  1. ,  1. ,  1. ],\n        [37.5,  0. ,  1. ,  0. ,  0. ,  0. ],\n        [37.7,  0. ,  0. ,  1. ,  1. ,  0. ],\n        [40.2,  1. ,  1. ,  1. ,  1. ,  1. ],\n        [40.8,  0. ,  1. ,  1. ,  0. ,  1. ],\n        [37.2,  0. ,  0. ,  1. ,  1. ,  0. ],\n        [38. ,  0. ,  1. ,  1. ,  0. ,  1. ],\n        [37.8,  0. ,  1. ,  0. ,  0. ,  0. ],\n        [40. ,  1. ,  1. ,  1. ,  1. ,  1. ],\n        [37.7,  0. ,  0. ,  1. ,  1. ,  0. ],\n        [36. ,  0. ,  1. ,  0. ,  0. ,  0. ],\n        [41.2,  0. ,  1. ,  1. ,  0. ,  1. ],\n        [37.5,  0. ,  0. ,  1. ,  1. ,  1. ],\n        [40.7,  1. ,  1. ,  1. ,  1. ,  1. ],\n        [41.5,  1. ,  1. ,  0. ,  1. ,  0. ],\n        [41.2,  1. ,  1. ,  1. ,  1. ,  1. ],\n        [41.5,  0. ,  0. ,  0. ,  0. ,  0. ]]),\n array([[1., 1.],\n        [0., 0.],\n        [0., 1.],\n        [1., 0.],\n        [1., 0.],\n        [0., 1.],\n        [1., 0.],\n        [1., 1.],\n        [0., 0.],\n        [0., 0.],\n        [1., 0.],\n        [1., 0.],\n        [0., 0.],\n        [1., 0.],\n        [1., 0.],\n        [0., 0.],\n        [1., 0.],\n        [0., 1.],\n        [0., 0.],\n        [1., 0.],\n        [1., 0.],\n        [1., 0.],\n        [0., 1.],\n        [1., 1.],\n        [0., 0.],\n        [1., 1.],\n        [1., 0.],\n        [0., 0.],\n        [1., 0.],\n        [0., 1.],\n        [0., 1.],\n        [0., 0.],\n        [0., 0.],\n        [0., 1.],\n        [1., 0.],\n        [0., 0.],\n        [0., 1.],\n        [1., 0.],\n        [1., 0.],\n        [0., 0.],\n        [0., 1.],\n        [0., 1.],\n        [0., 0.],\n        [0., 1.],\n        [0., 1.],\n        [1., 0.],\n        [1., 0.],\n        [0., 1.],\n        [0., 0.],\n        [0., 1.],\n        [0., 0.],\n        [1., 1.],\n        [1., 0.],\n        [0., 1.],\n        [0., 0.],\n        [1., 1.],\n        [0., 0.],\n        [1., 1.],\n        [0., 1.],\n        [0., 0.],\n        [0., 1.],\n        [0., 1.],\n        [1., 1.],\n        [1., 0.],\n        [0., 0.],\n        [1., 0.],\n        [1., 1.],\n        [0., 1.],\n        [1., 0.],\n        [0., 1.],\n        [0., 0.],\n        [1., 1.],\n        [1., 0.],\n        [0., 0.],\n        [0., 1.],\n        [1., 0.],\n        [1., 1.],\n        [0., 1.],\n        [1., 1.],\n        [0., 0.]]))"
     },
     "execution_count": 85,
     "metadata": {},
     "output_type": "execute_result"
    }
   ],
   "source": [
    "X_train, Y_train"
   ],
   "metadata": {
    "collapsed": false,
    "pycharm": {
     "name": "#%%\n"
    }
   }
  },
  {
   "cell_type": "code",
   "execution_count": 86,
   "metadata": {
    "scrolled": false
   },
   "outputs": [],
   "source": [
    "# Assign training and testing inputs/outputs\n",
    "\n",
    "temp_train, nocc_train, lumbp_train, up_train, mict_train, bis_train = np.transpose(X_train)\n",
    "temp_test, nocc_test, lumbp_test, up_test, mict_test, bis_test = np.transpose(X_test)\n",
    "\n",
    "inflam_train, nephr_train = Y_train[:, 0], Y_train[:, 1]\n",
    "inflam_test, nephr_test = Y_test[:, 0], Y_test[:, 1]"
   ]
  },
  {
   "cell_type": "code",
   "execution_count": 87,
   "outputs": [
    {
     "data": {
      "text/plain": "(array([41. , 37.1, 41. , 37. , 37.2, 41.2, 37.5, 40.4, 35.5, 36.2, 35.9,\n        37.9, 40. , 37.5, 37. , 37.4, 37.1, 38.9, 41.2, 37.6, 37.6, 37.5,\n        41.1, 40.9, 36. , 40.4, 37.8, 40.4, 36.8, 40.6, 41.1, 41. , 40.2,\n        39.7, 36.9, 40.6, 40. , 37.3, 37. , 36.6, 41.4, 38. , 36.7, 41. ,\n        40. , 37.1, 37.9, 39.4, 36.7, 41.5, 37.5, 40. , 36.6, 40.2, 37.2,\n        41.1, 40. , 40.9, 38.7, 37.9, 38.1, 41.5, 40.5, 36.3, 37.5, 37.7,\n        40.2, 40.8, 37.2, 38. , 37.8, 40. , 37.7, 36. , 41.2, 37.5, 40.7,\n        41.5, 41.2, 41.5]),\n array([1., 0., 0., 0., 0., 1., 0., 1., 0., 0., 0., 0., 0., 0., 0., 0., 0.,\n        0., 0., 0., 0., 0., 0., 1., 0., 1., 0., 0., 0., 1., 1., 0., 0., 0.,\n        0., 0., 0., 0., 0., 0., 0., 0., 0., 1., 1., 0., 0., 0., 0., 0., 0.,\n        1., 0., 1., 0., 1., 0., 1., 0., 0., 0., 0., 1., 0., 0., 0., 1., 0.,\n        0., 0., 0., 1., 0., 0., 0., 0., 1., 1., 1., 0.]),\n array([1., 1., 1., 0., 0., 1., 0., 1., 1., 1., 0., 0., 0., 0., 0., 1., 0.,\n        1., 0., 0., 0., 0., 1., 1., 1., 1., 0., 0., 0., 1., 1., 0., 0., 1.,\n        0., 0., 1., 0., 0., 1., 1., 1., 1., 1., 1., 0., 0., 1., 1., 1., 1.,\n        1., 0., 1., 1., 1., 0., 1., 1., 1., 1., 1., 1., 0., 1., 0., 1., 1.,\n        0., 1., 1., 1., 0., 1., 1., 0., 1., 1., 1., 0.]),\n array([1., 0., 1., 1., 1., 0., 1., 1., 0., 0., 1., 1., 0., 1., 1., 0., 1.,\n        1., 0., 1., 1., 1., 1., 1., 0., 1., 1., 0., 1., 0., 0., 0., 0., 1.,\n        1., 0., 1., 1., 1., 0., 1., 1., 0., 0., 0., 1., 1., 1., 0., 1., 0.,\n        1., 1., 0., 0., 1., 0., 1., 1., 0., 1., 1., 1., 1., 0., 1., 1., 1.,\n        1., 1., 0., 1., 1., 0., 1., 1., 1., 0., 1., 0.]),\n array([1., 0., 0., 1., 0., 1., 0., 1., 0., 0., 1., 0., 0., 0., 0., 0., 0.,\n        0., 0., 1., 1., 1., 0., 1., 0., 1., 0., 0., 1., 1., 1., 0., 0., 0.,\n        1., 0., 0., 1., 1., 0., 0., 0., 0., 1., 1., 1., 1., 0., 0., 0., 0.,\n        1., 1., 1., 0., 1., 0., 1., 0., 0., 0., 0., 1., 1., 0., 1., 1., 0.,\n        1., 0., 0., 1., 1., 0., 0., 1., 1., 1., 1., 0.]),\n array([1., 0., 1., 0., 0., 0., 0., 1., 0., 0., 1., 0., 0., 0., 0., 0., 0.,\n        1., 0., 0., 0., 0., 1., 0., 0., 0., 0., 0., 1., 0., 0., 0., 0., 1.,\n        1., 0., 1., 1., 1., 0., 1., 1., 0., 0., 0., 1., 0., 1., 0., 1., 0.,\n        1., 1., 0., 0., 1., 0., 0., 1., 0., 1., 1., 0., 1., 0., 0., 1., 1.,\n        0., 1., 0., 1., 0., 0., 1., 1., 1., 0., 1., 0.]))"
     },
     "execution_count": 87,
     "metadata": {},
     "output_type": "execute_result"
    }
   ],
   "source": [
    "temp_train, nocc_train, lumbp_train, up_train, mict_train, bis_train"
   ],
   "metadata": {
    "collapsed": false,
    "pycharm": {
     "name": "#%%\n"
    }
   }
  },
  {
   "cell_type": "markdown",
   "metadata": {},
   "source": [
    "#### Build the model"
   ]
  },
  {
   "cell_type": "code",
   "execution_count": 41,
   "metadata": {
    "scrolled": false
   },
   "outputs": [],
   "source": [
    "# Build the input layers\n",
    "temperature = keras.layers.Input(shape=[1, ])\n",
    "nausea_occurence = keras.layers.Input(shape=[1, ])\n",
    "lumbar_pain = keras.layers.Input(shape=[1, ])\n",
    "urine_pushing = keras.layers.Input(shape=[1, ])\n",
    "micturition_pains = keras.layers.Input(shape=[1, ])\n",
    "bis = keras.layers.Input(shape=[1, ])"
   ]
  },
  {
   "cell_type": "code",
   "execution_count": 42,
   "metadata": {
    "scrolled": true
   },
   "outputs": [],
   "source": [
    "# Create a list of all the inputs\n",
    "\n",
    "list_inputs = [temperature, nausea_occurence, lumbar_pain, urine_pushing,\n",
    "               micturition_pains, bis]"
   ]
  },
  {
   "cell_type": "code",
   "execution_count": 43,
   "metadata": {
    "scrolled": false
   },
   "outputs": [],
   "source": [
    "# Merge all input features into a single large vector\n",
    "merger_layer = keras.layers.concatenate(list_inputs)\n"
   ]
  },
  {
   "cell_type": "code",
   "execution_count": 60,
   "metadata": {
    "scrolled": false
   },
   "outputs": [],
   "source": [
    "# Use a logistic regression classifier for disease prediction\n",
    "inflammation_pred = keras.layers.Dense(units=1, activation=keras.activations.sigmoid, name='inflammation')(merger_layer)\n",
    "nephritis_pred = keras.layers.Dense(units=1, activation=keras.activations.sigmoid, name='nephritis')(merger_layer)"
   ]
  },
  {
   "cell_type": "code",
   "execution_count": 61,
   "metadata": {
    "scrolled": true
   },
   "outputs": [],
   "source": [
    "# Create a list of all the outputs\n",
    "\n",
    "list_outputs = [inflammation_pred, nephritis_pred]"
   ]
  },
  {
   "cell_type": "code",
   "execution_count": 62,
   "metadata": {
    "scrolled": false
   },
   "outputs": [
    {
     "name": "stdout",
     "output_type": "stream",
     "text": [
      "Model: \"model_3\"\n",
      "__________________________________________________________________________________________________\n",
      " Layer (type)                   Output Shape         Param #     Connected to                     \n",
      "==================================================================================================\n",
      " input_7 (InputLayer)           [(None, 1)]          0           []                               \n",
      "                                                                                                  \n",
      " input_8 (InputLayer)           [(None, 1)]          0           []                               \n",
      "                                                                                                  \n",
      " input_9 (InputLayer)           [(None, 1)]          0           []                               \n",
      "                                                                                                  \n",
      " input_10 (InputLayer)          [(None, 1)]          0           []                               \n",
      "                                                                                                  \n",
      " input_11 (InputLayer)          [(None, 1)]          0           []                               \n",
      "                                                                                                  \n",
      " input_12 (InputLayer)          [(None, 1)]          0           []                               \n",
      "                                                                                                  \n",
      " concatenate_1 (Concatenate)    (None, 6)            0           ['input_7[0][0]',                \n",
      "                                                                  'input_8[0][0]',                \n",
      "                                                                  'input_9[0][0]',                \n",
      "                                                                  'input_10[0][0]',               \n",
      "                                                                  'input_11[0][0]',               \n",
      "                                                                  'input_12[0][0]']               \n",
      "                                                                                                  \n",
      " inflammation (Dense)           (None, 1)            7           ['concatenate_1[0][0]']          \n",
      "                                                                                                  \n",
      " nephritis (Dense)              (None, 1)            7           ['concatenate_1[0][0]']          \n",
      "                                                                                                  \n",
      "==================================================================================================\n",
      "Total params: 14\n",
      "Trainable params: 14\n",
      "Non-trainable params: 0\n",
      "__________________________________________________________________________________________________\n"
     ]
    }
   ],
   "source": [
    "# Create the model object\n",
    "\n",
    "model = keras.models.Model(list_inputs, list_outputs)\n",
    "model.summary()"
   ]
  },
  {
   "cell_type": "markdown",
   "metadata": {},
   "source": [
    "#### Plot the model"
   ]
  },
  {
   "cell_type": "code",
   "execution_count": 63,
   "metadata": {
    "scrolled": false
   },
   "outputs": [
    {
     "data": {
      "image/png": "[encoded data removed]",
      "text/plain": "<IPython.core.display.Image object>"
     },
     "execution_count": 63,
     "metadata": {},
     "output_type": "execute_result"
    }
   ],
   "source": [
    "# Display the multiple input/output model\n",
    "\n",
    "keras.utils.plot_model(model, show_dtype=True)"
   ]
  },
  {
   "cell_type": "markdown",
   "metadata": {},
   "source": [
    "#### Compile the model"
   ]
  },
  {
   "cell_type": "code",
   "execution_count": 95,
   "metadata": {
    "scrolled": true
   },
   "outputs": [],
   "source": [
    "# Compile the model\n",
    "\n",
    "model.compile(optimizer=keras.optimizers.Adam(),\n",
    "              loss=keras.losses.binary_crossentropy,\n",
    "              metrics={'inflammation':'accuracy', 'nephritis':'accuracy'},\n",
    "              loss_weights=[1, 0.2])"
   ]
  },
  {
   "cell_type": "markdown",
   "metadata": {},
   "source": [
    "#### Fit the model "
   ]
  },
  {
   "cell_type": "code",
   "execution_count": 89,
   "metadata": {
    "scrolled": false
   },
   "outputs": [],
   "source": [
    "# Define training inputs and outputs\n",
    "\n",
    "inputs_train = [temp_train, nocc_train, lumbp_train, up_train, mict_train, bis_train]\n",
    "\n",
    "outputs_train = [inflam_train, nephr_train]"
   ]
  },
  {
   "cell_type": "code",
   "execution_count": 96,
   "metadata": {},
   "outputs": [
    {
     "name": "stdout",
     "output_type": "stream",
     "text": [
      "Epoch 1/100\n",
      "3/3 [==============================] - 1s 11ms/step - loss: 10.0035 - inflammation_loss: 9.7105 - nephritis_loss: 1.4651 - inflammation_accuracy: 0.4500 - nephritis_accuracy: 0.4250\n",
      "Epoch 2/100\n",
      "3/3 [==============================] - 0s 11ms/step - loss: 9.9228 - inflammation_loss: 9.6396 - nephritis_loss: 1.4161 - inflammation_accuracy: 0.4500 - nephritis_accuracy: 0.4250\n",
      "Epoch 3/100\n",
      "3/3 [==============================] - 0s 13ms/step - loss: 9.8448 - inflammation_loss: 9.5719 - nephritis_loss: 1.3641 - inflammation_accuracy: 0.4500 - nephritis_accuracy: 0.4250\n",
      "Epoch 4/100\n",
      "3/3 [==============================] - 0s 11ms/step - loss: 9.7651 - inflammation_loss: 9.5017 - nephritis_loss: 1.3173 - inflammation_accuracy: 0.4500 - nephritis_accuracy: 0.4250\n",
      "Epoch 5/100\n",
      "3/3 [==============================] - 0s 12ms/step - loss: 9.6863 - inflammation_loss: 9.4315 - nephritis_loss: 1.2744 - inflammation_accuracy: 0.4500 - nephritis_accuracy: 0.4250\n",
      "Epoch 6/100\n",
      "3/3 [==============================] - 0s 11ms/step - loss: 9.6081 - inflammation_loss: 9.3619 - nephritis_loss: 1.2313 - inflammation_accuracy: 0.4500 - nephritis_accuracy: 0.4250\n",
      "Epoch 7/100\n",
      "3/3 [==============================] - 0s 11ms/step - loss: 9.5329 - inflammation_loss: 9.2943 - nephritis_loss: 1.1933 - inflammation_accuracy: 0.4500 - nephritis_accuracy: 0.4250\n",
      "Epoch 8/100\n",
      "3/3 [==============================] - 0s 12ms/step - loss: 9.4576 - inflammation_loss: 9.2260 - nephritis_loss: 1.1581 - inflammation_accuracy: 0.4500 - nephritis_accuracy: 0.4250\n",
      "Epoch 9/100\n",
      "3/3 [==============================] - 0s 12ms/step - loss: 9.3819 - inflammation_loss: 9.1572 - nephritis_loss: 1.1234 - inflammation_accuracy: 0.4500 - nephritis_accuracy: 0.4250\n",
      "Epoch 10/100\n",
      "3/3 [==============================] - 0s 10ms/step - loss: 9.3074 - inflammation_loss: 9.0887 - nephritis_loss: 1.0936 - inflammation_accuracy: 0.4500 - nephritis_accuracy: 0.4250\n",
      "Epoch 11/100\n",
      "3/3 [==============================] - 0s 11ms/step - loss: 9.2341 - inflammation_loss: 9.0208 - nephritis_loss: 1.0665 - inflammation_accuracy: 0.4500 - nephritis_accuracy: 0.4125\n",
      "Epoch 12/100\n",
      "3/3 [==============================] - 0s 11ms/step - loss: 9.1585 - inflammation_loss: 8.9504 - nephritis_loss: 1.0407 - inflammation_accuracy: 0.4500 - nephritis_accuracy: 0.3500\n",
      "Epoch 13/100\n",
      "3/3 [==============================] - 0s 12ms/step - loss: 9.0874 - inflammation_loss: 8.8839 - nephritis_loss: 1.0176 - inflammation_accuracy: 0.4500 - nephritis_accuracy: 0.3000\n",
      "Epoch 14/100\n",
      "3/3 [==============================] - 0s 14ms/step - loss: 9.0163 - inflammation_loss: 8.8165 - nephritis_loss: 0.9993 - inflammation_accuracy: 0.4500 - nephritis_accuracy: 0.1875\n",
      "Epoch 15/100\n",
      "3/3 [==============================] - 0s 13ms/step - loss: 8.9429 - inflammation_loss: 8.7469 - nephritis_loss: 0.9797 - inflammation_accuracy: 0.4500 - nephritis_accuracy: 0.1375\n",
      "Epoch 16/100\n",
      "3/3 [==============================] - 0s 12ms/step - loss: 8.8732 - inflammation_loss: 8.6795 - nephritis_loss: 0.9688 - inflammation_accuracy: 0.4500 - nephritis_accuracy: 0.1375\n",
      "Epoch 17/100\n",
      "3/3 [==============================] - 0s 14ms/step - loss: 8.8018 - inflammation_loss: 8.6114 - nephritis_loss: 0.9522 - inflammation_accuracy: 0.4500 - nephritis_accuracy: 0.1500\n",
      "Epoch 18/100\n",
      "3/3 [==============================] - 0s 13ms/step - loss: 8.7305 - inflammation_loss: 8.5420 - nephritis_loss: 0.9426 - inflammation_accuracy: 0.4500 - nephritis_accuracy: 0.2000\n",
      "Epoch 19/100\n",
      "3/3 [==============================] - 0s 24ms/step - loss: 8.6632 - inflammation_loss: 8.4766 - nephritis_loss: 0.9331 - inflammation_accuracy: 0.4500 - nephritis_accuracy: 0.2000\n",
      "Epoch 20/100\n",
      "3/3 [==============================] - 0s 13ms/step - loss: 8.5938 - inflammation_loss: 8.4093 - nephritis_loss: 0.9225 - inflammation_accuracy: 0.4500 - nephritis_accuracy: 0.2000\n",
      "Epoch 21/100\n",
      "3/3 [==============================] - 0s 13ms/step - loss: 8.5232 - inflammation_loss: 8.3397 - nephritis_loss: 0.9175 - inflammation_accuracy: 0.4500 - nephritis_accuracy: 0.2000\n",
      "Epoch 22/100\n",
      "3/3 [==============================] - 0s 13ms/step - loss: 8.4546 - inflammation_loss: 8.2723 - nephritis_loss: 0.9115 - inflammation_accuracy: 0.4500 - nephritis_accuracy: 0.2000\n",
      "Epoch 23/100\n",
      "3/3 [==============================] - 0s 11ms/step - loss: 8.3841 - inflammation_loss: 8.2031 - nephritis_loss: 0.9050 - inflammation_accuracy: 0.4500 - nephritis_accuracy: 0.2250\n",
      "Epoch 24/100\n",
      "3/3 [==============================] - 0s 11ms/step - loss: 8.3191 - inflammation_loss: 8.1386 - nephritis_loss: 0.9024 - inflammation_accuracy: 0.4500 - nephritis_accuracy: 0.3875\n",
      "Epoch 25/100\n",
      "3/3 [==============================] - 0s 13ms/step - loss: 8.2490 - inflammation_loss: 8.0694 - nephritis_loss: 0.8981 - inflammation_accuracy: 0.4500 - nephritis_accuracy: 0.3875\n",
      "Epoch 26/100\n",
      "3/3 [==============================] - 0s 12ms/step - loss: 8.1789 - inflammation_loss: 7.9999 - nephritis_loss: 0.8949 - inflammation_accuracy: 0.4500 - nephritis_accuracy: 0.3875\n",
      "Epoch 27/100\n",
      "3/3 [==============================] - 0s 12ms/step - loss: 8.1112 - inflammation_loss: 7.9329 - nephritis_loss: 0.8915 - inflammation_accuracy: 0.4500 - nephritis_accuracy: 0.3875\n",
      "Epoch 28/100\n",
      "3/3 [==============================] - 0s 11ms/step - loss: 8.0424 - inflammation_loss: 7.8646 - nephritis_loss: 0.8887 - inflammation_accuracy: 0.4500 - nephritis_accuracy: 0.3875\n",
      "Epoch 29/100\n",
      "3/3 [==============================] - 0s 11ms/step - loss: 7.9719 - inflammation_loss: 7.7947 - nephritis_loss: 0.8860 - inflammation_accuracy: 0.4500 - nephritis_accuracy: 0.3875\n",
      "Epoch 30/100\n",
      "3/3 [==============================] - 0s 13ms/step - loss: 7.9054 - inflammation_loss: 7.7287 - nephritis_loss: 0.8835 - inflammation_accuracy: 0.4500 - nephritis_accuracy: 0.3875\n",
      "Epoch 31/100\n",
      "3/3 [==============================] - 0s 14ms/step - loss: 7.8349 - inflammation_loss: 7.6586 - nephritis_loss: 0.8811 - inflammation_accuracy: 0.4500 - nephritis_accuracy: 0.3875\n",
      "Epoch 32/100\n",
      "3/3 [==============================] - 0s 12ms/step - loss: 7.7669 - inflammation_loss: 7.5912 - nephritis_loss: 0.8789 - inflammation_accuracy: 0.4500 - nephritis_accuracy: 0.3875\n",
      "Epoch 33/100\n",
      "3/3 [==============================] - 0s 12ms/step - loss: 7.6987 - inflammation_loss: 7.5235 - nephritis_loss: 0.8765 - inflammation_accuracy: 0.4500 - nephritis_accuracy: 0.3875\n",
      "Epoch 34/100\n",
      "3/3 [==============================] - 0s 12ms/step - loss: 7.6288 - inflammation_loss: 7.4538 - nephritis_loss: 0.8747 - inflammation_accuracy: 0.4500 - nephritis_accuracy: 0.3875\n",
      "Epoch 35/100\n",
      "3/3 [==============================] - 0s 11ms/step - loss: 7.5592 - inflammation_loss: 7.3848 - nephritis_loss: 0.8724 - inflammation_accuracy: 0.4500 - nephritis_accuracy: 0.3875\n",
      "Epoch 36/100\n",
      "3/3 [==============================] - 0s 13ms/step - loss: 7.4885 - inflammation_loss: 7.3145 - nephritis_loss: 0.8700 - inflammation_accuracy: 0.4500 - nephritis_accuracy: 0.3875\n",
      "Epoch 37/100\n",
      "3/3 [==============================] - 0s 13ms/step - loss: 7.4215 - inflammation_loss: 7.2479 - nephritis_loss: 0.8680 - inflammation_accuracy: 0.4500 - nephritis_accuracy: 0.3875\n",
      "Epoch 38/100\n",
      "3/3 [==============================] - 0s 11ms/step - loss: 7.3487 - inflammation_loss: 7.1755 - nephritis_loss: 0.8661 - inflammation_accuracy: 0.4500 - nephritis_accuracy: 0.3875\n",
      "Epoch 39/100\n",
      "3/3 [==============================] - 0s 10ms/step - loss: 7.2826 - inflammation_loss: 7.1098 - nephritis_loss: 0.8640 - inflammation_accuracy: 0.4500 - nephritis_accuracy: 0.3875\n",
      "Epoch 40/100\n",
      "3/3 [==============================] - 0s 9ms/step - loss: 7.2121 - inflammation_loss: 7.0397 - nephritis_loss: 0.8618 - inflammation_accuracy: 0.4500 - nephritis_accuracy: 0.3875\n",
      "Epoch 41/100\n",
      "3/3 [==============================] - 0s 10ms/step - loss: 7.1428 - inflammation_loss: 6.9708 - nephritis_loss: 0.8601 - inflammation_accuracy: 0.4500 - nephritis_accuracy: 0.3875\n",
      "Epoch 42/100\n",
      "3/3 [==============================] - 0s 11ms/step - loss: 7.0737 - inflammation_loss: 6.9021 - nephritis_loss: 0.8578 - inflammation_accuracy: 0.4500 - nephritis_accuracy: 0.3875\n",
      "Epoch 43/100\n",
      "3/3 [==============================] - 0s 11ms/step - loss: 7.0013 - inflammation_loss: 6.8301 - nephritis_loss: 0.8557 - inflammation_accuracy: 0.4500 - nephritis_accuracy: 0.3875\n",
      "Epoch 44/100\n",
      "3/3 [==============================] - 0s 11ms/step - loss: 6.9364 - inflammation_loss: 6.7657 - nephritis_loss: 0.8537 - inflammation_accuracy: 0.4500 - nephritis_accuracy: 0.3875\n",
      "Epoch 45/100\n",
      "3/3 [==============================] - 0s 12ms/step - loss: 6.8650 - inflammation_loss: 6.6947 - nephritis_loss: 0.8517 - inflammation_accuracy: 0.4500 - nephritis_accuracy: 0.3875\n",
      "Epoch 46/100\n",
      "3/3 [==============================] - 0s 10ms/step - loss: 6.7939 - inflammation_loss: 6.6239 - nephritis_loss: 0.8500 - inflammation_accuracy: 0.4500 - nephritis_accuracy: 0.3875\n",
      "Epoch 47/100\n",
      "3/3 [==============================] - 0s 10ms/step - loss: 6.7286 - inflammation_loss: 6.5591 - nephritis_loss: 0.8479 - inflammation_accuracy: 0.4500 - nephritis_accuracy: 0.3875\n",
      "Epoch 48/100\n",
      "3/3 [==============================] - 0s 9ms/step - loss: 6.6582 - inflammation_loss: 6.4891 - nephritis_loss: 0.8459 - inflammation_accuracy: 0.4500 - nephritis_accuracy: 0.3875\n",
      "Epoch 49/100\n",
      "3/3 [==============================] - 0s 10ms/step - loss: 6.5869 - inflammation_loss: 6.4181 - nephritis_loss: 0.8440 - inflammation_accuracy: 0.4500 - nephritis_accuracy: 0.3875\n",
      "Epoch 50/100\n",
      "3/3 [==============================] - 0s 10ms/step - loss: 6.5169 - inflammation_loss: 6.3485 - nephritis_loss: 0.8420 - inflammation_accuracy: 0.4500 - nephritis_accuracy: 0.3875\n",
      "Epoch 51/100\n",
      "3/3 [==============================] - 0s 10ms/step - loss: 6.4502 - inflammation_loss: 6.2820 - nephritis_loss: 0.8407 - inflammation_accuracy: 0.4500 - nephritis_accuracy: 0.3875\n",
      "Epoch 52/100\n",
      "3/3 [==============================] - 0s 9ms/step - loss: 6.3857 - inflammation_loss: 6.2180 - nephritis_loss: 0.8385 - inflammation_accuracy: 0.4500 - nephritis_accuracy: 0.3875\n",
      "Epoch 53/100\n",
      "3/3 [==============================] - 0s 10ms/step - loss: 6.3123 - inflammation_loss: 6.1450 - nephritis_loss: 0.8365 - inflammation_accuracy: 0.4500 - nephritis_accuracy: 0.3875\n",
      "Epoch 54/100\n",
      "3/3 [==============================] - 0s 9ms/step - loss: 6.2442 - inflammation_loss: 6.0772 - nephritis_loss: 0.8347 - inflammation_accuracy: 0.4500 - nephritis_accuracy: 0.3875\n",
      "Epoch 55/100\n",
      "3/3 [==============================] - 0s 11ms/step - loss: 6.1777 - inflammation_loss: 6.0111 - nephritis_loss: 0.8329 - inflammation_accuracy: 0.4500 - nephritis_accuracy: 0.3875\n",
      "Epoch 56/100\n",
      "3/3 [==============================] - 0s 9ms/step - loss: 6.1106 - inflammation_loss: 5.9443 - nephritis_loss: 0.8314 - inflammation_accuracy: 0.4500 - nephritis_accuracy: 0.3875\n",
      "Epoch 57/100\n",
      "3/3 [==============================] - 0s 9ms/step - loss: 6.0388 - inflammation_loss: 5.8730 - nephritis_loss: 0.8292 - inflammation_accuracy: 0.4500 - nephritis_accuracy: 0.3875\n",
      "Epoch 58/100\n",
      "3/3 [==============================] - 0s 11ms/step - loss: 5.9714 - inflammation_loss: 5.8059 - nephritis_loss: 0.8275 - inflammation_accuracy: 0.4500 - nephritis_accuracy: 0.3875\n",
      "Epoch 59/100\n",
      "3/3 [==============================] - 0s 12ms/step - loss: 5.9031 - inflammation_loss: 5.7380 - nephritis_loss: 0.8259 - inflammation_accuracy: 0.4500 - nephritis_accuracy: 0.3875\n",
      "Epoch 60/100\n",
      "3/3 [==============================] - 0s 14ms/step - loss: 5.8360 - inflammation_loss: 5.6712 - nephritis_loss: 0.8241 - inflammation_accuracy: 0.4500 - nephritis_accuracy: 0.3875\n",
      "Epoch 61/100\n",
      "3/3 [==============================] - 0s 13ms/step - loss: 5.7658 - inflammation_loss: 5.6014 - nephritis_loss: 0.8224 - inflammation_accuracy: 0.4500 - nephritis_accuracy: 0.3875\n",
      "Epoch 62/100\n",
      "3/3 [==============================] - 0s 13ms/step - loss: 5.7009 - inflammation_loss: 5.5368 - nephritis_loss: 0.8206 - inflammation_accuracy: 0.4500 - nephritis_accuracy: 0.3875\n",
      "Epoch 63/100\n",
      "3/3 [==============================] - 0s 13ms/step - loss: 5.6325 - inflammation_loss: 5.4687 - nephritis_loss: 0.8190 - inflammation_accuracy: 0.4500 - nephritis_accuracy: 0.3875\n",
      "Epoch 64/100\n",
      "3/3 [==============================] - 0s 11ms/step - loss: 5.5623 - inflammation_loss: 5.3988 - nephritis_loss: 0.8172 - inflammation_accuracy: 0.4500 - nephritis_accuracy: 0.3875\n",
      "Epoch 65/100\n",
      "3/3 [==============================] - 0s 14ms/step - loss: 5.4953 - inflammation_loss: 5.3322 - nephritis_loss: 0.8155 - inflammation_accuracy: 0.4500 - nephritis_accuracy: 0.3875\n",
      "Epoch 66/100\n",
      "3/3 [==============================] - 0s 11ms/step - loss: 5.4254 - inflammation_loss: 5.2626 - nephritis_loss: 0.8140 - inflammation_accuracy: 0.4500 - nephritis_accuracy: 0.3875\n",
      "Epoch 67/100\n",
      "3/3 [==============================] - 0s 11ms/step - loss: 5.3563 - inflammation_loss: 5.1939 - nephritis_loss: 0.8122 - inflammation_accuracy: 0.4500 - nephritis_accuracy: 0.3875\n",
      "Epoch 68/100\n",
      "3/3 [==============================] - 0s 12ms/step - loss: 5.2880 - inflammation_loss: 5.1259 - nephritis_loss: 0.8105 - inflammation_accuracy: 0.4500 - nephritis_accuracy: 0.3875\n",
      "Epoch 69/100\n",
      "3/3 [==============================] - 0s 12ms/step - loss: 5.2167 - inflammation_loss: 5.0549 - nephritis_loss: 0.8087 - inflammation_accuracy: 0.4500 - nephritis_accuracy: 0.3875\n",
      "Epoch 70/100\n",
      "3/3 [==============================] - 0s 12ms/step - loss: 5.1496 - inflammation_loss: 4.9882 - nephritis_loss: 0.8072 - inflammation_accuracy: 0.4500 - nephritis_accuracy: 0.3875\n",
      "Epoch 71/100\n",
      "3/3 [==============================] - 0s 12ms/step - loss: 5.0813 - inflammation_loss: 4.9202 - nephritis_loss: 0.8054 - inflammation_accuracy: 0.4500 - nephritis_accuracy: 0.3875\n",
      "Epoch 72/100\n",
      "3/3 [==============================] - 0s 11ms/step - loss: 5.0098 - inflammation_loss: 4.8491 - nephritis_loss: 0.8038 - inflammation_accuracy: 0.4500 - nephritis_accuracy: 0.3875\n",
      "Epoch 73/100\n",
      "3/3 [==============================] - 0s 10ms/step - loss: 4.9409 - inflammation_loss: 4.7805 - nephritis_loss: 0.8021 - inflammation_accuracy: 0.4500 - nephritis_accuracy: 0.3875\n",
      "Epoch 74/100\n",
      "3/3 [==============================] - 0s 11ms/step - loss: 4.8742 - inflammation_loss: 4.7141 - nephritis_loss: 0.8004 - inflammation_accuracy: 0.4500 - nephritis_accuracy: 0.3875\n",
      "Epoch 75/100\n",
      "3/3 [==============================] - 0s 11ms/step - loss: 4.8003 - inflammation_loss: 4.6405 - nephritis_loss: 0.7988 - inflammation_accuracy: 0.4500 - nephritis_accuracy: 0.3875\n",
      "Epoch 76/100\n",
      "3/3 [==============================] - 0s 11ms/step - loss: 4.7307 - inflammation_loss: 4.5713 - nephritis_loss: 0.7971 - inflammation_accuracy: 0.4500 - nephritis_accuracy: 0.3875\n",
      "Epoch 77/100\n",
      "3/3 [==============================] - 0s 11ms/step - loss: 4.6658 - inflammation_loss: 4.5067 - nephritis_loss: 0.7955 - inflammation_accuracy: 0.4500 - nephritis_accuracy: 0.3875\n",
      "Epoch 78/100\n",
      "3/3 [==============================] - 0s 11ms/step - loss: 4.5916 - inflammation_loss: 4.4328 - nephritis_loss: 0.7938 - inflammation_accuracy: 0.4500 - nephritis_accuracy: 0.3875\n",
      "Epoch 79/100\n",
      "3/3 [==============================] - 0s 10ms/step - loss: 4.5189 - inflammation_loss: 4.3605 - nephritis_loss: 0.7921 - inflammation_accuracy: 0.4500 - nephritis_accuracy: 0.3875\n",
      "Epoch 80/100\n",
      "3/3 [==============================] - 0s 11ms/step - loss: 4.4538 - inflammation_loss: 4.2957 - nephritis_loss: 0.7908 - inflammation_accuracy: 0.4500 - nephritis_accuracy: 0.3875\n",
      "Epoch 81/100\n",
      "3/3 [==============================] - 0s 12ms/step - loss: 4.3807 - inflammation_loss: 4.2229 - nephritis_loss: 0.7889 - inflammation_accuracy: 0.4500 - nephritis_accuracy: 0.3875\n",
      "Epoch 82/100\n",
      "3/3 [==============================] - 0s 11ms/step - loss: 4.3151 - inflammation_loss: 4.1576 - nephritis_loss: 0.7874 - inflammation_accuracy: 0.4500 - nephritis_accuracy: 0.3875\n",
      "Epoch 83/100\n",
      "3/3 [==============================] - 0s 11ms/step - loss: 4.2441 - inflammation_loss: 4.0869 - nephritis_loss: 0.7857 - inflammation_accuracy: 0.4500 - nephritis_accuracy: 0.3875\n",
      "Epoch 84/100\n",
      "3/3 [==============================] - 0s 11ms/step - loss: 4.1739 - inflammation_loss: 4.0171 - nephritis_loss: 0.7841 - inflammation_accuracy: 0.4500 - nephritis_accuracy: 0.3875\n",
      "Epoch 85/100\n",
      "3/3 [==============================] - 0s 12ms/step - loss: 4.1093 - inflammation_loss: 3.9528 - nephritis_loss: 0.7825 - inflammation_accuracy: 0.4500 - nephritis_accuracy: 0.3875\n",
      "Epoch 86/100\n",
      "3/3 [==============================] - 0s 11ms/step - loss: 4.0352 - inflammation_loss: 3.8789 - nephritis_loss: 0.7813 - inflammation_accuracy: 0.4500 - nephritis_accuracy: 0.3875\n",
      "Epoch 87/100\n",
      "3/3 [==============================] - 0s 11ms/step - loss: 3.9696 - inflammation_loss: 3.8138 - nephritis_loss: 0.7794 - inflammation_accuracy: 0.4500 - nephritis_accuracy: 0.3875\n",
      "Epoch 88/100\n",
      "3/3 [==============================] - 0s 11ms/step - loss: 3.9003 - inflammation_loss: 3.7447 - nephritis_loss: 0.7778 - inflammation_accuracy: 0.4500 - nephritis_accuracy: 0.3875\n",
      "Epoch 89/100\n",
      "3/3 [==============================] - 0s 10ms/step - loss: 3.8332 - inflammation_loss: 3.6779 - nephritis_loss: 0.7765 - inflammation_accuracy: 0.4500 - nephritis_accuracy: 0.3875\n",
      "Epoch 90/100\n",
      "3/3 [==============================] - 0s 10ms/step - loss: 3.7621 - inflammation_loss: 3.6071 - nephritis_loss: 0.7749 - inflammation_accuracy: 0.4500 - nephritis_accuracy: 0.3875\n",
      "Epoch 91/100\n",
      "3/3 [==============================] - 0s 10ms/step - loss: 3.6975 - inflammation_loss: 3.5428 - nephritis_loss: 0.7732 - inflammation_accuracy: 0.4500 - nephritis_accuracy: 0.3875\n",
      "Epoch 92/100\n",
      "3/3 [==============================] - 0s 11ms/step - loss: 3.6298 - inflammation_loss: 3.4755 - nephritis_loss: 0.7719 - inflammation_accuracy: 0.4500 - nephritis_accuracy: 0.3875\n",
      "Epoch 93/100\n",
      "3/3 [==============================] - 0s 11ms/step - loss: 3.5602 - inflammation_loss: 3.4061 - nephritis_loss: 0.7705 - inflammation_accuracy: 0.4500 - nephritis_accuracy: 0.3875\n",
      "Epoch 94/100\n",
      "3/3 [==============================] - 0s 11ms/step - loss: 3.4940 - inflammation_loss: 3.3403 - nephritis_loss: 0.7688 - inflammation_accuracy: 0.4500 - nephritis_accuracy: 0.3875\n",
      "Epoch 95/100\n",
      "3/3 [==============================] - 0s 10ms/step - loss: 3.4266 - inflammation_loss: 3.2732 - nephritis_loss: 0.7672 - inflammation_accuracy: 0.4500 - nephritis_accuracy: 0.3875\n",
      "Epoch 96/100\n",
      "3/3 [==============================] - 0s 11ms/step - loss: 3.3585 - inflammation_loss: 3.2053 - nephritis_loss: 0.7657 - inflammation_accuracy: 0.4500 - nephritis_accuracy: 0.3875\n",
      "Epoch 97/100\n",
      "3/3 [==============================] - 0s 12ms/step - loss: 3.2905 - inflammation_loss: 3.1377 - nephritis_loss: 0.7641 - inflammation_accuracy: 0.4500 - nephritis_accuracy: 0.3875\n",
      "Epoch 98/100\n",
      "3/3 [==============================] - 0s 11ms/step - loss: 3.2220 - inflammation_loss: 3.0694 - nephritis_loss: 0.7626 - inflammation_accuracy: 0.4500 - nephritis_accuracy: 0.3875\n",
      "Epoch 99/100\n",
      "3/3 [==============================] - 0s 10ms/step - loss: 3.1601 - inflammation_loss: 3.0079 - nephritis_loss: 0.7612 - inflammation_accuracy: 0.4500 - nephritis_accuracy: 0.3875\n",
      "Epoch 100/100\n",
      "3/3 [==============================] - 0s 11ms/step - loss: 3.0923 - inflammation_loss: 2.9404 - nephritis_loss: 0.7597 - inflammation_accuracy: 0.4500 - nephritis_accuracy: 0.3875\n"
     ]
    }
   ],
   "source": [
    "# Train the model\n",
    "\n",
    "history = model.fit(x=inputs_train, y=outputs_train, epochs=100)"
   ]
  },
  {
   "cell_type": "markdown",
   "metadata": {},
   "source": [
    "#### Plot the learning curves"
   ]
  },
  {
   "cell_type": "code",
   "execution_count": 97,
   "metadata": {
    "scrolled": false
   },
   "outputs": [
    {
     "data": {
      "text/plain": "<Figure size 432x288 with 1 Axes>",
      "image/png": "[encoded data removed]"
     },
     "metadata": {
      "needs_background": "light"
     },
     "output_type": "display_data"
    },
    {
     "data": {
      "text/plain": "<Figure size 432x288 with 1 Axes>",
      "image/png": "[encoded data removed]"
     },
     "metadata": {
      "needs_background": "light"
     },
     "output_type": "display_data"
    }
   ],
   "source": [
    "# Plot the training accuracy\n",
    "\n",
    "acc_keys = [k for k in history.history.keys() if k in ('inflammation_loss', 'inflammation_accuracy')]\n",
    "loss_keys = [k for k in history.history.keys() if not k in acc_keys]\n",
    "\n",
    "for k, v in history.history.items():\n",
    "    if k in acc_keys:\n",
    "        plt.figure(1)\n",
    "        plt.plot(v)\n",
    "    else:\n",
    "        plt.figure(2)\n",
    "        plt.plot(v)\n",
    "\n",
    "plt.figure(1)\n",
    "plt.title('Accuracy vs. epochs')\n",
    "plt.ylabel('Accuracy')\n",
    "plt.xlabel('Epoch')\n",
    "plt.legend(acc_keys, loc='upper right')\n",
    "\n",
    "plt.figure(2)\n",
    "plt.title('Loss vs. epochs')\n",
    "plt.ylabel('Loss')\n",
    "plt.xlabel('Epoch')\n",
    "plt.legend(loss_keys, loc='upper right')\n",
    "\n",
    "plt.show()"
   ]
  },
  {
   "cell_type": "markdown",
   "metadata": {},
   "source": [
    "***\n",
    "<a id=\"coding_tutorial_2\"></a>\n",
    "## Tensors and Variables"
   ]
  },
  {
   "cell_type": "code",
   "execution_count": null,
   "metadata": {
    "scrolled": false
   },
   "outputs": [],
   "source": [
    "import numpy as np"
   ]
  },
  {
   "cell_type": "markdown",
   "metadata": {},
   "source": [
    "#### Create Variable objects"
   ]
  },
  {
   "cell_type": "code",
   "execution_count": null,
   "metadata": {
    "scrolled": false
   },
   "outputs": [],
   "source": [
    "# Create Variable objects of different type with tf.Variable\n",
    "\n",
    "strings = tf.Variable([\"Hello world!\"], tf.string)\n",
    "floats = tf.Variable([3.14159, 2.71828], tf.float64)\n",
    "ints = tf.Variable([1, 2, 3], tf.int32)\n",
    "complexs = tf.Variable([25.9 - 7.39j, 1.23 - 4.91j], tf.complex128)"
   ]
  },
  {
   "cell_type": "code",
   "execution_count": null,
   "metadata": {
    "scrolled": false
   },
   "outputs": [],
   "source": [
    "# Initialise a Variable value\n",
    "\n"
   ]
  },
  {
   "cell_type": "markdown",
   "metadata": {},
   "source": [
    "#### Use and modify Variable values"
   ]
  },
  {
   "cell_type": "code",
   "execution_count": null,
   "metadata": {
    "scrolled": false
   },
   "outputs": [],
   "source": [
    "# Use the value of a Variable\n",
    "\n",
    "v = tf.Variable(0.0)\n",
    "w = v + 1  # w is a tf.Tensor which is computed based on the value of v.\n",
    "\n",
    "print(type(w))"
   ]
  },
  {
   "cell_type": "code",
   "execution_count": null,
   "metadata": {
    "scrolled": false
   },
   "outputs": [],
   "source": [
    "# Increment the value of a Variable\n",
    "\n"
   ]
  },
  {
   "cell_type": "code",
   "execution_count": null,
   "metadata": {
    "scrolled": false
   },
   "outputs": [],
   "source": [
    "# Decrement the value of a Variable\n",
    "\n"
   ]
  },
  {
   "cell_type": "markdown",
   "metadata": {},
   "source": [
    "#### Create Tensor objects"
   ]
  },
  {
   "cell_type": "markdown",
   "metadata": {},
   "source": [
    "Create a constant tensor and print its type as well as its shape:"
   ]
  },
  {
   "cell_type": "code",
   "execution_count": null,
   "metadata": {
    "scrolled": false
   },
   "outputs": [],
   "source": [
    "# Create a constant Tensor\n",
    "\n",
    "x = tf.constant([[1, 2, 3], [4, 5, 6], [7, 8, 9]])\n",
    "print(x)\n",
    "print(\"dtype:\", x.dtype)\n",
    "print(\"shape:\", x.shape)"
   ]
  },
  {
   "cell_type": "code",
   "execution_count": null,
   "metadata": {
    "scrolled": false
   },
   "outputs": [],
   "source": [
    "# Obtain the value as a numpy array\n",
    "\n"
   ]
  },
  {
   "cell_type": "code",
   "execution_count": null,
   "metadata": {
    "scrolled": false
   },
   "outputs": [],
   "source": [
    "# Create a Tensor of type float32\n",
    "\n"
   ]
  },
  {
   "cell_type": "code",
   "execution_count": null,
   "metadata": {
    "scrolled": false
   },
   "outputs": [],
   "source": [
    "# Create coefficients\n",
    "\n",
    "coeffs = np.arange(16)"
   ]
  },
  {
   "cell_type": "code",
   "execution_count": null,
   "metadata": {},
   "outputs": [],
   "source": [
    "# Initialise shapes\n",
    "\n"
   ]
  },
  {
   "cell_type": "code",
   "execution_count": null,
   "metadata": {},
   "outputs": [],
   "source": [
    "# Create Tensors of different shape\n",
    "\n",
    "a = tf.constant(coeffs, shape=shape1)\n",
    "print(\"\\n a:\\n \", a)\n",
    "\n",
    "b = tf.constant(coeffs, shape=shape2)\n",
    "print(\"\\n b:\\n \", b)\n",
    "\n",
    "c = tf.constant(coeffs, shape=shape3)\n",
    "print(\"\\n c:\\n \", c)"
   ]
  },
  {
   "cell_type": "markdown",
   "metadata": {},
   "source": [
    "#### Useful Tensor operations"
   ]
  },
  {
   "cell_type": "code",
   "execution_count": null,
   "metadata": {
    "scrolled": false
   },
   "outputs": [],
   "source": [
    "# Create a constant Tensor\n",
    "\n",
    "t = tf.constant(np.arange(80), shape=[5, 2, 8])"
   ]
  },
  {
   "cell_type": "code",
   "execution_count": null,
   "metadata": {},
   "outputs": [],
   "source": [
    "# Get the rank of a Tensor\n",
    "\n"
   ]
  },
  {
   "cell_type": "code",
   "execution_count": null,
   "metadata": {},
   "outputs": [],
   "source": [
    "# Display the rank\n",
    "\n",
    "print(\"rank: \", rank)"
   ]
  },
  {
   "cell_type": "code",
   "execution_count": null,
   "metadata": {
    "scrolled": false
   },
   "outputs": [],
   "source": [
    "# Reshape a Tensor\n",
    "\n"
   ]
  },
  {
   "cell_type": "code",
   "execution_count": null,
   "metadata": {},
   "outputs": [],
   "source": [
    "# Display the new shape\n",
    "\n",
    "print(\"t2.shape: \", t2.shape)"
   ]
  },
  {
   "cell_type": "code",
   "execution_count": null,
   "metadata": {
    "scrolled": false
   },
   "outputs": [],
   "source": [
    "# Create ones, zeros, identity and constant Tensors\n",
    "\n"
   ]
  },
  {
   "cell_type": "code",
   "execution_count": null,
   "metadata": {},
   "outputs": [],
   "source": [
    "# Display the created tensors\n",
    "\n",
    "print(\"\\n Ones:\\n \", ones)\n",
    "print(\"\\n Zeros:\\n \", zeros)\n",
    "print(\"\\n Identity:\\n \", eye)\n",
    "print(\"\\n Tensor filled with 7: \", tensor7)"
   ]
  },
  {
   "cell_type": "code",
   "execution_count": null,
   "metadata": {
    "scrolled": false
   },
   "outputs": [],
   "source": [
    "# Create a ones Tensor and a zeros Tensor\n",
    "\n",
    "t1 = tf.ones(shape=(2, 2))\n",
    "t2 = tf.zeros(shape=(2, 2))"
   ]
  },
  {
   "cell_type": "code",
   "execution_count": null,
   "metadata": {
    "scrolled": false
   },
   "outputs": [],
   "source": [
    "# Concatentate two Tensors\n",
    "\n"
   ]
  },
  {
   "cell_type": "code",
   "execution_count": null,
   "metadata": {},
   "outputs": [],
   "source": [
    "# Display the concatenated tensors\n",
    "\n",
    "print(concat0)\n",
    "print(concat1)"
   ]
  },
  {
   "cell_type": "code",
   "execution_count": null,
   "metadata": {
    "scrolled": false
   },
   "outputs": [],
   "source": [
    "# Create a constant Tensor\n",
    "\n",
    "t = tf.constant(np.arange(24), shape=(3, 2, 4))\n",
    "print(\"\\n t shape: \", t.shape)"
   ]
  },
  {
   "cell_type": "code",
   "execution_count": null,
   "metadata": {
    "scrolled": false
   },
   "outputs": [],
   "source": [
    "# Expanding the rank of Tensors\n",
    "\n"
   ]
  },
  {
   "cell_type": "code",
   "execution_count": null,
   "metadata": {
    "scrolled": false
   },
   "outputs": [],
   "source": [
    "# Display the shapes after tf.expand_dims\n",
    "\n",
    "print(\"\\n After expanding dims:\\n t1 shape: \", t1.shape, \"\\n t2 shape: \", t2.shape, \"\\n t3 shape: \", t3.shape)"
   ]
  },
  {
   "cell_type": "code",
   "execution_count": null,
   "metadata": {
    "scrolled": false
   },
   "outputs": [],
   "source": [
    "# Squeezing redundant dimensions\n",
    "\n"
   ]
  },
  {
   "cell_type": "code",
   "execution_count": null,
   "metadata": {
    "scrolled": false
   },
   "outputs": [],
   "source": [
    "# Display the shapes after tf.squeeze\n",
    "\n",
    "print(\"\\n After squeezing:\\n t1 shape: \", t1.shape, \"\\n t2 shape: \", t2.shape, \"\\n t3 shape: \", t3.shape)"
   ]
  },
  {
   "cell_type": "code",
   "execution_count": null,
   "metadata": {
    "scrolled": false
   },
   "outputs": [],
   "source": [
    "# Slicing a Tensor\n",
    "\n"
   ]
  },
  {
   "cell_type": "markdown",
   "metadata": {},
   "source": [
    "#### Doing maths with Tensors"
   ]
  },
  {
   "cell_type": "code",
   "execution_count": null,
   "metadata": {},
   "outputs": [],
   "source": [
    "# Create two constant Tensors\n",
    "\n",
    "c = tf.constant([[1.0, 2.0], [3.0, 4.0]])\n",
    "d = tf.constant([[1.0, 1.0], [0.0, 1.0]])"
   ]
  },
  {
   "cell_type": "code",
   "execution_count": null,
   "metadata": {
    "scrolled": false
   },
   "outputs": [],
   "source": [
    "# Matrix multiplication\n",
    "\n"
   ]
  },
  {
   "cell_type": "code",
   "execution_count": null,
   "metadata": {},
   "outputs": [],
   "source": [
    "# Display the result\n",
    "\n",
    "print(\"\\n tf.matmul(c,d):\\n\", matmul_cd)"
   ]
  },
  {
   "cell_type": "code",
   "execution_count": null,
   "metadata": {
    "scrolled": false
   },
   "outputs": [],
   "source": [
    "# Elementwise operations\n",
    "\n"
   ]
  },
  {
   "cell_type": "code",
   "execution_count": null,
   "metadata": {},
   "outputs": [],
   "source": [
    "# Display the results\n",
    "\n",
    "print(\"\\n c*d:\\n\", c_times_d)\n",
    "print(\"\\n c+d:\\n\", c_plus_d)\n",
    "print(\"\\n c-d:\\n\", c_minus_d)\n",
    "print(\"\\n c/c:\\n\", c_div_c)"
   ]
  },
  {
   "cell_type": "code",
   "execution_count": null,
   "metadata": {
    "scrolled": false
   },
   "outputs": [],
   "source": [
    "# Create Tensors\n",
    "\n",
    "a = tf.constant([[2, 3], [3, 3]])\n",
    "b = tf.constant([[8, 7], [2, 3]])\n",
    "x = tf.constant([[-6.89 + 1.78j], [-2.54 + 2.15j]])"
   ]
  },
  {
   "cell_type": "code",
   "execution_count": null,
   "metadata": {},
   "outputs": [],
   "source": [
    "# Absolute value of a Tensor\n",
    "\n"
   ]
  },
  {
   "cell_type": "code",
   "execution_count": null,
   "metadata": {},
   "outputs": [],
   "source": [
    "# Power of a Tensor\n",
    "\n"
   ]
  },
  {
   "cell_type": "code",
   "execution_count": null,
   "metadata": {
    "scrolled": false
   },
   "outputs": [],
   "source": [
    "# Display the results\n",
    "\n",
    "print(\"\\n \", absx)\n",
    "print(\"\\n \", powab)"
   ]
  },
  {
   "cell_type": "markdown",
   "metadata": {},
   "source": [
    "#### Randomly sampled constant tensors"
   ]
  },
  {
   "cell_type": "code",
   "execution_count": null,
   "metadata": {
    "scrolled": false
   },
   "outputs": [],
   "source": [
    "# Create a Tensor with samples from a Normal distribution\n",
    "\n"
   ]
  },
  {
   "cell_type": "code",
   "execution_count": null,
   "metadata": {
    "scrolled": false
   },
   "outputs": [],
   "source": [
    "# Create a Tensor with samples from a Uniform distribution\n",
    "\n"
   ]
  },
  {
   "cell_type": "code",
   "execution_count": null,
   "metadata": {
    "scrolled": false
   },
   "outputs": [],
   "source": [
    "# Create a Tensor with samples from a Poisson distribution\n",
    "\n"
   ]
  },
  {
   "cell_type": "code",
   "execution_count": null,
   "metadata": {
    "scrolled": false
   },
   "outputs": [],
   "source": [
    "# More maths operations\n",
    "\n",
    "d = tf.square(tn)\n",
    "e = tf.exp(d)\n",
    "f = tf.cos(c)"
   ]
  },
  {
   "cell_type": "markdown",
   "metadata": {},
   "source": [
    "***\n",
    "<a id=\"coding_tutorial_3\"></a>\n",
    "## Accessing model layers"
   ]
  },
  {
   "cell_type": "code",
   "execution_count": null,
   "metadata": {
    "scrolled": false
   },
   "outputs": [],
   "source": [
    "import numpy as np\n",
    "import matplotlib.pyplot as plt\n",
    "% matplotlib inline"
   ]
  },
  {
   "cell_type": "markdown",
   "metadata": {},
   "source": [
    "#### Load the pre-trained model"
   ]
  },
  {
   "cell_type": "markdown",
   "metadata": {},
   "source": [
    "In this section, we aim to demonstrate accessing layer attributes within a model.\n",
    "\n",
    "Let's get started by loading the `VGG19` pre-trained model from the `keras.applications` library, which is a very deep network trained on more than a million images from the ImageNet database. The network is trained to classify images into 1000 object categories."
   ]
  },
  {
   "cell_type": "code",
   "execution_count": null,
   "metadata": {
    "scrolled": false
   },
   "outputs": [],
   "source": [
    "# Load the VGG19 model\n",
    "\n"
   ]
  },
  {
   "cell_type": "code",
   "execution_count": null,
   "metadata": {},
   "outputs": [],
   "source": [
    "# Get the inputs, layers and display the summary\n",
    "\n",
    "vgg_input = vgg_model.input\n",
    "vgg_layers = vgg_model.layers\n",
    "vgg_model.summary()"
   ]
  },
  {
   "cell_type": "markdown",
   "metadata": {},
   "source": [
    "#### Build a model to access the layer outputs"
   ]
  },
  {
   "cell_type": "code",
   "execution_count": null,
   "metadata": {},
   "outputs": [],
   "source": [
    "from tensorflow.keras.models import Model"
   ]
  },
  {
   "cell_type": "code",
   "execution_count": null,
   "metadata": {
    "scrolled": false
   },
   "outputs": [],
   "source": [
    "# Build a model that returns the layer outputs\n",
    "\n"
   ]
  },
  {
   "cell_type": "code",
   "execution_count": null,
   "metadata": {
    "scrolled": true
   },
   "outputs": [],
   "source": [
    "# Plot the model\n",
    "\n"
   ]
  },
  {
   "cell_type": "code",
   "execution_count": null,
   "metadata": {
    "scrolled": false
   },
   "outputs": [],
   "source": [
    "# Test the model on a random input\n",
    "\n"
   ]
  },
  {
   "cell_type": "markdown",
   "metadata": {},
   "source": [
    "#### Load the 'cool cat' picture"
   ]
  },
  {
   "cell_type": "markdown",
   "metadata": {},
   "source": [
    "In Zambia’s South Luangwa National Park, a photographer had been watching a pride of lions while they slept off a feast from a buffalo kill. When this female walked away, he anticipated that she might be going for a drink and so he positioned his vehicle on the opposite side of the waterhole. The `cool cat` picture is one of the highly commended 2018 Image from Wildlife Photographer of the Year."
   ]
  },
  {
   "cell_type": "code",
   "execution_count": null,
   "metadata": {
    "scrolled": false
   },
   "outputs": [],
   "source": [
    "# Display the original image\n",
    "\n",
    "import IPython.display as display\n",
    "from PIL import Image\n",
    "\n",
    "display.display(Image.open('data/cool_cat.jpg'))"
   ]
  },
  {
   "cell_type": "markdown",
   "metadata": {},
   "source": [
    "#### Visualise network features from the input image"
   ]
  },
  {
   "cell_type": "code",
   "execution_count": null,
   "metadata": {
    "scrolled": false
   },
   "outputs": [],
   "source": [
    "# Preprocess the image\n",
    "\n",
    "from tensorflow.keras.applications.vgg19 import preprocess_input\n",
    "from tensorflow.keras.preprocessing import image\n",
    "\n",
    "img_path = 'data/cool_cat.jpg'\n",
    "img = image.load_img(img_path, target_size=(224, 224))\n",
    "x = image.img_to_array(img)\n",
    "x = np.expand_dims(x, axis=0)\n",
    "x = preprocess_input(x)"
   ]
  },
  {
   "cell_type": "code",
   "execution_count": null,
   "metadata": {
    "scrolled": false
   },
   "outputs": [],
   "source": [
    "# Extract the features\n",
    "\n"
   ]
  },
  {
   "cell_type": "code",
   "execution_count": null,
   "metadata": {
    "scrolled": false
   },
   "outputs": [],
   "source": [
    "# Visualise the input channels\n",
    "\n"
   ]
  },
  {
   "cell_type": "code",
   "execution_count": null,
   "metadata": {
    "scrolled": false
   },
   "outputs": [],
   "source": [
    "# Visualise some features in the first hidden layer\n",
    "\n"
   ]
  },
  {
   "cell_type": "code",
   "execution_count": null,
   "metadata": {
    "scrolled": false
   },
   "outputs": [],
   "source": [
    "# Build a model to extract features by layer name\n",
    "\n"
   ]
  },
  {
   "cell_type": "code",
   "execution_count": null,
   "metadata": {
    "scrolled": false
   },
   "outputs": [],
   "source": [
    "# Visualise some features from the extracted layer output\n",
    "\n"
   ]
  },
  {
   "cell_type": "code",
   "execution_count": null,
   "metadata": {
    "scrolled": false
   },
   "outputs": [],
   "source": [
    "# Extract features from a layer deeper in the network\n",
    "\n"
   ]
  },
  {
   "cell_type": "code",
   "execution_count": null,
   "metadata": {
    "scrolled": false
   },
   "outputs": [],
   "source": [
    "# Visualise some features from the extracted layer output\n",
    "\n"
   ]
  },
  {
   "cell_type": "markdown",
   "metadata": {},
   "source": [
    "***\n",
    "<a id=\"coding_tutorial_4\"></a>\n",
    "## Freezing layers"
   ]
  },
  {
   "cell_type": "code",
   "execution_count": null,
   "metadata": {
    "scrolled": false
   },
   "outputs": [],
   "source": [
    "import numpy as np\n",
    "import matplotlib.pyplot as plt\n",
    "% matplotlib inline"
   ]
  },
  {
   "cell_type": "markdown",
   "metadata": {},
   "source": [
    "#### Build the model"
   ]
  },
  {
   "cell_type": "code",
   "execution_count": null,
   "metadata": {
    "scrolled": false
   },
   "outputs": [],
   "source": [
    "# Build a small Sequential model\n",
    "\n",
    "from tensorflow.keras.models import Sequential\n",
    "from tensorflow.keras import layers\n",
    "\n",
    "model = Sequential([\n",
    "    layers.Dense(4, input_shape=(4,), activation='relu', kernel_initializer='random_uniform',\n",
    "                 bias_initializer='ones'),\n",
    "    layers.Dense(2, activation='relu', kernel_initializer='lecun_normal', bias_initializer='ones'),\n",
    "    layers.Dense(4, activation='softmax'),\n",
    "])"
   ]
  },
  {
   "cell_type": "code",
   "execution_count": null,
   "metadata": {
    "scrolled": false
   },
   "outputs": [],
   "source": [
    "# Display the model summary\n",
    "\n",
    "model.summary()"
   ]
  },
  {
   "cell_type": "markdown",
   "metadata": {},
   "source": [
    "#### Examine the weight matrix variation over training"
   ]
  },
  {
   "cell_type": "code",
   "execution_count": null,
   "metadata": {
    "scrolled": false
   },
   "outputs": [],
   "source": [
    "# Retrieve the weights and biases\n",
    "\n"
   ]
  },
  {
   "cell_type": "code",
   "execution_count": null,
   "metadata": {
    "scrolled": false
   },
   "outputs": [],
   "source": [
    "# Construct a synthetic dataset\n",
    "\n",
    "x_train = np.random.random((100, 4))\n",
    "y_train = x_train\n",
    "\n",
    "x_test = np.random.random((20, 4))\n",
    "y_test = x_test"
   ]
  },
  {
   "cell_type": "code",
   "execution_count": null,
   "metadata": {
    "scrolled": false
   },
   "outputs": [],
   "source": [
    "# Compile and fit the model\n",
    "\n",
    "model.compile(optimizer='adam',\n",
    "              loss='mse',\n",
    "              metrics=['acc'])\n",
    "\n",
    "model.fit(x_train, y_train, epochs=50, verbose=False);"
   ]
  },
  {
   "cell_type": "code",
   "execution_count": null,
   "metadata": {
    "scrolled": false
   },
   "outputs": [],
   "source": [
    "# Retrieve weights and biases\n",
    "\n"
   ]
  },
  {
   "cell_type": "code",
   "execution_count": null,
   "metadata": {
    "scrolled": false
   },
   "outputs": [],
   "source": [
    "# Plot the variation\n",
    "\n",
    "plt.figure(figsize=(8, 8))\n",
    "for n in range(3):\n",
    "    delta_l = W1_layers[n] - W0_layers[n]\n",
    "    print('Layer ' + str(n) + ': bias variation: ', np.linalg.norm(b1_layers[n] - b0_layers[n]))\n",
    "    ax = plt.subplot(1, 3, n + 1)\n",
    "    plt.imshow(delta_l)\n",
    "    plt.title('Layer ' + str(n))\n",
    "    plt.axis('off')\n",
    "plt.colorbar()\n",
    "plt.suptitle('Weight matrices variation');"
   ]
  },
  {
   "cell_type": "markdown",
   "metadata": {},
   "source": [
    "#### Freeze layers at build time"
   ]
  },
  {
   "cell_type": "code",
   "execution_count": null,
   "metadata": {
    "scrolled": false
   },
   "outputs": [],
   "source": [
    "# Count the trainable and non trainable variables before the freezing\n",
    "\n"
   ]
  },
  {
   "cell_type": "code",
   "execution_count": null,
   "metadata": {},
   "outputs": [],
   "source": [
    "# Display the number of trainable and non trainable variables before the freezing\n",
    "\n",
    "print(\"\\n Before freezing:\\n\\t Number of trainable variables: \", n_trainable_variables,\n",
    "      \"\\n\\t Number of non trainable variables: \", n_non_trainable_variables)"
   ]
  },
  {
   "cell_type": "code",
   "execution_count": null,
   "metadata": {
    "scrolled": false
   },
   "outputs": [],
   "source": [
    "# Build the model\n",
    "\n"
   ]
  },
  {
   "cell_type": "code",
   "execution_count": null,
   "metadata": {
    "scrolled": false
   },
   "outputs": [],
   "source": [
    "# Count the trainable and non trainable variables after the freezing\n",
    "\n"
   ]
  },
  {
   "cell_type": "code",
   "execution_count": null,
   "metadata": {},
   "outputs": [],
   "source": [
    "# Display the number of trainable and non trainable variables after the freezing\n",
    "\n",
    "print(\"\\n After freezing:\\n\\t Number of trainable variables: \", n_trainable_variables,\n",
    "      \"\\n\\t Number of non trainable variables: \", n_non_trainable_variables)"
   ]
  },
  {
   "cell_type": "code",
   "execution_count": null,
   "metadata": {
    "scrolled": false
   },
   "outputs": [],
   "source": [
    "# Retrieve weights and biases\n",
    "\n"
   ]
  },
  {
   "cell_type": "code",
   "execution_count": null,
   "metadata": {
    "scrolled": false
   },
   "outputs": [],
   "source": [
    "# Compile and fit the model\n",
    "\n",
    "model.compile(optimizer='adam',\n",
    "              loss='mse',\n",
    "              metrics=['acc'])\n",
    "\n",
    "model.fit(x_train, y_train, epochs=50, verbose=False);"
   ]
  },
  {
   "cell_type": "code",
   "execution_count": null,
   "metadata": {
    "scrolled": false
   },
   "outputs": [],
   "source": [
    "# Retrieve weights and biases\n",
    "\n"
   ]
  },
  {
   "cell_type": "code",
   "execution_count": null,
   "metadata": {
    "scrolled": false
   },
   "outputs": [],
   "source": [
    "# Plot the variation\n",
    "\n"
   ]
  },
  {
   "cell_type": "markdown",
   "metadata": {},
   "source": [
    "#### Freeze layers of a pre-built model"
   ]
  },
  {
   "cell_type": "code",
   "execution_count": null,
   "metadata": {
    "scrolled": false
   },
   "outputs": [],
   "source": [
    "# Count the trainable and non trainable variables before the freezing\n",
    "\n",
    "print(\"\\n Before freezing:\\n\\t Number of trainable variables: \", len(model.trainable_variables),\n",
    "      \"\\n\\t Number of non trainable variables: \", len(model.non_trainable_variables))"
   ]
  },
  {
   "cell_type": "code",
   "execution_count": null,
   "metadata": {
    "scrolled": false
   },
   "outputs": [],
   "source": [
    "# Freeze the second layer\n",
    "\n"
   ]
  },
  {
   "cell_type": "code",
   "execution_count": null,
   "metadata": {
    "scrolled": false
   },
   "outputs": [],
   "source": [
    "# Count the trainable and non trainable variables after the freezing\n",
    "\n",
    "print(\"\\n After freezing:\\n\\t Number of trainable variables: \", len(model.trainable_variables),\n",
    "      \"\\n\\t Number of non trainable variables: \", len(model.non_trainable_variables))"
   ]
  },
  {
   "cell_type": "code",
   "execution_count": null,
   "metadata": {
    "scrolled": false
   },
   "outputs": [],
   "source": [
    "# Compile and fit the model\n",
    "\n",
    "model.compile(optimizer='adam',\n",
    "              loss='mse',\n",
    "              metrics=['acc'])\n",
    "\n",
    "model.fit(x_train, y_train, epochs=50, verbose=False);"
   ]
  },
  {
   "cell_type": "code",
   "execution_count": null,
   "metadata": {
    "scrolled": false
   },
   "outputs": [],
   "source": [
    "# Retrieve weights and biases\n",
    "\n"
   ]
  },
  {
   "cell_type": "code",
   "execution_count": null,
   "metadata": {
    "scrolled": false
   },
   "outputs": [],
   "source": [
    "# Plot the variation\n",
    "\n"
   ]
  }
 ],
 "metadata": {
  "kernelspec": {
   "display_name": "Python 3",
   "language": "python",
   "name": "python3"
  },
  "language_info": {
   "codemirror_mode": {
    "name": "ipython",
    "version": 3
   },
   "file_extension": ".py",
   "mimetype": "text/x-python",
   "name": "python",
   "nbconvert_exporter": "python",
   "pygments_lexer": "ipython3",
   "version": "3.7.1"
  }
 },
 "nbformat": 4,
 "nbformat_minor": 2
}
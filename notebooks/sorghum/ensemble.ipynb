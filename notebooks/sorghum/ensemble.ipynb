{
 "cells": [
  {
   "cell_type": "code",
   "execution_count": 48,
   "metadata": {
    "collapsed": true,
    "pycharm": {
     "name": "#%%\n"
    }
   },
   "outputs": [],
   "source": [
    "import numpy as np\n",
    "import scipy.stats as ss\n",
    "import pandas as pd"
   ]
  },
  {
   "cell_type": "code",
   "execution_count": 30,
   "outputs": [],
   "source": [
    "sub_1 = pd.read_csv('submission/1/submission_1.csv')\n",
    "sub_2 = pd.read_csv('submission/2/submission_2.csv')\n",
    "sub_3 = pd.read_csv('submission/3/submission_3-main.csv')\n",
    "sub_4 = pd.read_csv('submission/4/submission_2.csv')\n",
    "sub_5 = pd.read_csv('submission/5/submission_2-main.csv')"
   ],
   "metadata": {
    "collapsed": false,
    "pycharm": {
     "name": "#%%\n"
    }
   }
  },
  {
   "cell_type": "code",
   "execution_count": null,
   "outputs": [],
   "source": [
    "sub_1"
   ],
   "metadata": {
    "collapsed": false,
    "pycharm": {
     "name": "#%%\n"
    }
   }
  },
  {
   "cell_type": "code",
   "execution_count": 63,
   "outputs": [
    {
     "data": {
      "text/plain": "             filename   cultivar  count\n0      2010119363.png  PI_157804      1\n1      1751085827.png  PI_154846      2\n2      1369310450.png  PI_146890      2\n3      1462167466.png  PI_156393      1\n4      1178731942.png  PI_145633      1\n...               ...        ...    ...\n23634  1760658237.png  PI_145619      1\n23635  1880599754.png  PI_155885      2\n23636  1693645524.png  PI_152751      1\n23637   164830833.png  PI_152694      1\n23638  1354713015.png  PI_152727      1\n\n[23639 rows x 3 columns]",
      "text/html": "<div>\n<style scoped>\n    .dataframe tbody tr th:only-of-type {\n        vertical-align: middle;\n    }\n\n    .dataframe tbody tr th {\n        vertical-align: top;\n    }\n\n    .dataframe thead th {\n        text-align: right;\n    }\n</style>\n<table border=\"1\" class=\"dataframe\">\n  <thead>\n    <tr style=\"text-align: right;\">\n      <th></th>\n      <th>filename</th>\n      <th>cultivar</th>\n      <th>count</th>\n    </tr>\n  </thead>\n  <tbody>\n    <tr>\n      <th>0</th>\n      <td>2010119363.png</td>\n      <td>PI_157804</td>\n      <td>1</td>\n    </tr>\n    <tr>\n      <th>1</th>\n      <td>1751085827.png</td>\n      <td>PI_154846</td>\n      <td>2</td>\n    </tr>\n    <tr>\n      <th>2</th>\n      <td>1369310450.png</td>\n      <td>PI_146890</td>\n      <td>2</td>\n    </tr>\n    <tr>\n      <th>3</th>\n      <td>1462167466.png</td>\n      <td>PI_156393</td>\n      <td>1</td>\n    </tr>\n    <tr>\n      <th>4</th>\n      <td>1178731942.png</td>\n      <td>PI_145633</td>\n      <td>1</td>\n    </tr>\n    <tr>\n      <th>...</th>\n      <td>...</td>\n      <td>...</td>\n      <td>...</td>\n    </tr>\n    <tr>\n      <th>23634</th>\n      <td>1760658237.png</td>\n      <td>PI_145619</td>\n      <td>1</td>\n    </tr>\n    <tr>\n      <th>23635</th>\n      <td>1880599754.png</td>\n      <td>PI_155885</td>\n      <td>2</td>\n    </tr>\n    <tr>\n      <th>23636</th>\n      <td>1693645524.png</td>\n      <td>PI_152751</td>\n      <td>1</td>\n    </tr>\n    <tr>\n      <th>23637</th>\n      <td>164830833.png</td>\n      <td>PI_152694</td>\n      <td>1</td>\n    </tr>\n    <tr>\n      <th>23638</th>\n      <td>1354713015.png</td>\n      <td>PI_152727</td>\n      <td>1</td>\n    </tr>\n  </tbody>\n</table>\n<p>23639 rows × 3 columns</p>\n</div>"
     },
     "execution_count": 63,
     "metadata": {},
     "output_type": "execute_result"
    }
   ],
   "source": [
    "final = pd.DataFrame(results, columns=['filename', 'cultivar', 'count'])\n",
    "final"
   ],
   "metadata": {
    "collapsed": false,
    "pycharm": {
     "name": "#%%\n"
    }
   }
  },
  {
   "cell_type": "code",
   "execution_count": 64,
   "outputs": [
    {
     "data": {
      "text/plain": "             filename   cultivar  count\n0      2010119363.png  PI_157804      1\n3      1462167466.png  PI_156393      1\n4      1178731942.png  PI_145633      1\n5      1852273934.png  PI_145633      1\n6      1925251500.png  PI_146890      1\n...               ...        ...    ...\n23633   217079161.png  PI_157030      1\n23634  1760658237.png  PI_145619      1\n23636  1693645524.png  PI_152751      1\n23637   164830833.png  PI_152694      1\n23638  1354713015.png  PI_152727      1\n\n[17632 rows x 3 columns]",
      "text/html": "<div>\n<style scoped>\n    .dataframe tbody tr th:only-of-type {\n        vertical-align: middle;\n    }\n\n    .dataframe tbody tr th {\n        vertical-align: top;\n    }\n\n    .dataframe thead th {\n        text-align: right;\n    }\n</style>\n<table border=\"1\" class=\"dataframe\">\n  <thead>\n    <tr style=\"text-align: right;\">\n      <th></th>\n      <th>filename</th>\n      <th>cultivar</th>\n      <th>count</th>\n    </tr>\n  </thead>\n  <tbody>\n    <tr>\n      <th>0</th>\n      <td>2010119363.png</td>\n      <td>PI_157804</td>\n      <td>1</td>\n    </tr>\n    <tr>\n      <th>3</th>\n      <td>1462167466.png</td>\n      <td>PI_156393</td>\n      <td>1</td>\n    </tr>\n    <tr>\n      <th>4</th>\n      <td>1178731942.png</td>\n      <td>PI_145633</td>\n      <td>1</td>\n    </tr>\n    <tr>\n      <th>5</th>\n      <td>1852273934.png</td>\n      <td>PI_145633</td>\n      <td>1</td>\n    </tr>\n    <tr>\n      <th>6</th>\n      <td>1925251500.png</td>\n      <td>PI_146890</td>\n      <td>1</td>\n    </tr>\n    <tr>\n      <th>...</th>\n      <td>...</td>\n      <td>...</td>\n      <td>...</td>\n    </tr>\n    <tr>\n      <th>23633</th>\n      <td>217079161.png</td>\n      <td>PI_157030</td>\n      <td>1</td>\n    </tr>\n    <tr>\n      <th>23634</th>\n      <td>1760658237.png</td>\n      <td>PI_145619</td>\n      <td>1</td>\n    </tr>\n    <tr>\n      <th>23636</th>\n      <td>1693645524.png</td>\n      <td>PI_152751</td>\n      <td>1</td>\n    </tr>\n    <tr>\n      <th>23637</th>\n      <td>164830833.png</td>\n      <td>PI_152694</td>\n      <td>1</td>\n    </tr>\n    <tr>\n      <th>23638</th>\n      <td>1354713015.png</td>\n      <td>PI_152727</td>\n      <td>1</td>\n    </tr>\n  </tbody>\n</table>\n<p>17632 rows × 3 columns</p>\n</div>"
     },
     "execution_count": 64,
     "metadata": {},
     "output_type": "execute_result"
    }
   ],
   "source": [
    "final[final['count'] == 1]"
   ],
   "metadata": {
    "collapsed": false,
    "pycharm": {
     "name": "#%%\n"
    }
   }
  },
  {
   "cell_type": "code",
   "execution_count": 65,
   "outputs": [],
   "source": [
    "final[['filename', 'cultivar']].to_csv('ensemble-2.csv', index=False)"
   ],
   "metadata": {
    "collapsed": false,
    "pycharm": {
     "name": "#%%\n"
    }
   }
  }
 ],
 "metadata": {
  "kernelspec": {
   "display_name": "Python 3",
   "language": "python",
   "name": "python3"
  },
  "language_info": {
   "codemirror_mode": {
    "name": "ipython",
    "version": 2
   },
   "file_extension": ".py",
   "mimetype": "text/x-python",
   "name": "python",
   "nbconvert_exporter": "python",
   "pygments_lexer": "ipython2",
   "version": "2.7.6"
  }
 },
 "nbformat": 4,
 "nbformat_minor": 0
}
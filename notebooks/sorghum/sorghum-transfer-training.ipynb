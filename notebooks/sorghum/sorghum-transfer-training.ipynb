{
 "metadata": {
  "kernelspec": {
   "language": "python",
   "display_name": "Python 3",
   "name": "python3"
  },
  "language_info": {
   "pygments_lexer": "ipython3",
   "nbconvert_exporter": "python",
   "version": "3.6.4",
   "file_extension": ".py",
   "codemirror_mode": {
    "name": "ipython",
    "version": 3
   },
   "name": "python",
   "mimetype": "text/x-python"
  }
 },
 "nbformat_minor": 4,
 "nbformat": 4,
 "cells": [
  {
   "cell_type": "code",
   "source": [
    "import pandas as pd\n",
    "import os\n",
    "import numpy as np\n",
    "from PIL import Image"
   ],
   "metadata": {
    "_cell_guid": "b1076dfc-b9ad-4769-8c92-a6c4dae69d19",
    "_uuid": "8f2839f25d086af736a60e9eeb907d3b93b6e0e5",
    "papermill": {
     "duration": 6.123694,
     "end_time": "2022-05-08T07:07:20.685937",
     "exception": false,
     "start_time": "2022-05-08T07:07:14.562243",
     "status": "completed"
    },
    "pycharm": {
     "name": "#%%\n"
    },
    "tags": [],
    "execution": {
     "iopub.status.busy": "2022-05-15T07:27:47.320004Z",
     "iopub.execute_input": "2022-05-15T07:27:47.320774Z",
     "iopub.status.idle": "2022-05-15T07:27:53.524298Z",
     "shell.execute_reply.started": "2022-05-15T07:27:47.320682Z",
     "shell.execute_reply": "2022-05-15T07:27:53.523553Z"
    },
    "trusted": true
   },
   "execution_count": null,
   "outputs": []
  },
  {
   "cell_type": "code",
   "source": [
    "import tensorflow as tf\n",
    "from tensorflow.keras.models import Model\n",
    "from tensorflow.keras.layers import GlobalAveragePooling2D, Dense, Dropout\n",
    "from tensorflow.keras.losses import categorical_crossentropy\n",
    "from tensorflow.keras.optimizers import Adam\n",
    "from tensorflow.keras.preprocessing.image import ImageDataGenerator\n",
    "from tensorflow.keras.callbacks import EarlyStopping, ReduceLROnPlateau, ModelCheckpoint\n",
    "from tensorflow.keras.applications import EfficientNetB3"
   ],
   "metadata": {
    "papermill": {
     "duration": 0.042945,
     "end_time": "2022-05-08T07:07:20.765795",
     "exception": false,
     "start_time": "2022-05-08T07:07:20.72285",
     "status": "completed"
    },
    "pycharm": {
     "name": "#%%\n"
    },
    "tags": [],
    "execution": {
     "iopub.status.busy": "2022-05-15T07:27:53.526068Z",
     "iopub.execute_input": "2022-05-15T07:27:53.526396Z",
     "iopub.status.idle": "2022-05-15T07:27:53.542309Z",
     "shell.execute_reply.started": "2022-05-15T07:27:53.526364Z",
     "shell.execute_reply": "2022-05-15T07:27:53.541367Z"
    },
    "trusted": true
   },
   "execution_count": null,
   "outputs": []
  },
  {
   "cell_type": "markdown",
   "source": [
    "## Pre-processing Pipeline"
   ],
   "metadata": {
    "papermill": {
     "duration": 0.031041,
     "end_time": "2022-05-08T07:07:20.899353",
     "exception": false,
     "start_time": "2022-05-08T07:07:20.868312",
     "status": "completed"
    },
    "pycharm": {
     "name": "#%% md\n"
    },
    "tags": []
   }
  },
  {
   "cell_type": "code",
   "source": [
    "def load_image(path, mode='RGB'):\n",
    "    return Image.open(path)\n",
    "\n",
    "\n",
    "def to_array(image):\n",
    "    return np.asarray(image)\n",
    "\n",
    "\n",
    "def to_image(array, mode='RGB'):\n",
    "    return Image.fromarray(np.uint8(array), mode=mode)\n",
    "\n",
    "\n",
    "def resize(image, size):\n",
    "    return tf.image.resize(image, size)"
   ],
   "metadata": {
    "papermill": {
     "duration": 0.066608,
     "end_time": "2022-05-08T07:07:20.997664",
     "exception": false,
     "start_time": "2022-05-08T07:07:20.931056",
     "status": "completed"
    },
    "pycharm": {
     "name": "#%%\n"
    },
    "tags": [],
    "execution": {
     "iopub.status.busy": "2022-05-15T07:27:53.54421Z",
     "iopub.execute_input": "2022-05-15T07:27:53.545104Z",
     "iopub.status.idle": "2022-05-15T07:27:53.578995Z",
     "shell.execute_reply.started": "2022-05-15T07:27:53.545076Z",
     "shell.execute_reply": "2022-05-15T07:27:53.577965Z"
    },
    "trusted": true
   },
   "execution_count": null,
   "outputs": []
  },
  {
   "cell_type": "markdown",
   "source": [
    "### Split data"
   ],
   "metadata": {
    "papermill": {
     "duration": 0.031973,
     "end_time": "2022-05-08T07:07:21.131491",
     "exception": false,
     "start_time": "2022-05-08T07:07:21.099518",
     "status": "completed"
    },
    "pycharm": {
     "name": "#%% md\n"
    },
    "tags": []
   }
  },
  {
   "cell_type": "code",
   "source": [
    "df_train = pd.read_csv('../input/128128-sorghum-cultivar/train_meta.csv')\n",
    "df_valid = pd.read_csv('../input/128128-sorghum-cultivar/valid_meta.csv')\n",
    "\n",
    "print(f\"train size: {len(df_train)}\")\n",
    "print(f\"valid size: {len(df_valid)}\")\n",
    "\n",
    "print(df_train.cultivar.value_counts())\n",
    "print(df_valid.cultivar.value_counts())"
   ],
   "metadata": {
    "collapsed": false,
    "jupyter": {
     "outputs_hidden": false
    },
    "papermill": {
     "duration": 0.178646,
     "end_time": "2022-05-08T07:07:21.342011",
     "exception": false,
     "start_time": "2022-05-08T07:07:21.163365",
     "status": "completed"
    },
    "pycharm": {
     "name": "#%%\n"
    },
    "tags": [],
    "execution": {
     "iopub.status.busy": "2022-05-15T07:27:53.794645Z",
     "iopub.execute_input": "2022-05-15T07:27:53.795385Z",
     "iopub.status.idle": "2022-05-15T07:27:54.031351Z",
     "shell.execute_reply.started": "2022-05-15T07:27:53.795348Z",
     "shell.execute_reply": "2022-05-15T07:27:54.030619Z"
    },
    "trusted": true
   },
   "execution_count": null,
   "outputs": []
  },
  {
   "cell_type": "code",
   "source": [
    "train_data_dir = '../input/128128-sorghum-cultivar/train/'\n",
    "damage_images = []\n",
    "\n",
    "for file, label in df_train.values:\n",
    "    if os.path.getsize(os.path.join(train_data_dir, file)) // 1000 < 1:\n",
    "        damage_images.append(file)"
   ],
   "metadata": {
    "papermill": {
     "duration": 78.060953,
     "end_time": "2022-05-08T07:08:39.436784",
     "exception": false,
     "start_time": "2022-05-08T07:07:21.375831",
     "status": "completed"
    },
    "tags": [],
    "execution": {
     "iopub.status.busy": "2022-05-15T03:33:56.134057Z",
     "iopub.execute_input": "2022-05-15T03:33:56.134319Z",
     "iopub.status.idle": "2022-05-15T03:34:03.321729Z",
     "shell.execute_reply.started": "2022-05-15T03:33:56.134291Z",
     "shell.execute_reply": "2022-05-15T03:34:03.320696Z"
    },
    "trusted": true,
    "pycharm": {
     "name": "#%%\n"
    }
   },
   "execution_count": null,
   "outputs": []
  },
  {
   "cell_type": "code",
   "source": [
    "damage_images = pd.DataFrame(damage_images, columns=['image'])\n",
    "damage_images"
   ],
   "metadata": {
    "papermill": {
     "duration": 0.051302,
     "end_time": "2022-05-08T07:08:39.520531",
     "exception": false,
     "start_time": "2022-05-08T07:08:39.469229",
     "status": "completed"
    },
    "tags": [],
    "execution": {
     "iopub.status.busy": "2022-05-15T03:07:16.952198Z",
     "iopub.execute_input": "2022-05-15T03:07:16.952437Z",
     "iopub.status.idle": "2022-05-15T03:07:16.978033Z",
     "shell.execute_reply.started": "2022-05-15T03:07:16.952409Z",
     "shell.execute_reply": "2022-05-15T03:07:16.977283Z"
    },
    "trusted": true,
    "pycharm": {
     "name": "#%%\n"
    }
   },
   "execution_count": null,
   "outputs": []
  },
  {
   "cell_type": "code",
   "source": [
    "df_train"
   ],
   "metadata": {
    "papermill": {
     "duration": 0.050724,
     "end_time": "2022-05-08T07:08:39.603537",
     "exception": false,
     "start_time": "2022-05-08T07:08:39.552813",
     "status": "completed"
    },
    "tags": [],
    "execution": {
     "iopub.status.busy": "2022-05-15T03:07:16.979265Z",
     "iopub.execute_input": "2022-05-15T03:07:16.979566Z",
     "iopub.status.idle": "2022-05-15T03:07:16.991987Z",
     "shell.execute_reply.started": "2022-05-15T03:07:16.979531Z",
     "shell.execute_reply": "2022-05-15T03:07:16.991248Z"
    },
    "trusted": true,
    "pycharm": {
     "name": "#%%\n"
    }
   },
   "execution_count": null,
   "outputs": []
  },
  {
   "cell_type": "code",
   "source": [
    "damage_indexes = []\n",
    "\n",
    "for i, (file, label) in enumerate(df_train.values):\n",
    "    if file in damage_images.image.values:\n",
    "        damage_indexes.append(i)"
   ],
   "metadata": {
    "papermill": {
     "duration": 23.580071,
     "end_time": "2022-05-08T07:09:03.220331",
     "exception": false,
     "start_time": "2022-05-08T07:08:39.64026",
     "status": "completed"
    },
    "tags": [],
    "execution": {
     "iopub.status.busy": "2022-05-15T03:07:16.994028Z",
     "iopub.execute_input": "2022-05-15T03:07:16.994647Z",
     "iopub.status.idle": "2022-05-15T03:08:17.818319Z",
     "shell.execute_reply.started": "2022-05-15T03:07:16.99461Z",
     "shell.execute_reply": "2022-05-15T03:08:17.817565Z"
    },
    "trusted": true,
    "pycharm": {
     "name": "#%%\n"
    }
   },
   "execution_count": null,
   "outputs": []
  },
  {
   "cell_type": "code",
   "source": [
    "df_train.drop(damage_indexes, inplace=True)"
   ],
   "metadata": {
    "papermill": {
     "duration": 0.055979,
     "end_time": "2022-05-08T07:09:03.309817",
     "exception": false,
     "start_time": "2022-05-08T07:09:03.253838",
     "status": "completed"
    },
    "tags": [],
    "execution": {
     "iopub.status.busy": "2022-05-15T03:08:17.819707Z",
     "iopub.execute_input": "2022-05-15T03:08:17.819971Z",
     "iopub.status.idle": "2022-05-15T03:08:17.836921Z",
     "shell.execute_reply.started": "2022-05-15T03:08:17.819935Z",
     "shell.execute_reply": "2022-05-15T03:08:17.836292Z"
    },
    "trusted": true,
    "pycharm": {
     "name": "#%%\n"
    }
   },
   "execution_count": null,
   "outputs": []
  },
  {
   "cell_type": "code",
   "source": [
    "df_train"
   ],
   "metadata": {
    "papermill": {
     "duration": 0.054124,
     "end_time": "2022-05-08T07:09:03.401617",
     "exception": false,
     "start_time": "2022-05-08T07:09:03.347493",
     "status": "completed"
    },
    "tags": [],
    "execution": {
     "iopub.status.busy": "2022-05-15T03:08:17.83832Z",
     "iopub.execute_input": "2022-05-15T03:08:17.838596Z",
     "iopub.status.idle": "2022-05-15T03:08:17.850526Z",
     "shell.execute_reply.started": "2022-05-15T03:08:17.838561Z",
     "shell.execute_reply": "2022-05-15T03:08:17.849756Z"
    },
    "trusted": true,
    "pycharm": {
     "name": "#%%\n"
    }
   },
   "execution_count": null,
   "outputs": []
  },
  {
   "cell_type": "code",
   "execution_count": null,
   "outputs": [],
   "source": [
    "preprocess_fit_mini_batch = df_train.sample(n=50)\n",
    "\n",
    "for file in preprocess_fit_mini_batch['image'].values:\n",
    "    img = resize(load_image(os.path.join('../input/128128-sorghum-cultivar/train/', file)), (64, 64))"
   ],
   "metadata": {
    "collapsed": false,
    "pycharm": {
     "name": "#%%\n"
    }
   }
  },
  {
   "cell_type": "markdown",
   "source": [
    "## Training"
   ],
   "metadata": {
    "pycharm": {
     "name": "#%% md\n"
    }
   }
  },
  {
   "cell_type": "code",
   "source": [
    "model = EfficientNetB3(include_top=False, input_shape=(64, 64, 3), weights='imagenet')"
   ],
   "metadata": {
    "execution": {
     "iopub.status.busy": "2022-05-15T07:28:02.743174Z",
     "iopub.execute_input": "2022-05-15T07:28:02.7438Z",
     "iopub.status.idle": "2022-05-15T07:28:06.457679Z",
     "shell.execute_reply.started": "2022-05-15T07:28:02.743758Z",
     "shell.execute_reply": "2022-05-15T07:28:06.456837Z"
    },
    "trusted": true,
    "pycharm": {
     "name": "#%%\n"
    }
   },
   "execution_count": null,
   "outputs": []
  },
  {
   "cell_type": "code",
   "execution_count": null,
   "outputs": [],
   "source": [
    "x_ = GlobalAveragePooling2D()(model.layers[-1].output)\n",
    "x_ = Dropout(0.5)(x_)\n",
    "output_layer = Dense(units=100, activation='softmax')(x_)\n",
    "\n",
    "model = Model(model.input, output_layer)"
   ],
   "metadata": {
    "collapsed": false,
    "pycharm": {
     "name": "#%%\n"
    }
   }
  },
  {
   "cell_type": "code",
   "source": [
    "model.compile(optimizer=Adam(learning_rate=0.0001),\n",
    "              loss=categorical_crossentropy,\n",
    "              metrics=['accuracy'])"
   ],
   "metadata": {
    "papermill": {
     "duration": 0.063606,
     "end_time": "2022-05-08T07:09:10.291814",
     "exception": false,
     "start_time": "2022-05-08T07:09:10.228208",
     "status": "completed"
    },
    "tags": [],
    "execution": {
     "iopub.status.busy": "2022-05-15T07:28:18.033179Z",
     "iopub.execute_input": "2022-05-15T07:28:18.033737Z",
     "iopub.status.idle": "2022-05-15T07:28:18.048456Z",
     "shell.execute_reply.started": "2022-05-15T07:28:18.033698Z",
     "shell.execute_reply": "2022-05-15T07:28:18.047621Z"
    },
    "trusted": true,
    "pycharm": {
     "name": "#%%\n"
    }
   },
   "execution_count": null,
   "outputs": []
  },
  {
   "cell_type": "code",
   "execution_count": null,
   "outputs": [],
   "source": [
    "model.summary()"
   ],
   "metadata": {
    "collapsed": false,
    "pycharm": {
     "name": "#%%\n"
    }
   }
  },
  {
   "cell_type": "code",
   "source": [
    "train_generator = ImageDataGenerator(rescale=1 / 255.,\n",
    "                                     vertical_flip=True)\n",
    "\n",
    "valid_generator = ImageDataGenerator(rescale=1 / 255.)"
   ],
   "metadata": {
    "papermill": {
     "duration": 0.047536,
     "end_time": "2022-05-08T07:09:10.381034",
     "exception": false,
     "start_time": "2022-05-08T07:09:10.333498",
     "status": "completed"
    },
    "pycharm": {
     "name": "#%%\n"
    },
    "tags": [],
    "execution": {
     "iopub.status.busy": "2022-05-15T07:28:24.511962Z",
     "iopub.execute_input": "2022-05-15T07:28:24.512264Z",
     "iopub.status.idle": "2022-05-15T07:28:24.52011Z",
     "shell.execute_reply.started": "2022-05-15T07:28:24.512224Z",
     "shell.execute_reply": "2022-05-15T07:28:24.519102Z"
    },
    "trusted": true
   },
   "execution_count": null,
   "outputs": []
  },
  {
   "cell_type": "code",
   "source": [
    "train_batches = train_generator.flow_from_dataframe(dataframe=df_train,\n",
    "                                                    directory='../input/128128-sorghum-cultivar/train/',\n",
    "                                                    x_col='image',\n",
    "                                                    y_col='cultivar',\n",
    "                                                    batch_size=32,\n",
    "                                                    target_size=(64, 64))\n",
    "\n",
    "validation_batches = valid_generator.flow_from_dataframe(dataframe=df_valid,\n",
    "                                                         directory='../input/128128-sorghum-cultivar/train',\n",
    "                                                         x_col='image',\n",
    "                                                         y_col='cultivar',\n",
    "                                                         batch_size=32,\n",
    "                                                         target_size=(64, 64))"
   ],
   "metadata": {
    "papermill": {
     "duration": 34.200425,
     "end_time": "2022-05-08T07:09:44.620623",
     "exception": false,
     "start_time": "2022-05-08T07:09:10.420198",
     "status": "completed"
    },
    "pycharm": {
     "name": "#%%\n"
    },
    "tags": [],
    "execution": {
     "iopub.status.busy": "2022-05-15T07:28:26.658271Z",
     "iopub.execute_input": "2022-05-15T07:28:26.659067Z",
     "iopub.status.idle": "2022-05-15T07:32:10.729058Z",
     "shell.execute_reply.started": "2022-05-15T07:28:26.659022Z",
     "shell.execute_reply": "2022-05-15T07:32:10.728223Z"
    },
    "trusted": true
   },
   "execution_count": null,
   "outputs": []
  },
  {
   "cell_type": "code",
   "source": [
    "checkpoint_filepath = 'checkpoint'\n",
    "os.mkdir(checkpoint_filepath)\n",
    "\n",
    "model_checkpoint_callback = ModelCheckpoint(filepath=os.path.join(checkpoint_filepath, 'best-checkpoint.hdf5'),\n",
    "                                            save_weights_only=False,\n",
    "                                            monitor='val_accuracy',\n",
    "                                            mode='max',\n",
    "                                            save_best_only=True)\n",
    "\n",
    "early_stop = EarlyStopping(monitor='val_loss',\n",
    "                           patience=15,\n",
    "                           restore_best_weights=True)\n",
    "\n",
    "reduce_lr = ReduceLROnPlateau(monitor='val_loss',\n",
    "                              factor=np.sqrt(0.1),\n",
    "                              patience=7)"
   ],
   "metadata": {
    "papermill": {
     "duration": 0.048165,
     "end_time": "2022-05-08T07:09:44.707843",
     "exception": false,
     "start_time": "2022-05-08T07:09:44.659678",
     "status": "completed"
    },
    "pycharm": {
     "name": "#%%\n"
    },
    "tags": [],
    "execution": {
     "iopub.status.busy": "2022-05-15T07:32:10.731092Z",
     "iopub.execute_input": "2022-05-15T07:32:10.731592Z",
     "iopub.status.idle": "2022-05-15T07:32:10.738426Z",
     "shell.execute_reply.started": "2022-05-15T07:32:10.731549Z",
     "shell.execute_reply": "2022-05-15T07:32:10.737624Z"
    },
    "trusted": true
   },
   "execution_count": null,
   "outputs": []
  },
  {
   "cell_type": "code",
   "source": [
    "history = model.fit(x=train_batches,\n",
    "                    validation_data=validation_batches,\n",
    "                    epochs=50,\n",
    "                    steps_per_epoch=3000,\n",
    "                    validation_steps=460,\n",
    "                    callbacks=[early_stop, reduce_lr])"
   ],
   "metadata": {
    "papermill": {
     "duration": 6791.786561,
     "end_time": "2022-05-08T09:02:56.533572",
     "exception": false,
     "start_time": "2022-05-08T07:09:44.747011",
     "status": "completed"
    },
    "pycharm": {
     "name": "#%%\n"
    },
    "tags": [],
    "execution": {
     "iopub.status.busy": "2022-05-15T07:32:10.739706Z",
     "iopub.execute_input": "2022-05-15T07:32:10.740297Z",
     "iopub.status.idle": "2022-05-15T07:46:17.814296Z",
     "shell.execute_reply.started": "2022-05-15T07:32:10.740249Z",
     "shell.execute_reply": "2022-05-15T07:46:17.813524Z"
    },
    "trusted": true
   },
   "execution_count": null,
   "outputs": []
  },
  {
   "cell_type": "code",
   "source": [
    "model.evaluate(validation_batches)"
   ],
   "metadata": {
    "papermill": {
     "duration": 36.727198,
     "end_time": "2022-05-08T09:03:45.114069",
     "exception": false,
     "start_time": "2022-05-08T09:03:08.386871",
     "status": "completed"
    },
    "pycharm": {
     "name": "#%%\n"
    },
    "tags": [],
    "execution": {
     "iopub.status.busy": "2022-05-15T03:21:36.824926Z",
     "iopub.execute_input": "2022-05-15T03:21:36.825703Z",
     "iopub.status.idle": "2022-05-15T03:23:02.404868Z",
     "shell.execute_reply.started": "2022-05-15T03:21:36.825659Z",
     "shell.execute_reply": "2022-05-15T03:23:02.404128Z"
    },
    "trusted": true
   },
   "execution_count": null,
   "outputs": []
  },
  {
   "cell_type": "code",
   "source": [
    "temp_1 = pd.DataFrame(history.history)\n",
    "temp_1.to_pickle('history.pkl')"
   ],
   "metadata": {
    "papermill": {
     "duration": 11.8875,
     "end_time": "2022-05-08T09:04:09.551403",
     "exception": false,
     "start_time": "2022-05-08T09:03:57.663903",
     "status": "completed"
    },
    "pycharm": {
     "name": "#%%\n"
    },
    "tags": [],
    "execution": {
     "iopub.status.busy": "2022-05-15T03:23:02.407122Z",
     "iopub.execute_input": "2022-05-15T03:23:02.409378Z",
     "iopub.status.idle": "2022-05-15T03:23:02.415952Z",
     "shell.execute_reply.started": "2022-05-15T03:23:02.409348Z",
     "shell.execute_reply": "2022-05-15T03:23:02.415174Z"
    },
    "trusted": true
   },
   "execution_count": null,
   "outputs": []
  },
  {
   "cell_type": "code",
   "source": [
    "model.save('model.hdf5')"
   ],
   "metadata": {
    "papermill": {
     "duration": 13.392409,
     "end_time": "2022-05-08T09:04:34.715153",
     "exception": false,
     "start_time": "2022-05-08T09:04:21.322744",
     "status": "completed"
    },
    "pycharm": {
     "name": "#%%\n"
    },
    "tags": [],
    "execution": {
     "iopub.status.busy": "2022-05-15T03:23:02.4176Z",
     "iopub.execute_input": "2022-05-15T03:23:02.418058Z",
     "iopub.status.idle": "2022-05-15T03:23:06.454065Z",
     "shell.execute_reply.started": "2022-05-15T03:23:02.41802Z",
     "shell.execute_reply": "2022-05-15T03:23:06.453316Z"
    },
    "trusted": true
   },
   "execution_count": null,
   "outputs": []
  },
  {
   "cell_type": "code",
   "source": [
    "train_batches.class_indices"
   ],
   "metadata": {
    "papermill": {
     "duration": 12.06445,
     "end_time": "2022-05-08T09:04:58.858379",
     "exception": false,
     "start_time": "2022-05-08T09:04:46.793929",
     "status": "completed"
    },
    "pycharm": {
     "name": "#%%\n"
    },
    "tags": [],
    "execution": {
     "iopub.status.busy": "2022-05-15T03:23:06.455647Z",
     "iopub.execute_input": "2022-05-15T03:23:06.456199Z",
     "iopub.status.idle": "2022-05-15T03:23:06.46721Z",
     "shell.execute_reply.started": "2022-05-15T03:23:06.456161Z",
     "shell.execute_reply": "2022-05-15T03:23:06.466458Z"
    },
    "trusted": true
   },
   "execution_count": null,
   "outputs": []
  },
  {
   "cell_type": "code",
   "source": [
    "import json\n",
    "\n",
    "with open('class_indices.json', 'w') as file:\n",
    "    json.dump(train_batches.class_indices, file)"
   ],
   "metadata": {
    "papermill": {
     "duration": 12.41886,
     "end_time": "2022-05-08T09:05:23.674097",
     "exception": false,
     "start_time": "2022-05-08T09:05:11.255237",
     "status": "completed"
    },
    "pycharm": {
     "name": "#%%\n"
    },
    "tags": [],
    "execution": {
     "iopub.status.busy": "2022-05-15T03:23:06.471498Z",
     "iopub.execute_input": "2022-05-15T03:23:06.473486Z",
     "iopub.status.idle": "2022-05-15T03:23:06.479562Z",
     "shell.execute_reply.started": "2022-05-15T03:23:06.473449Z",
     "shell.execute_reply": "2022-05-15T03:23:06.478883Z"
    },
    "trusted": true
   },
   "execution_count": null,
   "outputs": []
  },
  {
   "cell_type": "code",
   "source": [
    "test_preds = []\n",
    "\n",
    "for i, file in enumerate(os.listdir('../input/sorghum-cultivar-identification-512512/test/')):\n",
    "    img = resize(\n",
    "        to_array(load_image(os.path.join('../input/sorghum-cultivar-identification-512512/test/', file))) / 255.,\n",
    "        (64, 64))\n",
    "    img_arr = np.expand_dims(to_array(img), axis=0)\n",
    "    preds = np.argmax(model.predict(img_arr)[0])\n",
    "\n",
    "    label = list(train_batches.class_indices.keys())[list(train_batches.class_indices.values()).index(preds)]\n",
    "\n",
    "    test_preds.append([file, label])\n",
    "\n",
    "    print(f'{i + 1}/{len(os.listdir(\"../input/sorghum-cultivar-identification-512512/test/\"))}', end='\\r')"
   ],
   "metadata": {
    "papermill": {
     "duration": 2262.044259,
     "end_time": "2022-05-08T09:43:18.095471",
     "exception": false,
     "start_time": "2022-05-08T09:05:36.051212",
     "status": "completed"
    },
    "pycharm": {
     "name": "#%%\n"
    },
    "tags": [],
    "execution": {
     "iopub.status.busy": "2022-05-15T07:46:26.599422Z",
     "iopub.execute_input": "2022-05-15T07:46:26.600205Z",
     "iopub.status.idle": "2022-05-15T07:46:34.186964Z",
     "shell.execute_reply.started": "2022-05-15T07:46:26.600129Z",
     "shell.execute_reply": "2022-05-15T07:46:34.185701Z"
    },
    "trusted": true
   },
   "execution_count": null,
   "outputs": []
  },
  {
   "cell_type": "code",
   "source": [
    "test_preds = pd.DataFrame(test_preds, columns=['filename', 'cultivar'])\n",
    "test_preds.to_csv('submission_11.csv', index=False)"
   ],
   "metadata": {
    "papermill": {
     "duration": 15.247712,
     "end_time": "2022-05-08T09:43:48.264087",
     "exception": false,
     "start_time": "2022-05-08T09:43:33.016375",
     "status": "completed"
    },
    "pycharm": {
     "name": "#%%\n"
    },
    "tags": [],
    "execution": {
     "iopub.status.busy": "2022-05-14T06:10:29.386122Z",
     "iopub.status.idle": "2022-05-14T06:10:29.38689Z",
     "shell.execute_reply.started": "2022-05-14T06:10:29.386671Z",
     "shell.execute_reply": "2022-05-14T06:10:29.386694Z"
    },
    "trusted": true
   },
   "execution_count": null,
   "outputs": []
  },
  {
   "cell_type": "code",
   "source": [
    "test_preds"
   ],
   "metadata": {
    "papermill": {
     "duration": 15.703599,
     "end_time": "2022-05-08T09:44:18.867442",
     "exception": false,
     "start_time": "2022-05-08T09:44:03.163843",
     "status": "completed"
    },
    "pycharm": {
     "name": "#%%\n"
    },
    "tags": [],
    "execution": {
     "iopub.status.busy": "2022-05-14T06:10:29.390105Z",
     "iopub.status.idle": "2022-05-14T06:10:29.391Z",
     "shell.execute_reply.started": "2022-05-14T06:10:29.390751Z",
     "shell.execute_reply": "2022-05-14T06:10:29.390777Z"
    },
    "trusted": true
   },
   "execution_count": null,
   "outputs": []
  }
 ]
}
{
 "metadata": {
  "kernelspec": {
   "language": "python",
   "display_name": "Python 3",
   "name": "python3"
  },
  "language_info": {
   "name": "python",
   "version": "3.7.12",
   "mimetype": "text/x-python",
   "codemirror_mode": {
    "name": "ipython",
    "version": 3
   },
   "pygments_lexer": "ipython3",
   "nbconvert_exporter": "python",
   "file_extension": ".py"
  }
 },
 "nbformat_minor": 4,
 "nbformat": 4,
 "cells": [
  {
   "cell_type": "code",
   "source": [
    "import pandas as pd\n",
    "import os\n",
    "import numpy as np\n",
    "from PIL import Image\n",
    "import random\n",
    "import cv2"
   ],
   "metadata": {
    "_cell_guid": "b1076dfc-b9ad-4769-8c92-a6c4dae69d19",
    "_uuid": "8f2839f25d086af736a60e9eeb907d3b93b6e0e5",
    "papermill": {
     "duration": 6.123694,
     "end_time": "2022-05-08T07:07:20.685937",
     "exception": false,
     "start_time": "2022-05-08T07:07:14.562243",
     "status": "completed"
    },
    "pycharm": {
     "name": "#%%\n"
    },
    "tags": [],
    "execution": {
     "iopub.status.busy": "2022-05-21T09:22:17.605577Z",
     "iopub.execute_input": "2022-05-21T09:22:17.605887Z",
     "iopub.status.idle": "2022-05-21T09:22:17.631703Z",
     "shell.execute_reply.started": "2022-05-21T09:22:17.605805Z",
     "shell.execute_reply": "2022-05-21T09:22:17.631014Z"
    },
    "trusted": true
   },
   "execution_count": 1,
   "outputs": []
  },
  {
   "cell_type": "code",
   "execution_count": null,
   "outputs": [],
   "source": [
    "import tensorflow as tf\n",
    "import tensorflow_addons as tfa\n",
    "from tensorflow.keras.models import Model\n",
    "from tensorflow.keras.layers import AveragePooling2D, Flatten, Dense, Dropout, BatchNormalization\n",
    "from tensorflow.keras.losses import categorical_crossentropy\n",
    "from tensorflow.keras.optimizers import Adam\n",
    "from tensorflow.keras.preprocessing.image import ImageDataGenerator\n",
    "from tensorflow.keras.callbacks import EarlyStopping, ReduceLROnPlateau, ModelCheckpoint\n",
    "from tensorflow.keras.applications import EfficientNetB3\n",
    "from tensorflow.keras.utils import Sequence"
   ],
   "metadata": {
    "collapsed": false,
    "pycharm": {
     "name": "#%%\n"
    }
   }
  },
  {
   "cell_type": "markdown",
   "source": [
    "## Pre-processing Pipeline"
   ],
   "metadata": {
    "collapsed": false,
    "pycharm": {
     "name": "#%% md\n"
    }
   }
  },
  {
   "cell_type": "code",
   "execution_count": null,
   "outputs": [],
   "source": [
    "def load_image(path, mode='RGB'):\n",
    "    return Image.open(path)\n",
    "\n",
    "\n",
    "def to_array(image):\n",
    "    return np.asarray(image)\n",
    "\n",
    "\n",
    "def to_image(array, mode='RGB'):\n",
    "    return Image.fromarray(np.uint8(array), mode=mode)\n",
    "\n",
    "\n",
    "def resize(image, size):\n",
    "    return tf.image.resize(image, size)\n",
    "\n",
    "\n",
    "def shift_hsv_uint8(img, hue_shift, sat_shift, val_shift):\n",
    "    dtype = img.dtype\n",
    "    img = cv2.cvtColor(img, cv2.COLOR_RGB2HSV)\n",
    "    hue, sat, val = cv2.split(img)\n",
    "\n",
    "    if hue_shift != 0:\n",
    "        lut_hue = np.arange(0, 256, dtype=np.int16)\n",
    "        lut_hue = np.mod(lut_hue + hue_shift, 180).astype(dtype)\n",
    "        hue = cv2.LUT(hue, lut_hue)\n",
    "\n",
    "    if sat_shift != 0:\n",
    "        lut_sat = np.arange(0, 256, dtype=np.int16)\n",
    "        lut_sat = np.clip(lut_sat + sat_shift, 0, 255).astype(dtype)\n",
    "        sat = cv2.LUT(sat, lut_sat)\n",
    "\n",
    "    if val_shift != 0:\n",
    "        lut_val = np.arange(0, 256, dtype=np.int16)\n",
    "        lut_val = np.clip(lut_val + val_shift, 0, 255).astype(dtype)\n",
    "        val = cv2.LUT(val, lut_val)\n",
    "\n",
    "    img = cv2.merge((hue, sat, val)).astype(dtype)\n",
    "    img = cv2.cvtColor(img, cv2.COLOR_HSV2RGB)\n",
    "    return img\n",
    "\n",
    "\n",
    "def blur(img, blur_limit):\n",
    "    return cv2.blur(img, ksize=[blur_limit, blur_limit])\n",
    "\n",
    "\n",
    "def gaussian_blur(img, blur_limit=(3, 7), sigma_limit=0):\n",
    "    return cv2.GaussianBlur(img, ksize=blur_limit, sigmaX=sigma_limit)\n",
    "\n",
    "\n",
    "def motion_blur(img, blur_limit=7):\n",
    "    kmb = np.zeros((blur_limit, blur_limit))\n",
    "    kmb[(blur_limit - 1) // 2, :] = np.ones(blur_limit)\n",
    "    kmb = kmb / blur_limit\n",
    "    return cv2.filter2D(img, -1, kernel=kmb)\n",
    "\n",
    "\n",
    "def gaussian_noise(img):\n",
    "    x = tf.compat.v1.placeholder(dtype=tf.float32, shape=[224, 224, 3])\n",
    "    noise = tf.random.normal(shape=tf.shape(x), mean=0.0, stddev=1, dtype=tf.float32)\n",
    "    return tf.add(img, noise)\n",
    "\n",
    "\n",
    "def iso_noise(img, color_shift=0.05, intensity=0.5):\n",
    "    one_over_255 = float(1.0 / 255.0)\n",
    "    image = np.multiply(img, one_over_255, dtype=np.float32)\n",
    "    hls = cv2.cvtColor(image, cv2.COLOR_RGB2HLS)\n",
    "    _, stddev = cv2.meanStdDev(hls)\n",
    "\n",
    "    luminance_noise = np.random.poisson(stddev[1] * intensity * 255, hls.shape[:2])\n",
    "    color_noise = np.random.normal(0, color_shift * 360 * intensity, hls.shape[:2])\n",
    "\n",
    "    hue = hls[..., 0]\n",
    "    hue += color_noise\n",
    "    hue[hue < 0] += 360\n",
    "    hue[hue > 360] -= 360\n",
    "\n",
    "    luminance = hls[..., 1]\n",
    "    luminance += (luminance_noise / 255) * (1.0 - luminance)\n",
    "\n",
    "    image = cv2.cvtColor(hls, cv2.COLOR_HLS2RGB) * 255\n",
    "    return image\n",
    "\n",
    "\n",
    "def normalize(img, mean, std, max_pixel_value=255.0):\n",
    "    mean = np.array(mean, dtype=np.float32)\n",
    "    mean *= max_pixel_value\n",
    "\n",
    "    std = np.array(std, dtype=np.float32)\n",
    "    std *= max_pixel_value\n",
    "\n",
    "    denominator = np.reciprocal(std, dtype=np.float32)\n",
    "\n",
    "    img = img.astype(np.float32)\n",
    "    img -= mean\n",
    "    img *= denominator\n",
    "    return img"
   ],
   "metadata": {
    "collapsed": false,
    "pycharm": {
     "name": "#%%\n"
    }
   }
  },
  {
   "cell_type": "code",
   "execution_count": null,
   "outputs": [],
   "source": [
    "def get_transforms_train(image):\n",
    "    temp = tf.image.random_crop(image, size=(112, 112, 3))\n",
    "    temp = resize(temp, size=(224, 224))\n",
    "    temp = tf.image.random_flip_left_right(temp)\n",
    "\n",
    "    if random.choice([True, False]):\n",
    "        k = random.randint(1, 4)\n",
    "        temp = tf.image.rot90(temp, k=k)\n",
    "\n",
    "    if random.choice([True, False]):\n",
    "        hue_shift = random.uniform(-20, 20)\n",
    "        sat_shift = random.uniform(-30, 30)\n",
    "        val_shift = random.uniform(-20, 20)\n",
    "        temp = shift_hsv_uint8(temp, hue_shift=hue_shift, sat_shift=sat_shift, val_shift=val_shift)\n",
    "\n",
    "    if random.choice([True, False]):\n",
    "        max_delta = random.uniform(-0.2, 0.2)\n",
    "        temp = tf.image.random_brightness(temp, max_delta=max_delta)\n",
    "        temp = tf.image.random_contrast(temp, lower=0.2, upper=2.0)\n",
    "    else:\n",
    "        gamma = random.uniform(0.8, 1.2)\n",
    "        temp = tf.image.adjust_gamma(temp, gamma=gamma)\n",
    "\n",
    "    one_of_blur = random.choice([1, 2, 3])\n",
    "\n",
    "    if one_of_blur == 1:\n",
    "        temp = blur(temp, blur_limit=7)\n",
    "    elif one_of_blur == 2:\n",
    "        temp = gaussian_blur(temp)\n",
    "    elif one_of_blur == 3:\n",
    "        temp = motion_blur(temp)\n",
    "\n",
    "    if random.choice([True, False]):\n",
    "        temp = gaussian_noise(temp)\n",
    "    else:\n",
    "        temp = iso_noise(temp)\n",
    "\n",
    "    if random.choice([True, False]):\n",
    "        hole_height = random.randint(8, 16)\n",
    "        hole_width = random.randint(8,16)\n",
    "        temp = tfa.image.cutout_ops.random_cutout(temp, (hole_height, hole_width))\n",
    "\n",
    "    temp = normalize(temp, mean=(0.485, 0.456, 0.406), std=(0.229, 0.224, 0.225), max_pixel_value=255.0)\n",
    "\n",
    "    return temp\n",
    "\n",
    "\n",
    "def get_transforms_valid(image):\n",
    "    temp = resize(image, size=(224, 224))\n",
    "    temp = normalize(temp, mean=(0.485, 0.456, 0.406), std=(0.229, 0.224, 0.225), max_pixel_value=255.0)\n",
    "\n",
    "    return temp"
   ],
   "metadata": {
    "collapsed": false,
    "pycharm": {
     "name": "#%%\n"
    }
   }
  },
  {
   "cell_type": "markdown",
   "source": [
    "### Split data"
   ],
   "metadata": {
    "collapsed": false,
    "pycharm": {
     "name": "#%% md\n"
    }
   }
  },
  {
   "cell_type": "code",
   "execution_count": null,
   "outputs": [],
   "source": [
    "df_train = pd.read_csv('../input/128128-sorghum-cultivar/train_meta.csv')\n",
    "df_valid = pd.read_csv('../input/128128-sorghum-cultivar/valid_meta.csv')\n",
    "\n",
    "print(f\"train size: {len(df_train)}\")\n",
    "print(f\"valid size: {len(df_valid)}\")\n",
    "\n",
    "print(df_train.cultivar.value_counts())\n",
    "print(df_valid.cultivar.value_counts())"
   ],
   "metadata": {
    "collapsed": false,
    "pycharm": {
     "name": "#%%\n"
    }
   }
  },
  {
   "cell_type": "code",
   "execution_count": null,
   "outputs": [],
   "source": [
    "train_data_dir = '../input/128128-sorghum-cultivar/train/'\n",
    "damage_images = []\n",
    "\n",
    "for i, file in enumerate(os.listdir(train_data_dir)):\n",
    "    print(f'{i + 1}/215162', end='\\r')\n",
    "    if os.path.getsize(os.path.join(train_data_dir, file)) // 1000 < 1:\n",
    "        damage_images.append(file)"
   ],
   "metadata": {
    "collapsed": false,
    "pycharm": {
     "name": "#%%\n"
    }
   }
  },
  {
   "cell_type": "code",
   "execution_count": null,
   "outputs": [],
   "source": [
    "damage_images = pd.DataFrame(damage_images, columns=['image'])\n",
    "damage_images"
   ],
   "metadata": {
    "collapsed": false,
    "pycharm": {
     "name": "#%%\n"
    }
   }
  },
  {
   "cell_type": "code",
   "execution_count": null,
   "outputs": [],
   "source": [
    "damage_indexes_train = []\n",
    "damage_indexes_valid = []\n",
    "\n",
    "for i, (file, label) in enumerate(df_train.values):\n",
    "    print(f'{i + 1}/{df_train.shape[0]}', end='\\r')\n",
    "    if file in damage_images.image.values:\n",
    "        damage_indexes_train.append(i)\n",
    "\n",
    "for i, (file, label) in enumerate(df_valid.values):\n",
    "    print(f'{i + 1}/{df_valid.shape[0]}', end='\\r')\n",
    "    if file in damage_images.image.values:\n",
    "        damage_indexes_valid.append(i)"
   ],
   "metadata": {
    "collapsed": false,
    "pycharm": {
     "name": "#%%\n"
    }
   }
  },
  {
   "cell_type": "code",
   "execution_count": null,
   "outputs": [],
   "source": [
    "len(damage_indexes_train), len(damage_indexes_valid)"
   ],
   "metadata": {
    "collapsed": false,
    "pycharm": {
     "name": "#%%\n"
    }
   }
  },
  {
   "cell_type": "code",
   "execution_count": null,
   "outputs": [],
   "source": [
    "df_train.drop(damage_indexes_train, inplace=True)\n",
    "df_valid.drop(damage_indexes_valid, inplace=True)"
   ],
   "metadata": {
    "collapsed": false,
    "pycharm": {
     "name": "#%%\n"
    }
   }
  },
  {
   "cell_type": "code",
   "execution_count": null,
   "outputs": [],
   "source": [
    "df_train"
   ],
   "metadata": {
    "collapsed": false,
    "pycharm": {
     "name": "#%%\n"
    }
   }
  },
  {
   "cell_type": "code",
   "execution_count": null,
   "outputs": [],
   "source": [
    "df_valid"
   ],
   "metadata": {
    "collapsed": false,
    "pycharm": {
     "name": "#%%\n"
    }
   }
  },
  {
   "cell_type": "markdown",
   "source": [
    "## Training"
   ],
   "metadata": {
    "collapsed": false,
    "pycharm": {
     "name": "#%% md\n"
    }
   }
  },
  {
   "cell_type": "code",
   "execution_count": null,
   "outputs": [],
   "source": [
    "model = EfficientNetB3(include_top=False, input_shape=(128, 128, 3), weights='imagenet')"
   ],
   "metadata": {
    "collapsed": false,
    "pycharm": {
     "name": "#%%\n"
    }
   }
  },
  {
   "cell_type": "code",
   "execution_count": null,
   "outputs": [],
   "source": [
    "x_ = AveragePooling2D(pool_size=(3, 3))(model.layers[-1].output)\n",
    "x_ = Flatten()(x_)\n",
    "x_ = BatchNormalization()(x_)\n",
    "x_ = Dropout(0.5)(x_)\n",
    "output_layer = Dense(units=100, activation='softmax')(x_)\n",
    "\n",
    "model = Model(model.input, output_layer)"
   ],
   "metadata": {
    "collapsed": false,
    "pycharm": {
     "name": "#%%\n"
    }
   }
  },
  {
   "cell_type": "code",
   "execution_count": null,
   "outputs": [],
   "source": [
    "model.compile(optimizer=Adam(learning_rate=0.001),\n",
    "              loss=categorical_crossentropy,\n",
    "              metrics=['accuracy'])"
   ],
   "metadata": {
    "collapsed": false,
    "pycharm": {
     "name": "#%%\n"
    }
   }
  },
  {
   "cell_type": "code",
   "execution_count": null,
   "outputs": [],
   "source": [
    "model.summary()"
   ],
   "metadata": {
    "collapsed": false,
    "pycharm": {
     "name": "#%%\n"
    }
   }
  },
  {
   "cell_type": "code",
   "execution_count": null,
   "outputs": [],
   "source": [
    "train_generator = ImageDataGenerator(rescale=1 / 255.,\n",
    "                                     samplewise_center=True,\n",
    "                                     samplewise_std_normalization=True).flow_from_dataframe(dataframe=df_train,\n",
    "                                                                                            directory='../input/128128-sorghum-cultivar/train/',\n",
    "                                                                                            x_col='image',\n",
    "                                                                                            y_col='cultivar',\n",
    "                                                                                            batch_size=32,\n",
    "                                                                                            target_size=(128, 128))\n",
    "valid_generator = ImageDataGenerator(rescale=1 / 255.,\n",
    "                                     samplewise_center=True,\n",
    "                                     samplewise_std_normalization=True).flow_from_dataframe(dataframe=df_valid,\n",
    "                                                                                            directory='../input/128128-sorghum-cultivar/train',\n",
    "                                                                                            x_col='image',\n",
    "                                                                                            y_col='cultivar',\n",
    "                                                                                            batch_size=32,\n",
    "                                                                                            target_size=(128, 128))"
   ],
   "metadata": {
    "collapsed": false,
    "pycharm": {
     "name": "#%%\n"
    }
   }
  },
  {
   "cell_type": "code",
   "execution_count": null,
   "outputs": [],
   "source": [
    "model_checkpoint_callback = ModelCheckpoint(filepath=os.path.join('best-checkpoint.hdf5'),\n",
    "                                            save_weights_only=False,\n",
    "                                            monitor='val_accuracy',\n",
    "                                            mode='max',\n",
    "                                            verbose=1,\n",
    "                                            save_best_only=True)\n",
    "\n",
    "early_stop = EarlyStopping(monitor='val_loss',\n",
    "                           patience=15,\n",
    "                           verbose=1,\n",
    "                           restore_best_weights=True)\n",
    "\n",
    "reduce_lr = ReduceLROnPlateau(monitor='val_loss',\n",
    "                              factor=0.1,\n",
    "                              verbose=1,\n",
    "                              patience=5)"
   ],
   "metadata": {
    "collapsed": false,
    "pycharm": {
     "name": "#%%\n"
    }
   }
  },
  {
   "cell_type": "code",
   "execution_count": null,
   "outputs": [],
   "source": [
    "history = model.fit(train_generator,\n",
    "                    validation_data=valid_generator,\n",
    "                    epochs=50,\n",
    "                    steps_per_epoch=2350,\n",
    "                    validation_steps=400,\n",
    "                    callbacks=[early_stop, model_checkpoint_callback, reduce_lr])"
   ],
   "metadata": {
    "collapsed": false,
    "pycharm": {
     "name": "#%%\n"
    }
   }
  },
  {
   "cell_type": "code",
   "execution_count": null,
   "outputs": [],
   "source": [
    "model.evaluate(validation_batches)"
   ],
   "metadata": {
    "collapsed": false,
    "pycharm": {
     "name": "#%%\n"
    }
   }
  },
  {
   "cell_type": "code",
   "execution_count": null,
   "outputs": [],
   "source": [
    "temp_1 = pd.DataFrame(history.history)\n",
    "temp_1.to_pickle('history.pkl')"
   ],
   "metadata": {
    "collapsed": false,
    "pycharm": {
     "name": "#%%\n"
    }
   }
  },
  {
   "cell_type": "code",
   "execution_count": null,
   "outputs": [],
   "source": [
    "model.save('model.hdf5')"
   ],
   "metadata": {
    "collapsed": false,
    "pycharm": {
     "name": "#%%\n"
    }
   }
  },
  {
   "cell_type": "code",
   "execution_count": null,
   "outputs": [],
   "source": [
    "train_batches.class_indices"
   ],
   "metadata": {
    "collapsed": false,
    "pycharm": {
     "name": "#%%\n"
    }
   }
  },
  {
   "cell_type": "code",
   "execution_count": null,
   "outputs": [],
   "source": [
    "import json\n",
    "\n",
    "with open('class_indices.json', 'w') as file:\n",
    "    json.dump(train_batches.class_indices, file)"
   ],
   "metadata": {
    "collapsed": false,
    "pycharm": {
     "name": "#%%\n"
    }
   }
  },
  {
   "cell_type": "code",
   "execution_count": null,
   "outputs": [],
   "source": [
    "test_preds = []\n",
    "\n",
    "for i, file in enumerate(os.listdir('../input/sorghum-cultivar-identification-512512/test/')):\n",
    "    img = resize(\n",
    "        to_array(load_image(os.path.join('../input/sorghum-cultivar-identification-512512/test/', file))) / 255.,\n",
    "        (128, 128))\n",
    "    img_arr = np.expand_dims(to_array(img), axis=0)\n",
    "    preds = np.argmax(model.predict(img_arr)[0])\n",
    "\n",
    "    label = list(train_batches.class_indices.keys())[list(train_batches.class_indices.values()).index(preds)]\n",
    "\n",
    "    test_preds.append([file, label])\n",
    "\n",
    "    print(f'{i + 1}/{len(os.listdir(\"../input/sorghum-cultivar-identification-512512/test/\"))}', end='\\r')"
   ],
   "metadata": {
    "collapsed": false,
    "pycharm": {
     "name": "#%%\n"
    }
   }
  },
  {
   "cell_type": "code",
   "source": "test_preds",
   "metadata": {
    "papermill": {
     "duration": 15.703599,
     "end_time": "2022-05-08T09:44:18.867442",
     "exception": false,
     "start_time": "2022-05-08T09:44:03.163843",
     "status": "completed"
    },
    "pycharm": {
     "name": "#%%\n"
    },
    "tags": [],
    "execution": {
     "iopub.status.busy": "2022-05-14T06:10:29.390105Z",
     "iopub.status.idle": "2022-05-14T06:10:29.391Z",
     "shell.execute_reply.started": "2022-05-14T06:10:29.390751Z",
     "shell.execute_reply": "2022-05-14T06:10:29.390777Z"
    },
    "trusted": true
   },
   "execution_count": null,
   "outputs": []
  }
 ]
}
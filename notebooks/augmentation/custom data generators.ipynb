{
 "cells": [
  {
   "cell_type": "code",
   "execution_count": 3,
   "metadata": {
    "collapsed": true
   },
   "outputs": [],
   "source": [
    "import os\n",
    "import pandas as pd\n",
    "import tensorflow as tf\n",
    "from tensorflow.keras.preprocessing.image import ImageDataGenerator"
   ]
  },
  {
   "cell_type": "code",
   "execution_count": 4,
   "outputs": [],
   "source": [
    "data_dir = '../../data/places/seg_train'"
   ],
   "metadata": {
    "collapsed": false,
    "pycharm": {
     "name": "#%%\n"
    }
   }
  },
  {
   "cell_type": "code",
   "execution_count": 6,
   "outputs": [
    {
     "data": {
      "text/plain": "                  file      label\n0  seg_train\\buildings  seg_train\n1     seg_train\\forest  seg_train\n2    seg_train\\glacier  seg_train\n3   seg_train\\mountain  seg_train\n4        seg_train\\sea  seg_train\n5     seg_train\\street  seg_train",
      "text/html": "<div>\n<style scoped>\n    .dataframe tbody tr th:only-of-type {\n        vertical-align: middle;\n    }\n\n    .dataframe tbody tr th {\n        vertical-align: top;\n    }\n\n    .dataframe thead th {\n        text-align: right;\n    }\n</style>\n<table border=\"1\" class=\"dataframe\">\n  <thead>\n    <tr style=\"text-align: right;\">\n      <th></th>\n      <th>file</th>\n      <th>label</th>\n    </tr>\n  </thead>\n  <tbody>\n    <tr>\n      <th>0</th>\n      <td>seg_train\\buildings</td>\n      <td>seg_train</td>\n    </tr>\n    <tr>\n      <th>1</th>\n      <td>seg_train\\forest</td>\n      <td>seg_train</td>\n    </tr>\n    <tr>\n      <th>2</th>\n      <td>seg_train\\glacier</td>\n      <td>seg_train</td>\n    </tr>\n    <tr>\n      <th>3</th>\n      <td>seg_train\\mountain</td>\n      <td>seg_train</td>\n    </tr>\n    <tr>\n      <th>4</th>\n      <td>seg_train\\sea</td>\n      <td>seg_train</td>\n    </tr>\n    <tr>\n      <th>5</th>\n      <td>seg_train\\street</td>\n      <td>seg_train</td>\n    </tr>\n  </tbody>\n</table>\n</div>"
     },
     "execution_count": 6,
     "metadata": {},
     "output_type": "execute_result"
    }
   ],
   "source": [
    "train_df = []\n",
    "\n",
    "for classes in os.listdir(data_dir):\n",
    "\n",
    "    for file in os.listdir(os.path.join(data_dir, classes)):\n",
    "        file_path = os.path.join(classes, file)\n",
    "        train_df.append([file_path, classes])\n",
    "\n",
    "train_dtl_df = pd.DataFrame(train_df, columns=['file', 'label'])\n",
    "train_dtl_df"
   ],
   "metadata": {
    "collapsed": false,
    "pycharm": {
     "name": "#%%\n"
    }
   }
  },
  {
   "cell_type": "code",
   "execution_count": null,
   "outputs": [],
   "source": [],
   "metadata": {
    "collapsed": false,
    "pycharm": {
     "name": "#%%\n"
    }
   }
  }
 ],
 "metadata": {
  "kernelspec": {
   "display_name": "Python 3",
   "language": "python",
   "name": "python3"
  },
  "language_info": {
   "codemirror_mode": {
    "name": "ipython",
    "version": 2
   },
   "file_extension": ".py",
   "mimetype": "text/x-python",
   "name": "python",
   "nbconvert_exporter": "python",
   "pygments_lexer": "ipython2",
   "version": "2.7.6"
  }
 },
 "nbformat": 4,
 "nbformat_minor": 0
}
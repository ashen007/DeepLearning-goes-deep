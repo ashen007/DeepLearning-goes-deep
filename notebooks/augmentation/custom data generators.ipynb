{
 "cells": [
  {
   "cell_type": "code",
   "execution_count": 3,
   "metadata": {
    "collapsed": true
   },
   "outputs": [],
   "source": [
    "import os\n",
    "import pandas as pd\n",
    "import tensorflow as tf\n",
    "from tensorflow.keras.preprocessing.image import ImageDataGenerator"
   ]
  },
  {
   "cell_type": "code",
   "execution_count": 9,
   "outputs": [],
   "source": [
    "data_dir = '../../data/places/seg_train/seg_train'"
   ],
   "metadata": {
    "collapsed": false,
    "pycharm": {
     "name": "#%%\n"
    }
   }
  },
  {
   "cell_type": "code",
   "execution_count": 10,
   "outputs": [
    {
     "data": {
      "text/plain": "                      file      label\n0          buildings\\0.jpg  buildings\n1      buildings\\10006.jpg  buildings\n2       buildings\\1001.jpg  buildings\n3      buildings\\10014.jpg  buildings\n4      buildings\\10018.jpg  buildings\n...                    ...        ...\n14029      street\\9961.jpg     street\n14030      street\\9967.jpg     street\n14031      street\\9978.jpg     street\n14032      street\\9989.jpg     street\n14033       street\\999.jpg     street\n\n[14034 rows x 2 columns]",
      "text/html": "<div>\n<style scoped>\n    .dataframe tbody tr th:only-of-type {\n        vertical-align: middle;\n    }\n\n    .dataframe tbody tr th {\n        vertical-align: top;\n    }\n\n    .dataframe thead th {\n        text-align: right;\n    }\n</style>\n<table border=\"1\" class=\"dataframe\">\n  <thead>\n    <tr style=\"text-align: right;\">\n      <th></th>\n      <th>file</th>\n      <th>label</th>\n    </tr>\n  </thead>\n  <tbody>\n    <tr>\n      <th>0</th>\n      <td>buildings\\0.jpg</td>\n      <td>buildings</td>\n    </tr>\n    <tr>\n      <th>1</th>\n      <td>buildings\\10006.jpg</td>\n      <td>buildings</td>\n    </tr>\n    <tr>\n      <th>2</th>\n      <td>buildings\\1001.jpg</td>\n      <td>buildings</td>\n    </tr>\n    <tr>\n      <th>3</th>\n      <td>buildings\\10014.jpg</td>\n      <td>buildings</td>\n    </tr>\n    <tr>\n      <th>4</th>\n      <td>buildings\\10018.jpg</td>\n      <td>buildings</td>\n    </tr>\n    <tr>\n      <th>...</th>\n      <td>...</td>\n      <td>...</td>\n    </tr>\n    <tr>\n      <th>14029</th>\n      <td>street\\9961.jpg</td>\n      <td>street</td>\n    </tr>\n    <tr>\n      <th>14030</th>\n      <td>street\\9967.jpg</td>\n      <td>street</td>\n    </tr>\n    <tr>\n      <th>14031</th>\n      <td>street\\9978.jpg</td>\n      <td>street</td>\n    </tr>\n    <tr>\n      <th>14032</th>\n      <td>street\\9989.jpg</td>\n      <td>street</td>\n    </tr>\n    <tr>\n      <th>14033</th>\n      <td>street\\999.jpg</td>\n      <td>street</td>\n    </tr>\n  </tbody>\n</table>\n<p>14034 rows × 2 columns</p>\n</div>"
     },
     "execution_count": 10,
     "metadata": {},
     "output_type": "execute_result"
    }
   ],
   "source": [
    "train_df = []\n",
    "\n",
    "for classes in os.listdir(data_dir):\n",
    "\n",
    "    for file in os.listdir(os.path.join(data_dir, classes)):\n",
    "        file_path = os.path.join(classes, file)\n",
    "        train_df.append([file_path, classes])\n",
    "\n",
    "train_dtl_df = pd.DataFrame(train_df, columns=['file', 'label'])\n",
    "train_dtl_df"
   ],
   "metadata": {
    "collapsed": false,
    "pycharm": {
     "name": "#%%\n"
    }
   }
  },
  {
   "cell_type": "code",
   "execution_count": 7,
   "outputs": [],
   "source": [
    "generator = ImageDataGenerator(rescale=1/255.)"
   ],
   "metadata": {
    "collapsed": false,
    "pycharm": {
     "name": "#%%\n"
    }
   }
  },
  {
   "cell_type": "code",
   "execution_count": 11,
   "outputs": [
    {
     "name": "stdout",
     "output_type": "stream",
     "text": [
      "Found 14034 validated image filenames belonging to 6 classes.\n"
     ]
    }
   ],
   "source": [
    "train_batches = generator.flow_from_dataframe(dataframe=train_dtl_df,\n",
    "                                              directory=data_dir,\n",
    "                                              x_col='file',\n",
    "                                              y_col='label',\n",
    "                                              batch_size=8)"
   ],
   "metadata": {
    "collapsed": false,
    "pycharm": {
     "name": "#%%\n"
    }
   }
  },
  {
   "cell_type": "code",
   "execution_count": 12,
   "outputs": [
    {
     "data": {
      "text/plain": "{'buildings': 0,\n 'forest': 1,\n 'glacier': 2,\n 'mountain': 3,\n 'sea': 4,\n 'street': 5}"
     },
     "execution_count": 12,
     "metadata": {},
     "output_type": "execute_result"
    }
   ],
   "source": [
    "train_batches.class_indices"
   ],
   "metadata": {
    "collapsed": false,
    "pycharm": {
     "name": "#%%\n"
    }
   }
  },
  {
   "cell_type": "code",
   "execution_count": null,
   "outputs": [],
   "source": [],
   "metadata": {
    "collapsed": false,
    "pycharm": {
     "name": "#%%\n"
    }
   }
  }
 ],
 "metadata": {
  "kernelspec": {
   "display_name": "Python 3",
   "language": "python",
   "name": "python3"
  },
  "language_info": {
   "codemirror_mode": {
    "name": "ipython",
    "version": 2
   },
   "file_extension": ".py",
   "mimetype": "text/x-python",
   "name": "python",
   "nbconvert_exporter": "python",
   "pygments_lexer": "ipython2",
   "version": "2.7.6"
  }
 },
 "nbformat": 4,
 "nbformat_minor": 0
}
{
 "metadata": {
  "kernelspec": {
   "language": "python",
   "display_name": "Python 3",
   "name": "python3"
  },
  "language_info": {
   "name": "python",
   "version": "3.7.12",
   "mimetype": "text/x-python",
   "codemirror_mode": {
    "name": "ipython",
    "version": 3
   },
   "pygments_lexer": "ipython3",
   "nbconvert_exporter": "python",
   "file_extension": ".py"
  }
 },
 "nbformat_minor": 4,
 "nbformat": 4,
 "cells": [
  {
   "cell_type": "code",
   "source": [
    "import os\n",
    "import PIL.Image\n",
    "import numpy as np\n",
    "import pandas as pd\n",
    "import seaborn as sns\n",
    "import tensorflow as tf\n",
    "import tensorflow_addons as tfa\n",
    "import tensorflow_io as tfio\n",
    "\n",
    "from matplotlib import pyplot as plt\n",
    "from tensorflow.keras.utils import array_to_img, img_to_array\n",
    "from tensorflow.keras.models import Model\n",
    "from tensorflow.keras.layers import Conv2D, MaxPooling2D, Flatten, Dense, Input, Dropout, BatchNormalization\n",
    "from tensorflow.keras.activations import relu, softmax\n",
    "from tensorflow.keras.optimizers import Adam\n",
    "from tensorflow.keras.losses import categorical_crossentropy\n",
    "from tensorflow.keras.callbacks import EarlyStopping, ReduceLROnPlateau\n",
    "from tensorflow.keras.preprocessing.image import ImageDataGenerator"
   ],
   "metadata": {
    "_uuid": "8f2839f25d086af736a60e9eeb907d3b93b6e0e5",
    "_cell_guid": "b1076dfc-b9ad-4769-8c92-a6c4dae69d19",
    "execution": {
     "iopub.status.busy": "2022-03-06T06:37:33.349064Z",
     "iopub.execute_input": "2022-03-06T06:37:33.349405Z",
     "iopub.status.idle": "2022-03-06T06:37:39.342475Z",
     "shell.execute_reply.started": "2022-03-06T06:37:33.349333Z",
     "shell.execute_reply": "2022-03-06T06:37:39.338593Z"
    },
    "trusted": true
   },
   "execution_count": 1,
   "outputs": []
  },
  {
   "cell_type": "markdown",
   "source": [
    "### benchmarking model"
   ],
   "metadata": {}
  },
  {
   "cell_type": "code",
   "source": [
    "optimizer = Adam()\n",
    "\n",
    "\n",
    "def vgg_net16(input_shape=(224, 224, 3), classes=None):\n",
    "    # input layer\n",
    "    input_layer = Input(shape=input_shape, name='input_')\n",
    "\n",
    "    # first conv block\n",
    "    x = Conv2D(filters=64, kernel_size=(3, 3), strides=(1, 1), padding='same', activation=relu)(input_layer)\n",
    "    x = BatchNormalization()(x)\n",
    "    x = Conv2D(filters=64, kernel_size=(3, 3), strides=(1, 1), padding='same', activation=relu)(x)\n",
    "    x = BatchNormalization()(x)\n",
    "    x = MaxPooling2D(pool_size=(2, 2), strides=(2, 2), padding='valid')(x)\n",
    "\n",
    "    # second conv block\n",
    "    x = Conv2D(filters=128, kernel_size=(3, 3), strides=(1, 1), padding='same', activation=relu)(x)\n",
    "    x = BatchNormalization()(x)\n",
    "    x = Conv2D(filters=128, kernel_size=(3, 3), strides=(1, 1), padding='same', activation=relu)(x)\n",
    "    x = BatchNormalization()(x)\n",
    "    x = MaxPooling2D(pool_size=(2, 2), strides=(2, 2), padding='valid')(x)\n",
    "\n",
    "    # third conv block\n",
    "    x = Conv2D(filters=256, kernel_size=(3, 3), strides=(1, 1), padding='same', activation=relu)(x)\n",
    "    x = BatchNormalization()(x)\n",
    "    x = Conv2D(filters=256, kernel_size=(3, 3), strides=(1, 1), padding='same', activation=relu)(x)\n",
    "    x = BatchNormalization()(x)\n",
    "    x = Conv2D(filters=256, kernel_size=(3, 3), strides=(1, 1), padding='same', activation=relu)(x)\n",
    "    x = BatchNormalization()(x)\n",
    "    x = MaxPooling2D(pool_size=(2, 2), strides=(2, 2), padding='valid')(x)\n",
    "\n",
    "    # fourth conv block\n",
    "    x = Conv2D(filters=512, kernel_size=(3, 3), strides=(1, 1), padding='same', activation=relu)(x)\n",
    "    x = BatchNormalization()(x)\n",
    "    x = Conv2D(filters=512, kernel_size=(3, 3), strides=(1, 1), padding='same', activation=relu)(x)\n",
    "    x = BatchNormalization()(x)\n",
    "    x = Conv2D(filters=512, kernel_size=(3, 3), strides=(1, 1), padding='same', activation=relu)(x)\n",
    "    x = BatchNormalization()(x)\n",
    "    x = MaxPooling2D(pool_size=(2, 2), strides=(2, 2), padding='valid')(x)\n",
    "\n",
    "    # fifth conv block\n",
    "    x = Conv2D(filters=512, kernel_size=(3, 3), strides=(1, 1), padding='same', activation=relu)(x)\n",
    "    x = BatchNormalization()(x)\n",
    "    x = Conv2D(filters=512, kernel_size=(3, 3), strides=(1, 1), padding='same', activation=relu)(x)\n",
    "    x = BatchNormalization()(x)\n",
    "    x = Conv2D(filters=512, kernel_size=(3, 3), strides=(1, 1), padding='same', activation=relu)(x)\n",
    "    x = BatchNormalization()(x)\n",
    "    x = MaxPooling2D(pool_size=(2, 2), strides=(2, 2), padding='valid')(x)\n",
    "\n",
    "    # classifier\n",
    "    x = Flatten()(x)\n",
    "    x = Dense(units=512, activation=relu)(x)\n",
    "    x = Dropout(rate=0.5)(x)\n",
    "    x = Dense(units=512, activation=relu)(x)\n",
    "    x = Dropout(rate=0.5)(x)\n",
    "    x = Dense(units=classes, activation=softmax)(x)\n",
    "\n",
    "    model = Model(input_layer, x)\n",
    "    model.compile(optimizer=optimizer, loss=categorical_crossentropy, metrics=['accuracy'])\n",
    "    model.summary()\n",
    "\n",
    "    return model"
   ],
   "metadata": {
    "execution": {
     "iopub.status.busy": "2022-03-06T06:37:48.233855Z",
     "iopub.execute_input": "2022-03-06T06:37:48.234220Z",
     "iopub.status.idle": "2022-03-06T06:37:48.261934Z",
     "shell.execute_reply.started": "2022-03-06T06:37:48.234184Z",
     "shell.execute_reply": "2022-03-06T06:37:48.261206Z"
    },
    "trusted": true
   },
   "execution_count": 2,
   "outputs": []
  },
  {
   "cell_type": "markdown",
   "source": [
    "### callbacks"
   ],
   "metadata": {}
  },
  {
   "cell_type": "code",
   "source": [
    "early_stop = EarlyStopping(monitor='val_loss', patience=10, restore_best_weights=True)\n",
    "reduce_lr = ReduceLROnPlateau(monitor='val_loss', factor=0.1, patience=10, min_delta=0.0000001)"
   ],
   "metadata": {
    "execution": {
     "iopub.status.busy": "2022-03-06T06:37:53.174716Z",
     "iopub.execute_input": "2022-03-06T06:37:53.174998Z",
     "iopub.status.idle": "2022-03-06T06:37:53.179660Z",
     "shell.execute_reply.started": "2022-03-06T06:37:53.174967Z",
     "shell.execute_reply": "2022-03-06T06:37:53.178918Z"
    },
    "trusted": true
   },
   "execution_count": 3,
   "outputs": []
  },
  {
   "cell_type": "markdown",
   "source": [
    "## ***flip***"
   ],
   "metadata": {}
  },
  {
   "cell_type": "code",
   "source": [
    "def flip(path, dst):\n",
    "    images = os.listdir(path)\n",
    "\n",
    "    for image in images:\n",
    "        image_path = os.path.join(path, image)\n",
    "        dst_lr_path = os.path.join(dst, f'_flip_l_r_{image}')\n",
    "        dst_ud_path = os.path.join(dst, f'_flip_u_d_{image}')\n",
    "        img = PIL.Image.open(image_path)\n",
    "        flip_lr = array_to_img(tf.image.flip_left_right(img_to_array(img)))\n",
    "        flip_ud = array_to_img(tf.image.flip_up_down(img_to_array(img)))\n",
    "\n",
    "        # save flipped image in destination\n",
    "        flip_lr.save(dst_lr_path)\n",
    "        flip_ud.save(dst_ud_path)\n",
    "        img.save(os.path.join(dst, image))"
   ],
   "metadata": {
    "execution": {
     "iopub.status.busy": "2022-03-05T15:40:39.986017Z",
     "iopub.execute_input": "2022-03-05T15:40:39.988995Z",
     "iopub.status.idle": "2022-03-05T15:40:39.996772Z",
     "shell.execute_reply.started": "2022-03-05T15:40:39.988931Z",
     "shell.execute_reply": "2022-03-05T15:40:39.995853Z"
    },
    "trusted": true
   },
   "execution_count": null,
   "outputs": []
  },
  {
   "cell_type": "code",
   "source": [
    "if not os.path.isdir('flip'):\n",
    "    os.mkdir('flip')\n",
    "    os.mkdir('flip/0')\n",
    "    os.mkdir('flip/1')\n",
    "    \n",
    "flip('../input/innovation-species-resized-data/resized/0','flip/0')\n",
    "flip('../input/innovation-species-resized-data/resized/1','flip/1')"
   ],
   "metadata": {
    "execution": {
     "iopub.status.busy": "2022-03-05T15:40:40.000718Z",
     "iopub.execute_input": "2022-03-05T15:40:40.00093Z",
     "iopub.status.idle": "2022-03-05T15:42:13.649406Z",
     "shell.execute_reply.started": "2022-03-05T15:40:40.000901Z",
     "shell.execute_reply": "2022-03-05T15:42:13.648739Z"
    },
    "trusted": true
   },
   "execution_count": null,
   "outputs": []
  },
  {
   "cell_type": "markdown",
   "source": [
    "## Baseline"
   ],
   "metadata": {}
  },
  {
   "cell_type": "code",
   "source": [
    "base_train_generator = ImageDataGenerator(rescale=1/255.,\n",
    "                                          validation_split=0.4)\n",
    "base_train = base_train_generator.flow_from_directory('../input/innovation-species-resized-data/resized', target_size=(224,224), subset='training')\n",
    "base_val = base_train_generator.flow_from_directory('../input/innovation-species-resized-data/resized', target_size=(224,224), subset='validation')"
   ],
   "metadata": {
    "execution": {
     "iopub.status.busy": "2022-03-05T15:42:27.718414Z",
     "iopub.execute_input": "2022-03-05T15:42:27.718668Z",
     "iopub.status.idle": "2022-03-05T15:42:28.063649Z",
     "shell.execute_reply.started": "2022-03-05T15:42:27.71864Z",
     "shell.execute_reply": "2022-03-05T15:42:28.062898Z"
    },
    "trusted": true
   },
   "execution_count": null,
   "outputs": []
  },
  {
   "cell_type": "code",
   "source": [
    "test_generator = ImageDataGenerator(rescale=1/255.)\n",
    "evaluation = test_generator.flow_from_directory('../input/innovation-species-resized-data/test', target_size=(224,224))"
   ],
   "metadata": {
    "execution": {
     "iopub.status.busy": "2022-03-06T06:37:59.778274Z",
     "iopub.execute_input": "2022-03-06T06:37:59.778755Z",
     "iopub.status.idle": "2022-03-06T06:37:59.888897Z",
     "shell.execute_reply.started": "2022-03-06T06:37:59.778716Z",
     "shell.execute_reply": "2022-03-06T06:37:59.888194Z"
    },
    "trusted": true
   },
   "execution_count": 4,
   "outputs": []
  },
  {
   "cell_type": "code",
   "source": [
    "baseline_model = vgg_net16(classes=2)\n",
    "baseline_history = baseline_model.fit(base_train,\n",
    "                                      validation_data=base_val,\n",
    "                                      epochs=100,\n",
    "                                      callbacks=[early_stop,reduce_lr])\n",
    "\n",
    "temp = pd.DataFrame(baseline_history.history)\n",
    "temp.to_pickle('baseline.pkl')"
   ],
   "metadata": {
    "execution": {
     "iopub.status.busy": "2022-03-05T13:43:00.505477Z",
     "iopub.execute_input": "2022-03-05T13:43:00.506169Z",
     "iopub.status.idle": "2022-03-05T13:57:59.819231Z",
     "shell.execute_reply.started": "2022-03-05T13:43:00.506136Z",
     "shell.execute_reply": "2022-03-05T13:57:59.818442Z"
    },
    "trusted": true
   },
   "execution_count": null,
   "outputs": []
  },
  {
   "cell_type": "code",
   "source": [
    "baseline_model.evaluate(evaluation)"
   ],
   "metadata": {
    "execution": {
     "iopub.status.busy": "2022-03-05T13:57:59.82087Z",
     "iopub.execute_input": "2022-03-05T13:57:59.821102Z",
     "iopub.status.idle": "2022-03-05T13:58:03.792053Z",
     "shell.execute_reply.started": "2022-03-05T13:57:59.82107Z",
     "shell.execute_reply": "2022-03-05T13:58:03.791374Z"
    },
    "trusted": true
   },
   "execution_count": null,
   "outputs": []
  },
  {
   "cell_type": "markdown",
   "source": [
    "## Flipped"
   ],
   "metadata": {}
  },
  {
   "cell_type": "code",
   "source": [
    "flip_train = base_train_generator.flow_from_directory('flip', target_size=(224,224), subset='training')\n",
    "flip_val = base_train_generator.flow_from_directory('flip', target_size=(224,224), subset='validation')"
   ],
   "metadata": {
    "execution": {
     "iopub.status.busy": "2022-03-05T15:42:42.017365Z",
     "iopub.execute_input": "2022-03-05T15:42:42.017653Z",
     "iopub.status.idle": "2022-03-05T15:42:42.436992Z",
     "shell.execute_reply.started": "2022-03-05T15:42:42.017623Z",
     "shell.execute_reply": "2022-03-05T15:42:42.436219Z"
    },
    "trusted": true
   },
   "execution_count": null,
   "outputs": []
  },
  {
   "cell_type": "code",
   "source": [
    "flip_model = vgg_net16(classes=2)\n",
    "flip_history = flip_model.fit(flip_train,\n",
    "                              validation_data=flip_val,\n",
    "                              epochs=100,\n",
    "                              callbacks=[early_stop,reduce_lr])\n",
    "\n",
    "temp = pd.DataFrame(flip_history.history)\n",
    "temp.to_pickle('flip.pkl')"
   ],
   "metadata": {
    "execution": {
     "iopub.status.busy": "2022-03-05T15:42:51.403819Z",
     "iopub.execute_input": "2022-03-05T15:42:51.404101Z",
     "iopub.status.idle": "2022-03-05T16:05:59.723018Z",
     "shell.execute_reply.started": "2022-03-05T15:42:51.404073Z",
     "shell.execute_reply": "2022-03-05T16:05:59.722141Z"
    },
    "trusted": true
   },
   "execution_count": null,
   "outputs": []
  },
  {
   "cell_type": "code",
   "source": [
    "flip_model.evaluate(evaluation)"
   ],
   "metadata": {
    "execution": {
     "iopub.status.busy": "2022-03-05T16:06:13.034376Z",
     "iopub.execute_input": "2022-03-05T16:06:13.034632Z",
     "iopub.status.idle": "2022-03-05T16:06:14.552822Z",
     "shell.execute_reply.started": "2022-03-05T16:06:13.034605Z",
     "shell.execute_reply": "2022-03-05T16:06:14.552119Z"
    },
    "trusted": true
   },
   "execution_count": null,
   "outputs": []
  },
  {
   "cell_type": "markdown",
   "source": [
    "### ***isolate color chanels***"
   ],
   "metadata": {}
  },
  {
   "cell_type": "code",
   "source": [
    "def rgb_channel_isolation(path, dst):\n",
    "    images = os.listdir(path)\n",
    "\n",
    "    for image in images:\n",
    "        image_path = os.path.join(path, image)\n",
    "        img = img_to_array(PIL.Image.open(image_path))\n",
    "        r = img.copy()\n",
    "        g = img.copy()\n",
    "        b = img.copy()\n",
    "        r[:, :, 1:3] = 0\n",
    "        g[:, :, 0] = 0\n",
    "        g[:, :, 2] = 0\n",
    "        b[:, :, 0:2] = 0\n",
    "\n",
    "        # red component\n",
    "        r = array_to_img(r)\n",
    "        r.save(os.path.join(dst, f'_isolate_r_{image}'))\n",
    "        # green component\n",
    "        g = array_to_img(g)\n",
    "        g.save(os.path.join(dst, f'_isolate_g_{image}'))\n",
    "        # blue component\n",
    "        b = array_to_img(b)\n",
    "        b.save(os.path.join(dst, f'_isolate_b_{image}'))\n",
    "        # original\n",
    "        img = array_to_img(img)\n",
    "        img.save(os.path.join(dst, image))"
   ],
   "metadata": {
    "execution": {
     "iopub.status.busy": "2022-03-05T14:54:26.248149Z",
     "iopub.execute_input": "2022-03-05T14:54:26.248415Z",
     "iopub.status.idle": "2022-03-05T14:54:26.257401Z",
     "shell.execute_reply.started": "2022-03-05T14:54:26.248386Z",
     "shell.execute_reply": "2022-03-05T14:54:26.256508Z"
    },
    "trusted": true
   },
   "execution_count": null,
   "outputs": []
  },
  {
   "cell_type": "code",
   "source": [
    "if not os.path.isdir('isolated'):\n",
    "    os.mkdir('isolated')\n",
    "    os.mkdir('isolated/0')\n",
    "    os.mkdir('isolated/1')\n",
    "    \n",
    "rgb_channel_isolation('../input/innovation-species-resized-data/resized/0', 'isolated/0')\n",
    "rgb_channel_isolation('../input/innovation-species-resized-data/resized/1', 'isolated/1')"
   ],
   "metadata": {
    "execution": {
     "iopub.status.busy": "2022-03-05T14:54:28.044918Z",
     "iopub.execute_input": "2022-03-05T14:54:28.045244Z",
     "iopub.status.idle": "2022-03-05T14:56:35.223388Z",
     "shell.execute_reply.started": "2022-03-05T14:54:28.045207Z",
     "shell.execute_reply": "2022-03-05T14:56:35.222662Z"
    },
    "trusted": true
   },
   "execution_count": null,
   "outputs": []
  },
  {
   "cell_type": "code",
   "source": [
    "train_generator = ImageDataGenerator(rescale=1/255.,\n",
    "                                     validation_split=0.4)\n",
    "train = train_generator.flow_from_directory('isolated', target_size=(224,224), subset='training')\n",
    "val = train_generator.flow_from_directory('isolated', target_size=(224,224), subset='validation')"
   ],
   "metadata": {
    "execution": {
     "iopub.status.busy": "2022-03-05T14:59:17.294967Z",
     "iopub.execute_input": "2022-03-05T14:59:17.295219Z",
     "iopub.status.idle": "2022-03-05T14:59:17.718849Z",
     "shell.execute_reply.started": "2022-03-05T14:59:17.295191Z",
     "shell.execute_reply": "2022-03-05T14:59:17.718167Z"
    },
    "trusted": true
   },
   "execution_count": null,
   "outputs": []
  },
  {
   "cell_type": "code",
   "source": [
    "model = vgg_net16(classes=2)\n",
    "iso_history = model.fit(train,\n",
    "                      validation_data=val,\n",
    "                      epochs=100,\n",
    "                      callbacks=[early_stop,reduce_lr])\n",
    "\n",
    "temp = pd.DataFrame(iso_history.history)\n",
    "temp.to_pickle('iso.pkl')"
   ],
   "metadata": {
    "execution": {
     "iopub.status.busy": "2022-03-05T15:01:27.644345Z",
     "iopub.execute_input": "2022-03-05T15:01:27.6446Z",
     "iopub.status.idle": "2022-03-05T15:40:36.103313Z",
     "shell.execute_reply.started": "2022-03-05T15:01:27.644572Z",
     "shell.execute_reply": "2022-03-05T15:40:36.102605Z"
    },
    "trusted": true
   },
   "execution_count": null,
   "outputs": []
  },
  {
   "cell_type": "code",
   "source": [
    "model.evaluate(evaluation)"
   ],
   "metadata": {
    "execution": {
     "iopub.status.busy": "2022-03-05T15:40:36.104773Z",
     "iopub.execute_input": "2022-03-05T15:40:36.106052Z",
     "iopub.status.idle": "2022-03-05T15:40:39.98333Z",
     "shell.execute_reply.started": "2022-03-05T15:40:36.106012Z",
     "shell.execute_reply": "2022-03-05T15:40:39.981603Z"
    },
    "trusted": true
   },
   "execution_count": null,
   "outputs": []
  },
  {
   "cell_type": "markdown",
   "source": [
    "### ***color property changes***"
   ],
   "metadata": {}
  },
  {
   "cell_type": "code",
   "source": [
    "def random_changes_to_color_properties(path, dst, delta=None, gamma_transformation=True, change_contrast=True,\n",
    "                                       factor=None, steps=1):\n",
    "    images = os.listdir(path)\n",
    "\n",
    "    for image in images:\n",
    "        image_path = os.path.join(path, image)\n",
    "        img = img_to_array(PIL.Image.open(image_path))\n",
    "\n",
    "        if delta is None:\n",
    "            for i in range(steps):\n",
    "                change_factor = np.round(np.random.uniform(-1, 1), 2)\n",
    "                bc_img = array_to_img(tf.image.adjust_brightness(img, change_factor))\n",
    "                hue_img = array_to_img(tf.image.adjust_hue(img, change_factor))\n",
    "                sat_img = array_to_img(tf.image.adjust_saturation(img, change_factor))\n",
    "\n",
    "                # save transformed images\n",
    "                bc_img.save(os.path.join(dst, f'bc_{i}_{image}'))\n",
    "                hue_img.save(os.path.join(dst, f'hue_{i}_{image}'))\n",
    "                sat_img.save(os.path.join(dst, f'sat_{i}_{image}'))\n",
    "\n",
    "        elif isinstance(delta, float):\n",
    "            for i in range(steps):\n",
    "                change_factor = np.round(np.random.uniform(-1 * delta, 1 * delta), 2)\n",
    "                bc_img = array_to_img(tf.image.adjust_brightness(img, change_factor))\n",
    "                hue_img = array_to_img(tf.image.adjust_hue(img, change_factor))\n",
    "                sat_img = array_to_img(tf.image.adjust_saturation(img, change_factor))\n",
    "\n",
    "                # save transformed images\n",
    "                bc_img.save(os.path.join(dst, f'bc_{i}_{image}'))\n",
    "                hue_img.save(os.path.join(dst, f'hue_{i}_{image}'))\n",
    "                sat_img.save(os.path.join(dst, f'sat_{i}_{image}'))\n",
    "\n",
    "        if factor is None:\n",
    "            if gamma_transformation:\n",
    "                for i in range(steps):\n",
    "                    gamma = np.round(np.random.uniform(1, 5), 2)\n",
    "                    gamma_img = array_to_img(tf.image.adjust_gamma(img, gamma))\n",
    "                    gamma_img.save(os.path.join(dst, f'gamma_img_{i}_{image}'))\n",
    "\n",
    "            if change_contrast:\n",
    "                for i in range(steps):\n",
    "                    change_factor = np.round(np.random.uniform(-5, 5), 2)\n",
    "                    cont_img = array_to_img(tf.image.adjust_contrast(img, change_factor))\n",
    "                    cont_img.save(os.path.join(dst, f'cont_img_{i}_{image}'))\n",
    "\n",
    "        elif isinstance(factor, int):\n",
    "            if gamma_transformation:\n",
    "                for i in range(steps):\n",
    "                    gamma = np.round(np.random.uniform(1, factor), 2)\n",
    "                    gamma_img = array_to_img(tf.image.adjust_gamma(img, gamma))\n",
    "                    gamma_img.save(os.path.join(dst, f'gamma_img_{i}_{image}'))\n",
    "\n",
    "            if change_contrast:\n",
    "                for i in range(steps):\n",
    "                    factor = np.round(np.random.uniform(-1 * factor, factor), 2)\n",
    "                    cont_img = array_to_img(tf.image.adjust_contrast(img, factor))\n",
    "                    cont_img.save(os.path.join(dst, f'cont_img_{i}_{image}'))\n",
    "\n",
    "        array_to_img(img).save(os.path.join(dst, image))"
   ],
   "metadata": {
    "execution": {
     "iopub.status.busy": "2022-03-05T17:08:52.154062Z",
     "iopub.execute_input": "2022-03-05T17:08:52.154307Z",
     "iopub.status.idle": "2022-03-05T17:08:52.171336Z",
     "shell.execute_reply.started": "2022-03-05T17:08:52.15428Z",
     "shell.execute_reply": "2022-03-05T17:08:52.170421Z"
    },
    "trusted": true
   },
   "execution_count": null,
   "outputs": []
  },
  {
   "cell_type": "code",
   "source": [
    "if not os.path.isdir('color_prop'):\n",
    "    os.mkdir('color_prop')\n",
    "    os.mkdir('color_prop/0')\n",
    "    os.mkdir('color_prop/1')\n",
    "    \n",
    "random_changes_to_color_properties('../input/innovation-species-resized-data/resized/0', 'color_prop/0')\n",
    "random_changes_to_color_properties('../input/innovation-species-resized-data/resized/1', 'color_prop/1')"
   ],
   "metadata": {
    "execution": {
     "iopub.status.busy": "2022-03-05T17:08:56.441145Z",
     "iopub.execute_input": "2022-03-05T17:08:56.441388Z",
     "iopub.status.idle": "2022-03-05T17:12:18.800528Z",
     "shell.execute_reply.started": "2022-03-05T17:08:56.441362Z",
     "shell.execute_reply": "2022-03-05T17:12:18.799785Z"
    },
    "trusted": true
   },
   "execution_count": null,
   "outputs": []
  },
  {
   "cell_type": "code",
   "source": [
    "train_generator = ImageDataGenerator(rescale=1/255.,\n",
    "                                     validation_split=0.4)\n",
    "train = train_generator.flow_from_directory('color_prop', target_size=(224,224), subset='training')\n",
    "val = train_generator.flow_from_directory('color_prop', target_size=(224,224), subset='validation')"
   ],
   "metadata": {
    "execution": {
     "iopub.status.busy": "2022-03-05T17:12:18.803001Z",
     "iopub.execute_input": "2022-03-05T17:12:18.803698Z",
     "iopub.status.idle": "2022-03-05T17:12:19.337685Z",
     "shell.execute_reply.started": "2022-03-05T17:12:18.803658Z",
     "shell.execute_reply": "2022-03-05T17:12:19.336854Z"
    },
    "trusted": true
   },
   "execution_count": null,
   "outputs": []
  },
  {
   "cell_type": "code",
   "source": [
    "model = vgg_net16(classes=2)\n",
    "ccp_history = model.fit(train,\n",
    "                      validation_data=val,\n",
    "                      epochs=100,\n",
    "                      callbacks=[early_stop,reduce_lr])\n",
    "\n",
    "temp = pd.DataFrame(ccp_history.history)\n",
    "temp.to_pickle('change_color_prop.pkl')"
   ],
   "metadata": {
    "execution": {
     "iopub.status.busy": "2022-03-05T17:14:11.027129Z",
     "iopub.execute_input": "2022-03-05T17:14:11.027379Z",
     "iopub.status.idle": "2022-03-05T18:04:56.675634Z",
     "shell.execute_reply.started": "2022-03-05T17:14:11.027352Z",
     "shell.execute_reply": "2022-03-05T18:04:56.674885Z"
    },
    "trusted": true
   },
   "execution_count": null,
   "outputs": []
  },
  {
   "cell_type": "code",
   "source": [
    "model.evaluate(evaluation)"
   ],
   "metadata": {
    "execution": {
     "iopub.status.busy": "2022-03-05T18:04:56.791123Z",
     "iopub.execute_input": "2022-03-05T18:04:56.791456Z",
     "iopub.status.idle": "2022-03-05T18:05:02.260387Z",
     "shell.execute_reply.started": "2022-03-05T18:04:56.791418Z",
     "shell.execute_reply": "2022-03-05T18:05:02.259554Z"
    },
    "trusted": true
   },
   "execution_count": null,
   "outputs": []
  },
  {
   "cell_type": "markdown",
   "source": [
    "### Cropping"
   ],
   "metadata": {}
  },
  {
   "cell_type": "code",
   "source": [
    "def cropping(path, dst, central=True, random=False, fraction_low=0.5, fraction_high=0.9, random_width=224,\n",
    "             random_height=224, amount=3):\n",
    "    images = os.listdir(path)\n",
    "\n",
    "    for image in images:\n",
    "        image_path = os.path.join(path, image)\n",
    "        img = img_to_array(PIL.Image.open(image_path))\n",
    "\n",
    "        if central:\n",
    "            for i in range(amount):\n",
    "                crop_area = np.round(np.random.uniform(fraction_low, fraction_high), 2)\n",
    "                cc_img = tf.image.central_crop(img, central_fraction=crop_area)\n",
    "                array_to_img(cc_img).save(os.path.join(dst, f'cc_img_{i}_{image}'))\n",
    "\n",
    "        elif random:\n",
    "            for i in range(amount):\n",
    "                rc_img = tf.image.random_crop(img, size=[random_width, random_height, 3])\n",
    "                array_to_img(rc_img).save(os.path.join(dst, f'rc_img_{i}_{image}'))\n",
    "\n",
    "        array_to_img(img).save(os.path.join(dst, image))"
   ],
   "metadata": {
    "execution": {
     "iopub.status.busy": "2022-03-06T04:20:26.289513Z",
     "iopub.execute_input": "2022-03-06T04:20:26.290162Z",
     "iopub.status.idle": "2022-03-06T04:20:26.298713Z",
     "shell.execute_reply.started": "2022-03-06T04:20:26.290125Z",
     "shell.execute_reply": "2022-03-06T04:20:26.297222Z"
    },
    "trusted": true
   },
   "execution_count": 8,
   "outputs": []
  },
  {
   "cell_type": "markdown",
   "source": [
    "### ***central crop***"
   ],
   "metadata": {}
  },
  {
   "cell_type": "code",
   "source": [
    "if not os.path.isdir('cen_crop'):\n",
    "    os.mkdir('cen_crop')\n",
    "    os.mkdir('cen_crop/0')\n",
    "    os.mkdir('cen_crop/1')\n",
    "    \n",
    "cropping('../input/innovation-species-resized-data/resized/0', 'cen_crop/0')\n",
    "cropping('../input/innovation-species-resized-data/resized/1', 'cen_crop/1')"
   ],
   "metadata": {
    "execution": {
     "iopub.status.busy": "2022-03-06T03:26:45.204841Z",
     "iopub.execute_input": "2022-03-06T03:26:45.20555Z",
     "iopub.status.idle": "2022-03-06T03:28:31.912789Z",
     "shell.execute_reply.started": "2022-03-06T03:26:45.205511Z",
     "shell.execute_reply": "2022-03-06T03:28:31.911961Z"
    },
    "trusted": true
   },
   "execution_count": null,
   "outputs": []
  },
  {
   "cell_type": "code",
   "source": [
    "train_generator = ImageDataGenerator(rescale=1/255.,\n",
    "                                     validation_split=0.4)\n",
    "train = train_generator.flow_from_directory('cen_crop', target_size=(224,224), subset='training')\n",
    "val = train_generator.flow_from_directory('cen_crop', target_size=(224,224), subset='validation')"
   ],
   "metadata": {
    "execution": {
     "iopub.status.busy": "2022-03-06T03:30:31.36454Z",
     "iopub.execute_input": "2022-03-06T03:30:31.365215Z",
     "iopub.status.idle": "2022-03-06T03:30:31.79812Z",
     "shell.execute_reply.started": "2022-03-06T03:30:31.365177Z",
     "shell.execute_reply": "2022-03-06T03:30:31.797349Z"
    },
    "trusted": true
   },
   "execution_count": null,
   "outputs": []
  },
  {
   "cell_type": "code",
   "source": [
    "model = vgg_net16(classes=2)\n",
    "ccp_history = model.fit(train,\n",
    "                      validation_data=val,\n",
    "                      epochs=100,\n",
    "                      callbacks=[early_stop,reduce_lr])\n",
    "\n",
    "temp = pd.DataFrame(ccp_history.history)\n",
    "temp.to_pickle('central_crop.pkl')"
   ],
   "metadata": {
    "execution": {
     "iopub.status.busy": "2022-03-06T03:30:48.216245Z",
     "iopub.execute_input": "2022-03-06T03:30:48.216508Z",
     "iopub.status.idle": "2022-03-06T04:03:42.633331Z",
     "shell.execute_reply.started": "2022-03-06T03:30:48.216478Z",
     "shell.execute_reply": "2022-03-06T04:03:42.632554Z"
    },
    "trusted": true
   },
   "execution_count": null,
   "outputs": []
  },
  {
   "cell_type": "code",
   "source": [
    "model.evaluate(evaluation)"
   ],
   "metadata": {
    "execution": {
     "iopub.status.busy": "2022-03-06T04:03:42.750617Z",
     "iopub.execute_input": "2022-03-06T04:03:42.750899Z",
     "iopub.status.idle": "2022-03-06T04:03:48.22629Z",
     "shell.execute_reply.started": "2022-03-06T04:03:42.750865Z",
     "shell.execute_reply": "2022-03-06T04:03:48.225602Z"
    },
    "trusted": true
   },
   "execution_count": null,
   "outputs": []
  },
  {
   "cell_type": "markdown",
   "source": [
    "### ***random crop***"
   ],
   "metadata": {}
  },
  {
   "cell_type": "code",
   "source": [
    "if not os.path.isdir('rand_crop'):\n",
    "    os.mkdir('rand_crop')\n",
    "    os.mkdir('rand_crop/0')\n",
    "    os.mkdir('rand_crop/1')\n",
    "    \n",
    "cropping('../input/innovation-species-resized-data/resized/0', 'rand_crop/0', central=False, random=True)\n",
    "cropping('../input/innovation-species-resized-data/resized/1', 'rand_crop/1', central=False, random=True)"
   ],
   "metadata": {
    "execution": {
     "iopub.status.busy": "2022-03-06T04:20:46.119310Z",
     "iopub.execute_input": "2022-03-06T04:20:46.119784Z",
     "iopub.status.idle": "2022-03-06T04:22:04.996016Z",
     "shell.execute_reply.started": "2022-03-06T04:20:46.119743Z",
     "shell.execute_reply": "2022-03-06T04:22:04.995191Z"
    },
    "trusted": true
   },
   "execution_count": 9,
   "outputs": []
  },
  {
   "cell_type": "code",
   "source": [
    "train_generator = ImageDataGenerator(rescale=1/255.,\n",
    "                                     validation_split=0.4)\n",
    "train = train_generator.flow_from_directory('rand_crop', target_size=(224,224), subset='training')\n",
    "val = train_generator.flow_from_directory('rand_crop', target_size=(224,224), subset='validation')"
   ],
   "metadata": {
    "execution": {
     "iopub.status.busy": "2022-03-06T04:22:04.997597Z",
     "iopub.execute_input": "2022-03-06T04:22:04.997838Z",
     "iopub.status.idle": "2022-03-06T04:22:05.422957Z",
     "shell.execute_reply.started": "2022-03-06T04:22:04.997805Z",
     "shell.execute_reply": "2022-03-06T04:22:05.422311Z"
    },
    "trusted": true
   },
   "execution_count": 10,
   "outputs": []
  },
  {
   "cell_type": "code",
   "source": [
    "model = vgg_net16(classes=2)\n",
    "ccp_history = model.fit(train,\n",
    "                      validation_data=val,\n",
    "                      epochs=100,\n",
    "                      callbacks=[early_stop,reduce_lr])\n",
    "\n",
    "temp = pd.DataFrame(ccp_history.history)\n",
    "temp.to_pickle('random_crop.pkl')"
   ],
   "metadata": {
    "execution": {
     "iopub.status.busy": "2022-03-06T04:24:12.321053Z",
     "iopub.execute_input": "2022-03-06T04:24:12.321323Z",
     "iopub.status.idle": "2022-03-06T04:59:16.506401Z",
     "shell.execute_reply.started": "2022-03-06T04:24:12.321293Z",
     "shell.execute_reply": "2022-03-06T04:59:16.505630Z"
    },
    "trusted": true
   },
   "execution_count": 15,
   "outputs": []
  },
  {
   "cell_type": "code",
   "source": [
    "model.evaluate(evaluation)"
   ],
   "metadata": {
    "execution": {
     "iopub.status.busy": "2022-03-06T04:59:16.508088Z",
     "iopub.execute_input": "2022-03-06T04:59:16.508343Z",
     "iopub.status.idle": "2022-03-06T04:59:20.714005Z",
     "shell.execute_reply.started": "2022-03-06T04:59:16.508311Z",
     "shell.execute_reply": "2022-03-06T04:59:20.713342Z"
    },
    "trusted": true
   },
   "execution_count": 16,
   "outputs": []
  },
  {
   "cell_type": "markdown",
   "source": [
    "### Rotation"
   ],
   "metadata": {}
  },
  {
   "cell_type": "code",
   "source": [
    "def rotation(path, dst, angel=30, amount=3):\n",
    "    images = os.listdir(path)\n",
    "\n",
    "    for image in images:\n",
    "        image_path = os.path.join(path, image)\n",
    "        img = img_to_array(PIL.Image.open(image_path))\n",
    "\n",
    "        for i in range(amount):\n",
    "            random_angel = np.random.randint(-1 * angel, angel)\n",
    "            ra_img = tfa.image.rotate(img, random_angel)\n",
    "            array_to_img(ra_img).save(os.path.join(dst, f'ra_img_{i}_{image}'))\n",
    "\n",
    "        array_to_img(img).save(os.path.join(dst, image))"
   ],
   "metadata": {
    "execution": {
     "iopub.status.busy": "2022-03-06T06:38:21.420848Z",
     "iopub.execute_input": "2022-03-06T06:38:21.421680Z",
     "iopub.status.idle": "2022-03-06T06:38:21.428170Z",
     "shell.execute_reply.started": "2022-03-06T06:38:21.421643Z",
     "shell.execute_reply": "2022-03-06T06:38:21.427325Z"
    },
    "trusted": true
   },
   "execution_count": 5,
   "outputs": []
  },
  {
   "cell_type": "code",
   "source": [
    "if not os.path.isdir('rand_rotate'):\n",
    "    os.mkdir('rand_rotate')\n",
    "    os.mkdir('rand_rotate/0')\n",
    "    os.mkdir('rand_rotate/1')\n",
    "    \n",
    "rotation('../input/innovation-species-resized-data/resized/0', 'rand_rotate/0')\n",
    "rotation('../input/innovation-species-resized-data/resized/1', 'rand_rotate/1')"
   ],
   "metadata": {
    "execution": {
     "iopub.status.busy": "2022-03-06T06:38:43.090171Z",
     "iopub.execute_input": "2022-03-06T06:38:43.090469Z",
     "iopub.status.idle": "2022-03-06T06:41:25.712649Z",
     "shell.execute_reply.started": "2022-03-06T06:38:43.090429Z",
     "shell.execute_reply": "2022-03-06T06:41:25.711942Z"
    },
    "trusted": true
   },
   "execution_count": 7,
   "outputs": []
  },
  {
   "cell_type": "code",
   "source": [
    "train_generator = ImageDataGenerator(rescale=1/255.,\n",
    "                                     validation_split=0.4)\n",
    "train = train_generator.flow_from_directory('rand_rotate', target_size=(224,224), subset='training')\n",
    "val = train_generator.flow_from_directory('rand_rotate', target_size=(224,224), subset='validation')"
   ],
   "metadata": {
    "execution": {
     "iopub.status.busy": "2022-03-06T06:41:25.714090Z",
     "iopub.execute_input": "2022-03-06T06:41:25.714354Z",
     "iopub.status.idle": "2022-03-06T06:41:26.141824Z",
     "shell.execute_reply.started": "2022-03-06T06:41:25.714321Z",
     "shell.execute_reply": "2022-03-06T06:41:26.141162Z"
    },
    "trusted": true
   },
   "execution_count": 8,
   "outputs": []
  },
  {
   "cell_type": "code",
   "source": [
    "model = vgg_net16(classes=2)\n",
    "ccp_history = model.fit(train,\n",
    "                      validation_data=val,\n",
    "                      epochs=100,\n",
    "                      callbacks=[early_stop,reduce_lr])\n",
    "\n",
    "temp = pd.DataFrame(ccp_history.history)\n",
    "temp.to_pickle('random_rotation.pkl')"
   ],
   "metadata": {
    "execution": {
     "iopub.status.busy": "2022-03-06T06:43:26.532143Z",
     "iopub.execute_input": "2022-03-06T06:43:26.532424Z",
     "iopub.status.idle": "2022-03-06T07:13:52.274284Z",
     "shell.execute_reply.started": "2022-03-06T06:43:26.532393Z",
     "shell.execute_reply": "2022-03-06T07:13:52.273559Z"
    },
    "trusted": true
   },
   "execution_count": 13,
   "outputs": []
  },
  {
   "cell_type": "code",
   "source": [
    "model.evaluate(evaluation)"
   ],
   "metadata": {
    "execution": {
     "iopub.status.busy": "2022-03-06T07:13:52.276026Z",
     "iopub.execute_input": "2022-03-06T07:13:52.276273Z",
     "iopub.status.idle": "2022-03-06T07:13:56.212118Z",
     "shell.execute_reply.started": "2022-03-06T07:13:52.276240Z",
     "shell.execute_reply": "2022-03-06T07:13:56.211292Z"
    },
    "trusted": true
   },
   "execution_count": 14,
   "outputs": []
  },
  {
   "cell_type": "markdown",
   "source": [
    "### Translations"
   ],
   "metadata": {}
  },
  {
   "cell_type": "code",
   "source": [
    "def translation(path, dst, hshift_amount=0.3, wshift_amount=0.3, height_shift=True, width_shift=True, amount=3):\n",
    "    images = os.listdir(path)\n",
    "\n",
    "    for image in images:\n",
    "        image_path = os.path.join(path, image)\n",
    "        img = img_to_array(PIL.Image.open(image_path))\n",
    "\n",
    "        for i in range(amount):\n",
    "            random_hshift = np.random.uniform(0.1, hshift_amount)\n",
    "            random_wshift = np.random.uniform(0.1, wshift_amount)\n",
    "            rs_img = (tf.keras.preprocessing.image.random_shift(img, random_wshift, random_hshift, channel_axis=2,\n",
    "                                                                row_axis=0, col_axis=1,\n",
    "                                                                fill_mode='reflect')).astype(np.uint8)\n",
    "            array_to_img(rs_img).save(os.path.join(dst, f'rs_img_{i}_{image}'))\n",
    "\n",
    "        array_to_img(img).save(os.path.join(dst, image))"
   ],
   "metadata": {
    "execution": {
     "iopub.status.busy": "2022-03-06T07:16:20.055111Z",
     "iopub.execute_input": "2022-03-06T07:16:20.055645Z",
     "iopub.status.idle": "2022-03-06T07:16:20.065795Z",
     "shell.execute_reply.started": "2022-03-06T07:16:20.055608Z",
     "shell.execute_reply": "2022-03-06T07:16:20.065099Z"
    },
    "trusted": true
   },
   "execution_count": 15,
   "outputs": []
  },
  {
   "cell_type": "code",
   "source": [
    "if not os.path.isdir('rand_translation'):\n",
    "    os.mkdir('rand_translation')\n",
    "    os.mkdir('rand_translation/0')\n",
    "    os.mkdir('rand_translation/1')\n",
    "    \n",
    "translation('../input/innovation-species-resized-data/resized/0', 'rand_translation/0')\n",
    "translation('../input/innovation-species-resized-data/resized/1', 'rand_translation/1')"
   ],
   "metadata": {
    "execution": {
     "iopub.status.busy": "2022-03-06T07:16:26.904538Z",
     "iopub.execute_input": "2022-03-06T07:16:26.904796Z",
     "iopub.status.idle": "2022-03-06T07:23:03.249454Z",
     "shell.execute_reply.started": "2022-03-06T07:16:26.904767Z",
     "shell.execute_reply": "2022-03-06T07:23:03.248739Z"
    },
    "trusted": true
   },
   "execution_count": 16,
   "outputs": []
  },
  {
   "cell_type": "code",
   "source": [
    "train_generator = ImageDataGenerator(rescale=1/255.,\n",
    "                                     validation_split=0.4)\n",
    "train = train_generator.flow_from_directory('rand_translation', target_size=(224,224), subset='training')\n",
    "val = train_generator.flow_from_directory('rand_translation', target_size=(224,224), subset='validation')"
   ],
   "metadata": {
    "execution": {
     "iopub.status.busy": "2022-03-06T07:23:03.250833Z",
     "iopub.execute_input": "2022-03-06T07:23:03.251094Z",
     "iopub.status.idle": "2022-03-06T07:23:03.683786Z",
     "shell.execute_reply.started": "2022-03-06T07:23:03.251062Z",
     "shell.execute_reply": "2022-03-06T07:23:03.683162Z"
    },
    "trusted": true
   },
   "execution_count": 17,
   "outputs": []
  },
  {
   "cell_type": "code",
   "source": [
    "model = vgg_net16(classes=2)\n",
    "ccp_history = model.fit(train,\n",
    "                      validation_data=val,\n",
    "                      epochs=100,\n",
    "                      callbacks=[early_stop,reduce_lr])\n",
    "\n",
    "temp = pd.DataFrame(ccp_history.history)\n",
    "temp.to_pickle('rand_translation.pkl')"
   ],
   "metadata": {
    "execution": {
     "iopub.status.busy": "2022-03-06T07:32:00.811369Z",
     "iopub.execute_input": "2022-03-06T07:32:00.812034Z"
    },
    "trusted": true
   },
   "execution_count": null,
   "outputs": []
  },
  {
   "cell_type": "markdown",
   "source": [
    "### Noise injection"
   ],
   "metadata": {}
  },
  {
   "cell_type": "code",
   "source": [
    "def noise_injection(path, dst, magnitude=0.5, amount=3):\n",
    "    images = os.listdir(path)\n",
    "\n",
    "    for image in images:\n",
    "        image_path = os.path.join(path, image)\n",
    "        img = img_to_array(PIL.Image.open(image_path)) / 255.\n",
    "\n",
    "        for i in range(amount):\n",
    "            random_magnitude = np.round(np.random.uniform(0, magnitude), 2)\n",
    "            noise = np.random.normal(0, np.round(random_magnitude, decimals=3), size=img.shape)\n",
    "            ni_img = array_to_img((img + noise))\n",
    "            array_to_img(ni_img).save(os.path.join(dst, f'ni_img_{i}_{image}'))\n",
    "\n",
    "        array_to_img(img).save(os.path.join(dst, image))"
   ],
   "metadata": {},
   "execution_count": null,
   "outputs": []
  },
  {
   "cell_type": "code",
   "execution_count": null,
   "outputs": [],
   "source": [
    "if not os.path.isdir('noise_injection'):\n",
    "    os.mkdir('noise_injection')\n",
    "    os.mkdir('noise_injection/0')\n",
    "    os.mkdir('noise_injection/1')\n",
    "\n",
    "translation('../input/innovation-species-resized-data/resized/0', 'noise_injection/0')\n",
    "translation('../input/innovation-species-resized-data/resized/1', 'noise_injection/1')"
   ],
   "metadata": {
    "collapsed": false,
    "pycharm": {
     "name": "#%%\n"
    }
   }
  },
  {
   "cell_type": "code",
   "execution_count": null,
   "outputs": [],
   "source": [
    "train_generator = ImageDataGenerator(rescale=1/255.,\n",
    "                                     validation_split=0.4)\n",
    "train = train_generator.flow_from_directory('noise_injection', target_size=(224,224), subset='training')\n",
    "val = train_generator.flow_from_directory('noise_injection', target_size=(224,224), subset='validation')"
   ],
   "metadata": {
    "collapsed": false,
    "pycharm": {
     "name": "#%%\n"
    }
   }
  },
  {
   "cell_type": "code",
   "execution_count": null,
   "outputs": [],
   "source": [
    "model = vgg_net16(classes=2)\n",
    "ccp_history = model.fit(train,\n",
    "                      validation_data=val,\n",
    "                      epochs=100,\n",
    "                      callbacks=[early_stop,reduce_lr])\n",
    "\n",
    "temp = pd.DataFrame(ccp_history.history)\n",
    "temp.to_pickle('random_noise.pkl')"
   ],
   "metadata": {
    "collapsed": false,
    "pycharm": {
     "name": "#%%\n"
    }
   }
  }
 ]
}
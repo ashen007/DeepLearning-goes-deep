{
 "cells": [
  {
   "cell_type": "code",
   "execution_count": null,
   "metadata": {
    "collapsed": true
   },
   "outputs": [],
   "source": []
  },
  {
   "cell_type": "code",
   "execution_count": null,
   "outputs": [],
   "source": [
    "evaluation_score = {'baseline': [[0.19275474548339844, 0.9238095283508301]],\n",
    "                    'flipped': [[0.14518839120864868, 0.9476190209388733]],\n",
    "                    'color-chanel-isolation': [[0.3317931294441223, 0.8095238208770752]],\n",
    "                    'color-property': [[0.2262468934059143, 0.8952381014823914]],\n",
    "                    'central-crop': [[0.23757609724998474, 0.9238095283508301]],\n",
    "                    'random-crop': [[0.26213598251342773, 0.8857142925262451]],\n",
    "                    'rotation': [[0.25341305136680603, 0.8904761672019958]],\n",
    "                    'translation':[[0.1637454479932785, 0.9666666388511658]],\n",
    "                    'noise-injection':[]\n",
    "                    }"
   ],
   "metadata": {
    "collapsed": false,
    "pycharm": {
     "name": "#%%\n"
    }
   }
  }
 ],
 "metadata": {
  "kernelspec": {
   "display_name": "Python 3",
   "language": "python",
   "name": "python3"
  },
  "language_info": {
   "codemirror_mode": {
    "name": "ipython",
    "version": 2
   },
   "file_extension": ".py",
   "mimetype": "text/x-python",
   "name": "python",
   "nbconvert_exporter": "python",
   "pygments_lexer": "ipython2",
   "version": "2.7.6"
  }
 },
 "nbformat": 4,
 "nbformat_minor": 0
}
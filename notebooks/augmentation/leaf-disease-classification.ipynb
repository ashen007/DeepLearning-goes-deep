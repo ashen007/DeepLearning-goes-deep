{
 "metadata": {
  "kernelspec": {
   "language": "python",
   "display_name": "Python 3",
   "name": "python3"
  },
  "language_info": {
   "pygments_lexer": "ipython3",
   "nbconvert_exporter": "python",
   "version": "3.6.4",
   "file_extension": ".py",
   "codemirror_mode": {
    "name": "ipython",
    "version": 3
   },
   "name": "python",
   "mimetype": "text/x-python"
  }
 },
 "nbformat_minor": 4,
 "nbformat": 4,
 "cells": [
  {
   "cell_type": "code",
   "source": [
    "import os\n",
    "import shutil\n",
    "import pprint\n",
    "import random\n",
    "import numpy as np\n",
    "import pandas as pd\n",
    "import seaborn as sns\n",
    "import cv2 as cv\n",
    "import matplotlib.pyplot as plt\n",
    "import tensorflow as tf\n",
    "import tensorflow_addons as tfa\n",
    "from tensorflow.keras.utils import load_img, img_to_array, array_to_img\n",
    "from tensorflow.keras.callbacks import ReduceLROnPlateau, ModelCheckpoint, EarlyStopping"
   ],
   "metadata": {
    "_uuid": "8f2839f25d086af736a60e9eeb907d3b93b6e0e5",
    "_cell_guid": "b1076dfc-b9ad-4769-8c92-a6c4dae69d19",
    "execution": {
     "iopub.status.busy": "2022-03-24T16:00:15.383842Z",
     "iopub.execute_input": "2022-03-24T16:00:15.384095Z",
     "iopub.status.idle": "2022-03-24T16:00:21.985403Z",
     "shell.execute_reply.started": "2022-03-24T16:00:15.384066Z",
     "shell.execute_reply": "2022-03-24T16:00:21.984464Z"
    },
    "trusted": true
   },
   "execution_count": null,
   "outputs": []
  },
  {
   "cell_type": "code",
   "source": [
    "from tensorflow.keras.models import Model\n",
    "from tensorflow.keras.layers import Conv2D, MaxPooling2D, Flatten, Dense, Input, Dropout\n",
    "from tensorflow.keras.activations import relu, softmax\n",
    "from tensorflow.keras.optimizers import SGD\n",
    "from tensorflow.keras.losses import categorical_crossentropy\n",
    "from tensorflow.keras.regularizers import l2\n",
    "from tensorflow.keras.preprocessing.image import ImageDataGenerator"
   ],
   "metadata": {
    "execution": {
     "iopub.status.busy": "2022-03-24T16:00:21.986883Z",
     "iopub.execute_input": "2022-03-24T16:00:21.987179Z",
     "iopub.status.idle": "2022-03-24T16:00:21.996731Z",
     "shell.execute_reply.started": "2022-03-24T16:00:21.987139Z",
     "shell.execute_reply": "2022-03-24T16:00:21.996101Z"
    },
    "trusted": true
   },
   "execution_count": null,
   "outputs": []
  },
  {
   "cell_type": "code",
   "source": [
    "data_dir = '../input/leaf-disease-dataset-combination/image data/'\n",
    "reg_dir = os.path.join(data_dir, 'validation')\n",
    "train_dir = os.path.join(data_dir, 'train')"
   ],
   "metadata": {
    "execution": {
     "iopub.status.busy": "2022-03-24T16:00:21.997952Z",
     "iopub.execute_input": "2022-03-24T16:00:21.998466Z",
     "iopub.status.idle": "2022-03-24T16:00:22.015775Z",
     "shell.execute_reply.started": "2022-03-24T16:00:21.998427Z",
     "shell.execute_reply": "2022-03-24T16:00:22.015143Z"
    },
    "trusted": true
   },
   "execution_count": null,
   "outputs": []
  },
  {
   "cell_type": "code",
   "source": [
    "if not os.path.isdir('train'):\n",
    "    os.mkdir('train')"
   ],
   "metadata": {
    "execution": {
     "iopub.status.busy": "2022-03-24T16:00:22.017785Z",
     "iopub.execute_input": "2022-03-24T16:00:22.0185Z",
     "iopub.status.idle": "2022-03-24T16:00:22.024759Z",
     "shell.execute_reply.started": "2022-03-24T16:00:22.018459Z",
     "shell.execute_reply": "2022-03-24T16:00:22.024025Z"
    },
    "trusted": true
   },
   "execution_count": null,
   "outputs": []
  },
  {
   "cell_type": "code",
   "source": [
    "for dir in os.listdir(reg_dir):\n",
    "    if dir != 'Cassava':\n",
    "        sub_dir_path = os.path.join(reg_dir, dir)\n",
    "\n",
    "        for subclass in os.listdir(sub_dir_path):\n",
    "            dst_dir = os.path.join('train',f\"{dir}-{subclass}\")\n",
    "\n",
    "            if not os.path.isdir(dst_dir):\n",
    "                os.mkdir(dst_dir)\n",
    "\n",
    "            for key, file in enumerate(os.listdir(os.path.join(sub_dir_path, subclass))):\n",
    "                src = os.path.join(sub_dir_path, subclass, file)\n",
    "                dst = os.path.join(dst_dir, file)\n",
    "                shutil.copyfile(src, dst)\n",
    "\n",
    "                print(f'{key + 1}/{len(os.listdir(os.path.join(sub_dir_path, subclass)))}', end='\\r')\n",
    "\n",
    "            print(f'{os.path.join(reg_dir,dir, subclass)}-->{dst_dir}')"
   ],
   "metadata": {
    "execution": {
     "iopub.status.busy": "2022-03-24T16:00:22.027452Z",
     "iopub.execute_input": "2022-03-24T16:00:22.028161Z",
     "iopub.status.idle": "2022-03-24T16:01:18.856262Z",
     "shell.execute_reply.started": "2022-03-24T16:00:22.028123Z",
     "shell.execute_reply": "2022-03-24T16:01:18.855579Z"
    },
    "trusted": true
   },
   "execution_count": null,
   "outputs": []
  },
  {
   "cell_type": "code",
   "source": [
    "for dir in os.listdir(train_dir):\n",
    "    if dir != 'Cassava':\n",
    "        sub_dir_path = os.path.join(train_dir, dir)\n",
    "\n",
    "        for subclass in os.listdir(sub_dir_path):\n",
    "            dst_dir = os.path.join('train',f\"{dir}-{subclass}\")\n",
    "\n",
    "            if not os.path.isdir(dst_dir):\n",
    "                os.mkdir(dst_dir)\n",
    "\n",
    "            for key, file in enumerate(os.listdir(os.path.join(sub_dir_path, subclass))):\n",
    "                src = os.path.join(sub_dir_path, subclass, file)\n",
    "                dst = os.path.join(dst_dir, file)\n",
    "                shutil.copyfile(src, dst)\n",
    "\n",
    "                print(f'{key + 1}/{len(os.listdir(os.path.join(sub_dir_path, subclass)))}', end='\\r')\n",
    "\n",
    "            print(f'{os.path.join(train_dir,dir, subclass)}-->{dst_dir}')"
   ],
   "metadata": {
    "execution": {
     "iopub.status.busy": "2022-03-24T16:01:18.857654Z",
     "iopub.execute_input": "2022-03-24T16:01:18.857881Z",
     "iopub.status.idle": "2022-03-24T16:05:53.307662Z",
     "shell.execute_reply.started": "2022-03-24T16:01:18.857849Z",
     "shell.execute_reply": "2022-03-24T16:05:53.306937Z"
    },
    "trusted": true
   },
   "execution_count": null,
   "outputs": []
  },
  {
   "cell_type": "code",
   "source": [
    "loacl_train_dir = 'train'"
   ],
   "metadata": {
    "execution": {
     "iopub.status.busy": "2022-03-24T16:05:53.308924Z",
     "iopub.execute_input": "2022-03-24T16:05:53.309181Z",
     "iopub.status.idle": "2022-03-24T16:05:53.315051Z",
     "shell.execute_reply.started": "2022-03-24T16:05:53.309146Z",
     "shell.execute_reply": "2022-03-24T16:05:53.314183Z"
    },
    "trusted": true
   },
   "execution_count": null,
   "outputs": []
  },
  {
   "cell_type": "code",
   "source": [
    "dp_ = {}\n",
    "sizes = []\n",
    "\n",
    "for top in os.listdir(loacl_train_dir):\n",
    "    path = os.path.join(loacl_train_dir, top)\n",
    "    dp_[top] = len(os.listdir(path))\n",
    "    sizes.append(len(os.listdir(path)))\n",
    "\n",
    "pprint.pprint(dp_)"
   ],
   "metadata": {
    "execution": {
     "iopub.status.busy": "2022-03-24T16:05:53.318285Z",
     "iopub.execute_input": "2022-03-24T16:05:53.318688Z",
     "iopub.status.idle": "2022-03-24T16:05:53.382147Z",
     "shell.execute_reply.started": "2022-03-24T16:05:53.318649Z",
     "shell.execute_reply": "2022-03-24T16:05:53.38152Z"
    },
    "trusted": true
   },
   "execution_count": null,
   "outputs": []
  },
  {
   "cell_type": "code",
   "source": [
    "for top in os.listdir(loacl_train_dir):\n",
    "    path = os.path.join(loacl_train_dir, top)\n",
    "    \n",
    "    if len(os.listdir(path)) == 0:\n",
    "        print(f'{path} -- removed')\n",
    "        os.rmdir(path)"
   ],
   "metadata": {
    "execution": {
     "iopub.status.busy": "2022-03-24T16:05:53.38311Z",
     "iopub.execute_input": "2022-03-24T16:05:53.383426Z",
     "iopub.status.idle": "2022-03-24T16:05:53.412575Z",
     "shell.execute_reply.started": "2022-03-24T16:05:53.38339Z",
     "shell.execute_reply": "2022-03-24T16:05:53.411996Z"
    },
    "trusted": true
   },
   "execution_count": null,
   "outputs": []
  },
  {
   "cell_type": "code",
   "source": [
    "def change_contrast(image, lower, upper, copies=1):\n",
    "    copies = [tf.image.random_contrast(image, lower=lower, upper=upper) for _ in range(copies)]\n",
    "    return copies\n",
    "\n",
    "\n",
    "def change_brightness(image, delta, copies=1):\n",
    "    copies = [tf.image.random_brightness(image, max_delta=delta) for _ in range(copies)]\n",
    "    return copies\n",
    "\n",
    "\n",
    "def change_hue(image, delta, copies=1):\n",
    "    copies = [tf.image.random_hue(image, max_delta=delta) for _ in range(copies)]\n",
    "    return copies\n",
    "\n",
    "\n",
    "def gamma_transformation(image, gamma=0.3, copies=1):\n",
    "    low = 1 - gamma\n",
    "    up = 1 + gamma\n",
    "    copies = [tf.image.adjust_gamma(image, gamma=np.random.uniform(low, up, 1)) for _ in range(copies)]\n",
    "    return copies\n",
    "\n",
    "def load_img_to_array(path):\n",
    "    return img_to_array(load_img(path))\n",
    "\n",
    "\n",
    "def resize(image, size):\n",
    "    return tf.image.resize(image, size)\n",
    "\n",
    "\n",
    "def bounding_boxes(offsets, dim):\n",
    "    boxes = []\n",
    "\n",
    "    for i in offsets:\n",
    "        offset_height, offset_width = i\n",
    "        target_height, target_width = dim\n",
    "        boxes.append([offset_height, offset_width, target_height, target_width])\n",
    "\n",
    "    return boxes\n",
    "\n",
    "\n",
    "def random_sectioning(image, offsets, dims):\n",
    "    boxes = bounding_boxes(offsets, dims)\n",
    "    image_sections = []\n",
    "\n",
    "    for box in boxes:\n",
    "        if random.choice([True, False]):\n",
    "            section = tf.image.crop_to_bounding_box(image, box[0], box[1], box[2], box[3])\n",
    "            image_sections.append(section)\n",
    "\n",
    "    return image_sections\n",
    "\n",
    "\n",
    "def aggressive_cropping(image, copies, crop_window, resize_smallest_side, output_shape):\n",
    "    global img, resized_copies, crops\n",
    "\n",
    "    if isinstance(resize_smallest_side, int):\n",
    "        img = resize(image, (resize_smallest_side, resize_smallest_side))\n",
    "\n",
    "    if isinstance(resize_smallest_side, (list, tuple)):\n",
    "        resized_copies = [tf.image.resize(image, (size, size)) for size in resize_smallest_side]\n",
    "\n",
    "    if isinstance(crop_window, int):\n",
    "        if isinstance(resize_smallest_side, int):\n",
    "            crops = [tf.image.random_crop(img, crop_window) for _ in range(copies)]\n",
    "        elif isinstance(resize_smallest_side, (list, tuple)):\n",
    "            crops = [tf.image.random_crop(img_, crop_window) for _ in range(copies) for img_ in\n",
    "                     resized_copies]\n",
    "\n",
    "    elif isinstance(crop_window, (list, tuple)):\n",
    "        if isinstance(resize_smallest_side, int):\n",
    "            crops = [tf.image.random_crop(img, crop_window) for _ in range(copies)]\n",
    "        elif isinstance(resize_smallest_side, (list, tuple)):\n",
    "            crops = [tf.image.random_crop(img_, crop_window) for _ in range(copies) for img_ in resized_copies]\n",
    "\n",
    "    return [resize(crop_img, output_shape) for crop_img in crops]\n"
   ],
   "metadata": {
    "execution": {
     "iopub.status.busy": "2022-03-24T16:05:53.415357Z",
     "iopub.execute_input": "2022-03-24T16:05:53.4156Z",
     "iopub.status.idle": "2022-03-24T16:05:53.437697Z",
     "shell.execute_reply.started": "2022-03-24T16:05:53.415567Z",
     "shell.execute_reply": "2022-03-24T16:05:53.437021Z"
    },
    "trusted": true
   },
   "execution_count": null,
   "outputs": []
  },
  {
   "cell_type": "code",
   "source": [
    "dir_path = []\n",
    "\n",
    "for top in os.listdir(loacl_train_dir):\n",
    "    path = os.path.join(loacl_train_dir, top)\n",
    "    \n",
    "    if 1000 < len(os.listdir(path)) < 3000:\n",
    "        dir_path.append(path)\n",
    "\n",
    "dir_path"
   ],
   "metadata": {
    "execution": {
     "iopub.status.busy": "2022-03-24T16:05:53.438832Z",
     "iopub.execute_input": "2022-03-24T16:05:53.439563Z",
     "iopub.status.idle": "2022-03-24T16:05:53.475862Z",
     "shell.execute_reply.started": "2022-03-24T16:05:53.439526Z",
     "shell.execute_reply": "2022-03-24T16:05:53.475152Z"
    },
    "trusted": true
   },
   "execution_count": null,
   "outputs": []
  },
  {
   "cell_type": "code",
   "source": [
    "for file_dir in dir_path:\n",
    "    before = len(os.listdir(file_dir))\n",
    "    size_before = len(os.listdir(file_dir))\n",
    "    original_files = enumerate(os.listdir(file_dir))\n",
    "\n",
    "    for key_, file in original_files:\n",
    "        img_path = os.path.join(file_dir, file)\n",
    "        img = load_img(img_path)\n",
    "        height, width = img_to_array(img).shape[:2]\n",
    "        cropped = random_sectioning(img_to_array(img),\n",
    "                                    [[0, 0], [height // 2, 0], [0, width // 2], [height // 2, width // 2],\n",
    "                                     [height // 4, width // 4]],\n",
    "                                    [height // 2, width // 2])\n",
    "\n",
    "        for key, section in enumerate(cropped):\n",
    "            if len(os.listdir(file_dir)) > 5555:\n",
    "                break\n",
    "\n",
    "            else:\n",
    "                section_file_name = f\"sec-crop-{key}-{file}\"\n",
    "                dst_path = os.path.join(file_dir, section_file_name)\n",
    "                array_to_img(section).save(dst_path)\n",
    "\n",
    "        print(f'{key_ + 1}/{size_before}', end='\\r')\n",
    "\n",
    "    print(f'{file_dir} -- Done -- {before}-->{len(os.listdir(file_dir))}')"
   ],
   "metadata": {
    "execution": {
     "iopub.status.busy": "2022-03-24T16:05:53.476973Z",
     "iopub.execute_input": "2022-03-24T16:05:53.477228Z",
     "iopub.status.idle": "2022-03-24T16:08:54.168676Z",
     "shell.execute_reply.started": "2022-03-24T16:05:53.477196Z",
     "shell.execute_reply": "2022-03-24T16:08:54.167955Z"
    },
    "trusted": true
   },
   "execution_count": null,
   "outputs": []
  },
  {
   "cell_type": "code",
   "source": [
    "dir_path_small = []\n",
    "\n",
    "for top in os.listdir(loacl_train_dir):\n",
    "    path = os.path.join(loacl_train_dir, top)\n",
    "    \n",
    "    if len(os.listdir(path)) < 1000:\n",
    "        dir_path_small.append(path)\n",
    "\n",
    "dir_path_small"
   ],
   "metadata": {
    "execution": {
     "iopub.status.busy": "2022-03-24T16:08:54.169807Z",
     "iopub.execute_input": "2022-03-24T16:08:54.170055Z",
     "iopub.status.idle": "2022-03-24T16:08:54.226398Z",
     "shell.execute_reply.started": "2022-03-24T16:08:54.170018Z",
     "shell.execute_reply": "2022-03-24T16:08:54.22568Z"
    },
    "trusted": true
   },
   "execution_count": null,
   "outputs": []
  },
  {
   "cell_type": "code",
   "source": [
    "for file_dir in dir_path_small:\n",
    "    before = len(os.listdir(file_dir))\n",
    "    size_before = len(os.listdir(file_dir))\n",
    "    original_files = enumerate(os.listdir(file_dir))\n",
    "\n",
    "    for key_, file in original_files:\n",
    "        img_path = os.path.join(file_dir, file)\n",
    "        img = load_img(img_path)\n",
    "        cropped = aggressive_cropping(img_to_array(img), 2, (128, 128, 3), [256, 288, 320, 352], (128, 128))\n",
    "\n",
    "        for key, section in enumerate(cropped):\n",
    "            if len(os.listdir(file_dir)) > 5555:\n",
    "                break\n",
    "\n",
    "            else:\n",
    "                section_file_name = f\"agr-crop-{key}-{file}\"\n",
    "                dst_path = os.path.join(file_dir, section_file_name)\n",
    "                array_to_img(section).save(dst_path)\n",
    "\n",
    "        print(f'{key_ + 1}/{size_before}', end='\\r')\n",
    "\n",
    "    print(f'{file_dir} -- Done -- {before}-->{len(os.listdir(file_dir))}')"
   ],
   "metadata": {
    "execution": {
     "iopub.status.busy": "2022-03-24T16:08:54.227578Z",
     "iopub.execute_input": "2022-03-24T16:08:54.227887Z",
     "iopub.status.idle": "2022-03-24T16:17:47.461819Z",
     "shell.execute_reply.started": "2022-03-24T16:08:54.22785Z",
     "shell.execute_reply": "2022-03-24T16:17:47.461101Z"
    },
    "trusted": true
   },
   "execution_count": null,
   "outputs": []
  },
  {
   "cell_type": "code",
   "source": [
    "for tree in os.listdir(loacl_train_dir):\n",
    "    tree_path = os.path.join(loacl_train_dir, tree)\n",
    "    original_files = os.listdir(tree_path)\n",
    "\n",
    "    for key_, file in enumerate(original_files):\n",
    "        img = img_to_array(load_img(os.path.join(tree_path, file)))\n",
    "        \n",
    "        array_to_img(change_contrast(img, 0.5, 1.5)[0]).save(os.path.join(tree_path, f'con-man-{key_}-{file}'))\n",
    "        array_to_img(change_brightness(img, 0.3)[0]).save(os.path.join(tree_path, f'b-man-{key_}-{file}'))\n",
    "        array_to_img(change_hue(img, 0.5)[0]).save(os.path.join(tree_path, f'hue-man-{key_}-{file}'))\n",
    "        array_to_img(gamma_transformation(img, 0.6)[0]).save(os.path.join(tree_path, f'gamma-man-{key_}-{file}'))\n",
    "\n",
    "        print(f'{key_ + 1}/{len(original_files)}', end='\\r')\n",
    "\n",
    "    print(f'{tree_path} -- Done -- {len(original_files)}-->{len(os.listdir(tree_path))}')"
   ],
   "metadata": {
    "execution": {
     "iopub.status.busy": "2022-03-24T16:17:47.462985Z",
     "iopub.execute_input": "2022-03-24T16:17:47.463215Z",
     "iopub.status.idle": "2022-03-24T16:48:43.686131Z",
     "shell.execute_reply.started": "2022-03-24T16:17:47.46318Z",
     "shell.execute_reply": "2022-03-24T16:48:43.685443Z"
    },
    "trusted": true
   },
   "execution_count": null,
   "outputs": []
  },
  {
   "cell_type": "code",
   "source": [
    "generator = ImageDataGenerator(rescale=1/255.,\n",
    "                              validation_split=0.3)\n",
    "\n",
    "train_batch = generator.flow_from_directory(directory='train',\n",
    "                                           target_size=(224,224),\n",
    "                                           subset='training')\n",
    "\n",
    "validation_batch = generator.flow_from_directory(directory='train',\n",
    "                                           target_size=(224,224),\n",
    "                                           subset='validation')"
   ],
   "metadata": {
    "execution": {
     "iopub.status.busy": "2022-03-24T16:56:29.699646Z",
     "iopub.execute_input": "2022-03-24T16:56:29.6999Z",
     "iopub.status.idle": "2022-03-24T16:57:17.831958Z",
     "shell.execute_reply.started": "2022-03-24T16:56:29.699871Z",
     "shell.execute_reply": "2022-03-24T16:57:17.831245Z"
    },
    "trusted": true
   },
   "execution_count": null,
   "outputs": []
  },
  {
   "cell_type": "code",
   "source": [
    "optimizer = SGD(learning_rate=1e-2, momentum=9e-1)\n",
    "weight_decay = 5e-4\n",
    "classes = 39\n",
    "\n",
    "\n",
    "def vgg_net16(input_shape=(224, 224, 3), classes=None):\n",
    "    # input layer\n",
    "    input_layer = Input(shape=input_shape, name='input_')\n",
    "\n",
    "    # first conv block\n",
    "    x = Conv2D(filters=64, kernel_size=(3, 3), strides=(1, 1), kernel_regularizer=l2(weight_decay), padding='same',\n",
    "               activation=relu)(input_layer)\n",
    "    x = Conv2D(filters=64, kernel_size=(3, 3), strides=(1, 1), kernel_regularizer=l2(weight_decay), padding='same',\n",
    "               activation=relu)(x)\n",
    "    x = MaxPooling2D(pool_size=(2, 2), strides=(2, 2), padding='valid')(x)\n",
    "\n",
    "    # second conv block\n",
    "    x = Conv2D(filters=128, kernel_size=(3, 3), strides=(1, 1), kernel_regularizer=l2(weight_decay), padding='same',\n",
    "               activation=relu)(x)\n",
    "    x = Conv2D(filters=128, kernel_size=(3, 3), strides=(1, 1), kernel_regularizer=l2(weight_decay), padding='same',\n",
    "               activation=relu)(x)\n",
    "    x = MaxPooling2D(pool_size=(2, 2), strides=(2, 2), padding='valid')(x)\n",
    "\n",
    "    # third conv block\n",
    "    x = Conv2D(filters=256, kernel_size=(3, 3), strides=(1, 1), kernel_regularizer=l2(weight_decay), padding='same',\n",
    "               activation=relu)(x)\n",
    "    x = Conv2D(filters=256, kernel_size=(3, 3), strides=(1, 1), kernel_regularizer=l2(weight_decay), padding='same',\n",
    "               activation=relu)(x)\n",
    "    x = Conv2D(filters=256, kernel_size=(1, 1), strides=(1, 1), kernel_regularizer=l2(weight_decay), padding='same',\n",
    "               activation=relu)(x)\n",
    "    x = MaxPooling2D(pool_size=(2, 2), strides=(2, 2), padding='valid')(x)\n",
    "\n",
    "    # fourth conv block\n",
    "    x = Conv2D(filters=512, kernel_size=(3, 3), strides=(1, 1), kernel_regularizer=l2(weight_decay), padding='same',\n",
    "               activation=relu)(x)\n",
    "    x = Conv2D(filters=512, kernel_size=(3, 3), strides=(1, 1), kernel_regularizer=l2(weight_decay), padding='same',\n",
    "               activation=relu)(x)\n",
    "    x = Conv2D(filters=512, kernel_size=(1, 1), strides=(1, 1), kernel_regularizer=l2(weight_decay), padding='same',\n",
    "               activation=relu)(x)\n",
    "    x = MaxPooling2D(pool_size=(2, 2), strides=(2, 2), padding='valid')(x)\n",
    "\n",
    "    # fifth conv block\n",
    "    x = Conv2D(filters=512, kernel_size=(3, 3), strides=(1, 1), kernel_regularizer=l2(weight_decay), padding='same',\n",
    "               activation=relu)(x)\n",
    "    x = Conv2D(filters=512, kernel_size=(3, 3), strides=(1, 1), kernel_regularizer=l2(weight_decay), padding='same',\n",
    "               activation=relu)(x)\n",
    "    x = Conv2D(filters=512, kernel_size=(1, 1), strides=(1, 1), kernel_regularizer=l2(weight_decay), padding='same',\n",
    "               activation=relu)(x)\n",
    "    x = MaxPooling2D(pool_size=(2, 2), strides=(2, 2), padding='valid')(x)\n",
    "\n",
    "    # classifier\n",
    "    x = Flatten()(x)\n",
    "    x = Dense(units=512, activation=relu)(x)\n",
    "    x = Dropout(rate=0.5)(x)\n",
    "    x = Dense(units=512, activation=relu)(x)\n",
    "    x = Dropout(rate=0.5)(x)\n",
    "    x = Dense(units=classes, activation=softmax)(x)\n",
    "\n",
    "    model = Model(input_layer, x)\n",
    "    model.compile(optimizer=optimizer, loss=categorical_crossentropy, metrics=['accuracy'])\n",
    "    model.summary()\n",
    "\n",
    "    return model"
   ],
   "metadata": {
    "execution": {
     "iopub.status.busy": "2022-03-24T16:55:45.244539Z",
     "iopub.execute_input": "2022-03-24T16:55:45.244858Z",
     "iopub.status.idle": "2022-03-24T16:55:45.293079Z",
     "shell.execute_reply.started": "2022-03-24T16:55:45.244822Z",
     "shell.execute_reply": "2022-03-24T16:55:45.292332Z"
    },
    "trusted": true
   },
   "execution_count": null,
   "outputs": []
  },
  {
   "cell_type": "code",
   "source": [
    "vgg_net = vgg_net16(input_shape=(224, 224, 3), classes=classes)"
   ],
   "metadata": {
    "execution": {
     "iopub.status.busy": "2022-03-24T16:57:40.190942Z",
     "iopub.execute_input": "2022-03-24T16:57:40.19121Z",
     "iopub.status.idle": "2022-03-24T16:57:40.341892Z",
     "shell.execute_reply.started": "2022-03-24T16:57:40.19118Z",
     "shell.execute_reply": "2022-03-24T16:57:40.340445Z"
    },
    "trusted": true
   },
   "execution_count": null,
   "outputs": []
  },
  {
   "cell_type": "code",
   "source": [
    "reduce_lr = ReduceLROnPlateau(monitor='val_loss', factor=1e-1, patience=12)\n",
    "early_stop = EarlyStopping(monitor='val_loss', patience=8)"
   ],
   "metadata": {
    "execution": {
     "iopub.status.busy": "2022-03-24T16:57:46.811639Z",
     "iopub.execute_input": "2022-03-24T16:57:46.812161Z",
     "iopub.status.idle": "2022-03-24T16:57:46.816368Z",
     "shell.execute_reply.started": "2022-03-24T16:57:46.812123Z",
     "shell.execute_reply": "2022-03-24T16:57:46.815604Z"
    },
    "trusted": true
   },
   "execution_count": null,
   "outputs": []
  },
  {
   "cell_type": "code",
   "source": "vgg_net_history = vgg_net.fit(x=train_batch,\n                              epochs=100,\n                              steps_per_epoch=6000,\n                              validation_steps=2000,\n                              validation_data=validation_batch,\n                              callbacks=[reduce_lr, early_stop])",
   "metadata": {
    "execution": {
     "iopub.status.busy": "2022-03-24T17:03:25.341794Z",
     "iopub.execute_input": "2022-03-24T17:03:25.342048Z"
    },
    "trusted": true
   },
   "execution_count": null,
   "outputs": []
  }
 ]
}
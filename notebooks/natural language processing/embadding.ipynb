{
 "cells": [
  {
   "cell_type": "code",
   "execution_count": 41,
   "metadata": {
    "collapsed": true,
    "pycharm": {
     "name": "#%%\n"
    }
   },
   "outputs": [],
   "source": [
    "import string\n",
    "import pandas as pd\n",
    "import numpy as np\n",
    "\n",
    "from bs4 import BeautifulSoup\n",
    "from matplotlib import pyplot as plt\n",
    "from tensorflow.keras.preprocessing.text import Tokenizer\n",
    "from tensorflow.keras.preprocessing.sequence import pad_sequences\n",
    "from tensorflow.keras.models import Sequential\n",
    "from tensorflow.keras.layers import Embedding, GlobalMaxPool1D, Dense"
   ]
  },
  {
   "cell_type": "code",
   "execution_count": 19,
   "outputs": [],
   "source": [
    "stopwords = [\"a\", \"about\", \"above\", \"after\", \"again\", \"against\", \"all\", \"am\", \"an\", \"and\",\n",
    "             \"any\", \"are\", \"as\", \"at\", \"be\", \"because\", \"been\", \"before\", \"being\", \"below\", \"between\", \"both\", \"but\",\n",
    "             \"by\", \"could\", \"did\", \"do\", \"does\", \"doing\", \"down\", \"during\", \"each\", \"few\", \"for\", \"from\", \"further\",\n",
    "             \"had\", \"has\", \"have\", \"having\",\n",
    "             \"he\", \"hed\", \"hes\", \"her\", \"here\", \"heres\", \"hers\", \"herself\", \"him\", \"himself\", \"his\", \"how\", \"hows\", \"i\",\n",
    "             \"id\", \"ill\", \"im\", \"ive\", \"if\", \"in\", \"into\", \"is\", \"it\", \"its\", \"itself\", \"lets\", \"me\", \"more\", \"most\",\n",
    "             \"my\", \"myself\", \"nor\", \"of\", \"on\", \"once\", \"only\", \"or\", \"other\", \"ought\", \"our\", \"ours\", \"ourselves\",\n",
    "             \"out\", \"over\", \"own\", \"same\", \"she\", \"shed\", \"shell\", \"shes\", \"should\", \"so\", \"some\", \"such\", \"than\",\n",
    "             \"that\", \"thats\", \"the\", \"their\", \"theirs\", \"them\", \"themselves\", \"then\", \"there\", \"theres\", \"these\",\n",
    "             \"they\", \"theyd\", \"theyll\", \"theyre\", \"theyve\", \"this\", \"those\", \"through\", \"to\", \"too\", \"under\", \"until\",\n",
    "             \"up\", \"very\", \"was\", \"we\", \"wed\", \"well\", \"were\", \"weve\", \"were\", \"what\",\n",
    "             \"whats\", \"when\", \"whens\", \"where\", \"wheres\", \"which\", \"while\", \"who\", \"whos\", \"whom\", \"why\", \"whys\",\n",
    "             \"with\", \"would\", \"you\", \"youd\", \"youll\", \"youre\", \"youve\", \"your\", \"yours\", \"yourself\", \"yourselves\"]\n",
    "\n",
    "table = str.maketrans('', '', string.punctuation)"
   ],
   "metadata": {
    "collapsed": false,
    "pycharm": {
     "name": "#%%\n"
    }
   }
  },
  {
   "cell_type": "code",
   "execution_count": 13,
   "outputs": [
    {
     "data": {
      "text/plain": "                                            article_link  \\\n0      https://www.huffingtonpost.com/entry/versace-b...   \n1      https://www.huffingtonpost.com/entry/roseanne-...   \n2      https://local.theonion.com/mom-starting-to-fea...   \n3      https://politics.theonion.com/boehner-just-wan...   \n4      https://www.huffingtonpost.com/entry/jk-rowlin...   \n...                                                  ...   \n26704  https://www.huffingtonpost.com/entry/american-...   \n26705  https://www.huffingtonpost.com/entry/americas-...   \n26706  https://www.huffingtonpost.com/entry/reparatio...   \n26707  https://www.huffingtonpost.com/entry/israeli-b...   \n26708  https://www.huffingtonpost.com/entry/gourmet-g...   \n\n                                                headline  is_sarcastic  \n0      former versace store clerk sues over secret 'b...             0  \n1      the 'roseanne' revival catches up to our thorn...             0  \n2      mom starting to fear son's web series closest ...             1  \n3      boehner just wants wife to listen, not come up...             1  \n4      j.k. rowling wishes snape happy birthday in th...             0  \n...                                                  ...           ...  \n26704               american politics in moral free-fall             0  \n26705                            america's best 20 hikes             0  \n26706                              reparations and obama             0  \n26707  israeli ban targeting boycott supporters raise...             0  \n26708                  gourmet gifts for the foodie 2014             0  \n\n[26709 rows x 3 columns]",
      "text/html": "<div>\n<style scoped>\n    .dataframe tbody tr th:only-of-type {\n        vertical-align: middle;\n    }\n\n    .dataframe tbody tr th {\n        vertical-align: top;\n    }\n\n    .dataframe thead th {\n        text-align: right;\n    }\n</style>\n<table border=\"1\" class=\"dataframe\">\n  <thead>\n    <tr style=\"text-align: right;\">\n      <th></th>\n      <th>article_link</th>\n      <th>headline</th>\n      <th>is_sarcastic</th>\n    </tr>\n  </thead>\n  <tbody>\n    <tr>\n      <th>0</th>\n      <td>https://www.huffingtonpost.com/entry/versace-b...</td>\n      <td>former versace store clerk sues over secret 'b...</td>\n      <td>0</td>\n    </tr>\n    <tr>\n      <th>1</th>\n      <td>https://www.huffingtonpost.com/entry/roseanne-...</td>\n      <td>the 'roseanne' revival catches up to our thorn...</td>\n      <td>0</td>\n    </tr>\n    <tr>\n      <th>2</th>\n      <td>https://local.theonion.com/mom-starting-to-fea...</td>\n      <td>mom starting to fear son's web series closest ...</td>\n      <td>1</td>\n    </tr>\n    <tr>\n      <th>3</th>\n      <td>https://politics.theonion.com/boehner-just-wan...</td>\n      <td>boehner just wants wife to listen, not come up...</td>\n      <td>1</td>\n    </tr>\n    <tr>\n      <th>4</th>\n      <td>https://www.huffingtonpost.com/entry/jk-rowlin...</td>\n      <td>j.k. rowling wishes snape happy birthday in th...</td>\n      <td>0</td>\n    </tr>\n    <tr>\n      <th>...</th>\n      <td>...</td>\n      <td>...</td>\n      <td>...</td>\n    </tr>\n    <tr>\n      <th>26704</th>\n      <td>https://www.huffingtonpost.com/entry/american-...</td>\n      <td>american politics in moral free-fall</td>\n      <td>0</td>\n    </tr>\n    <tr>\n      <th>26705</th>\n      <td>https://www.huffingtonpost.com/entry/americas-...</td>\n      <td>america's best 20 hikes</td>\n      <td>0</td>\n    </tr>\n    <tr>\n      <th>26706</th>\n      <td>https://www.huffingtonpost.com/entry/reparatio...</td>\n      <td>reparations and obama</td>\n      <td>0</td>\n    </tr>\n    <tr>\n      <th>26707</th>\n      <td>https://www.huffingtonpost.com/entry/israeli-b...</td>\n      <td>israeli ban targeting boycott supporters raise...</td>\n      <td>0</td>\n    </tr>\n    <tr>\n      <th>26708</th>\n      <td>https://www.huffingtonpost.com/entry/gourmet-g...</td>\n      <td>gourmet gifts for the foodie 2014</td>\n      <td>0</td>\n    </tr>\n  </tbody>\n</table>\n<p>26709 rows × 3 columns</p>\n</div>"
     },
     "execution_count": 13,
     "metadata": {},
     "output_type": "execute_result"
    }
   ],
   "source": [
    "datastore = pd.read_json('../../data/scarsam/Sarcasm_Headlines_Dataset.json', lines=True)\n",
    "datastore"
   ],
   "metadata": {
    "collapsed": false,
    "pycharm": {
     "name": "#%%\n"
    }
   }
  },
  {
   "cell_type": "code",
   "execution_count": 24,
   "outputs": [],
   "source": [
    "sentences = []\n",
    "labels = []\n",
    "\n",
    "for i in range(len(datastore)):\n",
    "    sentence = datastore.loc[i, 'headline'].lower()\n",
    "    sentence = sentence.replace(',', ' , ')\n",
    "    sentence = sentence.replace('.', ' . ')\n",
    "    sentence = sentence.replace('-', ' - ')\n",
    "    sentence = sentence.replace('/', ' / ')\n",
    "\n",
    "    soup = BeautifulSoup(sentence)\n",
    "    sentence = soup.get_text()\n",
    "    words = sentence.split()\n",
    "    filtered_sentence = ''\n",
    "\n",
    "    for word in words:\n",
    "        word = word.translate(table)\n",
    "\n",
    "        if word not in stopwords:\n",
    "            filtered_sentence = filtered_sentence + word + ' '\n",
    "\n",
    "    sentences.append(filtered_sentence)\n",
    "    labels.append(datastore.loc[i, 'is_sarcastic'])"
   ],
   "metadata": {
    "collapsed": false,
    "pycharm": {
     "name": "#%%\n"
    }
   }
  },
  {
   "cell_type": "code",
   "execution_count": 34,
   "outputs": [],
   "source": [
    "training_size = 23000\n",
    "vocab_size = 20000\n",
    "vocab_length = 10\n",
    "max_length = 100\n",
    "trunc_type = 'post'\n",
    "padding_type = 'post'\n",
    "oov_tok = '<oov>'\n",
    "\n",
    "training_sentences = sentences[:training_size]\n",
    "testing_sentences = sentences[training_size:]\n",
    "training_labels = labels[:training_size]\n",
    "testing_labels = labels[training_size:]"
   ],
   "metadata": {
    "collapsed": false,
    "pycharm": {
     "name": "#%%\n"
    }
   }
  },
  {
   "cell_type": "code",
   "execution_count": 35,
   "outputs": [
    {
     "data": {
      "text/plain": "{'<oov>': 1,\n 'new': 2,\n 'trump': 3,\n 'man': 4,\n 'not': 5,\n 'just': 6,\n 'will': 7,\n 'one': 8,\n 'year': 9,\n 'report': 10,\n 'area': 11,\n 'donald': 12,\n 'day': 13,\n 'u': 14,\n 's': 15,\n 'can': 16,\n 'says': 17,\n 'woman': 18,\n 'first': 19,\n 'time': 20,\n 'like': 21,\n 'no': 22,\n 'get': 23,\n 'old': 24,\n 'trumps': 25,\n 'off': 26,\n 'now': 27,\n 'life': 28,\n 'obama': 29,\n 'people': 30,\n 'house': 31,\n 'women': 32,\n 'white': 33,\n 'back': 34,\n 'still': 35,\n 'make': 36,\n 'clinton': 37,\n '5': 38,\n 'world': 39,\n 'americans': 40,\n 'years': 41,\n 'way': 42,\n 'family': 43,\n 'black': 44,\n 'study': 45,\n 'gop': 46,\n 'best': 47,\n 'bill': 48,\n 'american': 49,\n 'school': 50,\n 'police': 51,\n 'watch': 52,\n '3': 53,\n 'show': 54,\n 'really': 55,\n 'president': 56,\n 'home': 57,\n 'last': 58,\n 'video': 59,\n 'finds': 60,\n 'death': 61,\n 'cant': 62,\n 'know': 63,\n '10': 64,\n 'things': 65,\n 'good': 66,\n 'going': 67,\n 'state': 68,\n 'hillary': 69,\n 'love': 70,\n 'nation': 71,\n 'may': 72,\n '2': 73,\n 'health': 74,\n 'say': 75,\n 'parents': 76,\n 'big': 77,\n 'every': 78,\n 'right': 79,\n 'work': 80,\n '000': 81,\n 'need': 82,\n 'dead': 83,\n 'kids': 84,\n 'take': 85,\n 'gets': 86,\n 'mom': 87,\n 'campaign': 88,\n 'party': 89,\n 'little': 90,\n 'getting': 91,\n 'high': 92,\n 'america': 93,\n 'news': 94,\n 'john': 95,\n 'court': 96,\n 'real': 97,\n 'self': 98,\n 'makes': 99,\n 'dont': 100,\n 'gay': 101,\n 'child': 102,\n 'takes': 103,\n 'election': 104,\n 'go': 105,\n 'never': 106,\n 'calls': 107,\n 'see': 108,\n '7': 109,\n 'doesnt': 110,\n 'change': 111,\n '4': 112,\n 'war': 113,\n 'want': 114,\n 'local': 115,\n 'star': 116,\n 'nations': 117,\n 'next': 118,\n 'guy': 119,\n '6': 120,\n 'college': 121,\n 'stop': 122,\n 'game': 123,\n 'bush': 124,\n 'look': 125,\n 'sex': 126,\n 'baby': 127,\n 'even': 128,\n 'around': 129,\n 'plan': 130,\n 'got': 131,\n 'office': 132,\n 'another': 133,\n '1': 134,\n 'dog': 135,\n 'thing': 136,\n 'ever': 137,\n 'gun': 138,\n 'million': 139,\n 'live': 140,\n 'two': 141,\n 'made': 142,\n 'actually': 143,\n 'job': 144,\n 'week': 145,\n 'wants': 146,\n 'dad': 147,\n 'us': 148,\n 'congress': 149,\n 'students': 150,\n 'help': 151,\n 'night': 152,\n 'care': 153,\n 'long': 154,\n 'mans': 155,\n 'north': 156,\n 'friends': 157,\n 'debate': 158,\n 'national': 159,\n 'season': 160,\n 'finally': 161,\n 'free': 162,\n 'couple': 163,\n 'much': 164,\n 'wont': 165,\n '20': 166,\n 'ways': 167,\n 'climate': 168,\n 'anti': 169,\n 'sexual': 170,\n 'give': 171,\n 'god': 172,\n 'city': 173,\n '9': 174,\n 'top': 175,\n 'without': 176,\n 'shows': 177,\n '8': 178,\n 'away': 179,\n 'story': 180,\n 'making': 181,\n 'history': 182,\n 'teen': 183,\n 'bad': 184,\n 'shooting': 185,\n 'men': 186,\n 'reveals': 187,\n 'trying': 188,\n 'children': 189,\n 'face': 190,\n 'money': 191,\n 'paul': 192,\n 'media': 193,\n 'end': 194,\n 'better': 195,\n 'senate': 196,\n 'food': 197,\n 'tv': 198,\n 'everyone': 199,\n 'law': 200,\n 'facebook': 201,\n 'tell': 202,\n 'entire': 203,\n 'movie': 204,\n 'supreme': 205,\n 'fight': 206,\n 'attack': 207,\n 'business': 208,\n 'announces': 209,\n 'girl': 210,\n 'found': 211,\n 'part': 212,\n 'republican': 213,\n 'government': 214,\n 'single': 215,\n 'film': 216,\n 'deal': 217,\n 'enough': 218,\n 'fire': 219,\n 'body': 220,\n 'son': 221,\n 'car': 222,\n 'think': 223,\n 'come': 224,\n 'york': 225,\n 'introduces': 226,\n 'wedding': 227,\n 'great': 228,\n 'pope': 229,\n 'talk': 230,\n 'former': 231,\n 'friend': 232,\n '11': 233,\n 'second': 234,\n 'book': 235,\n 'power': 236,\n 'find': 237,\n 'looking': 238,\n 'must': 239,\n 'james': 240,\n 'sanders': 241,\n 'pretty': 242,\n 'morning': 243,\n 'rights': 244,\n 'christmas': 245,\n 'thinks': 246,\n 'coming': 247,\n 'run': 248,\n 'middle': 249,\n 'call': 250,\n 'didnt': 251,\n 'used': 252,\n 'public': 253,\n 'future': 254,\n 'already': 255,\n 'speech': 256,\n 'republicans': 257,\n 'line': 258,\n 'marriage': 259,\n 'race': 260,\n 'support': 261,\n 'photos': 262,\n 'violence': 263,\n 'presidential': 264,\n 'keep': 265,\n 'democrats': 266,\n 'email': 267,\n 'name': 268,\n 'behind': 269,\n 'tax': 270,\n 'fans': 271,\n 'full': 272,\n 'vote': 273,\n '2016': 274,\n 'use': 275,\n 'girls': 276,\n 'worlds': 277,\n 'asks': 278,\n 'control': 279,\n '12': 280,\n 'security': 281,\n 'department': 282,\n 'secret': 283,\n 'company': 284,\n 'voters': 285,\n 'room': 286,\n 'open': 287,\n 'case': 288,\n 'team': 289,\n 'goes': 290,\n 'group': 291,\n 'win': 292,\n 'twitter': 293,\n 'poll': 294,\n 'times': 295,\n 'human': 296,\n 'missing': 297,\n 'days': 298,\n 'states': 299,\n 'releases': 300,\n 'killed': 301,\n 'person': 302,\n 'claims': 303,\n 'teacher': 304,\n 'perfect': 305,\n 'boy': 306,\n 'judge': 307,\n 'something': 308,\n 'student': 309,\n 'inside': 310,\n 'ban': 311,\n 'might': 312,\n 'ad': 313,\n 'political': 314,\n 'wife': 315,\n 'post': 316,\n 'forced': 317,\n 'sure': 318,\n 'texas': 319,\n 'shot': 320,\n 'record': 321,\n 'mother': 322,\n 'reports': 323,\n 'living': 324,\n 'ryan': 325,\n 'everything': 326,\n 'super': 327,\n 'save': 328,\n 'always': 329,\n 'female': 330,\n 'obamacare': 331,\n 'month': 332,\n 'photo': 333,\n 'minutes': 334,\n 'art': 335,\n 'country': 336,\n 'working': 337,\n 'summer': 338,\n 'music': 339,\n 'lives': 340,\n 'scientists': 341,\n 'bernie': 342,\n 'put': 343,\n 'three': 344,\n 'meet': 345,\n 'plans': 346,\n 'many': 347,\n 'let': 348,\n 'red': 349,\n 'kim': 350,\n 'start': 351,\n 'talks': 352,\n 'hot': 353,\n 'running': 354,\n 'wall': 355,\n 'drug': 356,\n 'unveils': 357,\n 'father': 358,\n 'left': 359,\n 'warns': 360,\n 'heart': 361,\n 'korea': 362,\n 'lost': 363,\n 'pay': 364,\n 'ready': 365,\n 'breaking': 366,\n 'comes': 367,\n 'california': 368,\n 'gives': 369,\n 'water': 370,\n 'cancer': 371,\n 'place': 372,\n 'set': 373,\n 'looks': 374,\n '15': 375,\n 'mike': 376,\n 'russia': 377,\n 'word': 378,\n 'needs': 379,\n 'eating': 380,\n 'list': 381,\n 'head': 382,\n 'dies': 383,\n 'fucking': 384,\n 'secretary': 385,\n 'employee': 386,\n 'town': 387,\n 'candidate': 388,\n 'south': 389,\n 'biden': 390,\n 'rock': 391,\n 'cruz': 392,\n 'thought': 393,\n 'michael': 394,\n 'fan': 395,\n 'letter': 396,\n 'yet': 397,\n 'education': 398,\n 'social': 399,\n 'probably': 400,\n 'thousands': 401,\n 'taking': 402,\n 'hard': 403,\n 'air': 404,\n 'tells': 405,\n 'justice': 406,\n '50': 407,\n 'isis': 408,\n 'admits': 409,\n 'wrong': 410,\n 'service': 411,\n 'believe': 412,\n 'street': 413,\n 'wins': 414,\n 'dream': 415,\n 'class': 416,\n 'past': 417,\n 'stars': 418,\n 'age': 419,\n 'crisis': 420,\n 'romney': 421,\n 'owner': 422,\n 'nothing': 423,\n 'moms': 424,\n 'director': 425,\n 'leaves': 426,\n 'military': 427,\n 'assault': 428,\n 'george': 429,\n 'hollywood': 430,\n 'beautiful': 431,\n 'officials': 432,\n 'young': 433,\n '30': 434,\n 'king': 435,\n 'idea': 436,\n 'muslim': 437,\n 'earth': 438,\n 'congressman': 439,\n 'percent': 440,\n 'kill': 441,\n 'tips': 442,\n 'administration': 443,\n 'together': 444,\n 'fbi': 445,\n 'half': 446,\n 'latest': 447,\n 'nuclear': 448,\n 'questions': 449,\n 'move': 450,\n 'lot': 451,\n 'abortion': 452,\n 'guide': 453,\n 'restaurant': 454,\n 'small': 455,\n 'today': 456,\n 'chris': 457,\n 'birthday': 458,\n 'ex': 459,\n 'phone': 460,\n 'obamas': 461,\n 'march': 462,\n 'florida': 463,\n 'internet': 464,\n 'personal': 465,\n 'rules': 466,\n 'someone': 467,\n 'ceo': 468,\n 'late': 469,\n 'womens': 470,\n 'shit': 471,\n 'ask': 472,\n 'wearing': 473,\n 'washington': 474,\n 'excited': 475,\n 'tweets': 476,\n 'talking': 477,\n 'ice': 478,\n 'sleep': 479,\n 'federal': 480,\n 'daughter': 481,\n 'fox': 482,\n 'problem': 483,\n 'community': 484,\n 'special': 485,\n 'moment': 486,\n 'cover': 487,\n 'third': 488,\n 'isnt': 489,\n 'less': 490,\n 'feel': 491,\n 'giving': 492,\n 'outside': 493,\n 'celebrates': 494,\n 'system': 495,\n 'china': 496,\n 'order': 497,\n 'knows': 498,\n 'iran': 499,\n 'majority': 500,\n 'series': 501,\n 'ted': 502,\n 'bar': 503,\n 'straight': 504,\n 'box': 505,\n 'victims': 506,\n 'hours': 507,\n '2015': 508,\n 'leave': 509,\n 'using': 510,\n 'mark': 511,\n 'message': 512,\n 'buy': 513,\n 'trip': 514,\n 'birth': 515,\n 'meeting': 516,\n 'watching': 517,\n 'online': 518,\n 'cat': 519,\n 'holiday': 520,\n 'hour': 521,\n 'chief': 522,\n 'americas': 523,\n 'francis': 524,\n 'told': 525,\n 'different': 526,\n 'fun': 527,\n 'al': 528,\n 'minute': 529,\n 'mothers': 530,\n 'issues': 531,\n 'kid': 532,\n 'hell': 533,\n 'response': 534,\n 'reasons': 535,\n 'months': 536,\n 'happy': 537,\n 'play': 538,\n 'union': 539,\n 'travel': 540,\n 'interview': 541,\n 'huffpost': 542,\n 'rise': 543,\n 'read': 544,\n 'weekend': 545,\n 'reason': 546,\n 'gift': 547,\n 'sports': 548,\n 'lessons': 549,\n 'following': 550,\n 'democratic': 551,\n 'thinking': 552,\n 'favorite': 553,\n 'anything': 554,\n 'tom': 555,\n 'adorable': 556,\n 'politics': 557,\n 'russian': 558,\n 'leaders': 559,\n 'break': 560,\n 'hair': 561,\n 'scott': 562,\n 'un': 563,\n 'david': 564,\n 'workers': 565,\n 'point': 566,\n 'kind': 567,\n 'schools': 568,\n 'date': 569,\n 'career': 570,\n 'true': 571,\n 'relationship': 572,\n 'stephen': 573,\n 'protest': 574,\n 'die': 575,\n 'prison': 576,\n '100': 577,\n 'hope': 578,\n 'least': 579,\n 'c': 580,\n 'offers': 581,\n 'hate': 582,\n 'senator': 583,\n 'billion': 584,\n 'become': 585,\n 'non': 586,\n 'candidates': 587,\n 'joe': 588,\n 'attacks': 589,\n 'syrian': 590,\n 'fashion': 591,\n 'cops': 592,\n 'd': 593,\n 'reality': 594,\n 'trailer': 595,\n 'mass': 596,\n 'since': 597,\n 'employees': 598,\n 'hit': 599,\n 'stage': 600,\n 'cop': 601,\n 'immigration': 602,\n 'jimmy': 603,\n 'stand': 604,\n 'visit': 605,\n '40': 606,\n 'powerful': 607,\n 'accused': 608,\n 'bus': 609,\n 'crash': 610,\n 'taylor': 611,\n 'front': 612,\n 'global': 613,\n 'weird': 614,\n 'song': 615,\n 'opens': 616,\n 'girlfriend': 617,\n 'conversation': 618,\n 'called': 619,\n 'millions': 620,\n 'syria': 621,\n 'voice': 622,\n 'bring': 623,\n 'transgender': 624,\n 'act': 625,\n 'dating': 626,\n 'key': 627,\n 'chinese': 628,\n 'lgbt': 629,\n 'policy': 630,\n 'signs': 631,\n 'spends': 632,\n 'seen': 633,\n 'pence': 634,\n 'suicide': 635,\n 'dinner': 636,\n 'store': 637,\n 't': 638,\n 'wars': 639,\n 'queer': 640,\n 'force': 641,\n 'worried': 642,\n 'members': 643,\n 'surprise': 644,\n 'hands': 645,\n 'kills': 646,\n 'low': 647,\n 'leader': 648,\n 'lead': 649,\n 'whole': 650,\n 'feels': 651,\n 'far': 652,\n 'return': 653,\n 'teens': 654,\n 'learned': 655,\n 'cut': 656,\n 'returns': 657,\n 'totally': 658,\n 'reportedly': 659,\n 'artist': 660,\n 'hits': 661,\n 'killing': 662,\n 'massive': 663,\n 'light': 664,\n 'check': 665,\n 'fighting': 666,\n 'drunk': 667,\n 'paris': 668,\n 'number': 669,\n 'discover': 670,\n 'names': 671,\n 'oscar': 672,\n 'turns': 673,\n 'five': 674,\n 'waiting': 675,\n 'murder': 676,\n 'host': 677,\n 'prince': 678,\n 'trans': 679,\n '2017': 680,\n 'oil': 681,\n 'sick': 682,\n 'awards': 683,\n 'adds': 684,\n 'turn': 685,\n 'breaks': 686,\n 'road': 687,\n 'united': 688,\n 'struggling': 689,\n 'brings': 690,\n 'planned': 691,\n 'fall': 692,\n 'kardashian': 693,\n 'anniversary': 694,\n 'completely': 695,\n 'general': 696,\n 'jr': 697,\n 'given': 698,\n 'magazine': 699,\n 'keeps': 700,\n 'official': 701,\n 'j': 702,\n 'huge': 703,\n 'vows': 704,\n 'apple': 705,\n 'longer': 706,\n 'near': 707,\n 'eat': 708,\n 'fuck': 709,\n 'rubio': 710,\n 'iraq': 711,\n 'peace': 712,\n 'space': 713,\n 'west': 714,\n 'nfl': 715,\n 'dance': 716,\n 'style': 717,\n 'walking': 718,\n 'test': 719,\n 'puts': 720,\n 'iowa': 721,\n 'sign': 722,\n 'mind': 723,\n 'industry': 724,\n 'protesters': 725,\n 'center': 726,\n 'decision': 727,\n 'risk': 728,\n 'weight': 729,\n 'worst': 730,\n 'boys': 731,\n 'hurricane': 732,\n 'carolina': 733,\n 'final': 734,\n 'spring': 735,\n 'door': 736,\n 'pro': 737,\n 'investigation': 738,\n 'oscars': 739,\n '13': 740,\n 'important': 741,\n 'steve': 742,\n 'card': 743,\n 'success': 744,\n 'wait': 745,\n 'action': 746,\n 'close': 747,\n 'chance': 748,\n 'band': 749,\n 'early': 750,\n 'biggest': 751,\n 'side': 752,\n 'fear': 753,\n 'k': 754,\n 'lose': 755,\n 'green': 756,\n '2014': 757,\n 'major': 758,\n 'role': 759,\n 'michelle': 760,\n 'driving': 761,\n 'male': 762,\n 'google': 763,\n 'poor': 764,\n 'moving': 765,\n 'hoping': 766,\n 'university': 767,\n 'executive': 768,\n 'playing': 769,\n 'sean': 770,\n 'suspect': 771,\n 'doctor': 772,\n 'tour': 773,\n 'words': 774,\n 'program': 775,\n 'opening': 776,\n 'almost': 777,\n 'abuse': 778,\n 'asking': 779,\n 'whether': 780,\n 'building': 781,\n 'advice': 782,\n 'push': 783,\n 'moore': 784,\n 'receives': 785,\n 'repeal': 786,\n 'easy': 787,\n 'park': 788,\n 'possible': 789,\n 'planet': 790,\n 'eyes': 791,\n 'reform': 792,\n 'fails': 793,\n 'pick': 794,\n 'try': 795,\n 'spot': 796,\n 'question': 797,\n 'users': 798,\n 'hear': 799,\n 'ferguson': 800,\n 'press': 801,\n 'hall': 802,\n 'starting': 803,\n 'refugees': 804,\n 'christian': 805,\n '18': 806,\n 'ebola': 807,\n 'responds': 808,\n 'worth': 809,\n 'bathroom': 810,\n 'allegations': 811,\n 'happened': 812,\n 'audience': 813,\n 'hand': 814,\n 'harassment': 815,\n 'governor': 816,\n 'picture': 817,\n 'dark': 818,\n 'mental': 819,\n 'humans': 820,\n 'throws': 821,\n 'shares': 822,\n 'pizza': 823,\n 'feeling': 824,\n 'amazon': 825,\n 'rally': 826,\n 'amazing': 827,\n 'results': 828,\n 'urges': 829,\n 'forward': 830,\n 'mean': 831,\n 'problems': 832,\n 'emotional': 833,\n 'hotel': 834,\n 'beauty': 835,\n 'arrested': 836,\n 'healthy': 837,\n 'fake': 838,\n 'address': 839,\n 'bowl': 840,\n 'football': 841,\n 'loses': 842,\n 'begins': 843,\n 'halloween': 844,\n 'blood': 845,\n 'across': 846,\n 'weeks': 847,\n 'apartment': 848,\n 'hero': 849,\n 'families': 850,\n 'jobs': 851,\n 'voter': 852,\n 'demand': 853,\n 'older': 854,\n 'defense': 855,\n 'ben': 856,\n 'hilarious': 857,\n 'residents': 858,\n 'experience': 859,\n 'n': 860,\n 'chicken': 861,\n 'sons': 862,\n 'ideas': 863,\n 'williams': 864,\n 'reveal': 865,\n 'coffee': 866,\n 'economy': 867,\n 'celebrate': 868,\n 'racist': 869,\n 'done': 870,\n 'matter': 871,\n 'supporters': 872,\n 'fast': 873,\n 'leaving': 874,\n 'remember': 875,\n 'science': 876,\n 'chicago': 877,\n 'finding': 878,\n 'homeless': 879,\n 'uses': 880,\n 'crime': 881,\n 'israel': 882,\n 'cool': 883,\n 'coworker': 884,\n 'board': 885,\n 'deep': 886,\n 'reporter': 887,\n 'vacation': 888,\n 'historical': 889,\n 'energy': 890,\n 'olympic': 891,\n 'pregnant': 892,\n 'crowd': 893,\n 'sales': 894,\n 'apparently': 895,\n 'dads': 896,\n 'demands': 897,\n 'truth': 898,\n 'guys': 899,\n 'worse': 900,\n 'threat': 901,\n 'nearly': 902,\n 'apologizes': 903,\n 'teachers': 904,\n 'culture': 905,\n 'reminds': 906,\n 'color': 907,\n 'lgbtq': 908,\n 'queen': 909,\n 'six': 910,\n 'senators': 911,\n 'documentary': 912,\n 'four': 913,\n 'review': 914,\n 'scandal': 915,\n 'snl': 916,\n 'rest': 917,\n 'prevent': 918,\n 'album': 919,\n 'despite': 920,\n 'womans': 921,\n 'movies': 922,\n 'shop': 923,\n 'plane': 924,\n 'cnn': 925,\n 'somehow': 926,\n 'kerry': 927,\n 'funding': 928,\n 'sad': 929,\n 'quietly': 930,\n 'east': 931,\n 'telling': 932,\n 'leading': 933,\n 'event': 934,\n '60': 935,\n 'tech': 936,\n 'harvey': 937,\n 'happens': 938,\n 'activists': 939,\n 'leads': 940,\n 'dying': 941,\n 'hospital': 942,\n 'suggests': 943,\n 'avoid': 944,\n 'went': 945,\n '25': 946,\n 'wishes': 947,\n 'send': 948,\n 'market': 949,\n 'nasa': 950,\n 'simple': 951,\n 'said': 952,\n 'elizabeth': 953,\n 'jenner': 954,\n 'primary': 955,\n 'dreams': 956,\n 'loss': 957,\n 'kelly': 958,\n 'clean': 959,\n '17': 960,\n 'couples': 961,\n 'amid': 962,\n 'deadly': 963,\n 'officer': 964,\n 'netflix': 965,\n 'louis': 966,\n 'staff': 967,\n 'manager': 968,\n 'desperate': 969,\n 'gold': 970,\n 'helping': 971,\n 'museum': 972,\n 'data': 973,\n 'holding': 974,\n 'co': 975,\n 'website': 976,\n 'harry': 977,\n 'explains': 978,\n 'spend': 979,\n 'fda': 980,\n 'worker': 981,\n 'movement': 982,\n 'anyone': 983,\n 'books': 984,\n 'foreign': 985,\n 'evidence': 986,\n 'mayor': 987,\n 'colbert': 988,\n 'sweet': 989,\n 'short': 990,\n 'budget': 991,\n 'episode': 992,\n 'stay': 993,\n 'fired': 994,\n 'attempt': 995,\n 'legal': 996,\n 'nyc': 997,\n 'toward': 998,\n 'track': 999,\n 'eric': 1000,\n ...}"
     },
     "execution_count": 35,
     "metadata": {},
     "output_type": "execute_result"
    }
   ],
   "source": [
    "tokenizer = Tokenizer(num_words=vocab_size, oov_token=oov_tok)\n",
    "tokenizer.fit_on_texts(training_sentences)\n",
    "\n",
    "word_index = tokenizer.word_index\n",
    "training_sequences = tokenizer.texts_to_sequences(training_sentences)\n",
    "testing_sequences = tokenizer.texts_to_sequences(testing_sentences)\n",
    "\n",
    "training_padded = pad_sequences(training_sequences, padding=padding_type, maxlen=max_length, truncating=trunc_type)\n",
    "testing_padded = pad_sequences(testing_sequences, padding=padding_type, maxlen=max_length, truncating=trunc_type)\n",
    "\n",
    "word_index"
   ],
   "metadata": {
    "collapsed": false,
    "pycharm": {
     "name": "#%%\n"
    }
   }
  },
  {
   "cell_type": "code",
   "execution_count": 37,
   "outputs": [],
   "source": [
    "training_padded = np.array(training_padded)\n",
    "training_labels = np.array(training_labels)\n",
    "testing_padded = np.array(testing_padded)\n",
    "testing_labels = np.array(testing_labels)"
   ],
   "metadata": {
    "collapsed": false,
    "pycharm": {
     "name": "#%%\n"
    }
   }
  },
  {
   "cell_type": "code",
   "execution_count": 39,
   "outputs": [
    {
     "name": "stdout",
     "output_type": "stream",
     "text": [
      "Model: \"sequential\"\n",
      "_________________________________________________________________\n",
      " Layer (type)                Output Shape              Param #   \n",
      "=================================================================\n",
      " embedding (Embedding)       (None, None, 16)          160000    \n",
      "                                                                 \n",
      " global_max_pooling1d (Globa  (None, 16)               0         \n",
      " lMaxPooling1D)                                                  \n",
      "                                                                 \n",
      " dense (Dense)               (None, 24)                408       \n",
      "                                                                 \n",
      " dense_1 (Dense)             (None, 1)                 25        \n",
      "                                                                 \n",
      "=================================================================\n",
      "Total params: 160,433\n",
      "Trainable params: 160,433\n",
      "Non-trainable params: 0\n",
      "_________________________________________________________________\n"
     ]
    }
   ],
   "source": [
    "model = Sequential(\n",
    "    [Embedding(10000, 16),\n",
    "     GlobalMaxPool1D(),\n",
    "     Dense(units=24, activation='relu'),\n",
    "     Dense(1, activation='sigmoid')]\n",
    ")\n",
    "\n",
    "model.compile(loss='binary_crossentropy',\n",
    "              optimizer='adam',\n",
    "              metrics=['accuracy'])\n",
    "\n",
    "model.summary()"
   ],
   "metadata": {
    "collapsed": false,
    "pycharm": {
     "name": "#%%\n"
    }
   }
  },
  {
   "cell_type": "code",
   "execution_count": 40,
   "outputs": [
    {
     "name": "stdout",
     "output_type": "stream",
     "text": [
      "Epoch 1/30\n",
      "719/719 [==============================] - 6s 5ms/step - loss: 0.5746 - accuracy: 0.6903 - val_loss: 0.4643 - val_accuracy: 0.7760\n",
      "Epoch 2/30\n",
      "719/719 [==============================] - 6s 8ms/step - loss: 0.3449 - accuracy: 0.8537 - val_loss: 0.4415 - val_accuracy: 0.7894\n",
      "Epoch 3/30\n",
      "719/719 [==============================] - 6s 8ms/step - loss: 0.2285 - accuracy: 0.9098 - val_loss: 0.4834 - val_accuracy: 0.7924\n",
      "Epoch 4/30\n",
      "719/719 [==============================] - 6s 8ms/step - loss: 0.1561 - accuracy: 0.9417 - val_loss: 0.5496 - val_accuracy: 0.7857\n",
      "Epoch 5/30\n",
      "719/719 [==============================] - 6s 8ms/step - loss: 0.1061 - accuracy: 0.9639 - val_loss: 0.6333 - val_accuracy: 0.7789\n",
      "Epoch 6/30\n",
      "719/719 [==============================] - 6s 8ms/step - loss: 0.0708 - accuracy: 0.9759 - val_loss: 0.7335 - val_accuracy: 0.7792\n",
      "Epoch 7/30\n",
      "719/719 [==============================] - 6s 8ms/step - loss: 0.0472 - accuracy: 0.9856 - val_loss: 0.8366 - val_accuracy: 0.7724\n",
      "Epoch 8/30\n",
      "719/719 [==============================] - 6s 8ms/step - loss: 0.0315 - accuracy: 0.9907 - val_loss: 0.9366 - val_accuracy: 0.7719\n",
      "Epoch 9/30\n",
      "719/719 [==============================] - 6s 8ms/step - loss: 0.0216 - accuracy: 0.9945 - val_loss: 1.0363 - val_accuracy: 0.7697\n",
      "Epoch 10/30\n",
      "719/719 [==============================] - 6s 8ms/step - loss: 0.0150 - accuracy: 0.9963 - val_loss: 1.1448 - val_accuracy: 0.7700\n",
      "Epoch 11/30\n",
      "719/719 [==============================] - 6s 8ms/step - loss: 0.0107 - accuracy: 0.9973 - val_loss: 1.2397 - val_accuracy: 0.7660\n",
      "Epoch 12/30\n",
      "719/719 [==============================] - 6s 8ms/step - loss: 0.0080 - accuracy: 0.9980 - val_loss: 1.3262 - val_accuracy: 0.7644\n",
      "Epoch 13/30\n",
      "719/719 [==============================] - 6s 8ms/step - loss: 0.0062 - accuracy: 0.9982 - val_loss: 1.3915 - val_accuracy: 0.7697\n",
      "Epoch 14/30\n",
      "719/719 [==============================] - 6s 8ms/step - loss: 0.0049 - accuracy: 0.9987 - val_loss: 1.4740 - val_accuracy: 0.7662\n",
      "Epoch 15/30\n",
      "719/719 [==============================] - 6s 9ms/step - loss: 0.0040 - accuracy: 0.9988 - val_loss: 1.5487 - val_accuracy: 0.7687\n",
      "Epoch 16/30\n",
      "719/719 [==============================] - 7s 9ms/step - loss: 0.0035 - accuracy: 0.9990 - val_loss: 1.6219 - val_accuracy: 0.7679\n",
      "Epoch 17/30\n",
      "719/719 [==============================] - 6s 8ms/step - loss: 0.0032 - accuracy: 0.9989 - val_loss: 1.6786 - val_accuracy: 0.7646\n",
      "Epoch 18/30\n",
      "719/719 [==============================] - 6s 9ms/step - loss: 0.0026 - accuracy: 0.9991 - val_loss: 1.7552 - val_accuracy: 0.7641\n",
      "Epoch 19/30\n",
      "719/719 [==============================] - 6s 9ms/step - loss: 0.0025 - accuracy: 0.9990 - val_loss: 1.8210 - val_accuracy: 0.7638\n",
      "Epoch 20/30\n",
      "719/719 [==============================] - 7s 9ms/step - loss: 0.0024 - accuracy: 0.9990 - val_loss: 1.8795 - val_accuracy: 0.7662\n",
      "Epoch 21/30\n",
      "719/719 [==============================] - 6s 8ms/step - loss: 0.0021 - accuracy: 0.9992 - val_loss: 1.9274 - val_accuracy: 0.7619\n",
      "Epoch 22/30\n",
      "719/719 [==============================] - 6s 8ms/step - loss: 0.0023 - accuracy: 0.9990 - val_loss: 1.9964 - val_accuracy: 0.7630\n",
      "Epoch 23/30\n",
      "719/719 [==============================] - 7s 9ms/step - loss: 0.0019 - accuracy: 0.9992 - val_loss: 2.0462 - val_accuracy: 0.7611\n",
      "Epoch 24/30\n",
      "719/719 [==============================] - 6s 9ms/step - loss: 0.0020 - accuracy: 0.9991 - val_loss: 2.1151 - val_accuracy: 0.7600\n",
      "Epoch 25/30\n",
      "719/719 [==============================] - 6s 9ms/step - loss: 0.0019 - accuracy: 0.9990 - val_loss: 2.1950 - val_accuracy: 0.7573\n",
      "Epoch 26/30\n",
      "719/719 [==============================] - 6s 9ms/step - loss: 0.0020 - accuracy: 0.9990 - val_loss: 2.2315 - val_accuracy: 0.7587\n",
      "Epoch 27/30\n",
      "719/719 [==============================] - 6s 9ms/step - loss: 0.0019 - accuracy: 0.9991 - val_loss: 2.2494 - val_accuracy: 0.7630\n",
      "Epoch 28/30\n",
      "719/719 [==============================] - 6s 8ms/step - loss: 0.0017 - accuracy: 0.9992 - val_loss: 2.2694 - val_accuracy: 0.7614\n",
      "Epoch 29/30\n",
      "719/719 [==============================] - 6s 8ms/step - loss: 0.0019 - accuracy: 0.9992 - val_loss: 2.3069 - val_accuracy: 0.7633\n",
      "Epoch 30/30\n",
      "719/719 [==============================] - 6s 8ms/step - loss: 0.0017 - accuracy: 0.9993 - val_loss: 2.3706 - val_accuracy: 0.7595\n"
     ]
    }
   ],
   "source": [
    "history = model.fit(x=training_padded,\n",
    "                    y=training_labels,\n",
    "                    validation_data=(testing_padded, testing_labels),\n",
    "                    epochs=30)"
   ],
   "metadata": {
    "collapsed": false,
    "pycharm": {
     "name": "#%%\n"
    }
   }
  },
  {
   "cell_type": "code",
   "execution_count": null,
   "outputs": [],
   "source": [],
   "metadata": {
    "collapsed": false,
    "pycharm": {
     "name": "#%%\n"
    }
   }
  }
 ],
 "metadata": {
  "kernelspec": {
   "display_name": "Python 3",
   "language": "python",
   "name": "python3"
  },
  "language_info": {
   "codemirror_mode": {
    "name": "ipython",
    "version": 2
   },
   "file_extension": ".py",
   "mimetype": "text/x-python",
   "name": "python",
   "nbconvert_exporter": "python",
   "pygments_lexer": "ipython2",
   "version": "2.7.6"
  }
 },
 "nbformat": 4,
 "nbformat_minor": 0
}
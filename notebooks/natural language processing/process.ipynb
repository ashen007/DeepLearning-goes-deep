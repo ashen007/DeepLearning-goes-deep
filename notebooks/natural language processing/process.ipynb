{
 "cells": [
  {
   "cell_type": "code",
   "execution_count": 27,
   "outputs": [],
   "source": [
    "stopwords = ['x','y','your','yours','yourself','yourselves','you','yond','yonder','yon','ye','yet','z','zillion','j','u','umpteen','usually','us','username','uponed','upons','uponing','upon','ups','upping','upped','up','unto','until','unless','unlike','unliker','unlikest','under','underneath','use','used','usedest','r','rath','rather','rathest','rathe','re','relate','related','relatively','regarding','really','res','respecting','respectively','q','quite','que','qua','n','neither','neaths','neath','nethe','nethermost','necessary','necessariest','necessarier','never','nevertheless','nigh','nighest','nigher','nine','noone','nobody','nobodies','nowhere','nowheres','no','noes','nor','nos','no-one','none','not','notwithstanding','nothings','nothing','nathless','natheless','t','ten','tills','till','tilled','tilling','to','towards','toward','towardest','towarder','together','too','thy','thyself','thus','than','that','those','thou','though','thous','thouses','thoroughest','thorougher','thorough','thoroughly','thru','thruer','thruest','thro','through','throughout','throughest','througher','thine','this','thises','they','thee','the','then','thence','thenest','thener','them','themselves','these','therer','there','thereby','therest','thereafter','therein','thereupon','therefore','their','theirs','thing','things','three','two','o','oh','owt','owning','owned','own','owns','others','other','otherwise','otherwisest','otherwiser','of','often','oftener','oftenest','off','offs','offest','one','ought','oughts','our','ours','ourselves','ourself','out','outest','outed','outwith','outs','outside','over','overallest','overaller','overalls','overall','overs','or','orer','orest','on','oneself','onest','ons','onto','a','atween','at','athwart','atop','afore','afterward','afterwards','after','afterest','afterer','ain','an','any','anything','anybody','anyone','anyhow','anywhere','anent','anear','and','andor','another','around','ares','are','aest','aer','against','again','accordingly','abaft','abafter','abaftest','abovest','above','abover','abouter','aboutest','about','aid','amidst','amid','among','amongst','apartest','aparter','apart','appeared','appears','appear','appearing','appropriating','appropriate','appropriatest','appropriates','appropriater','appropriated','already','always','also','along','alongside','although','almost','all','allest','aller','allyou','alls','albeit','awfully','as','aside','asides','aslant','ases','astrider','astride','astridest','astraddlest','astraddler','astraddle','availablest','availabler','available','aughts','aught','vs','v','variousest','variouser','various','via','vis-a-vis','vis-a-viser','vis-a-visest','viz','very','veriest','verier','versus','k','g','go','gone','good','got','gotta','gotten','get','gets','getting','b','by','byandby','by-and-by','bist','both','but','buts','be','beyond','because','became','becomes','become','becoming','becomings','becominger','becomingest','behind','behinds','before','beforehand','beforehandest','beforehander','bettered','betters','better','bettering','betwixt','between','beneath','been','below','besides','beside','m','my','myself','mucher','muchest','much','must','musts','musths','musth','main','make','mayest','many','mauger','maugre','me','meanwhiles','meanwhile','mostly','most','moreover','more','might','mights','midst','midsts','h','huh','humph','he','hers','herself','her','hereby','herein','hereafters','hereafter','hereupon','hence','hadst','had','having','haves','have','has','hast','hardly','hae','hath','him','himself','hither','hitherest','hitherer','his','how-do-you-do','however','how','howbeit','howdoyoudo','hoos','hoo','w','woulded','woulding','would','woulds','was','wast','we','wert','were','with','withal','without','within','why','what','whatever','whateverer','whateverest','whatsoeverer','whatsoeverest','whatsoever','whence','whencesoever','whenever','whensoever','when','whenas','whether','wheen','whereto','whereupon','wherever','whereon','whereof','where','whereby','wherewithal','wherewith','whereinto','wherein','whereafter','whereas','wheresoever','wherefrom','which','whichever','whichsoever','whilst','while','whiles','whithersoever','whither','whoever','whosoever','whoso','whose','whomever','s','syne','syn','shalling','shall','shalled','shalls','shoulding','should','shoulded','shoulds','she','sayyid','sayid','said','saider','saidest','same','samest','sames','samer','saved','sans','sanses','sanserifs','sanserif','so','soer','soest','sobeit','someone','somebody','somehow','some','somewhere','somewhat','something','sometimest','sometimes','sometimer','sometime','several','severaler','severalest','serious','seriousest','seriouser','senza','send','sent','seem','seems','seemed','seemingest','seeminger','seemings','seven','summat','sups','sup','supping','supped','such','since','sine','sines','sith','six','stop','stopped','p','plaintiff','plenty','plenties','please','pleased','pleases','per','perhaps','particulars','particularly','particular','particularest','particularer','pro','providing','provides','provided','provide','probably','l','layabout','layabouts','latter','latterest','latterer','latterly','latters','lots','lotting','lotted','lot','lest','less','ie','ifs','if','i','info','information','itself','its','it','is','idem','idemer','idemest','immediate','immediately','immediatest','immediater','in','inwards','inwardest','inwarder','inward','inasmuch','into','instead','insofar','indicates','indicated','indicate','indicating','indeed','inc','f','fact','facts','fs','figupon','figupons','figuponing','figuponed','few','fewer','fewest','frae','from','failing','failings','five','furthers','furtherer','furthered','furtherest','further','furthering','furthermore','fourscore','followthrough','for','forwhy','fornenst','formerly','former','formerer','formerest','formers','forbye','forby','fore','forever','forer','fores','four','d','ddays','dday','do','doing','doings','doe','does','doth','downwarder','downwardest','downward','downwards','downs','done','doner','dones','donest','dos','dost','did','differentest','differenter','different','describing','describe','describes','described','despiting','despites','despited','despite','during','c','cum','circa','chez','cer','certain','certainest','certainer','cest','canst','cannot','cant','cants','canting','cantest','canted','co','could','couldst','comeon','comeons','come-ons','come-on','concerning','concerninger','concerningest','consequently','considering','e','eg','eight','either','even','evens','evenser','evensest','evened','evenest','ever','everyone','everything','everybody','everywhere','every','ere','each','et','etc','elsewhere','else','ex','excepted','excepts','except','excepting','exes','enough']"
   ],
   "metadata": {
    "collapsed": false,
    "pycharm": {
     "name": "#%%\n"
    }
   }
  },
  {
   "cell_type": "markdown",
   "source": [
    "## Getting started with tokenization"
   ],
   "metadata": {
    "collapsed": false
   }
  },
  {
   "cell_type": "code",
   "execution_count": 30,
   "metadata": {
    "collapsed": true
   },
   "outputs": [],
   "source": [
    "import string\n",
    "import tensorflow as tf\n",
    "import tensorflow_datasets as tfds\n",
    "from bs4 import BeautifulSoup\n",
    "from tensorflow.keras.preprocessing.text import Tokenizer\n",
    "from tensorflow.keras.preprocessing.sequence import pad_sequences"
   ]
  },
  {
   "cell_type": "code",
   "execution_count": 2,
   "outputs": [],
   "source": [
    "sentences = ['Today is a sunny day',\n",
    "             'Today is a rainy day']\n",
    "\n",
    "tokenizer = Tokenizer(num_words=100)\n",
    "tokenizer.fit_on_texts(sentences)\n",
    "word_index = tokenizer.word_index"
   ],
   "metadata": {
    "collapsed": false,
    "pycharm": {
     "name": "#%%\n"
    }
   }
  },
  {
   "cell_type": "code",
   "execution_count": 3,
   "outputs": [
    {
     "data": {
      "text/plain": "{'today': 1, 'is': 2, 'a': 3, 'day': 4, 'sunny': 5, 'rainy': 6}"
     },
     "execution_count": 3,
     "metadata": {},
     "output_type": "execute_result"
    }
   ],
   "source": [
    "word_index"
   ],
   "metadata": {
    "collapsed": false,
    "pycharm": {
     "name": "#%%\n"
    }
   }
  },
  {
   "cell_type": "markdown",
   "source": [
    "## Turning sequences into sequences"
   ],
   "metadata": {
    "collapsed": false
   }
  },
  {
   "cell_type": "code",
   "execution_count": 5,
   "outputs": [],
   "source": [
    "sentences = ['Today is a sunny day',\n",
    "             'Today is a rainy day',\n",
    "             'Is it sunny today?']\n",
    "\n",
    "tokenizer = Tokenizer(num_words=100)\n",
    "tokenizer.fit_on_texts(sentences)\n",
    "word_index = tokenizer.word_index\n",
    "sequences = tokenizer.texts_to_sequences(sentences)"
   ],
   "metadata": {
    "collapsed": false,
    "pycharm": {
     "name": "#%%\n"
    }
   }
  },
  {
   "cell_type": "code",
   "execution_count": 6,
   "outputs": [
    {
     "data": {
      "text/plain": "[[1, 2, 3, 4, 5], [1, 2, 3, 6, 5], [2, 7, 4, 1]]"
     },
     "execution_count": 6,
     "metadata": {},
     "output_type": "execute_result"
    }
   ],
   "source": [
    "sequences"
   ],
   "metadata": {
    "collapsed": false,
    "pycharm": {
     "name": "#%%\n"
    }
   }
  },
  {
   "cell_type": "markdown",
   "source": [
    "##### out of vocabulary tokens"
   ],
   "metadata": {
    "collapsed": false
   }
  },
  {
   "cell_type": "code",
   "execution_count": 7,
   "outputs": [],
   "source": [
    "test_data = ['Today is a snowy day',\n",
    "             'Will it be rainy tomorrow?']\n",
    "test_sequences = tokenizer.texts_to_sequences(test_data)"
   ],
   "metadata": {
    "collapsed": false,
    "pycharm": {
     "name": "#%%\n"
    }
   }
  },
  {
   "cell_type": "code",
   "execution_count": 8,
   "outputs": [
    {
     "data": {
      "text/plain": "[[1, 2, 3, 5], [7, 6]]"
     },
     "execution_count": 8,
     "metadata": {},
     "output_type": "execute_result"
    }
   ],
   "source": [
    "test_sequences"
   ],
   "metadata": {
    "collapsed": false,
    "pycharm": {
     "name": "#%%\n"
    }
   }
  },
  {
   "cell_type": "code",
   "execution_count": 9,
   "outputs": [],
   "source": [
    "tokenizer = Tokenizer(num_words=100, oov_token='<oov>')\n",
    "tokenizer.fit_on_texts(sentences)\n",
    "word_index = tokenizer.word_index\n",
    "sequences = tokenizer.texts_to_sequences(sentences)\n",
    "test_sequences = tokenizer.texts_to_sequences(test_data)"
   ],
   "metadata": {
    "collapsed": false,
    "pycharm": {
     "name": "#%%\n"
    }
   }
  },
  {
   "cell_type": "code",
   "execution_count": 10,
   "outputs": [
    {
     "data": {
      "text/plain": "{'<oov>': 1,\n 'today': 2,\n 'is': 3,\n 'a': 4,\n 'sunny': 5,\n 'day': 6,\n 'rainy': 7,\n 'it': 8}"
     },
     "execution_count": 10,
     "metadata": {},
     "output_type": "execute_result"
    }
   ],
   "source": [
    "word_index"
   ],
   "metadata": {
    "collapsed": false,
    "pycharm": {
     "name": "#%%\n"
    }
   }
  },
  {
   "cell_type": "code",
   "execution_count": 11,
   "outputs": [
    {
     "data": {
      "text/plain": "[[2, 3, 4, 1, 6], [1, 8, 1, 7, 1]]"
     },
     "execution_count": 11,
     "metadata": {},
     "output_type": "execute_result"
    }
   ],
   "source": [
    "test_sequences"
   ],
   "metadata": {
    "collapsed": false,
    "pycharm": {
     "name": "#%%\n"
    }
   }
  },
  {
   "cell_type": "markdown",
   "source": [
    "##### padding"
   ],
   "metadata": {
    "collapsed": false
   }
  },
  {
   "cell_type": "code",
   "execution_count": 12,
   "outputs": [],
   "source": [
    "sentences = [\n",
    "    'Today is a sunny day',\n",
    "    'Today is a rainy day',\n",
    "    'Is it sunny today?',\n",
    "    'I really enjoyed walking in the snow today'\n",
    "]\n",
    "\n",
    "tokenizer = Tokenizer(num_words=100, oov_token='<oov>')\n",
    "tokenizer.fit_on_texts(sentences)\n",
    "\n",
    "word_index = tokenizer.word_index\n",
    "sequences = tokenizer.texts_to_sequences(sentences)"
   ],
   "metadata": {
    "collapsed": false,
    "pycharm": {
     "name": "#%%\n"
    }
   }
  },
  {
   "cell_type": "code",
   "execution_count": 13,
   "outputs": [
    {
     "data": {
      "text/plain": "[[2, 3, 4, 5, 6],\n [2, 3, 4, 7, 6],\n [3, 8, 5, 2],\n [9, 10, 11, 12, 13, 14, 15, 2]]"
     },
     "execution_count": 13,
     "metadata": {},
     "output_type": "execute_result"
    }
   ],
   "source": [
    "sequences"
   ],
   "metadata": {
    "collapsed": false,
    "pycharm": {
     "name": "#%%\n"
    }
   }
  },
  {
   "cell_type": "code",
   "execution_count": 15,
   "outputs": [],
   "source": [
    "padded = pad_sequences(sequences)"
   ],
   "metadata": {
    "collapsed": false,
    "pycharm": {
     "name": "#%%\n"
    }
   }
  },
  {
   "cell_type": "code",
   "execution_count": 16,
   "outputs": [
    {
     "data": {
      "text/plain": "array([[ 0,  0,  0,  2,  3,  4,  5,  6],\n       [ 0,  0,  0,  2,  3,  4,  7,  6],\n       [ 0,  0,  0,  0,  3,  8,  5,  2],\n       [ 9, 10, 11, 12, 13, 14, 15,  2]])"
     },
     "execution_count": 16,
     "metadata": {},
     "output_type": "execute_result"
    }
   ],
   "source": [
    "padded"
   ],
   "metadata": {
    "collapsed": false,
    "pycharm": {
     "name": "#%%\n"
    }
   }
  },
  {
   "cell_type": "code",
   "execution_count": 17,
   "outputs": [],
   "source": [
    "padded = pad_sequences(sequences, padding='post')"
   ],
   "metadata": {
    "collapsed": false,
    "pycharm": {
     "name": "#%%\n"
    }
   }
  },
  {
   "cell_type": "code",
   "execution_count": 18,
   "outputs": [
    {
     "data": {
      "text/plain": "array([[ 2,  3,  4,  5,  6,  0,  0,  0],\n       [ 2,  3,  4,  7,  6,  0,  0,  0],\n       [ 3,  8,  5,  2,  0,  0,  0,  0],\n       [ 9, 10, 11, 12, 13, 14, 15,  2]])"
     },
     "execution_count": 18,
     "metadata": {},
     "output_type": "execute_result"
    }
   ],
   "source": [
    "padded"
   ],
   "metadata": {
    "collapsed": false,
    "pycharm": {
     "name": "#%%\n"
    }
   }
  },
  {
   "cell_type": "code",
   "execution_count": 19,
   "outputs": [],
   "source": [
    "padded = pad_sequences(sequences, padding='post', maxlen=6)"
   ],
   "metadata": {
    "collapsed": false,
    "pycharm": {
     "name": "#%%\n"
    }
   }
  },
  {
   "cell_type": "code",
   "execution_count": 20,
   "outputs": [
    {
     "data": {
      "text/plain": "array([[ 2,  3,  4,  5,  6,  0],\n       [ 2,  3,  4,  7,  6,  0],\n       [ 3,  8,  5,  2,  0,  0],\n       [11, 12, 13, 14, 15,  2]])"
     },
     "execution_count": 20,
     "metadata": {},
     "output_type": "execute_result"
    }
   ],
   "source": [
    "padded"
   ],
   "metadata": {
    "collapsed": false,
    "pycharm": {
     "name": "#%%\n"
    }
   }
  },
  {
   "cell_type": "code",
   "execution_count": 21,
   "outputs": [],
   "source": [
    "padded = pad_sequences(sequences, padding='post', maxlen=6, truncating='post')"
   ],
   "metadata": {
    "collapsed": false,
    "pycharm": {
     "name": "#%%\n"
    }
   }
  },
  {
   "cell_type": "code",
   "execution_count": 22,
   "outputs": [
    {
     "data": {
      "text/plain": "array([[ 2,  3,  4,  5,  6,  0],\n       [ 2,  3,  4,  7,  6,  0],\n       [ 3,  8,  5,  2,  0,  0],\n       [ 9, 10, 11, 12, 13, 14]])"
     },
     "execution_count": 22,
     "metadata": {},
     "output_type": "execute_result"
    }
   ],
   "source": [
    "padded"
   ],
   "metadata": {
    "collapsed": false,
    "pycharm": {
     "name": "#%%\n"
    }
   }
  },
  {
   "cell_type": "markdown",
   "source": [
    "## Remove stopwords and cleaning text"
   ],
   "metadata": {
    "collapsed": false
   }
  },
  {
   "cell_type": "code",
   "execution_count": 26,
   "outputs": [
    {
     "name": "stdout",
     "output_type": "stream",
     "text": [
      "\u001B[1mDownloading and preparing dataset Unknown size (download: Unknown size, generated: Unknown size, total: Unknown size) to C:\\Users\\hewar\\tensorflow_datasets\\imdb_reviews\\plain_text\\1.0.0...\u001B[0m\n"
     ]
    },
    {
     "data": {
      "text/plain": "Dl Completed...: 0 url [00:00, ? url/s]",
      "application/vnd.jupyter.widget-view+json": {
       "version_major": 2,
       "version_minor": 0,
       "model_id": "47e6e469044f4f2db880490f13945aac"
      }
     },
     "metadata": {},
     "output_type": "display_data"
    },
    {
     "data": {
      "text/plain": "Dl Size...: 0 MiB [00:00, ? MiB/s]",
      "application/vnd.jupyter.widget-view+json": {
       "version_major": 2,
       "version_minor": 0,
       "model_id": "7e649af0eb49487dadbbe13a14c7b68e"
      }
     },
     "metadata": {},
     "output_type": "display_data"
    },
    {
     "data": {
      "text/plain": "Generating splits...:   0%|          | 0/3 [00:00<?, ? splits/s]",
      "application/vnd.jupyter.widget-view+json": {
       "version_major": 2,
       "version_minor": 0,
       "model_id": "1cf48de8f5e54c1bab220889b92f8850"
      }
     },
     "metadata": {},
     "output_type": "display_data"
    },
    {
     "data": {
      "text/plain": "Generating train examples...: 0 examples [00:00, ? examples/s]",
      "application/vnd.jupyter.widget-view+json": {
       "version_major": 2,
       "version_minor": 0,
       "model_id": "5aab904dc68141488cd8d26fceb2dc96"
      }
     },
     "metadata": {},
     "output_type": "display_data"
    },
    {
     "data": {
      "text/plain": "Shuffling C:\\Users\\hewar\\tensorflow_datasets\\imdb_reviews\\plain_text\\1.0.0.incompleteGZ4GNH\\imdb_reviews-train…",
      "application/vnd.jupyter.widget-view+json": {
       "version_major": 2,
       "version_minor": 0,
       "model_id": "3dcc585e2f94420ba8c7854237cb617b"
      }
     },
     "metadata": {},
     "output_type": "display_data"
    },
    {
     "data": {
      "text/plain": "Generating test examples...: 0 examples [00:00, ? examples/s]",
      "application/vnd.jupyter.widget-view+json": {
       "version_major": 2,
       "version_minor": 0,
       "model_id": "6819af8fd2ec4f919d9f44388699fe3d"
      }
     },
     "metadata": {},
     "output_type": "display_data"
    },
    {
     "data": {
      "text/plain": "Shuffling C:\\Users\\hewar\\tensorflow_datasets\\imdb_reviews\\plain_text\\1.0.0.incompleteGZ4GNH\\imdb_reviews-test.…",
      "application/vnd.jupyter.widget-view+json": {
       "version_major": 2,
       "version_minor": 0,
       "model_id": "e125b6f9c6994a56b9e2d0859550e6d0"
      }
     },
     "metadata": {},
     "output_type": "display_data"
    },
    {
     "data": {
      "text/plain": "Generating unsupervised examples...: 0 examples [00:00, ? examples/s]",
      "application/vnd.jupyter.widget-view+json": {
       "version_major": 2,
       "version_minor": 0,
       "model_id": "0265c345e9cd4fc992fdcc6353755063"
      }
     },
     "metadata": {},
     "output_type": "display_data"
    },
    {
     "data": {
      "text/plain": "Shuffling C:\\Users\\hewar\\tensorflow_datasets\\imdb_reviews\\plain_text\\1.0.0.incompleteGZ4GNH\\imdb_reviews-unsup…",
      "application/vnd.jupyter.widget-view+json": {
       "version_major": 2,
       "version_minor": 0,
       "model_id": "4825adaac9fb464ea80295f966cfec6d"
      }
     },
     "metadata": {},
     "output_type": "display_data"
    },
    {
     "name": "stdout",
     "output_type": "stream",
     "text": [
      "\u001B[1mDataset imdb_reviews downloaded and prepared to C:\\Users\\hewar\\tensorflow_datasets\\imdb_reviews\\plain_text\\1.0.0. Subsequent calls will reuse this data.\u001B[0m\n"
     ]
    }
   ],
   "source": [
    "imdb_sentences = []\n",
    "train_data = tfds.as_numpy(tfds.load('imdb_reviews',split='train'))\n",
    "\n",
    "for item in train_data:\n",
    "    imdb_sentences.append(str(item['text']))"
   ],
   "metadata": {
    "collapsed": false,
    "pycharm": {
     "name": "#%%\n"
    }
   }
  },
  {
   "cell_type": "code",
   "execution_count": 28,
   "outputs": [],
   "source": [
    "tokenizer = Tokenizer(num_words=5000)\n",
    "tokenizer.fit_on_texts(imdb_sentences)\n",
    "\n",
    "sequences = tokenizer.texts_to_sequences(imdb_sentences)"
   ],
   "metadata": {
    "collapsed": false,
    "pycharm": {
     "name": "#%%\n"
    }
   }
  },
  {
   "cell_type": "code",
   "execution_count": 29,
   "outputs": [
    {
     "data": {
      "text/plain": "{'the': 1,\n 'and': 2,\n 'a': 3,\n 'of': 4,\n 'to': 5,\n 'is': 6,\n 'br': 7,\n 'in': 8,\n 'it': 9,\n 'i': 10,\n 'this': 11,\n 'that': 12,\n 'was': 13,\n 'as': 14,\n 'for': 15,\n 'with': 16,\n 'movie': 17,\n 'but': 18,\n 'film': 19,\n \"'s\": 20,\n 'on': 21,\n 'you': 22,\n 'not': 23,\n 'are': 24,\n 'his': 25,\n 'he': 26,\n 'have': 27,\n 'be': 28,\n 'one': 29,\n 'all': 30,\n 'at': 31,\n 'by': 32,\n 'they': 33,\n 'an': 34,\n 'who': 35,\n 'so': 36,\n 'from': 37,\n 'like': 38,\n 'her': 39,\n \"'t\": 40,\n 'or': 41,\n 'just': 42,\n 'there': 43,\n 'about': 44,\n 'out': 45,\n \"'\": 46,\n 'has': 47,\n 'if': 48,\n 'some': 49,\n 'what': 50,\n 'good': 51,\n 'more': 52,\n 'very': 53,\n 'when': 54,\n 'she': 55,\n 'up': 56,\n 'can': 57,\n 'b': 58,\n 'time': 59,\n 'no': 60,\n 'even': 61,\n 'my': 62,\n 'would': 63,\n 'which': 64,\n 'story': 65,\n 'only': 66,\n 'really': 67,\n 'see': 68,\n 'their': 69,\n 'had': 70,\n 'were': 71,\n 'me': 72,\n 'well': 73,\n 'we': 74,\n 'than': 75,\n 'much': 76,\n 'been': 77,\n 'get': 78,\n 'bad': 79,\n 'will': 80,\n 'people': 81,\n 'do': 82,\n 'also': 83,\n 'other': 84,\n 'into': 85,\n 'because': 86,\n 'great': 87,\n 'first': 88,\n 'him': 89,\n 'how': 90,\n 'most': 91,\n 'made': 92,\n 'its': 93,\n 'then': 94,\n 'way': 95,\n 'make': 96,\n 'them': 97,\n 'could': 98,\n 'too': 99,\n 'movies': 100,\n 'any': 101,\n \"it's\": 102,\n 'after': 103,\n 'think': 104,\n 'characters': 105,\n 'watch': 106,\n 'two': 107,\n 'films': 108,\n 'character': 109,\n 'seen': 110,\n 'many': 111,\n 'life': 112,\n 'being': 113,\n 'plot': 114,\n 'acting': 115,\n 'never': 116,\n 'little': 117,\n 'love': 118,\n 'best': 119,\n 'where': 120,\n 'over': 121,\n 'did': 122,\n 'show': 123,\n 'know': 124,\n 'off': 125,\n 'ever': 126,\n 'does': 127,\n 'man': 128,\n 'better': 129,\n 'your': 130,\n 'here': 131,\n 'end': 132,\n 'still': 133,\n 'these': 134,\n 'say': 135,\n 'scene': 136,\n 'why': 137,\n 'while': 138,\n 'scenes': 139,\n 'go': 140,\n 'such': 141,\n 'something': 142,\n 'should': 143,\n 'through': 144,\n 'back': 145,\n 'don': 146,\n 'real': 147,\n 'those': 148,\n 'now': 149,\n 'watching': 150,\n 'though': 151,\n 'thing': 152,\n 'old': 153,\n 'years': 154,\n 'actors': 155,\n 'work': 156,\n 'director': 157,\n 'new': 158,\n 'another': 159,\n 'before': 160,\n 'funny': 161,\n 'nothing': 162,\n 'actually': 163,\n 'makes': 164,\n 'look': 165,\n 'find': 166,\n 'going': 167,\n 'few': 168,\n 'same': 169,\n 'part': 170,\n 'again': 171,\n 'lot': 172,\n \"don't\": 173,\n 'every': 174,\n '10': 175,\n 'cast': 176,\n 'us': 177,\n 'world': 178,\n 'quite': 179,\n 'down': 180,\n 'want': 181,\n 'things': 182,\n 'pretty': 183,\n 'young': 184,\n 'seems': 185,\n 'around': 186,\n 'got': 187,\n 'horror': 188,\n 'however': 189,\n 'fact': 190,\n 'take': 191,\n 'big': 192,\n 'enough': 193,\n 'long': 194,\n 'thought': 195,\n 'both': 196,\n 'series': 197,\n 'between': 198,\n 'may': 199,\n 'give': 200,\n 'original': 201,\n 'own': 202,\n 'action': 203,\n 'right': 204,\n 'without': 205,\n 'times': 206,\n 'always': 207,\n 'comedy': 208,\n 'point': 209,\n 'must': 210,\n 'gets': 211,\n 'role': 212,\n 'come': 213,\n 'family': 214,\n 'saw': 215,\n 'almost': 216,\n 'interesting': 217,\n 'least': 218,\n 'done': 219,\n 'whole': 220,\n 'bit': 221,\n 'music': 222,\n 'script': 223,\n 'guy': 224,\n 'far': 225,\n 'xc2': 226,\n 'anything': 227,\n 'making': 228,\n 'minutes': 229,\n 'feel': 230,\n 'last': 231,\n 'might': 232,\n 'performance': 233,\n 'since': 234,\n '2': 235,\n 'probably': 236,\n 'girl': 237,\n 'kind': 238,\n 'am': 239,\n 'away': 240,\n 'tv': 241,\n 'yet': 242,\n 'woman': 243,\n 'rather': 244,\n 'day': 245,\n \"'ve\": 246,\n 'worst': 247,\n 'fun': 248,\n 'sure': 249,\n 'hard': 250,\n \"'m\": 251,\n 'doesn': 252,\n 'anyone': 253,\n 'played': 254,\n \"b'i\": 255,\n 'each': 256,\n 'found': 257,\n 'xc3': 258,\n 'especially': 259,\n 'course': 260,\n 'our': 261,\n 'having': 262,\n 'believe': 263,\n 'comes': 264,\n 'screen': 265,\n 'looking': 266,\n 'although': 267,\n 'trying': 268,\n 'goes': 269,\n 'set': 270,\n 'looks': 271,\n 'place': 272,\n 'book': 273,\n 'different': 274,\n 'put': 275,\n 'money': 276,\n 'actor': 277,\n 'ending': 278,\n 'maybe': 279,\n 'year': 280,\n 'sense': 281,\n 'reason': 282,\n 'true': 283,\n 'everything': 284,\n 'dvd': 285,\n 'shows': 286,\n 'once': 287,\n 'didn': 288,\n 'someone': 289,\n 'three': 290,\n 'worth': 291,\n 'job': 292,\n \"'re\": 293,\n 'main': 294,\n 'together': 295,\n 'play': 296,\n 'watched': 297,\n 'american': 298,\n 'plays': 299,\n '1': 300,\n 'effects': 301,\n 'later': 302,\n 'said': 303,\n 'takes': 304,\n 'instead': 305,\n 'audience': 306,\n 'seem': 307,\n 'john': 308,\n 'beautiful': 309,\n 'everyone': 310,\n 'himself': 311,\n 'version': 312,\n 'house': 313,\n 'high': 314,\n 'night': 315,\n 'during': 316,\n 'left': 317,\n \"i'm\": 318,\n 'special': 319,\n 'wife': 320,\n 'seeing': 321,\n 'half': 322,\n 'let': 323,\n 'star': 324,\n 'father': 325,\n 'excellent': 326,\n 'shot': 327,\n 'war': 328,\n \"didn't\": 329,\n 'idea': 330,\n 'black': 331,\n 'nice': 332,\n 'less': 333,\n 'mind': 334,\n 'else': 335,\n 'read': 336,\n \"doesn't\": 337,\n 'second': 338,\n 'simply': 339,\n 'fan': 340,\n 'help': 341,\n 'death': 342,\n 'poor': 343,\n 'completely': 344,\n '3': 345,\n 'men': 346,\n 'used': 347,\n 'home': 348,\n 'either': 349,\n 'short': 350,\n 'hollywood': 351,\n 'line': 352,\n 'dead': 353,\n 'given': 354,\n 'top': 355,\n 'budget': 356,\n 'kids': 357,\n 'try': 358,\n \"b'this\": 359,\n 'performances': 360,\n 'wrong': 361,\n 'classic': 362,\n 'enjoy': 363,\n 'boring': 364,\n 'need': 365,\n 'rest': 366,\n 'use': 367,\n 'low': 368,\n 'women': 369,\n 'production': 370,\n 'isn': 371,\n 'friends': 372,\n 'until': 373,\n 'camera': 374,\n 'along': 375,\n 'full': 376,\n 'truly': 377,\n 'video': 378,\n 'awful': 379,\n 'next': 380,\n 'tell': 381,\n 'couple': 382,\n 'start': 383,\n 'stupid': 384,\n 'remember': 385,\n 'mean': 386,\n 'sex': 387,\n 'stars': 388,\n 'perhaps': 389,\n 'came': 390,\n 'recommend': 391,\n 'moments': 392,\n 'episode': 393,\n 'wonderful': 394,\n 'school': 395,\n 'understand': 396,\n 'small': 397,\n 'face': 398,\n 'terrible': 399,\n 'playing': 400,\n \"i've\": 401,\n 'getting': 402,\n 'written': 403,\n \"'ll\": 404,\n 'early': 405,\n 'doing': 406,\n 'often': 407,\n 'name': 408,\n 'keep': 409,\n 'perfect': 410,\n 'style': 411,\n 'human': 412,\n 'others': 413,\n 'gives': 414,\n 'definitely': 415,\n 'person': 416,\n 'itself': 417,\n 'lines': 418,\n 'live': 419,\n 'become': 420,\n \"can't\": 421,\n 'dialogue': 422,\n 'head': 423,\n 'lost': 424,\n 'piece': 425,\n 'case': 426,\n 'felt': 427,\n 'finally': 428,\n 'boy': 429,\n 'supposed': 430,\n 'liked': 431,\n 'title': 432,\n 'yes': 433,\n 'white': 434,\n 'cinema': 435,\n 'picture': 436,\n 'against': 437,\n 'absolutely': 438,\n 'mother': 439,\n 'sort': 440,\n 'worse': 441,\n 'entire': 442,\n 'certainly': 443,\n 'went': 444,\n 'waste': 445,\n 'problem': 446,\n 'hope': 447,\n 'entertaining': 448,\n 'evil': 449,\n 'mr': 450,\n 'overall': 451,\n 'called': 452,\n 'children': 453,\n 'loved': 454,\n 'based': 455,\n 'killer': 456,\n 'several': 457,\n 'friend': 458,\n 'fans': 459,\n \"that's\": 460,\n 'drama': 461,\n \"isn't\": 462,\n 'beginning': 463,\n 'lives': 464,\n 'direction': 465,\n '5': 466,\n 'care': 467,\n 'becomes': 468,\n 'already': 469,\n \"'d\": 470,\n 'laugh': 471,\n 'example': 472,\n 'oh': 473,\n 'dark': 474,\n 'under': 475,\n 'seemed': 476,\n 'throughout': 477,\n 'turn': 478,\n '4': 479,\n 'wanted': 480,\n 'unfortunately': 481,\n 'x96': 482,\n 'son': 483,\n 'despite': 484,\n 'history': 485,\n 'fine': 486,\n 'final': 487,\n 'sound': 488,\n 'heart': 489,\n 'amazing': 490,\n 'guess': 491,\n 'lead': 492,\n 'humor': 493,\n 'totally': 494,\n 'michael': 495,\n 'writing': 496,\n 'quality': 497,\n \"there's\": 498,\n 'guys': 499,\n 'close': 500,\n 'wants': 501,\n 'child': 502,\n 'behind': 503,\n 'works': 504,\n 'tries': 505,\n 'side': 506,\n 'art': 507,\n 'game': 508,\n 'past': 509,\n 'town': 510,\n 'days': 511,\n 'able': 512,\n 'flick': 513,\n 'hand': 514,\n 'turns': 515,\n 'genre': 516,\n 'act': 517,\n 'enjoyed': 518,\n 'viewer': 519,\n 'favorite': 520,\n 'kill': 521,\n 'car': 522,\n 'soon': 523,\n 'starts': 524,\n 'gave': 525,\n 'run': 526,\n 'sometimes': 527,\n 'etc': 528,\n 'actress': 529,\n 'eyes': 530,\n 'late': 531,\n 'directed': 532,\n 'horrible': 533,\n 'parts': 534,\n 'brilliant': 535,\n 'wasn': 536,\n 'girls': 537,\n 'themselves': 538,\n 'hour': 539,\n 'self': 540,\n 'stories': 541,\n 'thinking': 542,\n 'expect': 543,\n 'city': 544,\n 'stuff': 545,\n 'kid': 546,\n 'god': 547,\n 'won': 548,\n 'blood': 549,\n 'obviously': 550,\n 'decent': 551,\n 'voice': 552,\n 'highly': 553,\n 'myself': 554,\n 'feeling': 555,\n 'fight': 556,\n 'today': 557,\n 'matter': 558,\n 'except': 559,\n 'writer': 560,\n \"wasn't\": 561,\n 'slow': 562,\n 'type': 563,\n \"he's\": 564,\n 'anyway': 565,\n 'roles': 566,\n 'age': 567,\n 'killed': 568,\n 'heard': 569,\n 'says': 570,\n 'moment': 571,\n 'daughter': 572,\n 'took': 573,\n 'leave': 574,\n 'strong': 575,\n 'cannot': 576,\n 'violence': 577,\n 's': 578,\n 'hit': 579,\n 'police': 580,\n 'stop': 581,\n 'happens': 582,\n 'particularly': 583,\n 'known': 584,\n 'happened': 585,\n 'involved': 586,\n 'brother': 587,\n 'obvious': 588,\n 'extremely': 589,\n 'chance': 590,\n 'told': 591,\n 'living': 592,\n 'experience': 593,\n 'lack': 594,\n 'coming': 595,\n 'alone': 596,\n 'james': 597,\n 'including': 598,\n 'murder': 599,\n 'attempt': 600,\n 'happen': 601,\n 'please': 602,\n 'wonder': 603,\n 'gore': 604,\n 'crap': 605,\n 'ago': 606,\n 'group': 607,\n 'complete': 608,\n 'none': 609,\n 'interest': 610,\n 'score': 611,\n 'cut': 612,\n 'simple': 613,\n 'hell': 614,\n 'save': 615,\n 'hero': 616,\n 'looked': 617,\n 'number': 618,\n 'song': 619,\n 'career': 620,\n 'husband': 621,\n 'possible': 622,\n 'annoying': 623,\n 'shown': 624,\n 'sad': 625,\n 'exactly': 626,\n 'seriously': 627,\n 'running': 628,\n 'musical': 629,\n 'serious': 630,\n 'yourself': 631,\n 'david': 632,\n 'whose': 633,\n 'taken': 634,\n 'cinematography': 635,\n 'released': 636,\n 'ends': 637,\n 'scary': 638,\n 'hours': 639,\n 'reality': 640,\n 'english': 641,\n 'usually': 642,\n 'light': 643,\n 'opening': 644,\n 'jokes': 645,\n 'across': 646,\n 'body': 647,\n 'hilarious': 648,\n 'somewhat': 649,\n 'relationship': 650,\n 'started': 651,\n 'usual': 652,\n 'view': 653,\n 'cool': 654,\n 'level': 655,\n 'ridiculous': 656,\n 'change': 657,\n 'opinion': 658,\n 'happy': 659,\n 'wish': 660,\n 'king': 661,\n 'middle': 662,\n 'novel': 663,\n 'taking': 664,\n 'ones': 665,\n 'talking': 666,\n 'ok': 667,\n 'finds': 668,\n 'order': 669,\n 'shots': 670,\n 'documentary': 671,\n 'saying': 672,\n 'female': 673,\n 'huge': 674,\n 'room': 675,\n 'mostly': 676,\n 'power': 677,\n 'episodes': 678,\n 'robert': 679,\n 'important': 680,\n 'talent': 681,\n 'rating': 682,\n 'word': 683,\n 'turned': 684,\n 'strange': 685,\n 'major': 686,\n 'five': 687,\n 'modern': 688,\n 'call': 689,\n 'single': 690,\n 'disappointed': 691,\n 'country': 692,\n 'apparently': 693,\n 'events': 694,\n 'due': 695,\n 'songs': 696,\n 'attention': 697,\n 'earth': 698,\n '7': 699,\n 'four': 700,\n 'television': 701,\n 'jack': 702,\n 'knows': 703,\n 'comic': 704,\n 'supporting': 705,\n 'basically': 706,\n 'non': 707,\n 'clearly': 708,\n 'knew': 709,\n 'british': 710,\n 'future': 711,\n 'fast': 712,\n '8': 713,\n 'class': 714,\n 'cheap': 715,\n 'thriller': 716,\n 'silly': 717,\n 'problems': 718,\n 'tells': 719,\n 'easily': 720,\n 'miss': 721,\n 'local': 722,\n 'paul': 723,\n 'words': 724,\n 'sequence': 725,\n 'entertainment': 726,\n 'bring': 727,\n 'beyond': 728,\n 'rock': 729,\n 'upon': 730,\n 'oscar': 731,\n 'straight': 732,\n 'whether': 733,\n 'sets': 734,\n 'moving': 735,\n 'predictable': 736,\n 'similar': 737,\n 'romantic': 738,\n 'review': 739,\n 'falls': 740,\n 'george': 741,\n 'mystery': 742,\n 'needs': 743,\n 'appears': 744,\n 'enjoyable': 745,\n 'eye': 746,\n 'giving': 747,\n 'clich': 748,\n 'talk': 749,\n 'lady': 750,\n 'within': 751,\n 'richard': 752,\n \"b'\": 753,\n 'ten': 754,\n 'animation': 755,\n 'message': 756,\n 'theater': 757,\n 'near': 758,\n 'couldn': 759,\n 'above': 760,\n 'theme': 761,\n 'team': 762,\n 'nearly': 763,\n 'sequel': 764,\n 'points': 765,\n 'dull': 766,\n 'stand': 767,\n \"you're\": 768,\n 'bunch': 769,\n 'mention': 770,\n 'herself': 771,\n 'add': 772,\n 'feels': 773,\n 'release': 774,\n \"b'the\": 775,\n 'storyline': 776,\n 'ways': 777,\n 'sister': 778,\n 'surprised': 779,\n 'red': 780,\n 'named': 781,\n 'using': 782,\n 'york': 783,\n 'lots': 784,\n 'fantastic': 785,\n 'easy': 786,\n 'begins': 787,\n 'actual': 788,\n 't': 789,\n 'working': 790,\n 'effort': 791,\n 'lee': 792,\n 'tale': 793,\n 'die': 794,\n 'minute': 795,\n 'hate': 796,\n 'clear': 797,\n 'french': 798,\n 'stay': 799,\n 'feature': 800,\n 'elements': 801,\n 'viewers': 802,\n 'among': 803,\n '9': 804,\n 'follow': 805,\n 're': 806,\n 'comments': 807,\n 'showing': 808,\n 'avoid': 809,\n 'editing': 810,\n 'tried': 811,\n 'typical': 812,\n 'famous': 813,\n 'fall': 814,\n 'dialog': 815,\n 'tom': 816,\n 'season': 817,\n 'period': 818,\n 'check': 819,\n 'form': 820,\n 'soundtrack': 821,\n 'certain': 822,\n 'filmed': 823,\n 'sorry': 824,\n 'means': 825,\n 'buy': 826,\n 'material': 827,\n 'peter': 828,\n 'weak': 829,\n 'realistic': 830,\n 'figure': 831,\n 'crime': 832,\n 'doubt': 833,\n 'somehow': 834,\n 'gone': 835,\n 'general': 836,\n 'kept': 837,\n 'parents': 838,\n 'leads': 839,\n 'viewing': 840,\n 'space': 841,\n 'greatest': 842,\n 'suspense': 843,\n 'dance': 844,\n 'lame': 845,\n 'third': 846,\n 'brought': 847,\n 'atmosphere': 848,\n 'hear': 849,\n 'particular': 850,\n 'imagine': 851,\n 'sequences': 852,\n 'move': 853,\n 'whatever': 854,\n 'indeed': 855,\n 'rent': 856,\n 'eventually': 857,\n 'learn': 858,\n 'de': 859,\n 'deal': 860,\n 'reviews': 861,\n 'zombie': 862,\n 'wait': 863,\n 'japanese': 864,\n 'average': 865,\n 'sexual': 866,\n 'note': 867,\n 'premise': 868,\n 'forget': 869,\n 'poorly': 870,\n 'surprise': 871,\n 'believable': 872,\n 'sit': 873,\n 'disney': 874,\n 'stage': 875,\n 'nature': 876,\n 'possibly': 877,\n 'decided': 878,\n 'subject': 879,\n 'expected': 880,\n 'became': 881,\n 'truth': 882,\n 'free': 883,\n 'screenplay': 884,\n 'america': 885,\n 'difficult': 886,\n 'killing': 887,\n 'xa9': 888,\n 'romance': 889,\n 'imdb': 890,\n '20': 891,\n 'nor': 892,\n 'dr': 893,\n 'question': 894,\n 'street': 895,\n 'leaves': 896,\n 'needed': 897,\n 'baby': 898,\n 'reading': 899,\n \"couldn't\": 900,\n 'hot': 901,\n 'begin': 902,\n 'meets': 903,\n 'dog': 904,\n 'directors': 905,\n 'credits': 906,\n 'unless': 907,\n 'joe': 908,\n 'write': 909,\n 'otherwise': 910,\n 'superb': 911,\n 'society': 912,\n 'shame': 913,\n 'okay': 914,\n 'situation': 915,\n 'dramatic': 916,\n 'memorable': 917,\n 'weird': 918,\n 'open': 919,\n 'badly': 920,\n 'earlier': 921,\n 'male': 922,\n 'meet': 923,\n 'acted': 924,\n 'forced': 925,\n 'emotional': 926,\n 'sci': 927,\n 'fi': 928,\n 'dream': 929,\n 'laughs': 930,\n 'writers': 931,\n 'older': 932,\n 'realize': 933,\n 'interested': 934,\n 'forward': 935,\n 'footage': 936,\n 'comment': 937,\n 'crazy': 938,\n 'beauty': 939,\n 'fantasy': 940,\n 'deep': 941,\n 'whom': 942,\n 'sounds': 943,\n 'plus': 944,\n 'monster': 945,\n 'directing': 946,\n 'keeps': 947,\n 'ask': 948,\n 'development': 949,\n 'features': 950,\n 'air': 951,\n 'mess': 952,\n 'quickly': 953,\n 'mark': 954,\n 'd': 955,\n 'creepy': 956,\n 'box': 957,\n 'perfectly': 958,\n 'towards': 959,\n 'worked': 960,\n 'setting': 961,\n 'result': 962,\n 'cheesy': 963,\n 'unique': 964,\n 'e': 965,\n 'brings': 966,\n 'plenty': 967,\n 'hands': 968,\n 'effect': 969,\n 'total': 970,\n 'previous': 971,\n 'jane': 972,\n 'girlfriend': 973,\n 'fire': 974,\n 'personal': 975,\n 'rate': 976,\n 'bill': 977,\n 'incredibly': 978,\n 'business': 979,\n 'leading': 980,\n 'joke': 981,\n 'admit': 982,\n 'casting': 983,\n 'appear': 984,\n 'background': 985,\n 'powerful': 986,\n 'apart': 987,\n 'present': 988,\n 'telling': 989,\n 'christmas': 990,\n 'meant': 991,\n 'potential': 992,\n 'battle': 993,\n 'create': 994,\n 'break': 995,\n 'hardly': 996,\n 'return': 997,\n 'era': 998,\n \"you'll\": 999,\n 'masterpiece': 1000,\n ...}"
     },
     "execution_count": 29,
     "metadata": {},
     "output_type": "execute_result"
    }
   ],
   "source": [
    "tokenizer.word_index"
   ],
   "metadata": {
    "collapsed": false,
    "pycharm": {
     "name": "#%%\n"
    }
   }
  },
  {
   "cell_type": "code",
   "execution_count": 33,
   "outputs": [],
   "source": [
    "imdb_sentences = []\n",
    "table = str.maketrans('','',string.punctuation)\n",
    "\n",
    "for item in train_data:\n",
    "    sentence = str(item['text'].decode('UTF-8').lower())\n",
    "    soup = BeautifulSoup(sentence)\n",
    "    sentence = soup.get_text()\n",
    "    words = sentence.split()\n",
    "    filtered_sentence = ''\n",
    "\n",
    "    for word in words:\n",
    "        word = word.translate(table)\n",
    "\n",
    "        if word not in stopwords:\n",
    "            filtered_sentence = filtered_sentence + word + ''\n",
    "\n",
    "        imdb_sentences.append(filtered_sentence)\n",
    "\n",
    "tokenizer = Tokenizer(num_words=25000)\n",
    "tokenizer.fit_on_texts(imdb_sentences)\n",
    "\n",
    "sequences = tokenizer.texts_to_sequences(imdb_sentences)"
   ],
   "metadata": {
    "collapsed": false,
    "pycharm": {
     "name": "#%%\n"
    }
   }
  },
  {
   "cell_type": "code",
   "execution_count": 34,
   "outputs": [
    {
     "data": {
      "text/plain": "{'movie': 1,\n 'film': 2,\n 'first': 3,\n 'saw': 4,\n 'im': 5,\n 'well': 6,\n 'just': 7,\n 'am': 8,\n 'watched': 9,\n 'sawmovie': 10,\n 'think': 11,\n 'like': 12,\n 'only': 13,\n 'thought': 14,\n 'ok': 15,\n 'dont': 16,\n 'can': 17,\n 'seen': 18,\n 'ive': 19,\n 'say': 20,\n 'love': 21,\n 'smallvilleepisodejusticebestepisodesmallville': 22,\n 'smallvilleepisodejusticebestepisodesmallvillefavoriteepisodesmallville': 23,\n 'wow': 24,\n 'read': 25,\n 'dontknow': 26,\n 'know': 27,\n 'story': 28,\n 'sawfilm': 29,\n 'loved': 30,\n 'enjoyed': 31,\n 'who': 32,\n 'movies': 33,\n 'believe': 34,\n 'firstsaw': 35,\n 'okay': 36,\n 'went': 37,\n 'worst': 38,\n 'watching': 39,\n 'great': 40,\n 'best': 41,\n 'admit': 42,\n 'yes': 43,\n 'found': 44,\n 'theres': 45,\n 'remember': 46,\n 'spoilers': 47,\n 'bad': 48,\n 'liked': 49,\n 'rented': 50,\n 'heard': 51,\n 'now': 52,\n 'show': 53,\n 'agree': 54,\n 'once': 55,\n 'may': 56,\n 'see': 57,\n 'iveseen': 58,\n 'man': 59,\n 'watchedmovie': 60,\n 'greatmovie': 61,\n 'far': 62,\n 'being': 63,\n 'justsaw': 64,\n 'cansay': 65,\n 'films': 66,\n 'plot': 67,\n 'worstmovie': 68,\n 'absolutely': 69,\n 'here': 70,\n 'hard': 71,\n 'people': 72,\n 'imsure': 73,\n 'lovedmovie': 74,\n 'time': 75,\n 'watch': 76,\n 'let': 77,\n 'idea': 78,\n 'seeing': 79,\n 'worstmovies': 80,\n 'actually': 81,\n 'start': 82,\n 'want': 83,\n 'didnt': 84,\n 'wanted': 85,\n 'bought': 86,\n 'firstsawmovie': 87,\n 'excellent': 88,\n 'justwatched': 89,\n 'wasnt': 90,\n 'will': 91,\n 'doubt': 92,\n 'enjoyedmovie': 93,\n 'interesting': 94,\n 'god': 95,\n 'sure': 96,\n 'reading': 97,\n 'title': 98,\n 'come': 99,\n 'years': 100,\n 'caught': 101,\n 'gave': 102,\n 'seenmovie': 103,\n 'likedmovie': 104,\n 'definitely': 105,\n 'lovemovie': 106,\n 'thats': 107,\n 'moviemade': 108,\n 'moviebad': 109,\n 'ill': 110,\n 'kind': 111,\n 'wife': 112,\n 'back': 113,\n 'wentsee': 114,\n 'thoughtmovie': 115,\n 'grew': 116,\n 'opinion': 117,\n 'firstsawfilm': 118,\n 'life': 119,\n 'made': 120,\n 'isnt': 121,\n 'guess': 122,\n 'series': 123,\n 'beginning': 124,\n 'simply': 125,\n 'documentary': 126,\n 'onlyreason': 127,\n 'haventseen': 128,\n 'premise': 129,\n 'finally': 130,\n 'didntknow': 131,\n 'funny': 132,\n 'warning': 133,\n 'long': 134,\n 'possibly': 135,\n 'honestly': 136,\n 'truly': 137,\n 'happened': 138,\n 'watchedfilm': 139,\n 'imagine': 140,\n 'heres': 141,\n 'question': 142,\n 'fan': 143,\n 'give': 144,\n 'rentedmovie': 145,\n 'wonder': 146,\n 'youre': 147,\n 'unfortunately': 148,\n 'recently': 149,\n 'picked': 150,\n 'looking': 151,\n 'moviegreat': 152,\n 'iveread': 153,\n 'based': 154,\n 'reason': 155,\n 'seriously': 156,\n 'understand': 157,\n 'worstfilms': 158,\n 'maybe': 159,\n 'normally': 160,\n 'moviejust': 161,\n 'acting': 162,\n 'dear': 163,\n 'lucky': 164,\n 'moviestarts': 165,\n 'foundmovie': 166,\n 'given': 167,\n 'thinkmovie': 168,\n 'enjoyedfilm': 169,\n 'filmbad': 170,\n 'young': 171,\n 'director': 172,\n 'favorite': 173,\n 'surprised': 174,\n 'havent': 175,\n 'last': 176,\n 'cast': 177,\n 'imbigfan': 178,\n 'going': 179,\n 'kid': 180,\n 'wonderful': 181,\n 'letstartsaying': 182,\n 'amazing': 183,\n 'badmovie': 184,\n 'whats': 185,\n 'shame': 186,\n 'firsttime': 187,\n 'expecting': 188,\n 'problem': 189,\n 'justsawmovie': 190,\n 'begin': 191,\n 'dontthink': 192,\n 'couldnt': 193,\n 'id': 194,\n 'letstart': 195,\n 'didntexpect': 196,\n 'worstmovieseen': 197,\n 'sorry': 198,\n 'pretty': 199,\n 'second': 200,\n 'sad': 201,\n 'look': 202,\n 'written': 203,\n 'lets': 204,\n 'john': 205,\n 'likemovie': 206,\n 'review': 207,\n 'moviehorrible': 208,\n 'way': 209,\n 'knew': 210,\n 'rememberseeing': 211,\n 'strange': 212,\n 'wantedlike': 213,\n 'greetings': 214,\n 'sat': 215,\n 'firstmovie': 216,\n 'comment': 217,\n 'watchingmovie': 218,\n 'wish': 219,\n 'feel': 220,\n 'yeah': 221,\n 'firstletsay': 222,\n 'true': 223,\n 'spoiler': 224,\n 'comedy': 225,\n 'words': 226,\n 'ambigfan': 227,\n 'honest': 228,\n 'rememberwatching': 229,\n 'find': 230,\n 'friends': 231,\n 'bestmovies': 232,\n 'little': 233,\n 'onlymovie': 234,\n 'firstlet': 235,\n 'star': 236,\n 'original': 237,\n 'happens': 238,\n 'enjoy': 239,\n 'possible': 240,\n 'course': 241,\n 'hate': 242,\n 'boughtdvd': 243,\n 'firstly': 244,\n 'imsorry': 245,\n 'terrible': 246,\n 'felt': 247,\n 'basically': 248,\n 'greatfilm': 249,\n 'yearsago': 250,\n 'excellentfilm': 251,\n 'put': 252,\n 'short': 253,\n 'wantedlikemovie': 254,\n 'certainly': 255,\n 'suppose': 256,\n 'imgoing': 257,\n 'note': 258,\n 'least': 259,\n 'consider': 260,\n 'friend': 261,\n 'comments': 262,\n 'readbook': 263,\n 'readreviews': 264,\n 'old': 265,\n 'waste': 266,\n 'night': 267,\n 'times': 268,\n 'new': 269,\n 'hollywood': 270,\n 'justfinishedwatching': 271,\n 'personally': 272,\n 'started': 273,\n 'end': 274,\n 'came': 275,\n 'part': 276,\n 'rated': 277,\n 'moviepotential': 278,\n 'excited': 279,\n 'foundfilm': 280,\n 'take': 281,\n 'notice': 282,\n 'highhopes': 283,\n 'rare': 284,\n 'horror': 285,\n 'worstfilm': 286,\n 'dontunderstand': 287,\n 'woman': 288,\n 'hell': 289,\n 'imfan': 290,\n 'easily': 291,\n 'big': 292,\n 'lookingforward': 293,\n 'mean': 294,\n 'world': 295,\n 'early': 296,\n 'hello': 297,\n 'cinderella': 298,\n 'piece': 299,\n 'justwatchedmovie': 300,\n 'difficult': 301,\n 'earth': 302,\n 'work': 303,\n 'heardfilm': 304,\n 'imsurprised': 305,\n 'brilliant': 306,\n 'guy': 307,\n 'generally': 308,\n 'nice': 309,\n 'tried': 310,\n 'looked': 311,\n 'movieterrible': 312,\n 'panic': 313,\n 'disappointed': 314,\n 'wentmovie': 315,\n 'boy': 316,\n 'contrary': 317,\n 'known': 318,\n 'name': 319,\n 'bit': 320,\n 'expected': 321,\n 'lost': 322,\n 'point': 323,\n 'worstmoviesseen': 324,\n 'iveseenmovie': 325,\n 'okfirst': 326,\n 'return': 327,\n 'firstheard': 328,\n 'still': 329,\n 'typical': 330,\n 'didntthink': 331,\n 'year': 332,\n 'number': 333,\n 'call': 334,\n 'longtime': 335,\n 'couldntbelieve': 336,\n 'youve': 337,\n 'timeperiodexhaustivelycoveredtelevisionmediageneral1960sneedtripturbulenttime': 338,\n 'moviesurprised': 339,\n 'impressed': 340,\n 'expect': 341,\n 'family': 342,\n 'movieawesome': 343,\n 'dvd': 344,\n 'reviews': 345,\n 'justfinished': 346,\n 'supposed': 347,\n 'wellcan': 348,\n 'following': 349,\n 'need': 350,\n 'worstmoviesiveseen': 351,\n 'excellentmovie': 352,\n 'surely': 353,\n 'seemovie': 354,\n 'starrating': 355,\n 'wantwatch': 356,\n 'awful': 357,\n 'house': 358,\n 'spoilersspoilers': 359,\n 'ivewatched': 360,\n 'picture': 361,\n 'bestmovie': 362,\n 'ah': 363,\n 'movieawful': 364,\n 'thanks': 365,\n 'incredible': 366,\n 'beautiful': 367,\n 'hardbelieve': 368,\n 'episode': 369,\n 'firstfilm': 370,\n 'familiarfantasticbookgoodnightmistertomabsolutelyagesonlyrecentlychancewatchadaptionheardpositiveremarkshighhopesoncefilmfinishedhorrifiedthisfilmfilmgoodnightmistertomextremelypooradaptionpractically4510bookmissedfoundcharactersgreatscenesbookdialoguerushedfarfastmovingupsetseebondinglovewilliambeechtomfilmtrueletdowncastinggoodeitherthought': 371,\n 'watchingfilm': 372,\n 'set': 373,\n 'disney': 374,\n 'starts': 375,\n 'rarely': 376,\n 'moviefreejobsimilarmovieswatchedlowexpectationsnowmovieisntbadsepaytalelovebetrayalliessexscandalwantmoviedefinitelyhollywoodblockbustercheapthrillsbadwatchmovienutshellkindmovieseelatenightlocaltelevisionstationjustwantingtaketimeseesundayafternoonlocaltelevisionstationtryingtaketimebadactingclichélinessubparcameraworkdidntdesireturnmoviepretendlikepoppeddvdplayerstorytimesmovies': 377,\n 'wasntsure': 378,\n 'readcomments': 379,\n 'interested': 380,\n 'likedfilm': 381,\n 'lovedfilm': 382,\n 'group': 383,\n 'firsttimesaw': 384,\n 'laughed': 385,\n 'worstmoviesive': 386,\n 'sort': 387,\n 'sequel': 388,\n 'imbig': 389,\n 'movielike': 390,\n 'terriblemovie': 391,\n 'surprisingly': 392,\n 'thoughtfilm': 393,\n 'tv': 394,\n 'movieonly': 395,\n 'possiblespoilers': 396,\n 'thinkfilm': 397,\n 'familiar': 398,\n 'wont': 399,\n 'example': 400,\n 'oncetime': 401,\n 'classic': 402,\n 'loveshow': 403,\n 'kindmovie': 404,\n 'released': 405,\n 'wasntexpecting': 406,\n 'kurtrussell': 407,\n 'wentseemovie': 408,\n 'took': 409,\n 'david': 410,\n 'unfortunate': 411,\n 'sawtrailer': 412,\n 'guys': 413,\n 'commented': 414,\n 'atlantis': 415,\n 'high': 416,\n 'word': 417,\n 'watchshow': 418,\n 'seenfilm': 419,\n 'heardmovie': 420,\n 'husband': 421,\n 'dontsee': 422,\n 'caughtmovie': 423,\n 'fun': 424,\n 'contains': 425,\n 'case': 426,\n 'likechrisrockfeelwastedfilmidearemakingheavencanwaitfinefilmmakersfollowedplotturkeycloselyeddiemurphyremadedrdoolittlenuttyprofessorredidtotallymurphyfilmsvehiclesjusttepidremakesthatssuccessfulchris': 427,\n 'robert': 428,\n 'badfilm': 429,\n 'decided': 430,\n 'game': 431,\n 'born': 432,\n 'matter': 433,\n 'reasons': 434,\n 'script': 435,\n 'justlike': 436,\n 'beginningmovie': 437,\n 'comes': 438,\n 'mother': 439,\n 'sadly': 440,\n 'filmmade': 441,\n 'dogsheaven': 442,\n 'realizeyouvewatchingexactshowyearsrightunderstandinitialcuriosityseeingstrangerscoexistislandyoudthinkwatchingunkemptstinkladenedheroesrunroughshodbusheggspoonhalfdecade': 443,\n 'alright': 444,\n 'version': 445,\n 'truestory': 446,\n 'rentedfilm': 447,\n 'showcomesinterestinglocationsfasttravelchannelbilledrealityactualitypureprimetimesoapoperatriesexoticlocalesfacadebringpeoplephonycontestproceedshookviewerscontestantssoapoperastyleitborrowsearlycbsgameshowpioneerbeatclockinventingsituationscontestantstryovercomerewardswinnermoneycanspicelittleinteractioncharactersgameformatslowmotionbeatclockrealaccomplishmentseriesescaperealityshowelementstypessuccessfulpastprogramsrealitytelevisionhookedcontestantslocalecontestcupteaentireseriessaydriveldrippinggravyshowhidingrealitylabeltrendstarted2000itslickwellproducedlast': 448,\n 'stooges': 449,\n 'farworstmovie': 450,\n 'containsspoilers': 451,\n 'okmovie': 452,\n 'newyork': 453,\n 'told': 454,\n 'ambig': 455,\n 'wantedsee': 456,\n 'wellcansay': 457,\n 'american': 458,\n 'video': 459,\n 'apparently': 460,\n 'opening': 461,\n 'wouldnt': 462,\n 'horrible': 463,\n 'day': 464,\n 'extremely': 465,\n 'reviewers': 466,\n 'movieexcellent': 467,\n 'holes': 468,\n 'minutes': 469,\n 'wonderfulmovie': 470,\n 'sopranos': 471,\n 'book': 472,\n 'stoogesactorslovedlovejustshortsmadelovestoogescurlyshempmoelarryjoecurlyjoeshortshilariousstargreatactorsactresses': 473,\n 'cansaymovie': 474,\n 'filmstarts': 475,\n 'enjoyable': 476,\n 'ivereadcomments': 477,\n 'poor': 478,\n 'givemovie': 479,\n 'lovefilm': 480,\n 'real': 481,\n 'belalugosi': 482,\n 'according': 483,\n 'storyline': 484,\n 'dontwrong': 485,\n 'movieworst': 486,\n 'confess': 487,\n 'forget': 488,\n 'boughtmovie': 489,\n 'talk': 490,\n 'low': 491,\n 'worse': 492,\n 'tell': 493,\n 'whatsreasonsortvendettaawesomeshowinvolvedbestshowiveseenyearscanceledimaddictedsawshowrandomlylastfalllovedwatchedweekwentawaytriedtivowasntbeingairedforgotawhilefoundepisodesabcswebsitenowwantagreerestjunktvtodayrefreshingseewellroundeddevelopedwatchbostonlegaleccentriccomedicfixhouseintellectualmysteryjackassfixwifelovesgreysanatomyrealismlovehateshowfartherrealwaydramacanwrongoncetheresdramathatsrealrealpeoplerealproblemssureextremeslikegangsterturnedgirlrunningmobpeopleespeciallynyc': 494,\n 'wantedlikefilm': 495,\n 'firstcamedadbroughthomeamazed': 496,\n 'obviously': 497,\n 'wastetime': 498,\n '1st': 499,\n 'justsawfilm': 500,\n 'remembermovie': 501,\n 'missed': 502,\n 'animation': 503,\n 'piececrapstayedtvlongterriblemakeswantshootfakeactuallyworse1940sscifimovieidstrokewatchnonsenserememberwatchingfirstcamethoughtheyinterestingfoundabsolutelyinsanelyridiculouslystupid': 504,\n 'happen': 505,\n 'dogs': 506,\n 'realizeyouvewatchingexactshowyearsrightunderstandinitialcuriosityseeingstrangerscoexistislandyoudthinkwatchingunkemptstinkladenedheroesrunroughshodbusheggspoonhalfdecadecommitlittleoriginalinterestingandimspeakingshowsvalidityrecordfindquestionablejusthardsuspenddisbeliefbushybilleatingratentirecrewproducerscamerapeoplehousedairconditionedmakeshiftbiodomesippingfrostymochcinnosmoxywhatsappealheredontcarepeoplemeanderinglivesjustdont': 507,\n 'considered': 508,\n 'father': 509,\n 'fullhouse': 510,\n 'favoritemovies': 511,\n 'hi': 512,\n 'kindfilm': 513,\n 'steven': 514,\n 'funniest': 515,\n 'wantscreamlikebigstudiohorrorproductforceddaysdontbotherwellwrittenfilmkeptthinkingsayimportancemythlivessensechildreninterpretworldviolenceransackingenvironmentignorancehistorylegendshereflatlysurfacetechnicallycallmonstermoviewendigotakephysicalformend': 516,\n 'paul': 517,\n 'moviemakes': 518,\n 'simple': 519,\n 'totally': 520,\n 'filmterrible': 521,\n 'starters': 522,\n 'welcomecollinwood': 523,\n 'war': 524,\n 'filmtakes': 525,\n 'letsface': 526,\n 'stumbled': 527,\n 'begins': 528,\n 'recentlywatched': 529,\n 'right': 530,\n 'movieslike': 531,\n 'cantell': 532,\n 'actors': 533,\n 'movieinterestingstartdownroadstoryconvolutedpoorillustrationancientblackmagicritualsmalelead': 534,\n 'enjoyedwatching': 535,\n 'canunderstand': 536,\n 'pickedmovie': 537,\n 'filmcan': 538,\n 'crudetimescrassthatssummationmadhurbhandarkarslatestworkpage3pointviewjustshallowfunnydigsstereotypesmoviereportingclanpeoplecalledpage3typeswhobusysocializingprogressingprofileslifetime': 539,\n 'waited': 540,\n 'knowlettersfatherchristmasjesusyearwellturnsactuallydelivereddroppedhalfforgottencornerpostofficerotbrightsparkfigureswaypostingbizarresettingswinnerperfectlyfitsstrangemoviedeadletterofficeobviouslyaustralianfilmopposedbritishroyalmailletterssorttreatmentanywayhaventflatyearsstilllettersmrwangfemalepriestchurchdayiveneverheardofyoucataloguesindustrialequipmentaddressedplumbingcompanydeadletterofficenamegivenplaceundeliverablemailendsfollowsstoryalicemirandaottowhogrowsseriouslydividedhomewritingabsentfatheronlylearnsadulthoodlettershaventdeliveredreasonlogicallyjobdlofindsworkingsocialrejectsincludingbroodingchileanimmigrantfranklopezgeorgedelhoyoslowlyfindsdrawncanfinddadbringingselfcontainedworlddeadlettersofficekneesnothingfilmremindedgodawfulheathergrahamfilmcommittedwatching': 541,\n 'obvious': 542,\n 'michael': 543,\n 'boring': 544,\n 'movieok': 545,\n 'lowbudget': 546,\n 'originally': 547,\n 'halloween': 548,\n 'welcome': 549,\n 'imglad': 550,\n 'firstwatched': 551,\n 'okayfirst': 552,\n 'amhuge': 553,\n 'worstfilmsseen': 554,\n 'wonderfulfilm': 555,\n 'superb': 556,\n 'realize': 557,\n 'bestfilms': 558,\n 'deliverance': 559,\n 'coming': 560,\n 'rememberfilm': 561,\n 'third': 562,\n 'exactly': 563,\n 'attempt': 564,\n 'knowpeople': 565,\n 'dicktracy': 566,\n 'onlyway': 567,\n 'midnightcowboy': 568,\n 'highexpectations': 569,\n 'iveseenfilm': 570,\n 'bestmovieiveseenbulimiahitexactspotbulimiabeingskinnydietingshowedpeoplebulimiatendthinkoutlooklifefriendsbestlinepartshowsproblembulimiabethsaysitslineshowedcharacterproblemshowedpeoplebulimiadontproblem': 571,\n 'firstlets': 572,\n 'directed': 573,\n 'greetingsdarkness': 574,\n 'arent': 575,\n 'hey': 576,\n 'thinking': 577,\n 'firstidlike': 578,\n 'hoping': 579,\n 'absolutelyloved': 580,\n 'moviepretty': 581,\n 'secret': 582,\n 'entertaining': 583,\n 'elviramistress': 584,\n 'lookedforward': 585,\n 'girlfriend': 586,\n 'wantsee': 587,\n 'amsurprised': 588,\n 'action': 589,\n 'possiblyworst': 590,\n 'seeingmovie': 591,\n 'spoileralert': 592,\n 'timeperiodexhaustivelycoveredtelevisionmediageneral1960sneedtripturbulenttimeshallow60slikethinkcowritersbillcouturierobertgreenfieldmindtwopartminiseriesultimatelyresultedespeciallygivencouturiesinvolvementsuperbhbomoviedearamericalettershomevietnamutilizedlittleoriginalmusicoriginalfootagelettingsightssoundstimespeakpresentationintercutsfilefootagedramaticproductiondoesntfavourstryinglittletimelikeilkseenpointviewfamilychildrenfamilyinvolvedtangentiallymajorevent60samazingdoesntrollingstonesgigaltamontmakinglikeperioddramalikecliffnotesversiondecadethemakersrushthereslittletimegivecharacterscharacterstickfigurescalledprotagonistsscreenagestimechildrensfatherespeciallyclichédtheyrebackblammogarrytrudeauteachfilmmakerskindproperlyfairnessjerryoconnelljordanabrewsterjeremysistojuliastilescharlesduttongivematerialoldcollegetrytheyrewastedespeciallyundeniablyseedavidalangrierrarestraightroleactivistfredhamptonrosannaarquetteuncreditedcameopart2welcomewhatisntwelcome60sdrownssoundtrackperiodsongsultimatelyreducesminimaleffectmaywellonlytimeamericantvpresentationpost60samericamentionsbritishinvasionbeatlesrollingstonestheresonlytunescanshoehornsoundtrackalbumrightcappingsurfaceskimmingapproachtimeplotoutofplacehappyendingamericandreamswonderyears': 593,\n 'dressedkill': 594,\n 'child': 595,\n '1': 596,\n 'terminusparadisexceptionalnikiardeleancomeslate': 597,\n 'awfulmovie': 598,\n 'kalifornia': 599,\n 'disappointing': 600,\n 'sawtheater': 601,\n 'william': 602,\n 'famous': 603,\n 'familiarfantasticbookgoodnightmistertomabsolutelyagesonlyrecentlychancewatchadaptionheardpositiveremarkshighhopesoncefilmfinishedhorrifiedthisfilmfilmgoodnightmistertomextremelypooradaptionpractically4510bookmissedfoundcharactersgreatscenesbook': 604,\n 'familiarfantasticbookgoodnightmistertomabsolutelyagesonlyrecentlychancewatchadaptionheardpositiveremarkshighhopesoncefilmfinishedhorrifiedthisfilmfilmgoodnightmistertomextremelypooradaptionpractically4510bookmissedfoundcharactersgreatscenesbookdialoguerushedfarfastmovingupset': 605,\n 'noticed': 606,\n 'viewed': 607,\n 'highhopesfilm': 608,\n 'femalefriendwhocurrentlybeingdrawnrelationshipsobwholongtermgirlfriendcoursesobgoodlookingcharmingfriendintelligentwomanwatchingjeanpierreleaudscharacterworkexactlylikewatchinggoesreallifeguyslikedestroylivesfemalefriendstragicknowshesgoingendhurttherescanleaudbrillianttotallyemptyblankpullsfacestellsstoriesthinkswillreactionwantsthescenehoursleaudlebrunmadelovenextmorningputsrecordsweetlycharminglysingsamusebrillianthellamhereidiotexpressionflickersbackforthacrossfacewillmemorylongtimecomeitslongfilmseepreferablycinematakes': 609,\n 'confused': 610,\n 'spacecamp': 611,\n 'revolt': 612,\n 'actorindependentwriterdirectorjohncassaveteswomaninfluencegivesviewerlookworkingclassfamilyproblemmentalinstabilityhusbandnickplayedpeterfalkbluecollarworkerwhotroubleshowingwifemabelplayedgenarowlandsamountattentiondeservesonsetfilmobviousmabelquirkystrangeonlyminuteslaterclearcrazybonkersdamnmindnicktrieshardesthidecoworkersstrangeincidentdinnerasksshellokayhestryingdenymabelsillnessproblemonlyspiralsthereifindproblemsfilmguessproblemspresentstorywaycharacteractedendmabelcommittedfranklyshesnutsmonthslatershesreadycomehospitalhusbandthrowspartywelcomebackactsstupidbeginningmovieinvitepeoplestrangersmabelhousewifefragilestatesimplyidioticlatermabelcomeshousemabelsfatherhugeoutburstnickscreamingtoplungswantingeatspaghettidaughterjustbackmonthsrehabilitationwantkeepcalmgoesnutsspaghettiminuteslaterfilmnickbringsmabelstairwellforcesmentallyunstableweirdnoisesgesturesdidnt': 613,\n 'beingfan': 614,\n 'stars': 615,\n 'worstmovieiveseen': 616,\n 'caughtfilm': 617,\n 'drama': 618,\n 'illhonest': 619,\n 'ivenoticed': 620,\n 'illsay': 621,\n 'starratingsaturdaynight': 622,\n 'starratingsaturdaynightfridaynight': 623,\n 'starratingsaturdaynightfridaynightfridaymorning': 624,\n 'starratingsaturdaynightfridaynightfridaymorningsundaynight': 625,\n 'filmbadworseimaginablefashionjustpooractingscriptlameperversetimewasteswatchingputsfilmhallshameapparentstrugglingwritersproducersfilmtryfunnyactressreplacingjeanrenosdescendantoldlearnedlessonfirstfilmaddnewgirlwhomarriednearlyoriginalextrasgagsreturntimemakeswantripeeyessocketswasteperfectlyfilmtortureconstantcameracutsshotsscenemoviecanputviewerviolentconvolutionssecondfilmtakessuccessfuloriginaldragscoffinparadescorpsepublicsquareperverselydegradesonlyoriginalidealegacyintelligencewellfilmsprucegooseflyplotprincipalsreturningnecklacescriptapparentlywrittenaddeddailyattentioncamerashotsmindpoorlightingspecialeffectssakefilmpassstudentfilmbasicfilm101pilecantellbigloosinginvestment': 626,\n 'sexocannibaldevilhuntercommonlyknownenglishspeakingaudiencesstartsactressmodellauracrawfordursulabuchfellnerursulafellnercheckinglocationsnewfilmassistantjanegiselahahnlongdaysworklaurarelaxingbathroomdubiouscharactersnamedchriswernerpochaththomasantoniomayansburstkidnaphelpedtreacherousjanelaurasagentblowerrentaheropeterwestonalcliverwhoinformedsituationkidnapperslauraisolatedislanddemanding6millionransompetertoldwillpaid200000backsafely106millionbringsbackwellfasterratdrainpipepetervietnamvetbuddyhelicopterpilotjackislanddecidingsavelaurakidnapperslaurapeter6millionwanthandjustcomplicateisolatedislandhomeprimitivetribehellgenerationstheyvelivedtheyveonlymanagedbuildstrawhutnowthatsprimitivewhoworshipcannibalmonsterdudeburtaltmanbulgingeyesgodhumansacrificescanniballikingyoungwhitefemalefleshintestinesthisspanishfrenchgermancoproductioncowrittendirectedprolificjesusfrancowhocreditmusicwellsexocannibalgainedamountnotorietyhereukplacedvideonastieslistearly80salternatedevilhuntertitleofficiallyclassedobscenebannedideabadfilmfrancowhoisntafraidassociatedturkeydecideswantshidepseudonymcliffordbrownidimaginediehardfrancofanhardtimedefendingscriptfrancoermsorrymeancliffordbrownjulianestebanjuliusvalerywhoobviouslyimpressedfinishedproductwantednamedremovedawfulsimplestraightforwardstartfilmboringuntruekidnapplotdullestiveseenslightestbittensionexcitementinvolvedhorrorsidedontimprovebigblackguystupidlookingoversizedbloodshoteyesplustamecannibalsceneshorrorfilmsexocannibalfailsactionadventuresuccessavoiddirectorfrancoshowsusualincompetencedecapitatedheadachievedactorlyinggroundlargeleavesplacedbottomnecktrygiveimpressionattachedcannibalscenespooractionlameendlessscenespeoplerandomlywalkingjungle': 627,\n 'amazingmovie': 628,\n 'sawmoviefirst': 629,\n 'viewing': 630,\n 'grewwatching': 631,\n 'meant': 632,\n '1stwatched': 633,\n 'raisingvictorvargas': 634,\n 'french': 635,\n 'absolutelylovedmovie': 636,\n 'readnovel': 637,\n 'seefilm': 638,\n 'production': 639,\n 'suddenimpact': 640,\n 'justfinishedwatchingmovie': 641,\n 'lookingforwardseeing': 642,\n 'small': 643,\n 'danieldaylewis': 644,\n 'usual': 645,\n 'richard': 646,\n 'men': 647,\n 'matador': 648,\n 'left': 649,\n 'scary': 650,\n 'movieshows': 651,\n 'petsematary': 652,\n '2': 653,\n 'geez': 654,\n 'gavemovie': 655,\n 'amhugefan': 656,\n 'badbad': 657,\n 'wellsay': 658,\n 'ideafilm': 659,\n 'possiblyworstmovie': 660,\n 'dontbelieve': 661,\n 'growing': 662,\n 'remake': 663,\n 'george': 664,\n 'feeling': 665,\n 'slaughterhigh': 666,\n 'moviegoing': 667,\n 'spoilershere': 668,\n 'simplyput': 669,\n 'sawmovietheater': 670,\n 'problems': 671,\n 'patheticattemptsciencejustifynewagereligionphilosophy': 672,\n 'movienudesceneskarenallenimstillboredwalkstinkerkarenstuckparisbefriendssissilyhandsomefrenchmanwhomsexsooncoursehesmarriedcheriprobleminterestingclashculturesbelievejustdullwalkedmaybemovieleft': 673,\n 'sawmoviefirstcame1970shatedhatedhatedeasilybooooringmovieseenlifedontknowleighinspirationmovieswantshakecharactersopenmouthscommunicatetitlesayssavingmomentsmoviejustlonglongsilencespeopleunablearticulatepresumablyfeelingwantwatchwilldrivedrink': 674,\n 'womaninfluencemabelgoescrazycanseecrazylivedkindlifelivedfamilycrazyfamilyrockercompletelyconstantlysurroundedpeopleyellingtellingbestpeoplearentsharpestknifesdrawertostartpersonclosestlifehusbandnicklittlerockeryellinghometellinglivelifeactinglikeimbecileresttimeworkinglonghoursjobisntsupportneedssupportpersonlife': 675,\n 'movieinterestingcastmatlistcastactorsfilmjobimgladgrademovieslikestorybasicactorsbasicwayexecutedontneedmilliondollarbudgetfilmjustmixlistordinaryactorsbasicplotlikewaystreet': 676,\n 'remakesplotlikevhsadditioncopydvdjustvariationscriptsentertainingrewatchableadditionfilmremadetimesstarcastscoursestarsgreatsupportingactorssuperblikewilliamtracypepiscenestealersearchedfindmovies': 677,\n 'justcameback': 678,\n 'moviefar': 679,\n 'hated': 680,\n 'bigfan': 681,\n 'amfan': 682,\n 'illkeep': 683,\n 'firstidlikesay': 684,\n 'delightful': 685,\n 'revenge': 686,\n 'biggest': 687,\n 'moviewill': 688,\n 'losefriendsalienatepeople': 689,\n 'readingreviews': 690,\n 'adaptation': 691,\n 'seenmovietimes': 692,\n 'jimcarrey': 693,\n 'titlelike': 694,\n 'moviebest': 695,\n 'firstfirst': 696,\n 'pleasure': 697,\n 'premisemovie': 698,\n 'wellmovie': 699,\n 'timeperiodexhaustivelycoveredtelevisionmediageneral1960sneedtripturbulenttimeshallow60slikethinkcowritersbillcouturierobertgreenfieldmindtwopartminiseriesultimatelyresultedespeciallygivencouturiesinvolvementsuperbhbomoviedearamericalettershomevietnamutilizedlittleoriginalmusicoriginalfootagelettingsightssoundstimespeakpresentationintercutsfilefootagedramaticproductiondoesntfavourstryinglittletimelikeilkseenpointviewfamilychildrenfamilyinvolvedtangentiallymajorevent60samazingdoesntrollingstonesgigaltamontmakinglikeperioddramalikecliffnotesversiondecadethemakersrushthereslittletimegivecharacterscharacterstickfigurescalledprotagonistsscreenagestimechildrensfatherespeciallyclichédtheyrebackblammogarrytrudeauteachfilmmakers': 700,\n 'terriblefilm': 701,\n 'redrockwest': 702,\n 'firstfilmhorrorfestwatchedimthinkingdontneedseetoldthinkingmanshorrormoviesaysupposedthinkshutterthinksplattergorefilmscollectionwilllikedontwronggorefilmworthsittingthroughtheplotwashedwayartartssakecameraeffectsmusicplacetimecharactersbanalsayleastcharactersscenesworthlessendstartrevealhookshamiltonsfiguredwholennyhalfhourfiguredmovievisuallywhelmedconfusedlennyrevealcompletelyfeltrippedexpected': 703,\n 'filmworstfilm': 704,\n 'longtimelastsawmoviebadactingaveragestoryhorriblyboringimlosswordsexecutioncompletelyunoriginal': 705,\n 'opportunity': 706,\n 'full': 707,\n 'backyoutholdmanwantedmarryfirstcousinfamilyforbiddecadeslateroldmanraisedchildrenboysgirlallowssondaughtermarrychildrensoonsisterboredbrother1jumpsbedbrother2onethinksiblingsstuckremoteislandupperclasseuropeansgoingcollegebusysocialworldneverseeflirtatiousmomentnonrelatedfemalebrothersseeflirtatiousmomentnonrelatedmalesisterflirtatiousmomentssharedonlybrotherssistertheweakestpartgladiatorincestyoungemperorcommodushundredsslavegirlscityfullmarriagemindedgirls': 708,\n 'moviemay': 709,\n 'purchased': 710,\n 'dark': 711,\n 'try': 712,\n 'babyface': 713,\n 'watchfilm': 714,\n 'makes': 715,\n 'saythoughtseenamextremelyjadedmoviebuffmoviedidntshockmeansimwaypastpointtakeemotionalplacesdidntknowideafindickideabeastialityerotic': 716,\n 'comedies': 717,\n 'finduselesscommentmoviesimplestreasoncommentuponitssimilarrotteneggshowworldexcerptrottenendlessnumbereggs': 718,\n 'finduselesscommentmoviesimplestreasoncommentuponitssimilarrotteneggshowworldexcerptrottenendlessnumbereggscommentmandatorygrandioseinsignificancefilthdefinitelyproperwordmoviecreatedmannerromanianmoviedirectedlucianpintiliewhoinsistsdepictcalledromanianrealityfollowingcommunistera1990presentdaysundercircumstancesrecommendedpeopleromaniawholatelyfindamateurishcameralackplotlackdirectorialactorssqualitynoisebeingtrendyartlikewatchenjoymovieknowwillwellintentionedimdbmembersfavordontwriteonlinereviewwillmisguideirritateendwastetimeonhandmovievalueeducationalsetsexample': 719,\n 'dontwant': 720,\n 'amdecidedlytargetaudiencefilmammannearly50whoonlyrecentlystumbledacrossworldindependentfilmhappenedaccidentdiscoverymoviecalledclerkslatenighttelevisionfirstnoticedfilm1technicallyamateurish2brilliantlywrittenreadinterviewdirectorlocalpaper': 721,\n 'knowtimeyouthgeneralknownfilmwaysmakingfilmdrewattentionmademotionpicturelikedfilmsdayseenheroismbraveryhonorservedmajestysservicethisfilmbehoweversaycourageexhibitedsgtcutterdefenseuniformsacrificedlifesaveperilsorttroopthreatenedemergencethugeegrouptosgtcutterkindindividualsuggestwatchunequivocalbeliefonlymajestyqueenenglandithinklustmoneycharactergreatarecklessbravecourageoussoldierwhoknowfearithinkgrantexcellentroletrulycapablerenderingmadecompellinguniformworeifeltballantineshoeinconfidenceassumptionswelllookclosestillonlypicturewhatmeanthispicturestillonlymotionpictureliketimeseventstakeplacewellpictureactuallymadelook': 722,\n 'masterpiece': 723,\n 'earlyanimemoviefilmcaughtoncesciencefictionchannelanimeactuallypopularhereamericaratingsdisasteradultswimclaimscartoonnetworkfranklythinkbeingpopularpeoplenowbuydvdswatchepisodesuncutinternetfilmcutsvoiceworkokaydubbedmoviewatchoriginaljapaneseversionamericanstendannoyingvoiceschildrendubbedfilmfeaturesyoungboywhoboardstraincalledgalaxyexpresshopescanplanettechnologyturnrobotwishesrobotavengemotherwhobrutallymurderedhandsrobotwhohuntshumansfuncourseadventuresfriendsworkersaboardtrainwellwomanresemblesdeceasedmotherbeautifulwomannamedmatelwhowomananimemoviessecretyoungherobadgoesplanetplanettrainmakesstopsrunsspacepiratenamedcaptainharlockwhoapparentlystarredanimatedcartoonseriesbasicallygalaxyexpresstakesplaceuniverseridestrangeunexpectedendingsequel': 724,\n 'knowyoure': 725,\n 'expectations': 726,\n 'movielooked': 727,\n 'secretkells': 728,\n 'kurtweillcelebrationbrooklynherefinallyunearthedscreeningamazingmotionpictureeraweillgershwincollaborationscanpossiblymissingscreensscorestandstallcdmaterialgershwinweillonlyunderscoresmeritsconsiderableyesfilmproblemsscoreratoffelementdirectormusicalfantasyfredmacmurraygraspmaterialmodernsegmentweaklywrittenfantasyelementscarryfilmhighmarkworkdelightfulleadingladiesjoanlesliejunehavercharmkindworkdesperatelyneedsworkworldwariisalutecountryshistoryframeworkfilmplacehollywoodmusicalhistory': 729,\n 'carriefisherstatedoccasionmademovieperiodlifeheavycocaineproblemdoesntrememberexplainmadefilmdoesntexplaincastcrewbelievecokeproblemabsoluteworstmoviesmadethatssayingblamelaidfeetdirectortimkincaidwriterbuddygiovinazzoobviouspicturewasntwrittendirectedapparentlyjustspontaneouslycamelittleevidencecoherencyconsistencydesignplotsenseintelligenceamazingactualprofessionalswhoinvolvedglopcostarrobertjoyworkfilmscomposerjimmiehaskellcinematographerarthurmarksindustryveteransmarksdirectorbadinvolvedsteamingpileoffalcomprehensiontimkincaidallegeddirectormadelowrentscifihorrorfilmsseencantell': 730,\n 'likecomment': 731,\n 'watchedmoviejoebobbriggshostedmonstervisiontntcouldntmovieenjoyableonlyreasonwatchedendteachvideoproductionwantedsurestudentsmadebadtookintestinalfortitudesitlikewatchinggreatgrandmotherflirting15yearoldboyexcruciatinglypainfuliftookactualfilmdippedpaintthinnerwatchedentertainingseriouslyifseemoviebarginbinsmartbackaway': 732,\n 'lovedmovieknewchockedfullcampsillinesslikeoriginalseriesfoundheartwarmingseeadamwestburtwardfrankgorshinjulienewmarbackoncewholovedbatmanseries60senjoyedreturnbatcavetellactorsfunmakingfilmespeciallyadamwestillbetgladlyjumpedbackbatmancostumescriptrequiredtoldnumberfriendsmoviewhochoseviewnowwished': 733,\n 'americansgrewgerryandersensmarvelouscreationsthunderbirdsgreatseriestimemadegreatactionadventuremovieonlywritersfiguredtargetitiexpectedrompexpectaimlowagegrouplikelostspacevisuallystunningexcitingfocusedactionadventuregoaloriginalseriessavingpeopletroubleinsteadfocusedalansavingdaybrotherswhocastyounganywayoriginalbreakoutpartladypenelopeparkerdidntcarecharactersoriginalgratefulmoviestoleshowienjoyedthunderbirdshightechstories': 734,\n 'firstlyfilmclicheslasherstuffcombinedteenmovieadvertisingmovieiveseenlargeemphasisdeniserichardsshespooractresslookingpeopletry': 735,\n 'heynowclaimseenfilmsjessejesusfrancosure': 736,\n 'filmperfectexamplerecentcrophorrorfilmssimplyfullyrealizedroutestakehorrorfilmsdontexplainwhatsgoingwhokillerliketexaschainsawmassacregivecharactersbackstorycharacterizationexplainedhalloweenpotentiallyexamplethisunfortunatelycreepfailsareaseeabsolutelyreasongivesmallshredbackstorycraigfullycapturingessencecharactermotivationcharacterfullyrealizedcircularnaturekatescharacterfilmaccomplishedpartstoryinendstoryunmotivatedperformancesgivelifeenthrallinginterestingovercomelackcontextemptyfilmmakingdragdownfilmthisfilmwilldownexamplefilm': 737,\n 'moonwalker': 738,\n 'whowantseditorwatchmovieshowsmistakeeditingmoviegrandma': 739,\n 'somedaygoingwriteessaycomparingpaulnaschysfurywolfmangreatspanishsurrealistfilmslagedorunchienandelounaschyfilmmasterpiecedeliriumbeginningenddalibunuellovedateheartsseeingapparenteaserackbrainspulloffthefilmlackscohesivestructureplotmovesmishmashprofessorwaltermanfirstnamemindwhobittenyetimonsterexpeditiontibethasntunderstandablejealouscolleaguesinsanedaughternoteddoctorwolfsteinknowsconditionrevealswifecheatingsetuptwistedscientificexperimentunleashinnerbeastwaltermanflipsturnswerewolfkillspeopleelectrocuteddiesburiedunburiedtakencastlefilledcircusfreakswiredmachineszappedassortedelectroniceffectsinjectedpotentelixirschainedturnswerewolfwomaneveninggownthighhighnazifetishbootswhipsescapeshelpsprettyfemaledoctorfindwaycastlefendscircusfreaksbattleaxeeventuallyturnsbackwerewolffightdeathfemalewerewolfincarnationcheatingwifeladynazibootsshootssilverbulletslugerpistoldieprettydoctorwalksmorningstudlyreporterwholookbeautifuldaylafuriadelhombrelobowrittenpaulnaschyhurryoriginaldirectorenriqueeguilezfiredreplacedjosémaríazabalzadrunkwhoinfamouslyintoxicatedproductionunableworkfindtimeinstruct14yearoldnephewalterationsscriptnaschyendeddirectingfilmuncreditedzabalzarallyclipactionscenesnaschyspreviousmoviesmarkwolfmanscenesfortunatelytwicecostumeshelpedpadruntimezabalzarefusedbedfinishmoviepostproductionnightmareknewwhoeditingmoneyranmasterprintdisappearedprereleasescreeningfilmdistributorexecutivearrivedfindzabalzaurinatinggutterfronttheaterdrunkfindrestroomleastmadecurbyetfilmworksletkeysatavisticmemoriesmurkycastlesvaultedcatacombschainswhipsgloomymoorsfanssortwillfindhypnoticallywatchablestorywholedoesntsenseduefractureddiscontinuityexecutionscenepouringrainwolfmanhowlslightningnextshotbonedryheshowlingfullmoonrainingdontlookgaffelikeunfoldingdreamcontradictionspossibleoppositeseffectsproceedcausesfirstwolfmanpickspowercablescreamscablestartssparkingelectricitypeoplesaylowbudgethurtseffectivenesssayfilmunwatchabledimespendmarvelmakingsucceeds': 740,\n 'generallylikeremakesbelievingremakeswastetimefilmexceptiondidntactuallyknowfarreadingpreviouscommentremakeopinionpurelyactualfilmcomparisonthestorywaywrittenquestioncapoteneedwordstheplayanthonyedwardsericrobertssuperbseenmovies': 741,\n '60s': 742,\n 'average': 743,\n 'peoplewho': 744,\n 'huge': 745,\n 'hugefan': 746,\n 'moviefreejob': 747,\n 'moviefreejobsimilarmovieswatchedlowexpectationsnowmovieisntbadse': 748,\n 'moviefreejobsimilarmovieswatchedlowexpectationsnowmovieisntbadsepay': 749,\n 'moviefreejobsimilarmovieswatchedlowexpectationsnowmovieisntbadsepaytalelovebetrayalliessexscandalwantmoviedefinitelyhollywoodblockbustercheapthrills': 750,\n 'moviefreejobsimilarmovieswatchedlowexpectationsnowmovieisntbadsepaytalelovebetrayalliessexscandalwantmoviedefinitelyhollywoodblockbustercheapthrillsbad': 751,\n 'moviefreejobsimilarmovieswatchedlowexpectationsnowmovieisntbadsepaytalelovebetrayalliessexscandalwantmoviedefinitelyhollywoodblockbustercheapthrillsbadwatchmovienutshellkindmovieseelatenightlocaltelevisionstationjustwantingtaketimeseesundayafternoonlocaltelevisionstationtryingtaketimebadactingclichélinessubparcameraworkdidntdesireturnmoviepretendlikepoppeddvdplayerstory': 752,\n 'likefilm': 753,\n 'wowmovie': 754,\n 'baseketball': 755,\n 'filmwell': 756,\n 'elviramistressdark': 757,\n 'page3': 758,\n 'firststartedwatching': 759,\n 'lived': 760,\n 'checked': 761,\n 'cameawaymoviefeeling': 762,\n 'spoilersi': 763,\n 'seeingfilm': 764,\n 'piececrapstayedtvlongterriblemakeswantshootfakeactuallyworse1940sscifimovieidstrokewatchnonsenserememberwatchingfirstcamethoughtheyinterestingfoundabsolutelyinsanelyridiculouslystupidbadactuallytookpocketknifestuckhandtablepleasepeoplewatching': 765,\n 'greatest': 766,\n 'haventread': 767,\n 'soon': 768,\n 'canmovie': 769,\n 'decidedwatch': 770,\n 'concept': 771,\n 'imgiving': 772,\n 'movieopens': 773,\n 'today': 774,\n 'hoodlivingdead': 775,\n 'filmamazing': 776,\n 'startedwatching': 777,\n 'ivejust': 778,\n 'chances': 779,\n 'såsomhimmelen': 780,\n 'wrong': 781,\n 'justwant': 782,\n 'days': 783,\n 'gungho': 784,\n 'starwarsnewhoperedefinedsciencefictionempirestrikesbackredefinedstarwarshardbelievethirdfinalfilmtrilogycanmanage': 785,\n 'justback': 786,\n 'idseen': 787,\n 'yesterday': 788,\n 'lionking': 789,\n 'titlewalkerguyexpend90moviewalkingdoesntknowwantslifestealingpeoplesidentitybenefitmoneypretendingpersonnobodyableunderstandpretendingelsetheonlyclearmovielovefathersonrestcrapmaydirectorlooserlike': 790,\n 'likepeople': 791,\n 'dogrecentlypassedawaymovielovedkidseetrycheerupbewaredogmeanspoilersmovieisntjustkidsfarordinarysetneworleans1939firstforemostdogportrayedextrafamilymemberfilmadultcomplicatedlifedealbeginningcharliedishonestbrutalbusinesspartnercarfacemoneydrivengreedyjustescapeddeathrowstatesstartfeaturedifferencecharliecarfacecharliecanlearnwillinglistenannemariesidekickitchycarfacewilllistenfatuglydogbigglasseswhohappensclosesthimcarfaceattemptsmurderherowants100profitsbusinesswontsettleonly50highlyunusualwaygermanshepherdmixdiebeingeatenprehistoricsizedalligatorwhoendssparinglifecansinghighlyunlikelydogcartoonthatslogicalherecarfacesmethodrevengemurdercharliebelievessuccessbestrevengefinancialsuccesssurvivingdeathstartsbusinesstakingcarfacessourcefinancinghighlytalentedgirlwhopossessesabilitycommunicateanimalswinwholebunchracescharlietellshellgivemoneypoorhinthintcharlieitchylivejunkyardpoorusesmoneycasinobartheatrepoorreasonannemarieabilitytalkanimalscompassionlistenscarefullyteachescharlieethicspointinggamblinglyingstealingcharlietriesbuyingdressesaddedethicsbusinessneededcharliemanagementitchyconstructioncarfaceusesviolencepropertydamageteardowncharliesbusinessunprotectedgovernmentcharlielosesleftlittlegirlendchooselifefirstgrabswatchselfpreservationsetsdowngirlstartedsinkgirlwatchsinkingchoosechosegirlthegreatpartmoviefocusespersonsabilitylearnrightwrongtimechildsabilitycopenaturaloccurrencedeathpetshowsdyingwatchsymbolizeslifewatchshownbeingsubmergeddeathssuggestivevillaindidntcrymovienow': 792,\n 'fans': 793,\n 'haunting': 794,\n 'girlfight': 795,\n 'ghost': 796,\n 'onlyfilm': 797,\n 'newyorklove': 798,\n 'gem': 799,\n 'worstmovieive': 800,\n 'wasntsureexpect': 801,\n 'dontwastetimemovierehashesworstbramstokersdraculavanhelsingannericesvampirelestatrockmusicsillybiblicalreferencesbladehightechtoyslikevampiremoviesnovels': 802,\n 'moviestarted': 803,\n 'onlywatched': 804,\n 'wayback': 805,\n 'dontknowbegin': 806,\n 'wrote': 807,\n 'moviewonderful': 808,\n 'watchedmovielastnight': 809,\n 'nowshowlookslikeshowstypemid90sonly': 810,\n 'mrdestiny355starsmrdestinysthemerecycledfilmsspanningyearsthemerangesrecentspoofsplotsseescroogeddramaticnotionworkedwonderfullifecenturyearlierstoryscroogetoldcharlesdickenschristmascarolinvolvesungratefulmanbeingtakenguidedtourlifewitnessinglifefirsthandtypesmoviesguardianangelrescuesmanungratefulnessshowsliferetrospect': 811,\n 'justwatchingkaliforniashowtimefourthtimefirstsawbackjuly2001thinkrecentwaveserialkillerfilmskaliforniaearlierfilmsworthymentionhasntfilmreleasedlike19961999maybesuccessfulopinionkaliforniaserialkillerfilmsreleasedlate1990scompletelyatmospheretodaysserialkillerfilmslikebonecollectorserialkillerfilmsshownkillerpersonmaskseeactuallylearnkaliforniafilmactuallytriesbreakbarrieractuallyunderstandcriminalmindtriesanswerquestionslike': 812,\n 'believemovie': 813,\n 'makersfilmtroubledecidingmessagetroubledeliveringbeganpoorlyprinciplesquantumphysicssubatomicparticlesestablishedfuzzypictureheisenbergsuncertaintyprinciplepresentedbarragetalkingheadswhobuiltcaseridiculouslogicintimatinglivingpersonentityfollowsquantumrulescosmicscaletalkideasstephencoveytonyrobbinsmadecareerspositivethinkinginterruptingbadpatternslookbrightsidenextcamebitbrainscanchangebodiesproductionproteinshormoneschoosecreatesadwillcreatesadproteinshappywillcreatehappyproteinsjustsimpleisntinterwovenlessonsfollowfictitiouslifeamandaphotographerwhopopsantidepressantshatesthighsfilmmakersslowlysurelytryingsayheyamandajustcheercheerobviouslyworldbadplacecrimepovertyreligionthatsconclusionfilmbasicallyentiresecondhalfbroughtbarragecontradictionpartwholeenergybeingscollectiveconsciousnessindividualswhocanchangeworlddimensionscanchoosewhopurposegod': 814,\n 'dontadd': 815,\n 'movieconceptexecutionjustdidntliveitwhatconceptwellstorywisedirtyharrymeetschildkillerbegunterrorizingcityleaddetectivesdennishopperfredericforestdealtserialkillermayorpolicechiefdesperationsecretlyhirelocalmobspeeduptoplacespolicewouldntableorderbringendmesssoonpossibletofairfilmgenuinelyofferbesidesconceptlikedlookkillershideoutnormanbatesbasementguyeeriesewershotslightbounceswatercreatesripplingreflectionswallsgivingscenescreepydreamlikequalitytheactingdennishopperactorswhoageoncepastmoreorlessgoesdownhillthefilmpacedwayfastactualinvestigationprocessteamsfeelsrushedopposedfeelingintricatefascinatingfixedwaysfilmlongercutsubplotsallowedcrewdevotetimeactualmysteryforexamplebadcrucialclueshelpszerojustrightsuspectpointlifesuspectwentpetshopthatsrightimbeingtotallyherelikewentpointfirstcluepointsuspectskippedinbetweenstepsthentherescharactersonlyonesactuallylikedpickpocketsmeethalfwaymovietheyreminorcharactersidcallbadsignfinallytheresmobangle': 816,\n 'thief': 817,\n 'warned': 818,\n 'showcomesinterestinglocationsfasttravelchannelbilledrealityactualitypureprimetimesoapoperatriesexoticlocalesfacadebringpeoplephonycontestproceedshookviewerscontestantssoapoperastyleitborrowsearlycbsgameshowpioneerbeatclockinventingsituationscontestantstryovercomerewardswinnermoneycanspice': 819,\n 'showcomesinterestinglocationsfasttravelchannelbilledrealityactualitypureprimetimesoapoperatriesexoticlocalesfacadebringpeoplephonycontestproceedshookviewerscontestantssoapoperastyleitborrowsearlycbsgameshowpioneerbeatclockinventingsituationscontestantstryovercomerewardswinnermoneycanspicelittleinteractioncharacters': 820,\n 'showcomesinterestinglocationsfasttravelchannelbilledrealityactualitypureprimetimesoapoperatriesexoticlocalesfacadebringpeoplephonycontestproceedshookviewerscontestantssoapoperastyleitborrowsearlycbsgameshowpioneerbeatclockinventingsituationscontestantstryovercomerewardswinnermoneycanspicelittleinteractioncharactersgameformatslowmotionbeatclockrealaccomplishmentseriesescaperealityshowelementstypessuccessfulpastprogramsrealitytelevision': 821,\n 'showcomesinterestinglocationsfasttravelchannelbilledrealityactualitypureprimetimesoapoperatriesexoticlocalesfacadebringpeoplephonycontestproceedshookviewerscontestantssoapoperastyleitborrowsearlycbsgameshowpioneerbeatclockinventingsituationscontestantstryovercomerewardswinnermoneycanspicelittleinteractioncharactersgameformatslowmotionbeatclockrealaccomplishmentseriesescaperealityshowelementstypessuccessfulpastprogramsrealitytelevisionhookedcontestantslocalecontestcuptea': 822,\n 'showcomesinterestinglocationsfasttravelchannelbilledrealityactualitypureprimetimesoapoperatriesexoticlocalesfacadebringpeoplephonycontestproceedshookviewerscontestantssoapoperastyleitborrowsearlycbsgameshowpioneerbeatclockinventingsituationscontestantstryovercomerewardswinnermoneycanspicelittleinteractioncharactersgameformatslowmotionbeatclockrealaccomplishmentseriesescaperealityshowelementstypessuccessfulpastprogramsrealitytelevisionhookedcontestantslocalecontestcupteaentireseriessaydriveldrippinggravyshowhidingrealitylabeltrendstarted2000itslickwellproducedlastrerunsgilligansislandgreenacresbeverlyhillbilliesbradybunchjustdoesntemployprofessionalactorsintelligencelevel': 823,\n 'difficultlikingisraelidirectoreytanfoxmovieslifemiddleeastinherentproblemsgaypeoplecanregionsgavevoiceyounggenerationsremarkablepartwhoneedpeacewhowanttakenoticewartimemarkedexistencespeopleisraelpalestinereasonsopinionsufficientconsiderfoxnoteworthydirectorfeelingmelodramatadcontrolfansmoviesrealizedteamgaluchovskyproducercoscreenwriterlifecompanionbeingvexednewfeaturebubblehabuahsuccesspreviousyossijaggerwalkwaterannouncedcontemporarygayversionromeojulietsetpresentdaytelavivveronamenisraelipalestinianplaceshakespeareanyoungloversfilmactually': 824,\n 'paulreiserspectacularjobwritingmoviepeterfalkgivesperformancelifeworthyacademyawardpoignantfunnymoviesyearreiserswitfantastic': 825,\n 'tookcoupleepisodesdarkangelstoryseriestransitioningsopranosmentalityframeworkoncegistseriesquicklyhookedshameseriesendedjustjuststartingpastexcellentcategorydarkangelwasaveragetvserieskicksassrocksfaractiongoesinteractionscharacterssocietalreactionsmutantsremindsconstantprejudicesfaceeverydaystorysetfuturekeepsmoodsurrealpreventsantidiscriminationmessagebeingrubbedfacesruiningfunwhodontlikelecturedentertainmenteventhumansocietalinteractionremainsrelevantpresentjudgmentsfaceprejudicesendquestionwholiessitbackshutmind': 826,\n 'sawrecently': 827,\n 'rentedmovielastweeksawkevinspaceymorganfreemanpromisingjustintimberlakecamescenebadactorshouldntallowedmoviemeanboringuninspiredactorsiveseenputsabsolutelyemotionlineshellcastrolejoshpollackthinkmattdamonchoicekevinspaceybigdisappointmentcharacterdulllikebadmixcharacteramericanbeautyjohnse7ensoundcoolbelievenotnowdylanmcdermottsacting': 828,\n 'didntfeellancescharacterfeltwife': 829,\n 'interestingseedirectortriedfilmproblemoriginalfilmplotwellpresentedcharactersbitshallowdidntbotherthemratherblanddownrightbadphotoleavesbitdesiredguessexpectpeoplewhojustlowbudgetfilmheckunfairreviewfilmcomparehighbudgetfilmsalas': 830,\n 'admitonlyreasonboughtmovieambigfangackthugefanhydeexpectingmovieshotssaypleasingfeminineeyeslightlycheesystorymeansynopsissoundednowjustfinishedwatchingfeelneedtellworldbrilliancehydegacktgaveheartwrenchingperformanceseyesstillhotcryinglastedlasthalfmoviesuckedstoryfeelcharactersendelementvampirismloveeasyoverdoruinmoviesubtlymixedstorylinemerelyexoticnormalsettingrandomunnecessaryadditionstoryranked910firstandwentbacktriedthinkwasntgivinglastpointcame': 831,\n 'lovelesbianmoviesimbiasedguessjustpitsyesscenerybuildingsbeautifulbriefbeautifuleroticinterludemoviejustcompletewastetimeannamariealternatessulkinghighstonedpassingdrugboozehandyellainexplicablyputsabominablebehaviorentiremovietimegiveninsightannamariedepressedwithdrawnifleastkindclosurepotentiallyromanticdontknowrelationshipkindsatisfactionannamariepointasksellaloveelladoesntacknowledgeclearillbehavedlesbianboringroadtripstraightwomaneveninteractionswomenlocalpeoplemeetjourneylivelyinformativeflattediousincomprehensibletherejokemovieimsureunintentionalwomentraveltwoseatfordcoupemiddlingsizedtrunksetcampenormoustentcotssleepinggeartablechairtypewritertopboardferryseepilesluggagepresumablypresumablycarriedlittlefordstrunkentirefilmseegasstationlookslikeactuallyplacebuygasolinetravelendlessmilesdesolatedesertfueltheremaylesbianfilmsbad': 832,\n 'charmingboymothermovemiddletowncatsdeathsoonfollowsumsupilladmitamlittlefreakedcatsseeingmovieseriousnessspitenumerouswrongfilmbelieve': 833,\n 'dontthinkterrencemalickmaybetrananhhungmakescinemapurerlevelclairedenisdontlovenewestfilm2001masterpiecetroubledaycomescloseabsolutefavoritefilmsonlynarrativeherepossiblyslightlyellipticaldontwrongfilmbarelyplotbestthinkdenistookdegreefartherneededfilmflirtincomprehensibilitykeyplotpointsclarifiedlikecharactergoessouthkoreahearttransplantjustshowingsuddenexplanation': 834,\n 'moviedoesntawfulpredecessorrobotjoxreasoncommonnamerobotwarsalternatenamerobotjox2robotwarsrobotjoxbasicallyfunmoviewatchnicepremisegiantrobotsbattlingnearfutureconceptabandonedmoviefeaturestotallydullstoryisntoriginalcleverlywrittenshametriedpredecessorfunmoviewatchjustlikerobotjoxbmoviebigdifferencejust': 835,\n 'lovespredictablemoviesawfulsoundtracklackdialogueclichéswazoostereotypesjusthappenstypicalamericanfilmlookfartherdreamworkswantedsavemoneyacquiringvoicetalentwantedcreateanimatedepisodenationalgeographicwaysucceededdeliveringblandboringmoviespiritstallioncimarronborefestsendsmixedsignalskidsadultsfailsentertainohsocutesythemeanimalstriumphinghumanslookingpastwonderfulanimationsremainingbigmessspiritstallionbeginningfilmlookslikehandfulhorsetamedcalmedcontrolledrisesleadergrouphighspiritedhorsesincludesmomlifefreedomrunningcomesabrupthaltcapturedgroupamericansprocessconnectingwildwestrestcountryspiritactuallynamedentirefilmbefriendscourageousnativeamericanfellowfemalehorseruninscynicalcruelarmyfolksapparentlydontbelievegivingupwhymoviesmixcomputeranimationtraditionalcomeslookingmeshedspiritedawaysufferedwellbestexampletrainchasingspiritseehanddrawnspiritrunningcomputeranimatedtrainlook': 836,\n 'earthexploremesmerizingnaturedocumentaryearthtimeearthcanexplainokwillelongatereviewexplorationearthinfinitystandgroundseedocumentarytakesnatureroundtripmigrationpathsanimalfamiliesfemalepolarbearcubsreallifesubplotfatherbeardaringhuntfoodisolatedpathmamawhalebabywhaletakingwhalemigrationtourpreyelephantmamasmallmaybesmallelephantsoffspringmigratingafricadirectorsalastairforthegillmarklinfieldearthjobcapturingsurvivalskillsanimalspeciesmagneticshotsanimalfamilyprotagonistscinematographicallyskilledteamrichardbrooksburtonmikeholdingadamravetchandrewshillabeeranimalescamerashootingwondrousnaturesitesanimalinstinctivebehaviorsmentionslomoanimalpreyshots': 837,\n 'comprehensionrubbishnorwayremastereddvdreleasestillgemslikedontshotrecapturingpastglorygive7': 838,\n 'imhugerandolphscottfanfilmdudwholecannedfakesoundstagefeeltrulyawfulrearscreenprojectionplotideascreenwritersuccessfullyburiednitwitscriptmakesimpossibleaudienceimmersedactiontrulycarecharactersdirectingpedestrianonlyaccentuatesbadscripthelpingimproveiveseenenjoyablesoundstageproductions': 839,\n '17highschoolstagedbyebyebirdiegreatsurpriseperfecthighschoolmaterialreputedmoststagedmusicalworldimusicstudentretainedstrongmemoriesproductionsongswelllingeringdisregarddickvandykemovieversiondeliberatelyobscuredelvisreferencescampedswinging60saudienceso1995versionstarringjasonalexanderhitcabletvscreendelightedsawalexanderturnsexceptionalperformancealbertperformancestrongcontrastbetterknownpersonatvseriesremaindercastentertainingconvincingroleschynnaphillipsonlywholookpartsupposedlynaiveinnocentschoolgirlbutbestmusicalnumbersfamiliarstageshowpreservedmovieperformedstagemusicalsongsallowingabsencestagesoknowmusicalchecktelemoviestageshowjusticewaycan': 840,\n 'worstmoviesiveseenimstillsurejustsatiremoviesusesstupidwhodunnitclichécanthinkarrrrghdonjohnsonprettyactuallysucked10yearsagosawstillhurtswontlingeringbrainlastlinemoviesumsstupidwontruinwanttemptfateviewingmoviegaranteenghyamomentend': 841,\n 'thoughtmoviewonderfullyplottedmadeconfusedcousinwhowatchedmetotelltruththinkyoungerkevindillonhothahahahabutthoughtgirlstupidcopwrongdeathiinsideyouithinkthats': 842,\n 'iveboughtfeastsaintstrulyhorriblemovie': 843,\n 'hilarious': 844,\n 'wildtigersknownwillonlyshowingbigcitiessurefilmsartsymakessensedirectorhateohsoalternativeartsypeopletrydesperatelyfindmetaphorsevidenthorseshitthereplotstorymoralchronologyamusingtouchingbunchscenesthrown': 845,\n 'filmbegins': 846,\n 'yourefan': 847,\n 'stupid': 848,\n 'sweet': 849,\n 'farworst': 850,\n 'dontknowmovie': 851,\n '60soccasionallyentertainingfilmentertainmentlaughingfilmextremelyunevenincludesannoyingelementstakeinstanceswitchblackwhitecolorrightfairlyeffectivepoorlyturnednuisanceonlydetractedbadexperiencefilmoddfeelactingwasntextremelybadmadetvflickdownrightembarrassingtimeseventscoherentendingbeingconfusingfamilyendbeingbigevents1960sendingsappytasteshollywoodizedturnrightendadvisewastetime60s': 852,\n 'drivedoublefeaturedarkskyfilmsjustfinishedbarracudawatchedfilmprovesincrediblyambitiousinepttimewebeginyoungladieswanderingstreetsforeigntownexactlylooknecklaceschinesevendortrychinesestyleclothesshopseeaztecdancersgirlsbeingfollowedguyswhoeventuallydropstealthdidntchasegirlswildruntownfinallycatchthemitgirlscoinstringneckguyswantfindlootflashbackbackfindknowcoinhardsayreallynowbackdaywomen10yearsoldsisterssistersboyfriendsboatairtankstowyoungboybackhomedockonlygrandpacomeinviteyoungunsherbalteagrannyteatoddbackboatcheckyounggirlstheyreawayboatblowsbackhousefriendsmysteriouslydisappearedwellkindlyfolkraisevegetableswaitmeatdropspellserveherbalteabutgirlstoddleaveislandnowtheyrereturningescortedcaptorstheyrefindtreasureshowedgirls': 853,\n 'taken': 854,\n 'eddie': 855,\n 'eddiemurphy': 856,\n 'sawmovieonce': 857,\n 'amgoing': 858,\n 'likechrisrockfeelwastedfilmidearemakingheavencanwaitfinefilmmakersfollowedplotturkeycloselyeddiemurphyremadedrdoolittlenuttyprofessorredidtotallymurphyfilmsvehiclesjusttepidremakesthatssuccessfulchrisfilmlaughscome': 859,\n 'likechrisrockfeelwastedfilmidearemakingheavencanwaitfinefilmmakersfollowedplotturkeycloselyeddiemurphyremadedrdoolittlenuttyprofessorredidtotallymurphyfilmsvehiclesjusttepidremakesthatssuccessfulchrisfilmlaughscomestanduproutinewellconcertfilm': 860,\n 'whowroteglowingreviewsinvolvedmakingfilmtermlooselybankrollingcasewantdollarsbackactorstermlooselyawful': 861,\n 'readingcomments': 862,\n 'live': 863,\n 'wantscreamlikebigstudiohorrorproductforceddaysdontbotherwellwrittenfilmkeptthinkingsayimportancemythlivessensechildreninterpretworldviolenceransackingenvironmentignorancehistorylegendshereflatlysurfacetechnicallycallmonstermoviewendigotakephysicalformendbeliefswhatshappeninglegendaryspiritbeaststandardthrillerelementslookingjustbasicsfilmbores': 864,\n 'james': 865,\n 'final': 866,\n 'firstminutes': 867,\n 'stageversioncharlesdickenschristmascarolsockpuppetsillwatchchildfavoritestoriesmaybeidea': 868,\n 'amglad': 869,\n 'structuredtotallybooktimkrabbéwhowroteoriginalvanishingspoorloos': 870,\n 'structuredtotallybooktimkrabbéwhowroteoriginalvanishingspoorloosfeelkoolhovensstylebusinesslikelyricbeginninggreatmiddlefinestingendsurpriseemotionalendingreadmagazinessexfilm': 871,\n 'doubtworst': 872,\n 'firstglance': 873,\n 'aftermathwatergatenumberconspiracymovieswrittenlateadamkennedybasednovelgenehackmanplaysexvietnamveteranroytuckerloserwhowoundprisonreceivesvisitsmarvintaggerichardwidmarkwhoclaimsrepresentorganisationdesignedassistwronglyconvictedofferfreedomdistrustingtaggeacceptsbringsfellowcellmatenamespiventamickeyrooneyexactlyhardseespiventairritatinglittlemanwhodrivestuckermadpersistenttalksexwanthearbarstaggesbenefactorskillspiventatuckersastonishedeyesreunitedwifeelliecandicebergengivennewidentitystrangelyattemptchangeappearanceshavingcheesymoustachestartsettlesdownfindscatchtaggewantstuckerassassinatepresidentunitedstatesrefusestaggeellieabductediwillleavesynopsishereamsurecanguessrestscriptplotholeswantreadbookneattrickpeopletaggerepresentsrevealedallusionsjfkskillingunmistakablefindingswarrencommissiondoubtleeharveyoswaldactedalonepersistsdaythisstanleykramersfirstmovieyearsturkeylacksgripsayjohnfrankenheimersmanchuriancandidatealanjpakulasparallaxviewbeingleftwingconspiracymovietendsskirtsubjectmattergripspreferrightwingonesfunnierdominolookfeelmadefortvmovieboastseasiestprisonescapemoviehistorymentionendingcoppedmichaelcaineclassiccarterwhatmakeswatchablegenehackmanrichardwidmarkwhosadlypassedawayearlieryearsuperbmysterioustaggewhoinitiallyoperationruthlesslyeliminatedbeginningchaindeathsdesignedremovetraceevidenceperpetratorsevilplotfalljustlikedominoestuckerinnocentpawnhackmanmarvellouswonderchosehideobviousplaceshoesidfledsideworldawayfanaticshackmanslovescenesbergenslowplotdownreliefsnatchedpresumablyproducersthoughtexplainsopensbizarreprologuesettingfilmsentirepremisevoicedbritishactorpatrickallenwarningaudience': 874,\n 'tom': 875,\n 'comedygemlaughloudmomentsshoppubscenesbellylaughinguncontrollablycharactersrecognisabledialoguewellobservedknowpeoplelikehumoursurprisinglygentlefilmmaysoundstrangeputsmindealingcomedyquirkylittlefilmdetailcertainlytakesnumberviewingsivewatchedtimesiveshowingfriendsnoticenewtimebitdialoguesomethingvisualhadntpickedpickyfindcoupleshortcomingsfilmimgoinggreatfunfeelgoodfilmworthwatchsensehumourenjoyfilmwillfindfriendshope': 876,\n 'youveseen': 877,\n 'trulynicestorymoralbrotherlyloveodddavidlynchfilmespeciallyoddwasntkindfilmlynchputtinglast1520yearsdarkshockingfilmsbluevelvetwildheartmulhollanddriveoppositeknowdisappointedfansdelightedcount': 878,\n 'red': 879,\n 'thrillerthoughtsawcovervideolibraryfoodfrthoughtauthormaybetrying': 880,\n 'germanfilmmakerullilommelmanagedtaskhorrorfansthoughtimpossiblehesunseatedfellowteutonuwebollcrowndirectorworsthorrorfilmmadelommeltrulyedwoodnewmillenniumfilmshoddylaughablebestworstewamproudembarrassedsaywatchedtotomorbidlyfascinatedseejustlowbarsetanswersubterraneanlommeldugpitburieditthefunbeginscastinternationalonlywholivedlosangelesautomechanicdoctormailmanactorscreenwriterwaitingdiscoveredeasilyunderstandlommelmanagedfindwannabeactorswillingspewridiculousdialogstraightfacethecharactervillainousbeatcopplayedgermanactorthickgermanaccentbeingserialkilleroldestbeatcoplastopsinnocentwomendriverstakescustodydragshomeinexplicablytopfloorfurniturewarehouseplainsightrookiepartnerslapdrefusesinvestigategoingfarphysicallyattackaccusersninjastyleraidapartmentthesetsexcruciatinglybadproductiondesignersbudgetapparentlyincludedjustmoneycanpaintpaintprecinct707cardboardwallsinceactorsobviouslyunpaidnonprofessionalsasadassortmenteuropeanemigrespossiblydeporteesactednativelandsbimbosmimbosdesperatemiddleagedwomenandlittlemoneyspentsetsspecialefxlocationsproductionvalueonlyfairmentionspringgenuinelookingpoliceuniformssadlycouldntaffordpolicecaruniformedcopscruisestreetsshinynewmercuryrentalmorehalfstoryfocusesdirtydeedsderangedgermanlapdofficerfutileeffortsyoungrookies': 881,\n 'dontwronglovedavidsuchetpoirotloveserieswellmoviesdeathnile': 882,\n 'dontwronglovedavidsuchetpoirotloveserieswellmoviesdeathnileknowwhodiesknowdieknowwhokillerknow': 883,\n 'dontwronglovedavidsuchetpoirotloveserieswellmoviesdeathnileknowwhodiesknowdieknowwhokillerknowsaymrsuchetawesometalentagathachristiesnovelswillsayactingactorssuperbsetsterrificrealisticespeciallylikeddavidsoulsurprisedawfullookedhopedoesntlookwayreallifehonestlyremembermoviesenddontthinkthoughtbrillianttouchmschristiewroteway': 884,\n 'doesnt': 885,\n 'titanic': 886,\n 'timeperiodexhaustivelycoveredtelevisionmediageneral1960sneedtripturbulenttimeshallow60slikethinkcowritersbillcouturierobertgreenfieldmindtwopartminiseriesultimatelyresultedespeciallygivencouturiesinvolvementsuperbhbomoviedearamericalettershomevietnamutilizedlittleoriginalmusicoriginalfootagelettingsightssoundstimespeakpresentationintercutsfilefootagedramaticproductiondoesntfavourstrying': 887,\n 'dressed': 888,\n 'peter': 889,\n 'idheard': 890,\n 'seenfilms': 891,\n 'imafraid': 892,\n 'firstthought': 893,\n 'longtimelastsawmoviebadactingaveragestoryhorriblyboringimlosswordsexecutioncompletelyunoriginalcomedyclinteastwoodspregnantschwarzeneggerfirstscenestelevisionshowhellrightcast80letsfaceforgottenactorshopingcareerrelaunchthinkhappencvscriptpotential80actorsdirectorwhosactorclearlystickbeingactorpulledfreddurstonlywho': 894,\n 'justkidding': 895,\n 'filmgreat': 896,\n 'enjoyshowlastepisodetruetalentmelissajoanhartsupportingcastdemonstratingwhitcomedylightheartedhumordeepthoughtactuallycoexistenjoyedcomehomeharddaysworkbustsmileinspiredinspirationwatchmagicalpersonhappyhelpingsabrinaheroopinionvulnerableways': 897,\n 'hear': 898,\n 'wellmade': 899,\n 'commentmovie': 900,\n 'moviesurprisedclicheishtechnologicalelementsremindedmovieenemystatestarringwillsmithpartentertainingmixjamiefoxxcomedianmikeepps2wannabethugsjulioramundocomicreliefmoviecanwatchagainsaywednesdaynight': 901,\n 'surprise': 902,\n 'hardsay': 903,\n 'ugh': 904,\n 'brother': 905,\n 'collegedormguykilledscythegirlfriendbethdoriebartondiscoverstriescommitsuicideshesinstitutionalizedyearlatershesnewboyfriendnamedhankjosephlawrencespendspringbreakhankmindlessfriendsbigbeautifulcondofloridanaturallykillerpopsreasonstartskillingagainlousyslasherthrilleratextbookexample': 906,\n 'collegedormguykilledscythegirlfriendbethdoriebartondiscoverstriescommitsuicideshesinstitutionalizedyearlatershesnewboyfriendnamedhankjosephlawrencespendspringbreakhankmindlessfriendsbigbeautifulcondofloridanaturallykillerpopsreasonstartskillingagainlousyslasherthrilleratextbookexamplelowbudgethorrormoviestarterslargeportionsfilmendlessfilleridiotsvideotapingfunfunaudiencedrunkactingstupid': 907,\n 'borrowedmovie': 908,\n 'coyoteuglyeffectivefilmmakersmaderratedguiltypleasureexploitationfilmnuditypg13ratingstudioswantingdaysendmovielikepg13teaseflickisntallowednearfarmoviegonethescriptgenericeasyguessplotpointgoingoccur15minutesactuallyhappensactingadequatecharacterspaperthin': 909,\n 'purplerain': 910,\n 'firstlike': 911,\n 'hands': 912,\n 'highly': 913,\n 'moviefollowsstrugglingactorplayedevidentlystrugglingactorfavourschriskleinstrugglesbringmemorablerolemeandersshallowscriptmanagingdisplayonlyblandleadingmanstoryexistsfailsshowbasicstartmiddleendviewerleftshruggingshouldersfeelingpasthourquartershappenedonebrightlight': 914,\n 'stilllikedwarrenbeattyonlyfaircomicbookherosavesmoviesetincrediblecastoffshootsmediocrescriptexpectedsubstantialtermsactionplotlittlereasonwatchmoviewatchbiggeststarshollywoodtimeunusualfilmpersonwhoterriblejobbelongfilmmadonnabelongmovieactingjobprettybadmoviepointsjuststoodstillexpectedalpacinoplaysbaddudeprettybeattyexcellentguybadguyinterestingseedustinhoffmanwarrenbeattyfilmistharseeishtarheardbadmovie': 915,\n 'stilllikedwarrenbeattyonlyfaircomicbookherosavesmoviesetincrediblecastoffshootsmediocrescriptexpectedsubstantialtermsactionplotlittlereasonwatchmoviewatchbiggeststarshollywoodtimeunusualfilmpersonwhoterriblejobbelongfilmmadonnabelongmovieactingjobprettybadmoviepointsjuststoodstillexpectedalpacinoplaysbaddudeprettybeattyexcellentguybadguyinterestingseedustinhoffmanwarrenbeattyfilmistharseeishtarheardbadmovielikedchildthoughtlookedcoolvisuallymovieamazingsetsincrediblewritingonlyfaircastmovieexpectlittleanywayspoileriespeciallythoughtfinalebiginterestinggrandscalefilmjustthoughtendedlittlebangreasonwatchmovieatmospheremovieonlyuses7comicbookcolorsmakingexcellentvisuallyanywaythecostumesmakeupflawlesswellfacialmakeupvillainsgreatbeattyjustbiggerlifecharacterstillmovie': 916,\n 'agreequotebestfilmsmadethinkvanillaskysimplyremakewrongtremendousdepthfilmvisuallymusicallyemotionallyvisuallyfilmsoftdelicatetimesearlyscenessofiatimespowerfulintensetimessquarepostclimacticscenesthemusicsoundstiemovieperfectlymusicstoryonlyhalftoldnancywilsoncreatedemotionaleclecticscorefilmsuitabledreamlikethemereleasedablehandsoriginalscore60lookhardmayablefindcopycrowesmusicalselectionsbeachboysjoshrousespiritualizedsigurrosmonkeesetceteraetceteraperfectfitsfilmcroweeargreatmusicmoreimportantlyemotionalthemesfilmlovesadnessregretpowerfulamplifiedtenfoldvisualmusicalexperiencewellingeniousdialogueadmitelevatorscenebringstearseyestimetimeagainthebestpartfilm': 917,\n 'face': 918,\n 'yesmovie': 919,\n 'holyfreakinggodallfreakingmightymoviebadthoughtdrugsbadwaycharacteractingpoorestiveseentimemovieakinlordgstringsimhoitsrealmoviemovie': 920,\n 'holyfreakinggodallfreakingmightymoviebadthoughtdrugsbadwaycharacteractingpoorestiveseentimemovieakinlordgstringsimhoitsrealmoviemoviehorriblegreenscreenfavoritepart': 921,\n 'redeye': 922,\n 'amamazed': 923,\n 'moonstruck': 924,\n 'thoughtmovieactuallyprettyenjoyedactingmovedwelldirectorgraspstorytryingtellseebigbudgetcomingtodayobviouslymoneythrowwatchableseemovielikesmallbudgettakeaccountviewing': 925,\n 'lesvisiteursfirstmoviemedievaltimetravelersactuallyfunnylikejeanrenoactor': 926,\n 'lesvisiteursfirstmoviemedievaltimetravelersactuallyfunnylikejeanrenoactorunexpectedtwistsfunnysituationscourseplainabsurdnessremindlittlebitlouisdefunesnowsequelcharactersactorsgreatparttimetravelingplotchangeslittlecharactersnowsupposedexperiencedtimetravelersjumpdownhistorypayingattentionkeepsabsurderadvancemoviedukejeanrenotrieskeepwholeplayingcharacteremptiedtherescansavefilmnowdukesslavehelperattentionmoviemerelybeingclumsyannoyingstupidsupposedcharactertriesproducelaughteraudiencesucceed': 927,\n 'famousintroducingworldhedylamarrfullfrontalnudity': 928,\n 'knowszerodayeventthinkmovieelephantmadeseeguysshowedlifeyearmovielikelaughtotallyknowtheyregonnagiveschillscausefeltguiltycheeredcommentsjustthoughtcalsweetguyknewgonnahappenknowendmoviecommitsuicidejustdeciding': 929,\n 'corridorstimemoviecanwatchyourelookingsophisticatedwaysuicidegunsropesgaswantruinbrainswaitlongercorridorstimebiggestpossiblemistakesthinkingchristianclavierableactbringfunmiss45francspoorcost': 930,\n 'finduselesscommentmoviesimplestreasoncommentuponitssimilarrotteneggshowworldexcerpt': 931,\n 'turned': 932,\n 'hold': 933,\n 'firstsay': 934,\n 'watchmovie': 935,\n 'amdecidedlytargetaudiencefilmammannearly50whoonlyrecentlystumbledacrossworldindependentfilmhappenedaccidentdiscoverymoviecalledclerkslatenighttelevisionfirstnoticedfilm1technicallyamateurish2brilliantlywrittenreadinterviewdirectorlocalpaperinfluencesclerksstartedinterestinginfluencestationagentmovieidseendvdweekpriordecidedcheckresult': 936,\n 'beginlettellgreatstandupspecialsoundsplaysonicadventuredxdirectorscuttimeredmountainlevelwatchingstandupspecialsuggestdemanditcarlosmenciatakesstandupextremesanfranciscocaliforniamakesfunabsolutelyapologiesiamprettythankinggodherecarlosdidntusesjoke': 937,\n 'knowtimeyouthgeneralknownfilmwaysmakingfilmdrewattentionmademotionpicturelikedfilmsdayseenheroismbraveryhonorservedmajestysservicethisfilm': 938,\n 'moonchild': 939,\n 'manwhitesuit': 940,\n 'disagree': 941,\n 'move': 942,\n 'moviegoingfeelstorycharactersactorslikablerealisticpresentfineperformancesimportantbelievedennisquaidknowsgripthrowbaseballrobertredfordlookedthrowingswingingbatnaturalkevincostnerlovegamebulldurhammajorleaguetomberengercharliesheenlookedlikeknew': 943,\n 'bugslife': 944,\n 'meltingmanatragicvictimspaceraceperishedmeltingnevercomprehendingracelongbyamanburrdebenningburnshandkitchenstovescreamingnormalpersonscreamshoutssoundslikeaaaaatchkahmovieyouvepoppedinisntnormalmovieyouvejusttakenfirststepincrediblemeltingmanfamouslate70sgorefilmfeaturingrickbakerswonderfulmakeupeffectsbakerjustedgesuperstartimefamouscantinaaliensstarwarsstrangereasonstarwarshouseholdnameincrediblemeltingman': 945,\n 'positivereviewsscreeningsinternationalfestivalsmovieeveryonethestorysimilarmoviesteenagegirlfamilyimmigrantsneedsovercomecommonpersonalproblemsagestrugglepressureethnictraditionsfamilychoosingkindsporthelplocalboyreasonfallsloveconfrontsproblemswinsingirlfightboxingbendlikebeckhamsoccernowkungfubutfighterinferiorproductsimplyembarrassingwatchsemraturanactressplayingroleteenagegirlmaybecan': 946,\n 'parisburningcametotallydismissedwholemadonnavogueingphenomenonthoughtgoingcampysillywrongmoviewatchedmovieyearsranboughttookbacktimeplacefunexcitementfeltknewcharacterspersonally80sspectacularmoviecapturedessencegaycultureterrificjobwentinternetfoundoriginalcastsmembersnowablelocate': 947,\n 'goodnightmistertombeginsimpossiblyexquisitevillagesouthenglandsunshineideaperiodhearradioannouncementdeclarationworldwariisoontrainblowingcloudssteambringsrefugeechildrenlondonshylittlewilliambilletedreluctantgruffoldtomwhojustknowwillturnheartgoldtalebeginsandloadsentimentalclaptrapjustoldoddcouplebuddyformulaarentnewstoriesbeingwrittenassuggestedtheresperiodfeelvillagelondonoddoldambulancerattlingcertainlyhinthorrorblitzlondonscitizensfilepolitelyairraidshelterslocalschoolteachershusbanddeclaredmissingpresumedkilledlaterrestoredlifeifoundgoodnightmistertomclichedobviousjohnthawsaccentconjuredpictureronniebarkerronniesstrawmouthcountrybumpkinaccentincidentallywifeenjoyedmoviereasonsdislikedlookingfellowimdbreviewers': 948,\n 'sadlucianpintiliemakingmoviesworsetimenikiflo2003depressingstabcameraunfortunatemoviesmadeyearlyromaniaworst': 949,\n 'noted': 950,\n 'spikelee': 951,\n 'insipidminioperettafeaturingeddymcdonaldprototypevalentinoscenariobadenduranceexerciseminutessilly': 952,\n 'friendminegavemoviefriendminenowhospitalteamdoctorstryingsurgicallyremovedvdcasingquitexcitedprospectsmichaelchabonmovienovelsbroughtentertainmentpreviousscreenplayadaptationsgreatboywrongfirstpeoplecastingasleepimaginecastingswentliketelllikefishyesenjoyfishwonderfullyourehiredmoneyscriptreadchabonwhohopewentblindseepiecedongabsolutelynovelimquitsureannoyedlike': 953,\n 'makersfilmtroubledecidingmessagetroubledeliveringbeganpoorlyprinciplesquantumphysicssubatomicparticlesestablishedfuzzypictureheisenbergsuncertaintyprinciplepresentedbarragetalkingheadswhobuiltcaseridiculouslogicintimatinglivingpersonentityfollowsquantumrulescosmicscaletalkideasstephencoveytonyrobbinsmadecareerspositivethinkinginterruptingbadpatternslookbrightsidenextcamebitbrainscanchangebodiesproductionproteinshormoneschoosecreatesadwillcreatesadproteinshappywillcreatehappyproteinsjustsimpleisntinterwovenlessonsfollowfictitiouslifeamandaphotographerwhopopsantidepressantshatesthighsfilmmakersslowlysurelytryingsayheyamandajustcheercheerobviouslyworldbadplacecrimepovertyreligionthatsconclusionfilmbasicallyentiresecondhalfbroughtbarragecontradictionpartwholeenergybeingscollectiveconsciousnessindividualswhocanchangeworld': 954,\n 'filmsjustsimplyremade': 955,\n 'flockprettyactingveteranrichardgereokayshotsharkenbacksilencelambsdaysmoviestretchescredibilitybreakingpointdestroysplotleadsnowherethefilmerrollbabbagegerewhoworksdepartmentsafetypreparingretireofficethrustsreplacementallisonlowryclairedanesstardustwhoquicklydiscoversbabbageobsessedjobjobaintfunmonitorshundredssexualoffenderswhoparolejurisdictionallisongoeserrollcallscheckflockoffenderslearnsdesperateneedretirementerrolljobmethodsarenttauntssexualpredatorsphysicalconflictserrolljustifiesactionsbringingdeviantspastsjustificationchallengesaudiencelevellettingseebrutalerrolloutoftouchhesbeingclosejobwhenteenagegirlgoesmissingerrollsarealeapsconclusionabductedflockknowerrolljoballisonchallengeserrollpushesbackbattlesfierceerrollsneedfindmissinggirlalthoughsetupstoryokaydidntumpfwillgivecreditrichardgerewhoplayserrollcharacterwellbattlingretirementworriedwhosnearflockdisgustedhesresponsibleoverseeingdisgusted': 956,\n 'fascinatingunsettlinglookedithbouvierbealebigediedaughterlittleedieauntfirstcousinlatejacquelynkennedyonasisliverodentinfestedrundownmansionconsideredhealthhazardcityclearquicklywellpasteccentriclittleedieactsmindsetyearoldactually53contentprettymadefirstconversationslittleedielambastesbigediedrivingawaypotentialsuitorsruiningaspiringcareerwriteractressdancerdiscussionsrhetoricalnonsensicaltimesamusingsecondpartconsistslongboutsattemptedsingingpartiescoursethinkssingingperfectonlywhosoundsbadamazingscenebigedieactuallyphysicallyattackslittleediecanejustwarblingcaptivatingfeelingexploitationgoingheresubjectsjustfarknowfilmmakerstreatlikefreakshowcircuscomingdayrecordchucklebizarrebehaviormaycomeultimatelysadpictureshowsworldsimplypasthopesdreamsdecayedmansionlivebickeringneed': 957,\n 'longtimefanbettemidlersayrecordedliveconcertsfavoritesbettethrillsjokesbringstearsballadsliteralrainbowemotiontalentbetteshowsbestsolidrepertoirewellnewsongsbetterosesalbumspanninggenerationspeopleoffers': 958,\n 'badmovies': 959,\n 'kimpatriciaclarksongeorgejakewebersonmileseriksullivanheadedcountrywinterweekendreliefmanhattansbustlingmetropoliswayhitbuckendstucksnowgrouphunterswhotrackingbuckcomehelpingleasthuntersotisjohnsperedakosmadaccidentcrackedbucksantlersgeorgekimmilesdisturbedotisworsequicklylearnotislearnedtheyrestayingmilesgivenwendigokindindianshapeshiftingspiritmonstertokenindianwhomonlyseenotispsychoheroeswendigoswoodscanseewendigonumberproblemsappealingviewersfairlylowbudgetfilmtechnicallimitationsfrequentlyshowingfilmmaybetitularcreaturefatalblowpeopleambiguousendingnumberquestionsleftunanswereddiscouragedendingslikefilmsaimmakingthinkdiscussmeantfavoravoidwendigopersonallylikefilmslikepreferambiguitymarketingwendigogearedwhowantquickscarycreatureflicktheydexpectgrandbattlesupernaturalmonsterwhodefeatedendtiedneatlyopeningwendigo2monsterreturnsthatsfilmwendigothoughtfulpoeticsurfacecreatureflicksuggestpeopleheckwriterdirectorlarryfessendencharactergeorgerecitingrobertfrostfrostpoemgeorgescommentfrostcanevokecompleximageryatmosphereseeminglysimplekeyfilmonebestfilmcomplexitywayfilmsoccurringtimethreadcharactergeorgesthreadisntexactlyhappiestpleasantguyworldparentingproblemsfilmrealistichorrificdescentlifegoingbadworsepatriciasthreadsheslookingrejuvenationlifefamilyshespsychologistdenyingproblemshopingtheyllawayotisthreadhesdownluckgeorgegeorgesarrivallifesymbolizesfinalcrackpsychologicalarmormilesthreadimportantfilmlifelikegrandpoemdueyouthfulinnocenceinterpretationworldhorrorstoryglimmerhopeeventsfilmgivemilespoeticinterpretationsdarkturnstillonlyretainingcomposureduepoeticoutlookevenfilmlowbudgetwellexecutedhigherbudgetambitionsfessendendirectorphotographyterrystaceyfindgreatshotsbeautifullocationscreatedinterestingslideshowlikemontagescardsindianwendigoimagesbookinterestingtraditionalmontagesmilesnightmarewendigoshoteditedbigbudgetfilmsothertechnicalaspectsbudgetwendigoappearanceendworkedappropriatelyambiguouslightinggoodtheretimesdarksceneswerentclear': 960,\n 'satepisodeseriesjustcouldnttakeanymorefeltidwatcheddozensepisodeshitmetheresnewhereiveheardjokeseinfeldsawfalllikefriendsepisodehappydaysstorylineectactorsinterestinghere': 961,\n 'killedjohnamosscharacterkilledshowvitalpartstructurestoryinnercityfamilysstrugglingbestwayknewpoorblacklivingproofjesusfamilyhardsurejameslosejobsjjfailschoolfamilymanagedfindwayjamesstrongmalerolemodelearnedincomedisciplinedchildrenfloridastrongladyincludingjamesneededshouldercryhugkidspersonalitiesinputmadeimportantfamilyunitneighborwillonakeyelementrepresentedonlyfrienddearfamilybrightgrittyfunnyhonestchangedcourseprogramjamesdiesjjtookshowflostillmomthelmablossomingladymichaelstillmilitantmidgetjjshowexpectedbelievefamilyfatherprominentbreadwinnergoingablestayapartmentguessjamesspaycheckdidntfamilyonlythreatenedevictionmovinghouseworkingknowjjflothelmamichaeleventuallyjobscomehererealjamesworkedfeelwerentrealisticthatsshamejjcomicrelieffeltshowneedsubstanceokfunnychanceshowrealfamilytooksurviverealworldthrewawaylaughsmichaelscharacterdisappearedrestcastslippedshadowsjjevansshowmeanhereguyschoolkeptlaidpaintedmoneyepisodesjamesencouragetalentflorestfamilydidntcarewhytakelongunderstandpaintingmeantsoldpaintingsstreetworkedpeopleprintbillboardscardswentwrong': 962,\n 'absolutelylovedfilm': 963,\n 'likeseeanimalsbeingskinnedaliveheadssmasheddogsthroatsbeingcrushedmenstomping': 964,\n 'playingkaddiddlehoppercolsanfernandomanprettywiderangingscreamlovewatchinginteractamandablakedonknottswhomeverheclearlyballthinkmadeeasierguestswellsolongknewaheadtimewasntdisciplined19takekindproductionrelaxlooseclearlynamegamethereheremindsguyslikemiltonberlebennyhillmaybejerrylewisgreattimingancientgagskeptaudiencesstitchesdecadessheerenjoyment': 965,\n 'playingkaddiddlehoppercolsanfernandomanprettywiderangingscreamlovewatchinginteractamandablakedonknottswhomeverheclearlyballthinkmadeeasierguestswellsolongknewaheadtimewasntdisciplined19takekindproductionrelaxlooseclearlynamegamethereheremindsguyslikemiltonberlebennyhillmaybejerrylewisgreattimingancientgagskeptaudiencesstitchesdecadessheerenjoymentsadlittleclownplayedtoobuttouchingmannerpersonallythinkhesgreatjustboughtdvdsetshows61bringsstuffbackfondwaycanrememberseeingtvendrunwindingseries1971socheck': 966,\n 'updatedversiontheme': 967,\n 'justseen': 968,\n 'hillseyesiipointlessblatantlystupidsequelscometime90minutesincompetentfilmmakingfinestworstchooselook2006shillsremakeyearsbesttrulyfrighteninghorrorfilmssequeltakessparkmadeaccomplishmentpart2groundmindnumbingdialogueworstscary2006sremakefollowedfamilywhofindmiddlenewmexicodesertdesertedbeingpickedderangedsadistichillpeoplepeoplewhoresultmilitarytestingatomicbomblandyearsagowhosurvivingtravelerswhowanderregionsequelputsaudiencesdesertnowoccupiedmilitarycovertlyinvestigatehillshappenedpoorfamilygroupmilitarytraineesbroughtcampsitefinddesertedsignslifegrimrealitysoonbefallscomerealizationtheyrealonebloodyfatehandedwillsoondestinyitdoesnttakegeniusrealizehillslegitimatereasonexistlastyearsremakereceivedwellboxofficecriticscamesurprisesequelrushedproductiontheresstillmoneyearnedtheresrhymereasontimejustunbelievableridiculoussetuppavewaythoughtlesscharactersunoriginalkillingsnonexistentstoryslippinginterestoriginallydirectoralexanderajamadecravenscultclassicremakeuniquedisturbingexperiencegruesomelycrossedlineoccasionsfrankdisplayviolencesadistictorturewellroundedcharacterizationwhiteknuckledsuspenseeffectivelyshockrepulseaudiencessecondtimerehashedhandmedownstheresstylegrittriesbuildtensiondismemberingbodies': 969,\n 'thereswatchingmoviehusbandwentwatchlastnightjustsmalltheatertheresdecentamountpeopletimehusbandonlypeoplewatchingdragonwarslastnightnowknowwhythemoviefarworstiveseenyescgactingscriptdialogdirectingeditinggodawfulaloneroomfeltfreetalkmovietalkedbadremindedmightymorphinpowerrangersgodzillamortalcombatlordringslikeexpectedseeritalordzedportrayingcommanderssauronsarmythecreaturesridiculousjustintroducelegionsdinodragonlizardloadeddowncannonsexplanationlordringswidespectrumcharactersintroducesdevelops3movieshourhalfthescenetransitionshorribledidntfallasleepmovieoverlysimpleplotfoundlostplotholesthecharacterscaucasianamericansspokebrokenenglishbadlywrittendialogscriptthefinalsceneredeemedvaluemoviefailedethandidntcrysarahdiedthoughhadntknownlonglifeanywaysdidntupsetleftmordorknowingbackcouldntlovegodfigure': 970,\n 'kurtweillcelebrationbrooklynherefinallyunearthedscreeningamazingmotionpictureeraweillgershwincollaborationscanpossiblymissingscreensscorestandstallcdmaterialgershwinweillonlyunderscoresmeritsconsiderableyesfilmproblemsscoreratoffelementdirectormusicalfantasyfredmacmurraygraspmaterialmodernsegmentweaklywrittenfantasyelementscarryfilmhighmarkworkdelightfulleadingladiesjoanlesliejunehavercharmkindworkdesperatelyneedsworkworldwariisalutecountryshistory': 971,\n 'sawmoviesixthgradechristmastimeexcitedseeingheardgeorgescottexcitedlovegeorgescottclasswatchingmovie': 972,\n 'believewatchedtotalpiececrapfeelobligatedwarnavoidcostscharactersannounceshesgaytwicefirstminutesdontignoretypicalpcnonsensefigurewontfaggotyboyfriendhangingdoesntsickthankfulfreakwhowrotedirectedgrossoutattemptinglittlerestraintmeanrealgaycharactermoviescrewedtimescontinuallyslappedscreenexaminedclosepersonallinernotesclearlystateflickssupposedmotherseekingsortclosuresuddendeathdaughter': 973,\n 'markspoilerscommentscantakemovieseeopenmindwillenjoydontleavetheaterconfusedgoingmoviefitsnicelysecondhalfwilltakingmomseemovieofficiallyopensluckyseescreeningcoupleweeksagowillgoingpromotingmoviegreatspenttimefansthankpicturewillwillsperformancetimesseemovieactorfamousmovieshowthinkcurrentperformancelikethinkpastperformancecasewillsmithmoviedidntpicturefreshprincelolwatchingmoviecompletelyutterlyconvincingrolegrownimmenselyactorthinkwillleastoscarnodperformanceaboutcharacterbenconflictedtormentedhessadguiltriddenverydeterminedscaredtruecharacterdepthandwillmanagedbringlifeaboutemilyrosariorosarionicejobportrayingemilywomantaxesmaybeshesshiningstarwillmovieconvincingthinkcharacterjustworkwillsdidaboutplotspoilersadmitlikemoviesecondhalfknewabsolutelymoviegoingmadesensesecondparteventuallyfitwowsurprisinglywellwrittenwellthoughtextremelyintensemoviesticksyouitactuallytakeswatchtheaterpeoplecryingendevengrownmenrealizebenpowerfulmomentminorspoilershardtalkplotgivingmajorawayfeellikeknowingmovieruinssymbolismmovieenjoyedwillmentionheretryinggiveawaythefishbenkeepinghotelroomfirstmakessensechattermovietheaterpeoplerealizedrealityfishihatedbenbeginningmovieendlovedhatedthatsconvincingwillthoughtbenbeinghugejerkezrablindmanjusttryingwayworldtreatingezralikeabundantlyclearlatermoviewaitmoviewaitoutbenfundamentallypersonwhomadebigmistakewontforgivestillunclear': 974,\n 'markspoilerscommentscantakemovieseeopenmindwillenjoydontleavetheaterconfusedgoingmoviefitsnicelysecondhalfwilltakingmomseemovieofficiallyopensluckyseescreeningcoupleweeksagowillgoingpromotingmoviegreatspenttimefansthankpicturewillwillsperformancetimesseemovieactorfamousmovieshowthinkcurrentperformancelikethinkpastperformancecasewillsmithmoviedidntpicturefreshprincelolwatchingmoviecompletelyutterlyconvincingrolegrownimmenselyactorthinkwillleastoscarnodperformanceaboutcharacterbenconflictedtormentedhessadguiltriddenverydeterminedscaredtruecharacterdepthandwillmanagedbringlifeaboutemilyrosariorosarionicejobportrayingemilywomantaxesmaybeshesshiningstarwillmovieconvincingthinkcharacterjustworkwillsdidaboutplotspoilersadmitlikemoviesecondhalfknewabsolutelymoviegoingmadesensesecondparteventuallyfitwowsurprisinglywellwrittenwellthoughtextremelyintensemoviesticksyouitactuallytakeswatchtheaterpeoplecryingendevengrownmenrealizebenpowerfulmomentminorspoilershardtalkplotgivingmajorawayfeellikeknowingmovieruinssymbolismmovieenjoyedwillmentionheretryinggiveawaythefishbenkeepinghotelroomfirstmakessensechattermovietheaterpeoplerealizedrealityfishihatedbenbeginningmovieendlovedhatedthatsconvincingwillthoughtbenbeinghugejerkezrablindmanjusttryingwayworldtreatingezralikeabundantlyclearlatermoviewaitmoviewaitoutbenfundamentallypersonwhomadebigmistakewontforgivestilluncleartryingridguiltgenuinelywantedhelppeoplethinklittlebitbothithinkwantedhelppeopleridpastlovecharacterlovehaterealizeshortamazinghate': 975,\n 'knowlettersfatherchristmasjesusyearwellturnsactuallydelivereddroppedhalfforgottencornerpostofficerotbrightsparkfigureswaypostingbizarresettingswinnerperfectlyfitsstrangemoviedeadletterofficeobviouslyaustralianfilmopposedbritishroyalmailletterssorttreatmentanywayhaventflatyearsstilllettersmrwangfemalepriestchurchdayiveneverheardofyoucataloguesindustrialequipmentaddressedplumbingcompanydeadletterofficenamegivenplaceundeliverablemailendsfollowsstoryalicemirandaottowhogrowsseriouslydividedhomewritingabsentfatheronlylearnsadulthoodlettershaventdeliveredreasonlogicallyjobdlofindsworkingsocialrejectsincludingbroodingchileanimmigrantfranklopezgeorgedelhoyoslowlyfindsdrawncanfinddadbringingselfcontainedworlddeadlettersofficekneesnothingfilmremindedgodawfulheathergrahamfilmcommittedwatchingpilehorsecrapaintdifficultstartfilmlogicaltruemetaphorsblatantunderflowingsymbolismquicklyfloodleastcohesivequirkybeingcompletedrivelwellactedottodelhoyoloverslookingknowtheyllfindcharactersperipheralbestparttroublewrapfarquicklyleavingviewerdisappointedpartconsideraustraliasdraconianimmigrationpolicydontspeakenglishrackstoryunlikelytakeplacerealitycharacterssadlyhelpdestabiliserealismprovinglittleoddballstereotypesdespitedeadletterofficecertainlylittle': 976,\n 'filmcomesuniquenostrilpickerfilmnostrilpickerlikefilmseenunfortunatelynostrilpickeruniquereasonsfilmmakersoriginallyintendedreadhopefullyclearnostrilpickercommonlyknowapparentlyfilmedtitlechangerstartsextremelydullshotsamericantownstreetsfactoryssortopeningcreditsplaynostrilpickerbeginsproperviewerintroducedreallosernamedjoebukowskicarlzscheringwho40slivescrappylittleapartmentwatchestveatsbeefflavoureddogfoodlistensoldvinylrecordsdancesblowrubbersexdolljoelikesteenagegirlspornmagazinesenjoysrealbeinguglygitjoetemptyoungladies': 977,\n 'absurdfellowaustralianwhoreviewedflickhelpthinkwhosubmittedreviewfarwayinvolvedproductionelektragenerouspraiseadmittedlyimfancomicbooktomovieconversionsdidntexpectationsstillfoundelektraincrediblyunderwhelmingirked': 978,\n 'surprisinglymovie': 979,\n 'whoimkiddingthatssaysvideocaseplotshortversionprettywomanstandssmilingreasonmakesmenkillotherfindarielwheresarielcantfindarielshesrightidiotmostcanhorrendouslittlespaceoperalookslikeabunchcornyactorsplayingconvictscomefirstselectionactorsknockedquicklyknockedwayscenebroadcastnearlyfifteenminutesadvancedrawingstrawsseeactorsscreentimebiggerpaycheckalienvirushologramvrwitchglitchphysicallypowerlessdoesntjuststaycomputerteleportingvampireroutineactuallywouldveinterestingvampirejuststandinglookingpeople': 980,\n 'storyshow': 981,\n 'firstletprefacepostsayingamfanoriginalstarwarsmoviesidontreadbooksplaygameswearunderweareatcerealamsimplyfanfilmswithbeingstruggleseepeoplegivingmoviehighpraisetakingmoviecomparingterriblepredecessorsep12dontunderstandcansayamazingmovieterribleshortcomingsscriptcheesydialoguecontrivedscenesr2suddenlybeingbadasslongcgiintensechasesceneslittlehumantouchhorribleactingnotedplotholeshowrealinternaldilemmaanakinjustlikeswitchflippedevilsuddeninterestedmovielast20minuteswayruinednoooooofrankensteinscenebombardscreenintenselyamazingcgieffectsfillgapsabsolutelyatrociousoneliners': 982,\n 'lovedepisode': 983,\n 'pointthoughtgoingturngraduatesaymotherexcellentjobexplainingsexualdesiresolderwomanimgladbritishfilmhollywood': 984,\n 'sasquatchhuntersactuallywasntbadthoughtspoilerstravelingwoodsparkrangerscharleslandonkevinoconnorrogergordonmattlatimorebrianstrattondavidzelinaspencercombsrickhollandsisterjanetstaceybranscombeescortdrhelengilbertamysheltonwhitebossdrethanedwardsgarysturmassistantlouisekeatonjulianadeverfindsitereputedbonesfoundareacampteamdiscoversgiantburialgroundstrangeboneslitteringareamembersgroupstartdisappearstartwanderwoodssafetydiscoveredsasquatchkillingsteambandsurvivethenewswasntbadthoughtmoviestartspicksteamhalfwaypointcreatureattacksmasterfulseriessceneswholegroupsubjectedattackscreaturesuspenseentireplayoutextremelyhighwoodedareaappropriatelymilkedpartsheighteningtensionwonderingsinglepersonwanderingforestwillcomeuppancespreadliberallymovieeffectiveoffscreengrowlsroarstrulyunworldlyaddpartcreepywelltimesgrowlingshriekheardeffectiveworkswellnicelaterpartfilmpickspacegoesprettywellhighnoteactionsceneespeciallyfeelpointbeingspecialscenefirstviewingmanrunningforestcreaturespotsexpeditionlookingraisinghandshollerhelpsecondgoesannouncepresenceattackedkilledhastilycaughtsurpriseactuallygavelittlejumpfirstviewingthebadnewsonlycouplecomplainhereusualcomplaintcreaturehererenderedhorriblecgimadelooktotallyridiculousdestroyscredibilitymightveairmenaceconjuredopeningfilmshotwindowcreaturescreendistractingshamelittleworkwasntputivecomplained': 985,\n 'lovejaneaustensstoriesiveonlyreadppssseenadaptionimreachingpersuasionbookcasejustsensestoryrefusingbelievejaneaustenwrittennonsensethoughtbasefilmjaneaustennovelwrongwillturngreatprettydefaultwrongfirstcharacterssympathiselikeleastlikablecharacteraudienceinvestemotionsdeliversurewantedannewentworthonlythatsknowpurposestoryresisturgesthrowteacuptvcontinuewatchingendanneutterlyannoyingendideawentworthsmitten': 986,\n 'imaginestevemcqueenknewiconstartwanteddeadaliveyearfilmcamemagnificentyearslater': 987,\n 'whohasntseenfilmfriendlywarningdontwatchlacasadellorcoexpectingdemonswontfindherefilmthirdinstallmentdemonsseries': 988,\n 'michaelcallanplayssmarmyphotographerwhononethelessregardedperfectcatchwomanrunsacross': 989,\n 'movieimdbrating81expectedstartsfunnyendearingenergyfeelsspontaneousmoviehalfwaybeginsdragsickinglypredictablecharactersofficedelightfulfirstthirdmovieknowlittlewellcaricaturesrealpeople': 990,\n 'superbfilmdrawsvarietytalentedactorsmusicianstopformlevantcrosbymartinrathbonemanonecompletelyhomestoryapparentlysuppliedbillywilderloveknow': 991,\n 'imbigfanromcomsbesttimes': 992,\n 'lostshowntvpredictablepredictwhogonnadiewhowillfindlostpredictsurprisinglystunningmysterysecretslikegreatliterallyaddictedlostclassicworkartgiveslookforwardweekgeniussurroundingbrilliantcalmwarmbeachscaryjunglecharactersworkgeniusespeciallyonesislandcastawaysdramaticcanpredictdeaths': 993,\n 'whythatsimplequestionlipssinglenewyorker12monthsterrordavidberkowitzcreated197677wordwillsurelyperplexingquestion22summerslaterpeopleexittheatersexhibitingtriteexploitativesummersamdirectorspikeleeattemptsweavestorypackmisguidedthugssearchingcelebratedpsychopathwhoparalyzednewyorkcityyearstarkgraphicaldepictionkillingsdemonsinsideberkowitzsheadfrustrationfutilenypdmanhuntpresentsensembledespicableloserswhohearbarkingdogslivelivesdevoidlovehonorhumanityberkowitzleebrowbeatsaudiencenearlyframe': 994,\n 'seemoviesstaywatchlikesleeppurecrapactuallywalkedoutthispoorlyscriptputhatedtakenbrendanfrasier': 995,\n 'thinkdealmovie2minutesfunnymomentsmakestrailerpeoplecameexpectationstrailertimemoviedoesntlivetrailerlittlesluggishdragslittleslowlyexcitingpremisethinkimseeingcommentspeoplelovehaterelationshipmoviehoweverlookmovie': 996,\n 'rememberearlydayspayviewcanremembernumbercallactuallyrentmovietvkidwantedrentplayboymeantactuallycallingppvaskingrentnervewatchinghourssoftcoreanglecrapwellreasonbringmovieppvremembersceneaddivekicklastyearsobtaingreatmoviesseekid': 997,\n 'yespintilielikesundressactorsshowpubliclypriviespintilienakedemperorspeakitsbigtimestatetruthimpostorvoyeurbratlockedoldmansbodyabundancenudescenesartisticlegitimacy100visualperversionkicksmakingactorsstripbufflookwillies': 998,\n 'blackwhitefilmphotographybelievablecharactersjustawfuliwastedperfecteveningwatchingfilmratedworthyactingherebackgroundsettingplot': 999,\n 'spielbergsfirstdramaticfilmletdownbeautifullymadefilmflawslifeafricanamericanwomanprovesmoviesafricanamericanethnicitycenterstoryhelmedafricanamericandirectorwhatlovemoviespielbergsabilityrealisticbasedbookdannygloverexcellentmrhesjustmoviescompletelybranchesonceperformancederesistancewholefilmcomeswhoopigoldbergexcellentceliewillforgetcharactersonceyouveseenmovienowheardmusicalversiongoingfilmwellcansayhope': 1000,\n ...}"
     },
     "execution_count": 34,
     "metadata": {},
     "output_type": "execute_result"
    }
   ],
   "source": [
    "tokenizer.word_index"
   ],
   "metadata": {
    "collapsed": false,
    "pycharm": {
     "name": "#%%\n"
    }
   }
  }
 ],
 "metadata": {
  "kernelspec": {
   "display_name": "Python 3",
   "language": "python",
   "name": "python3"
  },
  "language_info": {
   "codemirror_mode": {
    "name": "ipython",
    "version": 2
   },
   "file_extension": ".py",
   "mimetype": "text/x-python",
   "name": "python",
   "nbconvert_exporter": "python",
   "pygments_lexer": "ipython2",
   "version": "2.7.6"
  }
 },
 "nbformat": 4,
 "nbformat_minor": 0
}
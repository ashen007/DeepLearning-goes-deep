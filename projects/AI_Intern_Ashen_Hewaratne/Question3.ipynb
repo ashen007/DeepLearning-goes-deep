{
 "metadata": {
  "kernelspec": {
   "language": "python",
   "display_name": "Python 3",
   "name": "python3"
  },
  "language_info": {
   "name": "python",
   "version": "3.7.6",
   "mimetype": "text/x-python",
   "codemirror_mode": {
    "name": "ipython",
    "version": 3
   },
   "pygments_lexer": "ipython3",
   "nbconvert_exporter": "python",
   "file_extension": ".py"
  }
 },
 "nbformat_minor": 4,
 "nbformat": 4,
 "cells": [
  {
   "cell_type": "markdown",
   "source": [
    "## You are provided a long text which is needed to summerize. \n",
    "### We are expecting you to do following steps. \n",
    "\n",
    "    Word tokenization\n",
    "    Check Word frequencies\n",
    "    Text cleaning\n",
    "    Sentence Tokenization\n",
    "    Calculate Sentence scores using word frequencies\n",
    "    Summerization\n",
    "    \n",
    "Use pure NLP techniques to achive this task. "
   ],
   "metadata": {
    "id": "699a204c",
    "pycharm": {
     "name": "#%% md\n"
    }
   }
  },
  {
   "cell_type": "code",
   "source": [
    "text = \"\"\"Learning algorithms work on the basis that strategies, algorithms, and inferences that worked well in the past are likely to continue working well in the future. These inferences can be obvious, such as \"since the sun rose every morning for the last 10,000 days, it will probably rise tomorrow morning as well\". They can be nuanced, such as \"X% of families have geographically separate species with color variants, so there is a Y% chance that undiscovered black swans exist\".Machine learning programs can perform tasks without being explicitly programmed to do so. It involves computers learning from data provided so that they carry out certain tasks. For simple tasks assigned to computers, it is possible to program algorithms telling the machine how to execute all steps required to solve the problem at hand; on the computer's part, no learning is needed. For more advanced tasks, it can be challenging for a human to manually create the needed algorithms. In practice, it can turn out to be more effective to help the machine develop its own algorithm, rather than having human programmers specify every needed step. The discipline of machine learning employs various approaches to teach computers to accomplish tasks where no fully satisfactory algorithm is available. In cases where vast numbers of potential answers exist, one approach is to label some of the correct answers as valid. This can then be used as training data for the computer to improve the algorithm(s) it uses to determine correct answers. For example, to train a system for the task of digital character recognition, the MNIST dataset of handwritten digits has often been used.\"\"\""
   ],
   "metadata": {
    "id": "3e0b5893",
    "pycharm": {
     "name": "#%%\n"
    },
    "execution": {
     "iopub.status.busy": "2022-07-19T04:21:48.599247Z",
     "iopub.execute_input": "2022-07-19T04:21:48.599650Z",
     "iopub.status.idle": "2022-07-19T04:21:48.606758Z",
     "shell.execute_reply.started": "2022-07-19T04:21:48.599615Z",
     "shell.execute_reply": "2022-07-19T04:21:48.604963Z"
    },
    "trusted": true
   },
   "execution_count": 10,
   "outputs": []
  },
  {
   "cell_type": "code",
   "source": [
    "# !pip install -U spacy\n",
    "# !python -m spacy download en_core_web_sm"
   ],
   "metadata": {
    "id": "43c8fa86",
    "pycharm": {
     "name": "#%%\n"
    }
   },
   "execution_count": null,
   "outputs": []
  },
  {
   "cell_type": "code",
   "source": [
    "import re\n",
    "import nltk"
   ],
   "metadata": {
    "collapsed": false,
    "pycharm": {
     "name": "#%%\n"
    },
    "jupyter": {
     "outputs_hidden": false
    },
    "execution": {
     "iopub.status.busy": "2022-07-19T04:21:51.236202Z",
     "iopub.execute_input": "2022-07-19T04:21:51.236598Z",
     "iopub.status.idle": "2022-07-19T04:21:53.226566Z",
     "shell.execute_reply.started": "2022-07-19T04:21:51.236568Z",
     "shell.execute_reply": "2022-07-19T04:21:53.225245Z"
    },
    "trusted": true
   },
   "execution_count": 2,
   "outputs": []
  },
  {
   "cell_type": "code",
   "execution_count": 3,
   "outputs": [
    {
     "name": "stderr",
     "output_type": "stream",
     "text": [
      "[nltk_data] Downloading package stopwords to\n",
      "[nltk_data]     C:\\Users\\hewar\\AppData\\Roaming\\nltk_data...\n",
      "[nltk_data]   Unzipping corpora\\stopwords.zip.\n"
     ]
    },
    {
     "data": {
      "text/plain": "True"
     },
     "execution_count": 3,
     "metadata": {},
     "output_type": "execute_result"
    }
   ],
   "source": [
    "nltk.download('stopwords')"
   ],
   "metadata": {
    "collapsed": false,
    "pycharm": {
     "name": "#%%\n"
    }
   }
  },
  {
   "cell_type": "code",
   "source": [
    "stop_words = nltk.corpus.stopwords.words('english')\n",
    "stop_words[:10]"
   ],
   "metadata": {
    "execution": {
     "iopub.status.busy": "2022-07-19T04:21:56.154867Z",
     "iopub.execute_input": "2022-07-19T04:21:56.155395Z",
     "iopub.status.idle": "2022-07-19T04:21:56.176303Z",
     "shell.execute_reply.started": "2022-07-19T04:21:56.155353Z",
     "shell.execute_reply": "2022-07-19T04:21:56.175092Z"
    },
    "trusted": true,
    "pycharm": {
     "name": "#%%\n"
    }
   },
   "execution_count": 5,
   "outputs": [
    {
     "data": {
      "text/plain": "['i', 'me', 'my', 'myself', 'we', 'our', 'ours', 'ourselves', 'you', \"you're\"]"
     },
     "execution_count": 5,
     "metadata": {},
     "output_type": "execute_result"
    }
   ]
  },
  {
   "cell_type": "markdown",
   "source": [
    "## Text cleaning"
   ],
   "metadata": {
    "pycharm": {
     "name": "#%% md\n"
    }
   }
  },
  {
   "cell_type": "code",
   "source": [
    "# remove brackets\n",
    "original_text = re.sub(r'\\([a-z]*\\)', ' ', text)\n",
    "original_text = re.sub(r'\\s+', ' ', original_text)\n",
    "\n",
    "# remove special characters\n",
    "formated_text = re.sub(r'[^a-zA-Z]', ' ', original_text)\n",
    "formated_text = re.sub(r'\\s+', ' ', formated_text)\n",
    "\n",
    "# sentence wise tokenization\n",
    "sentences = original_text.split('. ')\n",
    "\n",
    "sentences"
   ],
   "metadata": {
    "collapsed": false,
    "pycharm": {
     "name": "#%%\n"
    },
    "jupyter": {
     "outputs_hidden": false
    },
    "execution": {
     "iopub.status.busy": "2022-07-19T04:22:21.778535Z",
     "iopub.execute_input": "2022-07-19T04:22:21.779273Z",
     "iopub.status.idle": "2022-07-19T04:22:21.808424Z",
     "shell.execute_reply.started": "2022-07-19T04:22:21.779231Z",
     "shell.execute_reply": "2022-07-19T04:22:21.807292Z"
    },
    "trusted": true
   },
   "execution_count": 12,
   "outputs": [
    {
     "data": {
      "text/plain": "['Learning algorithms work on the basis that strategies, algorithms, and inferences that worked well in the past are likely to continue working well in the future',\n 'These inferences can be obvious, such as \"since the sun rose every morning for the last 10,000 days, it will probably rise tomorrow morning as well\"',\n 'They can be nuanced, such as \"X% of families have geographically separate species with color variants, so there is a Y% chance that undiscovered black swans exist\".Machine learning programs can perform tasks without being explicitly programmed to do so',\n 'It involves computers learning from data provided so that they carry out certain tasks',\n \"For simple tasks assigned to computers, it is possible to program algorithms telling the machine how to execute all steps required to solve the problem at hand; on the computer's part, no learning is needed\",\n 'For more advanced tasks, it can be challenging for a human to manually create the needed algorithms',\n 'In practice, it can turn out to be more effective to help the machine develop its own algorithm, rather than having human programmers specify every needed step',\n 'The discipline of machine learning employs various approaches to teach computers to accomplish tasks where no fully satisfactory algorithm is available',\n 'In cases where vast numbers of potential answers exist, one approach is to label some of the correct answers as valid',\n 'This can then be used as training data for the computer to improve the algorithm it uses to determine correct answers',\n 'For example, to train a system for the task of digital character recognition, the MNIST dataset of handwritten digits has often been used.']"
     },
     "execution_count": 12,
     "metadata": {},
     "output_type": "execute_result"
    }
   ]
  },
  {
   "cell_type": "code",
   "source": [
    "# get word frequenceies\n",
    "\n",
    "word_freq = {}\n",
    "\n",
    "for word in formated_text.split(' '):\n",
    "    if (word not in stop_words) and (word != ''):\n",
    "        if word not in word_freq.keys():\n",
    "            word_freq[word] = 1\n",
    "        else:\n",
    "            word_freq[word] += 1"
   ],
   "metadata": {
    "collapsed": false,
    "pycharm": {
     "name": "#%%\n"
    },
    "jupyter": {
     "outputs_hidden": false
    },
    "execution": {
     "iopub.status.busy": "2022-07-19T04:22:32.680438Z",
     "iopub.execute_input": "2022-07-19T04:22:32.680872Z",
     "iopub.status.idle": "2022-07-19T04:22:32.692363Z",
     "shell.execute_reply.started": "2022-07-19T04:22:32.680835Z",
     "shell.execute_reply": "2022-07-19T04:22:32.691297Z"
    },
    "trusted": true
   },
   "execution_count": 18,
   "outputs": []
  },
  {
   "cell_type": "code",
   "source": [
    "word_freq"
   ],
   "metadata": {
    "execution": {
     "iopub.status.busy": "2022-07-19T04:24:47.029691Z",
     "iopub.execute_input": "2022-07-19T04:24:47.030135Z",
     "iopub.status.idle": "2022-07-19T04:24:47.042940Z",
     "shell.execute_reply.started": "2022-07-19T04:24:47.030064Z",
     "shell.execute_reply": "2022-07-19T04:24:47.041470Z"
    },
    "trusted": true,
    "pycharm": {
     "name": "#%%\n"
    }
   },
   "execution_count": 19,
   "outputs": [
    {
     "data": {
      "text/plain": "{'Learning': 1,\n 'algorithms': 4,\n 'work': 1,\n 'basis': 1,\n 'strategies': 1,\n 'inferences': 2,\n 'worked': 1,\n 'well': 3,\n 'past': 1,\n 'likely': 1,\n 'continue': 1,\n 'working': 1,\n 'future': 1,\n 'These': 1,\n 'obvious': 1,\n 'since': 1,\n 'sun': 1,\n 'rose': 1,\n 'every': 2,\n 'morning': 2,\n 'last': 1,\n 'days': 1,\n 'probably': 1,\n 'rise': 1,\n 'tomorrow': 1,\n 'They': 1,\n 'nuanced': 1,\n 'X': 1,\n 'families': 1,\n 'geographically': 1,\n 'separate': 1,\n 'species': 1,\n 'color': 1,\n 'variants': 1,\n 'Y': 1,\n 'chance': 1,\n 'undiscovered': 1,\n 'black': 1,\n 'swans': 1,\n 'exist': 2,\n 'Machine': 1,\n 'learning': 4,\n 'programs': 1,\n 'perform': 1,\n 'tasks': 5,\n 'without': 1,\n 'explicitly': 1,\n 'programmed': 1,\n 'It': 1,\n 'involves': 1,\n 'computers': 3,\n 'data': 2,\n 'provided': 1,\n 'carry': 1,\n 'certain': 1,\n 'For': 3,\n 'simple': 1,\n 'assigned': 1,\n 'possible': 1,\n 'program': 1,\n 'telling': 1,\n 'machine': 3,\n 'execute': 1,\n 'steps': 1,\n 'required': 1,\n 'solve': 1,\n 'problem': 1,\n 'hand': 1,\n 'computer': 2,\n 'part': 1,\n 'needed': 3,\n 'advanced': 1,\n 'challenging': 1,\n 'human': 2,\n 'manually': 1,\n 'create': 1,\n 'In': 2,\n 'practice': 1,\n 'turn': 1,\n 'effective': 1,\n 'help': 1,\n 'develop': 1,\n 'algorithm': 3,\n 'rather': 1,\n 'programmers': 1,\n 'specify': 1,\n 'step': 1,\n 'The': 1,\n 'discipline': 1,\n 'employs': 1,\n 'various': 1,\n 'approaches': 1,\n 'teach': 1,\n 'accomplish': 1,\n 'fully': 1,\n 'satisfactory': 1,\n 'available': 1,\n 'cases': 1,\n 'vast': 1,\n 'numbers': 1,\n 'potential': 1,\n 'answers': 3,\n 'one': 1,\n 'approach': 1,\n 'label': 1,\n 'correct': 2,\n 'valid': 1,\n 'This': 1,\n 'used': 2,\n 'training': 1,\n 'improve': 1,\n 'uses': 1,\n 'determine': 1,\n 'example': 1,\n 'train': 1,\n 'system': 1,\n 'task': 1,\n 'digital': 1,\n 'character': 1,\n 'recognition': 1,\n 'MNIST': 1,\n 'dataset': 1,\n 'handwritten': 1,\n 'digits': 1,\n 'often': 1}"
     },
     "execution_count": 19,
     "metadata": {},
     "output_type": "execute_result"
    }
   ]
  },
  {
   "cell_type": "code",
   "source": [
    "sentence_score = {}\n",
    "\n",
    "# calculate sentence score of sentences length less than 50 based on word frequencies\n",
    "for sentence in sentences:\n",
    "    for word in sentence.lower().split(' '):\n",
    "        if word in word_freq.keys():\n",
    "            if len(sentence.split(' ')) < 50:\n",
    "                if sentence not in sentence_score.keys():\n",
    "                    sentence_score[sentence] = word_freq[word]\n",
    "                else:\n",
    "                    sentence_score[sentence] += word_freq[word]\n",
    "\n",
    "sentence_score"
   ],
   "metadata": {
    "execution": {
     "iopub.status.busy": "2022-07-19T04:25:09.952286Z",
     "iopub.execute_input": "2022-07-19T04:25:09.952891Z",
     "iopub.status.idle": "2022-07-19T04:25:09.968618Z",
     "shell.execute_reply.started": "2022-07-19T04:25:09.952850Z",
     "shell.execute_reply": "2022-07-19T04:25:09.967101Z"
    },
    "trusted": true,
    "pycharm": {
     "name": "#%%\n"
    }
   },
   "execution_count": 23,
   "outputs": [
    {
     "data": {
      "text/plain": "{'Learning algorithms work on the basis that strategies, algorithms, and inferences that worked well in the past are likely to continue working well in the future': 24,\n 'These inferences can be obvious, such as \"since the sun rose every morning for the last 10,000 days, it will probably rise tomorrow morning as well\"': 14,\n 'They can be nuanced, such as \"X% of families have geographically separate species with color variants, so there is a Y% chance that undiscovered black swans exist\".Machine learning programs can perform tasks without being explicitly programmed to do so': 23,\n 'It involves computers learning from data provided so that they carry out certain tasks': 18,\n \"For simple tasks assigned to computers, it is possible to program algorithms telling the machine how to execute all steps required to solve the problem at hand; on the computer's part, no learning is needed\": 29,\n 'For more advanced tasks, it can be challenging for a human to manually create the needed algorithms': 13,\n 'In practice, it can turn out to be more effective to help the machine develop its own algorithm, rather than having human programmers specify every needed step': 18,\n 'The discipline of machine learning employs various approaches to teach computers to accomplish tasks where no fully satisfactory algorithm is available': 27,\n 'In cases where vast numbers of potential answers exist, one approach is to label some of the correct answers as valid': 16,\n 'This can then be used as training data for the computer to improve the algorithm it uses to determine correct answers': 18,\n 'For example, to train a system for the task of digital character recognition, the MNIST dataset of handwritten digits has often been used.': 9}"
     },
     "execution_count": 23,
     "metadata": {},
     "output_type": "execute_result"
    }
   ]
  },
  {
   "cell_type": "code",
   "source": [
    "# sort sentence scores descending order\n",
    "sentence_score = {k: v for k, v in sorted(sentence_score.items(), key=lambda item: item[1], reverse=True)}\n",
    "summary = ''\n",
    "\n",
    "# get highest sentences scores and join them to create summary\n",
    "for key in list(sentence_score.keys())[:3]:\n",
    "    summary += f' {key}.'\n",
    "\n",
    "summary.strip()"
   ],
   "metadata": {
    "execution": {
     "iopub.status.busy": "2022-07-19T04:25:54.403064Z",
     "iopub.execute_input": "2022-07-19T04:25:54.403726Z",
     "iopub.status.idle": "2022-07-19T04:25:54.412057Z",
     "shell.execute_reply.started": "2022-07-19T04:25:54.403687Z",
     "shell.execute_reply": "2022-07-19T04:25:54.411197Z"
    },
    "trusted": true,
    "pycharm": {
     "name": "#%%\n"
    }
   },
   "execution_count": 24,
   "outputs": [
    {
     "data": {
      "text/plain": "\"For simple tasks assigned to computers, it is possible to program algorithms telling the machine how to execute all steps required to solve the problem at hand; on the computer's part, no learning is needed. The discipline of machine learning employs various approaches to teach computers to accomplish tasks where no fully satisfactory algorithm is available. Learning algorithms work on the basis that strategies, algorithms, and inferences that worked well in the past are likely to continue working well in the future.\""
     },
     "execution_count": 24,
     "metadata": {},
     "output_type": "execute_result"
    }
   ]
  }
 ]
}
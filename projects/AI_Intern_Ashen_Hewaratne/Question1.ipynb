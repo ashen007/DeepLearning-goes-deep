{
 "nbformat": 4,
 "nbformat_minor": 0,
 "metadata": {
  "colab": {
   "name": "Question1.ipynb",
   "provenance": [],
   "collapsed_sections": []
  },
  "kernelspec": {
   "name": "python3",
   "display_name": "Python 3"
  },
  "language_info": {
   "name": "python"
  }
 },
 "cells": [
  {
   "cell_type": "markdown",
   "source": [
    "Implement queue structure to match below given scenario. And implement add_order, prepare_next_order, and check_status functionalities.\n",
    "\n",
    "EatItNow restaurant is trying to automate their food preparing pipeline. Once waiter received order from the customer, waiter will add that to the system using add_order function. \n",
    "add_order function will take table_number (integer), meal_number (integer) and waiter_id (integer) as parameters in order to add details into the system.\n",
    "And orders will be saved in first come first serve order.\n",
    "\n",
    "There is only one chef in the kitchen, he is only capable of processing one order at a given time. chef will use prepare_next_order function to get the next order that available in the system. Calling prepare_next_order function will return table_id, waiter_id and meal_id to the chef.\n",
    "\n",
    "There is another function called check_status to check what is the status of the order, after providing table_number this function will provide status of the order. If it is already taken by the chef using prepare_next_order function then status will be preparing. Or otherwise it is still in the queue structure. It will provide what is the location of the order in queue. \n",
    "\n",
    "You can't use inbuild python queue functions like .pop() and .dequeue()"
   ],
   "metadata": {
    "id": "kBUv2BcrAFpZ",
    "pycharm": {
     "name": "#%% md\n"
    }
   }
  },
  {
   "cell_type": "code",
   "execution_count": 17,
   "metadata": {
    "id": "R1Y0rL3c_0tL",
    "pycharm": {
     "name": "#%%\n"
    }
   },
   "outputs": [],
   "source": [
    "class EatItNow:\n",
    "    def __init__(self):\n",
    "        self.orders = []\n",
    "        self.current_order = None\n",
    "\n",
    "    def add_order(self, table_number, meal_number, waiter_id):\n",
    "        # add order details to orders\n",
    "        self.orders.append({'tab_no': table_number,\n",
    "                            'meal_no': meal_number,\n",
    "                            'wait_id': waiter_id})\n",
    "\n",
    "    def prepare_next_order(self):\n",
    "        # check are there any orders to prepare\n",
    "        if self.orders:\n",
    "            next_order = self.orders[0]\n",
    "            self.current_order = next_order['tab_no']\n",
    "\n",
    "            del self.orders[0]\n",
    "\n",
    "            return next_order\n",
    "        else:\n",
    "            return None\n",
    "\n",
    "    def check_status(self, table_no):\n",
    "        if self.current_order == table_no:\n",
    "            # check order currently preparing\n",
    "            print('preparing.')\n",
    "        else:\n",
    "            # check what is the order position in orders list\n",
    "            for i in range(len(self.orders)):\n",
    "                if self.orders[i]['tab_no'] == table_no:\n",
    "                    print(f'your order at: {i + 1}')"
   ]
  }
 ]
}
{
 "nbformat": 4,
 "nbformat_minor": 0,
 "metadata": {
  "colab": {
   "name": "Question2.ipynb",
   "provenance": [],
   "collapsed_sections": []
  },
  "kernelspec": {
   "name": "python3",
   "display_name": "Python 3"
  },
  "language_info": {
   "name": "python"
  }
 },
 "cells": [
  {
   "cell_type": "code",
   "execution_count": 39,
   "metadata": {
    "id": "D36Agdxh087D",
    "pycharm": {
     "name": "#%%\n"
    }
   },
   "outputs": [],
   "source": [
    "import numpy as np\n",
    "\n",
    "\n",
    "def sort(array):\n",
    "    if len(array) < 2:\n",
    "        # arrays less than 2 elements\n",
    "        return array\n",
    "    else:\n",
    "        p = array[0]\n",
    "        low_p = [i for i in array[1:] if i <= p]\n",
    "        high_p = [i for i in array[1:] if i > p]\n",
    "\n",
    "        return [*sort(low_p), p, *sort(high_p)]\n",
    "\n",
    "\n",
    "def person_count(a, l):\n",
    "    a = sort(a)\n",
    "    l = sort(l)\n",
    "    # need to have at least one person\n",
    "    consult = 1\n",
    "\n",
    "    # check overlapping arriving and leaving\n",
    "    for i in range(1, len(a)):\n",
    "        if all(np.array(l[:(i - 1)]) >= a[i]):\n",
    "            consult += 1\n",
    "\n",
    "    print(f'At least {consult} persons need for do the job fair without keeping any student waiting.')\n"
   ]
  },
  {
   "cell_type": "code",
   "execution_count": 40,
   "outputs": [
    {
     "name": "stdout",
     "output_type": "stream",
     "text": [
      "At least 2 persons need for do the job fair without keeping any student waiting.\n"
     ]
    }
   ],
   "source": [
    "arrive = sort([7.30, 9.39, 8.20, 12.41, 7.35])\n",
    "leave = sort([13.12, 10.22, 8.12, 7.50, 8.45])\n",
    "\n",
    "person_count(arrive, leave)"
   ],
   "metadata": {
    "collapsed": false,
    "pycharm": {
     "name": "#%%\n"
    }
   }
  },
  {
   "cell_type": "markdown",
   "source": [
    "Rootcode AI decided to participate job fair that held by ABC university. Prior to the Job Fair each student will be assigned certain time slot and Rootcode AI have information about when student is arriving to meet one of their recruiters and when a student will leave the booth after facing the interview. Assume that each student will arrive and leave exactly at the given time with 100% accuracy. And recruiters doesn't take brakes during the time.\n",
    "\n",
    "Arriving time of students and leaving time of each student is provided in a un sorted list.\n",
    "\n",
    "Find how many recruiters Rootcode AI has to assign to the job fair inorder to consult them without keeping them waiting.\n",
    "\n",
    "Ex:\n",
    "\n",
    "Arriving = [7.30, 9.49, 8.20, 12.41, 7.35]\n",
    "\n",
    "Leaving = [13.12, 10.22, 8.12, 7.50, 8.45]\n",
    "\n",
    "Output : At least 2 persons need for do the job fair without keeping any student waiting.\n",
    "\n",
    "Hints: Sort both lists before creating the algorithm, so your data points will show correct arrival and leaving times on order. You are not allowed to used any inbuilt algorithm like Arriving.sort(). Implement any sorting algorithm you like by your own\n"
   ],
   "metadata": {
    "id": "EkbDngGy09sR",
    "pycharm": {
     "name": "#%% md\n"
    }
   }
  },
  {
   "cell_type": "markdown",
   "source": [],
   "metadata": {
    "id": "I0Ekxn541FRS",
    "pycharm": {
     "name": "#%% md\n"
    }
   }
  }
 ]
}
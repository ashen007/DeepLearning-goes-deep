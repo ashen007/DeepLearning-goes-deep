{
 "metadata": {
  "kernelspec": {
   "language": "python",
   "display_name": "Python 3",
   "name": "python3"
  },
  "language_info": {
   "name": "python",
   "version": "3.7.12",
   "mimetype": "text/x-python",
   "codemirror_mode": {
    "name": "ipython",
    "version": 3
   },
   "pygments_lexer": "ipython3",
   "nbconvert_exporter": "python",
   "file_extension": ".py"
  }
 },
 "nbformat_minor": 4,
 "nbformat": 4,
 "cells": [
  {
   "cell_type": "code",
   "source": [
    "import os\n",
    "import cv2\n",
    "import random\n",
    "import numpy as np\n",
    "import pandas as pd\n",
    "import tensorflow as tf\n",
    "import tensorflow_io as tfio\n",
    "import tensorflow_addons as tfa\n",
    "import seaborn as sns\n",
    "\n",
    "from PIL import Image\n",
    "from PIL import ImageEnhance\n",
    "from PIL import ImageFilter as Filter\n",
    "from matplotlib import pyplot as plt\n",
    "\n",
    "from sklearn.model_selection import train_test_split\n",
    "from sklearn.metrics import accuracy_score, confusion_matrix\n",
    "from tensorflow.keras.models import Model, Sequential\n",
    "from tensorflow.keras.layers import InputLayer, Conv2D, MaxPooling2D, Input, Activation, Add, ReLU\n",
    "from tensorflow.keras.layers import BatchNormalization, Dropout, AveragePooling2D, Dense, Flatten\n",
    "from tensorflow.keras.activations import relu, softmax\n",
    "from tensorflow.keras.regularizers import l2\n",
    "from tensorflow.keras.preprocessing.image import ImageDataGenerator"
   ],
   "metadata": {
    "_uuid": "8f2839f25d086af736a60e9eeb907d3b93b6e0e5",
    "_cell_guid": "b1076dfc-b9ad-4769-8c92-a6c4dae69d19",
    "pycharm": {
     "name": "#%%\n"
    },
    "execution": {
     "iopub.status.busy": "2022-07-24T04:53:45.783450Z",
     "iopub.execute_input": "2022-07-24T04:53:45.783852Z",
     "iopub.status.idle": "2022-07-24T04:53:45.794149Z",
     "shell.execute_reply.started": "2022-07-24T04:53:45.783821Z",
     "shell.execute_reply": "2022-07-24T04:53:45.792527Z"
    },
    "trusted": true
   },
   "execution_count": 87,
   "outputs": []
  },
  {
   "cell_type": "markdown",
   "source": [
    "* #### config"
   ],
   "metadata": {
    "pycharm": {
     "name": "#%% md\n"
    }
   }
  },
  {
   "cell_type": "code",
   "source": [
    "train_meta_data = '../input/unifesp-xray-body-part-classifier-dataset-jpeg/data/train.csv'\n",
    "train_data_dir = '../input/unifesp-xray-body-part-classifier-dataset-jpeg/data/train'\n",
    "epochs = 200\n",
    "lr = 1e-3\n",
    "valid_split = 0.2\n",
    "input_size = 224\n",
    "batch_size = 32\n",
    "classes = 22\n",
    "initializer = tf.keras.initializers.HeUniform()\n",
    "optimizer = tf.keras.optimizers.Nadam(learning_rate=lr)\n",
    "loss = tf.keras.losses.categorical_crossentropy\n",
    "weight_decay = 5e-4"
   ],
   "metadata": {
    "pycharm": {
     "name": "#%%\n"
    },
    "execution": {
     "iopub.status.busy": "2022-07-24T05:37:38.569257Z",
     "iopub.execute_input": "2022-07-24T05:37:38.569688Z",
     "iopub.status.idle": "2022-07-24T05:37:38.579319Z",
     "shell.execute_reply.started": "2022-07-24T05:37:38.569658Z",
     "shell.execute_reply": "2022-07-24T05:37:38.577700Z"
    },
    "trusted": true
   },
   "execution_count": 91,
   "outputs": []
  },
  {
   "cell_type": "markdown",
   "source": [
    "## Pre-processing pipeline"
   ],
   "metadata": {
    "pycharm": {
     "name": "#%% md\n"
    }
   }
  },
  {
   "cell_type": "code",
   "source": [
    "test_image = Image.open('../input/unifesp-xray-body-part-classifier-dataset-jpeg/data/train/10093718510761734264315711288650185574.jpg')\n",
    "test_arr = np.expand_dims(np.asarray(test_image),2)\n",
    "test_arr_rgb = tf.image.grayscale_to_rgb(tf.convert_to_tensor(test_arr))"
   ],
   "metadata": {
    "pycharm": {
     "name": "#%%\n"
    },
    "execution": {
     "iopub.status.busy": "2022-07-24T04:02:14.467030Z",
     "iopub.execute_input": "2022-07-24T04:02:14.468456Z",
     "iopub.status.idle": "2022-07-24T04:02:17.817883Z",
     "shell.execute_reply.started": "2022-07-24T04:02:14.468398Z",
     "shell.execute_reply": "2022-07-24T04:02:17.816498Z"
    },
    "trusted": true
   },
   "execution_count": 3,
   "outputs": []
  },
  {
   "cell_type": "code",
   "source": [
    "plt.figure(figsize=[8,8], dpi=100)\n",
    "plt.imshow(test_arr,cmap=plt.cm.gray)"
   ],
   "metadata": {
    "pycharm": {
     "name": "#%%\n"
    },
    "execution": {
     "iopub.status.busy": "2022-07-24T04:02:23.387999Z",
     "iopub.execute_input": "2022-07-24T04:02:23.388528Z",
     "iopub.status.idle": "2022-07-24T04:02:23.760219Z",
     "shell.execute_reply.started": "2022-07-24T04:02:23.388486Z",
     "shell.execute_reply": "2022-07-24T04:02:23.758911Z"
    },
    "trusted": true
   },
   "execution_count": 4,
   "outputs": []
  },
  {
   "cell_type": "markdown",
   "source": [
    "#### augmentations apply:\n",
    "\n",
    "* edge enhance\n",
    "* de-texturization\n",
    "* filp right-left\n",
    "* flip up-down\n",
    "* random cropping"
   ],
   "metadata": {
    "pycharm": {
     "name": "#%% md\n"
    }
   }
  },
  {
   "cell_type": "code",
   "source": [
    "ada_thold = cv2.adaptiveThreshold(test_arr, 255, cv2.ADAPTIVE_THRESH_MEAN_C, cv2.THRESH_BINARY, 11, 2.01)"
   ],
   "metadata": {
    "pycharm": {
     "name": "#%%\n"
    },
    "execution": {
     "iopub.status.busy": "2022-07-24T04:02:25.641793Z",
     "iopub.execute_input": "2022-07-24T04:02:25.642244Z",
     "iopub.status.idle": "2022-07-24T04:02:25.666005Z",
     "shell.execute_reply.started": "2022-07-24T04:02:25.642210Z",
     "shell.execute_reply": "2022-07-24T04:02:25.664729Z"
    },
    "trusted": true
   },
   "execution_count": 5,
   "outputs": []
  },
  {
   "cell_type": "code",
   "source": [
    "fig, axes = plt.subplots(nrows=1, ncols=2, figsize=[12,6], dpi=200)\n",
    "axes = axes.ravel()\n",
    "\n",
    "axes[0].imshow(test_arr, cmap=plt.cm.gray)\n",
    "axes[1].imshow(ada_thold,cmap=plt.cm.gray)\n",
    "\n",
    "axes[0].axis('off')\n",
    "axes[1].axis('off')"
   ],
   "metadata": {
    "pycharm": {
     "name": "#%%\n"
    },
    "execution": {
     "iopub.status.busy": "2022-07-24T03:54:08.733454Z",
     "iopub.execute_input": "2022-07-24T03:54:08.734031Z",
     "iopub.status.idle": "2022-07-24T03:54:09.272200Z",
     "shell.execute_reply.started": "2022-07-24T03:54:08.733995Z",
     "shell.execute_reply": "2022-07-24T03:54:09.271355Z"
    },
    "trusted": true
   },
   "execution_count": 8,
   "outputs": []
  },
  {
   "cell_type": "code",
   "source": [
    "laplacian = cv2.Laplacian(test_arr,cv2.CV_64F, ksize=5)"
   ],
   "metadata": {
    "pycharm": {
     "name": "#%%\n"
    },
    "execution": {
     "iopub.status.busy": "2022-07-24T04:02:28.303662Z",
     "iopub.execute_input": "2022-07-24T04:02:28.304025Z",
     "iopub.status.idle": "2022-07-24T04:02:28.336530Z",
     "shell.execute_reply.started": "2022-07-24T04:02:28.303997Z",
     "shell.execute_reply": "2022-07-24T04:02:28.335284Z"
    },
    "trusted": true
   },
   "execution_count": 6,
   "outputs": []
  },
  {
   "cell_type": "code",
   "source": [
    "fig, axes = plt.subplots(nrows=1, ncols=2, figsize=[12,6], dpi=200)\n",
    "axes = axes.ravel()\n",
    "\n",
    "axes[0].imshow(test_arr, cmap=plt.cm.gray)\n",
    "axes[1].imshow(laplacian, cmap=plt.cm.gray)\n",
    "\n",
    "axes[0].axis('off')\n",
    "axes[1].axis('off')"
   ],
   "metadata": {
    "pycharm": {
     "name": "#%%\n"
    },
    "execution": {
     "iopub.status.busy": "2022-07-24T04:02:30.233313Z",
     "iopub.execute_input": "2022-07-24T04:02:30.233761Z",
     "iopub.status.idle": "2022-07-24T04:02:30.895213Z",
     "shell.execute_reply.started": "2022-07-24T04:02:30.233731Z",
     "shell.execute_reply": "2022-07-24T04:02:30.890671Z"
    },
    "trusted": true
   },
   "execution_count": 7,
   "outputs": []
  },
  {
   "cell_type": "code",
   "source": [
    "edgeEnahnced = test_image.filter(Filter.EDGE_ENHANCE_MORE)"
   ],
   "metadata": {
    "pycharm": {
     "name": "#%%\n"
    },
    "execution": {
     "iopub.status.busy": "2022-07-24T04:02:32.152833Z",
     "iopub.execute_input": "2022-07-24T04:02:32.153365Z",
     "iopub.status.idle": "2022-07-24T04:02:32.163756Z",
     "shell.execute_reply.started": "2022-07-24T04:02:32.153300Z",
     "shell.execute_reply": "2022-07-24T04:02:32.162428Z"
    },
    "trusted": true
   },
   "execution_count": 8,
   "outputs": []
  },
  {
   "cell_type": "code",
   "source": [
    "fig, axes = plt.subplots(nrows=1, ncols=2, figsize=[12,6], dpi=200)\n",
    "axes = axes.ravel()\n",
    "\n",
    "axes[0].imshow(test_arr, cmap=plt.cm.gray)\n",
    "axes[1].imshow(edgeEnahnced, cmap=plt.cm.gray)\n",
    "\n",
    "axes[0].axis('off')\n",
    "axes[1].axis('off')"
   ],
   "metadata": {
    "pycharm": {
     "name": "#%%\n"
    },
    "execution": {
     "iopub.status.busy": "2022-07-24T04:02:33.888937Z",
     "iopub.execute_input": "2022-07-24T04:02:33.889374Z",
     "iopub.status.idle": "2022-07-24T04:02:34.535392Z",
     "shell.execute_reply.started": "2022-07-24T04:02:33.889329Z",
     "shell.execute_reply": "2022-07-24T04:02:34.534202Z"
    },
    "trusted": true
   },
   "execution_count": 9,
   "outputs": []
  },
  {
   "cell_type": "code",
   "source": [
    "de_texturize = cv2.bilateralFilter(test_arr,9,50,50)"
   ],
   "metadata": {
    "pycharm": {
     "name": "#%%\n"
    },
    "execution": {
     "iopub.status.busy": "2022-07-24T04:02:35.518822Z",
     "iopub.execute_input": "2022-07-24T04:02:35.519421Z",
     "iopub.status.idle": "2022-07-24T04:02:35.552643Z",
     "shell.execute_reply.started": "2022-07-24T04:02:35.519379Z",
     "shell.execute_reply": "2022-07-24T04:02:35.551513Z"
    },
    "trusted": true
   },
   "execution_count": 10,
   "outputs": []
  },
  {
   "cell_type": "code",
   "source": [
    "fig, axes = plt.subplots(nrows=1, ncols=2, figsize=[12,6], dpi=200)\n",
    "axes = axes.ravel()\n",
    "\n",
    "axes[0].imshow(test_arr, cmap=plt.cm.gray)\n",
    "axes[1].imshow(de_texturize, cmap=plt.cm.gray)\n",
    "\n",
    "axes[0].axis('off')\n",
    "axes[1].axis('off')"
   ],
   "metadata": {
    "pycharm": {
     "name": "#%%\n"
    },
    "execution": {
     "iopub.status.busy": "2022-07-24T04:02:38.478680Z",
     "iopub.execute_input": "2022-07-24T04:02:38.479045Z",
     "iopub.status.idle": "2022-07-24T04:02:39.045474Z",
     "shell.execute_reply.started": "2022-07-24T04:02:38.479015Z",
     "shell.execute_reply": "2022-07-24T04:02:39.044198Z"
    },
    "trusted": true
   },
   "execution_count": 11,
   "outputs": []
  },
  {
   "cell_type": "code",
   "source": [
    "fig, axes = plt.subplots(nrows=1, ncols=3, figsize=[12,6], dpi=200)\n",
    "axes = axes.ravel()\n",
    "\n",
    "axes[0].imshow(test_arr, cmap=plt.cm.gray)\n",
    "axes[1].imshow(tf.image.adjust_saturation(test_arr_rgb, 1.4), cmap=plt.cm.gray)\n",
    "axes[2].imshow(tf.image.adjust_contrast(test_arr, 0.3), cmap=plt.cm.gray)\n",
    "\n",
    "axes[0].axis('off')\n",
    "axes[1].axis('off')\n",
    "axes[2].axis('off')"
   ],
   "metadata": {
    "pycharm": {
     "name": "#%%\n"
    },
    "execution": {
     "iopub.status.busy": "2022-07-24T04:02:42.862945Z",
     "iopub.execute_input": "2022-07-24T04:02:42.863575Z",
     "iopub.status.idle": "2022-07-24T04:02:43.440527Z",
     "shell.execute_reply.started": "2022-07-24T04:02:42.863532Z",
     "shell.execute_reply": "2022-07-24T04:02:43.439269Z"
    },
    "trusted": true
   },
   "execution_count": 12,
   "outputs": []
  },
  {
   "cell_type": "code",
   "source": [
    "image = Image.open('../input/unifesp-xray-body-part-classifier-dataset-jpeg/data/train/10166555243811009418614649510306269973.jpg')\n",
    "image_arr = np.expand_dims(np.asarray(image),2) \n",
    "v_center = image_arr.shape[1]//2\n",
    "h_center = image_arr.shape[0]//2\n",
    "\n",
    "fig, axes = plt.subplots(nrows=1, ncols=4, figsize=[12,6], dpi=200)\n",
    "axes = axes.ravel()\n",
    "\n",
    "axes[0].imshow(image_arr[:h_center,:,:], cmap=plt.cm.gray)\n",
    "axes[1].imshow(image_arr[h_center:,:,:], cmap=plt.cm.gray)\n",
    "axes[2].imshow(image_arr[:,:v_center,:], cmap=plt.cm.gray)\n",
    "axes[3].imshow(image_arr[:,v_center:,:], cmap=plt.cm.gray)\n",
    "\n",
    "axes[0].axis('off')\n",
    "axes[1].axis('off')\n",
    "axes[2].axis('off')\n",
    "axes[3].axis('off')"
   ],
   "metadata": {
    "pycharm": {
     "name": "#%%\n"
    },
    "execution": {
     "iopub.status.busy": "2022-07-24T04:02:47.245014Z",
     "iopub.execute_input": "2022-07-24T04:02:47.245475Z",
     "iopub.status.idle": "2022-07-24T04:02:47.857492Z",
     "shell.execute_reply.started": "2022-07-24T04:02:47.245428Z",
     "shell.execute_reply": "2022-07-24T04:02:47.856272Z"
    },
    "trusted": true
   },
   "execution_count": 13,
   "outputs": []
  },
  {
   "cell_type": "markdown",
   "source": [
    "* ##### resize croped images without distroying aspect ratio"
   ],
   "metadata": {
    "pycharm": {
     "name": "#%% md\n"
    }
   }
  },
  {
   "cell_type": "code",
   "source": [
    "img = Image.fromarray(np.squeeze(image_arr[:h_center,:,:], axis=2)).convert('L')\n",
    "img.thumbnail((400, 400))\n",
    "\n",
    "plt.imshow(img, cmap=plt.cm.gray)"
   ],
   "metadata": {
    "pycharm": {
     "name": "#%%\n"
    },
    "execution": {
     "iopub.status.busy": "2022-07-24T04:02:52.550492Z",
     "iopub.execute_input": "2022-07-24T04:02:52.551077Z",
     "iopub.status.idle": "2022-07-24T04:02:52.792665Z",
     "shell.execute_reply.started": "2022-07-24T04:02:52.551036Z",
     "shell.execute_reply": "2022-07-24T04:02:52.791305Z"
    },
    "trusted": true
   },
   "execution_count": 14,
   "outputs": []
  },
  {
   "cell_type": "code",
   "source": [
    "def edge_enhancing(array):\n",
    "    method = np.random.choice(['ada_thold', 'laplacian', 'edge_enahnced'])\n",
    "    \n",
    "    if method=='ada_thold':     \n",
    "        return np.expand_dims(cv2.adaptiveThreshold(array, 255, cv2.ADAPTIVE_THRESH_MEAN_C, cv2.THRESH_BINARY, 11, 1), 2)\n",
    "    \n",
    "    elif method=='laplacian':\n",
    "        return np.expand_dims(cv2.Laplacian(array,cv2.CV_64F, ksize=5), 2)\n",
    "    \n",
    "    else:\n",
    "        image = Image.fromarray(np.squeeze(array, axis=2)).convert('L')\n",
    "        return np.expand_dims(np.asarray(image.filter(Filter.EDGE_ENHANCE_MORE)), 2)"
   ],
   "metadata": {
    "pycharm": {
     "name": "#%%\n"
    },
    "execution": {
     "iopub.status.busy": "2022-07-24T04:02:55.913305Z",
     "iopub.execute_input": "2022-07-24T04:02:55.913713Z",
     "iopub.status.idle": "2022-07-24T04:02:55.924019Z",
     "shell.execute_reply.started": "2022-07-24T04:02:55.913685Z",
     "shell.execute_reply": "2022-07-24T04:02:55.922546Z"
    },
    "trusted": true
   },
   "execution_count": 15,
   "outputs": []
  },
  {
   "cell_type": "code",
   "source": [
    "def de_texturization(array):\n",
    "    n = np.random.choice([5, 9, 13, 15])\n",
    "    sigma = np.random.choice([50, 65, 75])\n",
    "    \n",
    "    return np.expand_dims(cv2.bilateralFilter(array, n, sigma, sigma), 2)"
   ],
   "metadata": {
    "pycharm": {
     "name": "#%%\n"
    },
    "execution": {
     "iopub.status.busy": "2022-07-24T04:02:58.273098Z",
     "iopub.execute_input": "2022-07-24T04:02:58.274279Z",
     "iopub.status.idle": "2022-07-24T04:02:58.282508Z",
     "shell.execute_reply.started": "2022-07-24T04:02:58.274194Z",
     "shell.execute_reply": "2022-07-24T04:02:58.281054Z"
    },
    "trusted": true
   },
   "execution_count": 16,
   "outputs": []
  },
  {
   "cell_type": "code",
   "source": [
    "def random_flip(array):    \n",
    "    if random.choice([True, False]):\n",
    "        return tf.image.random_flip_left_right(array).numpy()\n",
    "    else:\n",
    "        return tf.image.random_flip_up_down(array).numpy()"
   ],
   "metadata": {
    "pycharm": {
     "name": "#%%\n"
    },
    "execution": {
     "iopub.status.busy": "2022-07-24T04:03:00.220068Z",
     "iopub.execute_input": "2022-07-24T04:03:00.220691Z",
     "iopub.status.idle": "2022-07-24T04:03:00.227008Z",
     "shell.execute_reply.started": "2022-07-24T04:03:00.220660Z",
     "shell.execute_reply": "2022-07-24T04:03:00.225590Z"
    },
    "trusted": true
   },
   "execution_count": 17,
   "outputs": []
  },
  {
   "cell_type": "code",
   "source": [
    "def tumbnail(array, shape=(512,512)):\n",
    "    return cv2.resize(array, shape) "
   ],
   "metadata": {
    "pycharm": {
     "name": "#%%\n"
    },
    "execution": {
     "iopub.status.busy": "2022-07-24T04:03:02.953205Z",
     "iopub.execute_input": "2022-07-24T04:03:02.953885Z",
     "iopub.status.idle": "2022-07-24T04:03:02.960455Z",
     "shell.execute_reply.started": "2022-07-24T04:03:02.953851Z",
     "shell.execute_reply": "2022-07-24T04:03:02.958689Z"
    },
    "trusted": true
   },
   "execution_count": 18,
   "outputs": []
  },
  {
   "cell_type": "code",
   "source": [
    "def random_crop(array):\n",
    "    method = np.random.choice(['left', 'right', 'top', 'down'])\n",
    "    v_center = array.shape[1]//2\n",
    "    h_center = array.shape[0]//2\n",
    "    \n",
    "    if method == 'left':\n",
    "        return array[:,:v_center,:]\n",
    "    elif method == 'right':\n",
    "        return array[:,v_center:,:]\n",
    "    elif method == 'top':\n",
    "        return array[:h_center,:,:]\n",
    "    elif method == 'down':\n",
    "        return array[h_center:,:,:]\n",
    "    else:\n",
    "        return array"
   ],
   "metadata": {
    "pycharm": {
     "name": "#%%\n"
    },
    "execution": {
     "iopub.status.busy": "2022-07-24T04:03:04.686854Z",
     "iopub.execute_input": "2022-07-24T04:03:04.687444Z",
     "iopub.status.idle": "2022-07-24T04:03:04.703302Z",
     "shell.execute_reply.started": "2022-07-24T04:03:04.687400Z",
     "shell.execute_reply": "2022-07-24T04:03:04.701947Z"
    },
    "trusted": true
   },
   "execution_count": 19,
   "outputs": []
  },
  {
   "cell_type": "code",
   "source": [
    "image = Image.open('../input/unifesp-xray-body-part-classifier-dataset-jpeg/data/train/10166555243811009418614649510306269973.jpg')\n",
    "image_arr = np.expand_dims(np.asarray(image), axis=2)\n",
    "fig, axes = plt.subplots(nrows=1, ncols=4, figsize=[12,6], dpi=200)\n",
    "axes = axes.ravel()\n",
    "\n",
    "for i in range(len(axes)):\n",
    "    axes[i].imshow(edge_enhancing(image_arr), cmap=plt.cm.gray)\n",
    "    axes[i].axis('off')"
   ],
   "metadata": {
    "pycharm": {
     "name": "#%%\n"
    },
    "execution": {
     "iopub.status.busy": "2022-07-24T04:03:06.701751Z",
     "iopub.execute_input": "2022-07-24T04:03:06.702167Z",
     "iopub.status.idle": "2022-07-24T04:03:07.412911Z",
     "shell.execute_reply.started": "2022-07-24T04:03:06.702137Z",
     "shell.execute_reply": "2022-07-24T04:03:07.411739Z"
    },
    "trusted": true
   },
   "execution_count": 20,
   "outputs": []
  },
  {
   "cell_type": "code",
   "source": [
    "image_arr = np.expand_dims(np.asarray(image), axis=2)\n",
    "fig, axes = plt.subplots(nrows=1, ncols=4, figsize=[12,6], dpi=200)\n",
    "axes = axes.ravel()\n",
    "\n",
    "for i in range(len(axes)):\n",
    "    axes[i].imshow(de_texturization(image_arr), cmap=plt.cm.gray)\n",
    "    axes[i].axis('off')"
   ],
   "metadata": {
    "pycharm": {
     "name": "#%%\n"
    },
    "execution": {
     "iopub.status.busy": "2022-07-24T04:03:08.188263Z",
     "iopub.execute_input": "2022-07-24T04:03:08.189812Z",
     "iopub.status.idle": "2022-07-24T04:03:09.034511Z",
     "shell.execute_reply.started": "2022-07-24T04:03:08.189768Z",
     "shell.execute_reply": "2022-07-24T04:03:09.033223Z"
    },
    "trusted": true
   },
   "execution_count": 21,
   "outputs": []
  },
  {
   "cell_type": "code",
   "source": [
    "image_arr = np.expand_dims(np.asarray(image), axis=2)\n",
    "fig, axes = plt.subplots(nrows=1, ncols=4, figsize=[12,6], dpi=200)\n",
    "axes = axes.ravel()\n",
    "\n",
    "for i in range(len(axes)):\n",
    "    img = tumbnail(random_crop(image_arr))\n",
    "    axes[i].imshow(img, cmap=plt.cm.gray)\n",
    "    axes[i].axis('off')"
   ],
   "metadata": {
    "pycharm": {
     "name": "#%%\n"
    },
    "execution": {
     "iopub.status.busy": "2022-07-24T04:03:09.421977Z",
     "iopub.execute_input": "2022-07-24T04:03:09.422391Z",
     "iopub.status.idle": "2022-07-24T04:03:09.926211Z",
     "shell.execute_reply.started": "2022-07-24T04:03:09.422361Z",
     "shell.execute_reply": "2022-07-24T04:03:09.925015Z"
    },
    "trusted": true
   },
   "execution_count": 22,
   "outputs": []
  },
  {
   "cell_type": "code",
   "source": [
    "def pre_procrssing(image):\n",
    "    temp = np.asarray(image)\n",
    "    \n",
    "    if np.random.choice([True, False], p=[0.45, 0.55]):\n",
    "        # other augmentaions\n",
    "        temp = de_texturization(temp)\n",
    "        \n",
    "        # crop\n",
    "        if random.choice([True, False]):\n",
    "            temp = tf.image.random_crop(temp, (128,128,1)).numpy()\n",
    "        else:\n",
    "            temp = random_crop(temp)\n",
    "        \n",
    "        temp = tumbnail(temp, (input_size, input_size))\n",
    "\n",
    "        return np.expand_dims(temp, 2)\n",
    "    \n",
    "    else:\n",
    "        return temp"
   ],
   "metadata": {
    "pycharm": {
     "name": "#%%\n"
    },
    "execution": {
     "iopub.status.busy": "2022-07-24T05:37:49.994191Z",
     "iopub.execute_input": "2022-07-24T05:37:49.994621Z",
     "iopub.status.idle": "2022-07-24T05:37:50.003788Z",
     "shell.execute_reply.started": "2022-07-24T05:37:49.994578Z",
     "shell.execute_reply": "2022-07-24T05:37:50.001949Z"
    },
    "trusted": true
   },
   "execution_count": 92,
   "outputs": []
  },
  {
   "cell_type": "markdown",
   "source": [
    "### Test Pre-processing Pipeline"
   ],
   "metadata": {
    "pycharm": {
     "name": "#%% md\n"
    }
   }
  },
  {
   "cell_type": "code",
   "source": [
    "files = os.listdir('../input/unifesp-xray-body-part-classifier-dataset-jpeg/data/train')\n",
    "rand_files = random.choices(files, k=24)\n",
    "\n",
    "fig, axes = plt.subplots(nrows=4, ncols=6, figsize=[12,8], dpi=200)\n",
    "axes = axes.ravel()\n",
    "\n",
    "for i in range(len(axes)):\n",
    "    img = Image.open(os.path.join('../input/unifesp-xray-body-part-classifier-dataset-jpeg/data/train',rand_files[i]))\n",
    "    img = pre_procrssing(img)\n",
    "    axes[i].imshow(img, cmap=plt.cm.gray)\n",
    "    axes[i].axis('off')"
   ],
   "metadata": {
    "pycharm": {
     "name": "#%%\n"
    },
    "execution": {
     "iopub.status.busy": "2022-07-24T05:37:55.107108Z",
     "iopub.execute_input": "2022-07-24T05:37:55.107585Z",
     "iopub.status.idle": "2022-07-24T05:37:57.529132Z",
     "shell.execute_reply.started": "2022-07-24T05:37:55.107555Z",
     "shell.execute_reply": "2022-07-24T05:37:57.527989Z"
    },
    "trusted": true
   },
   "execution_count": 93,
   "outputs": []
  },
  {
   "cell_type": "code",
   "source": [
    "train_df = pd.read_csv('../input/xray-body-images-in-png-unifesp-competion/train_df.csv', usecols=['image_path', 'Target'])\n",
    "# train_df['file_name'] = train_df['file_name'] + '.jpg'\n",
    "train_df"
   ],
   "metadata": {
    "pycharm": {
     "name": "#%%\n"
    },
    "execution": {
     "iopub.status.busy": "2022-07-24T04:03:29.511640Z",
     "iopub.execute_input": "2022-07-24T04:03:29.512030Z",
     "iopub.status.idle": "2022-07-24T04:03:29.569188Z",
     "shell.execute_reply.started": "2022-07-24T04:03:29.512002Z",
     "shell.execute_reply": "2022-07-24T04:03:29.567579Z"
    },
    "trusted": true
   },
   "execution_count": 25,
   "outputs": []
  },
  {
   "cell_type": "code",
   "source": [
    "# train_df['file_name'] = '../input/unifesp-xray-body-part-classifier-dataset-jpeg/data/train/' + train_df['file_name']\n",
    "train_df['Target'] = train_df['Target'].str.strip()"
   ],
   "metadata": {
    "pycharm": {
     "name": "#%%\n"
    },
    "execution": {
     "iopub.status.busy": "2022-07-24T04:03:31.493393Z",
     "iopub.execute_input": "2022-07-24T04:03:31.493793Z",
     "iopub.status.idle": "2022-07-24T04:03:31.505908Z",
     "shell.execute_reply.started": "2022-07-24T04:03:31.493764Z",
     "shell.execute_reply": "2022-07-24T04:03:31.504408Z"
    },
    "trusted": true
   },
   "execution_count": 26,
   "outputs": []
  },
  {
   "cell_type": "code",
   "source": [
    "multi_labels = [i for i, target in enumerate(train_df['Target']) if len(target) > 2]\n",
    "len(multi_labels)"
   ],
   "metadata": {
    "pycharm": {
     "name": "#%%\n"
    },
    "execution": {
     "iopub.status.busy": "2022-07-24T04:03:33.642793Z",
     "iopub.execute_input": "2022-07-24T04:03:33.643209Z",
     "iopub.status.idle": "2022-07-24T04:03:33.653204Z",
     "shell.execute_reply.started": "2022-07-24T04:03:33.643163Z",
     "shell.execute_reply": "2022-07-24T04:03:33.651911Z"
    },
    "trusted": true
   },
   "execution_count": 27,
   "outputs": []
  },
  {
   "cell_type": "code",
   "source": [
    "corrected_labels = []\n",
    "\n",
    "for ml in multi_labels:    \n",
    "    corrected_labels.append([train_df.loc[ml, 'image_path'], train_df.loc[ml, 'Target'].split(' ')[0]])"
   ],
   "metadata": {
    "pycharm": {
     "name": "#%%\n"
    },
    "execution": {
     "iopub.status.busy": "2022-07-24T04:03:35.623157Z",
     "iopub.execute_input": "2022-07-24T04:03:35.624283Z",
     "iopub.status.idle": "2022-07-24T04:03:35.638755Z",
     "shell.execute_reply.started": "2022-07-24T04:03:35.624217Z",
     "shell.execute_reply": "2022-07-24T04:03:35.637193Z"
    },
    "trusted": true
   },
   "execution_count": 28,
   "outputs": []
  },
  {
   "cell_type": "code",
   "source": [
    "train_df = pd.concat([train_df.drop(train_df.loc[multi_labels].index),\n",
    "                     pd.DataFrame(corrected_labels, columns=['image_path', 'Target'])], ignore_index=True)\n",
    "train_df"
   ],
   "metadata": {
    "pycharm": {
     "name": "#%%\n"
    },
    "execution": {
     "iopub.status.busy": "2022-07-24T04:03:37.677279Z",
     "iopub.execute_input": "2022-07-24T04:03:37.677690Z",
     "iopub.status.idle": "2022-07-24T04:03:37.707568Z",
     "shell.execute_reply.started": "2022-07-24T04:03:37.677659Z",
     "shell.execute_reply": "2022-07-24T04:03:37.706168Z"
    },
    "trusted": true
   },
   "execution_count": 29,
   "outputs": []
  },
  {
   "cell_type": "code",
   "source": [
    "train_df"
   ],
   "metadata": {
    "execution": {
     "iopub.status.busy": "2022-07-24T04:07:50.366430Z",
     "iopub.execute_input": "2022-07-24T04:07:50.367494Z",
     "iopub.status.idle": "2022-07-24T04:07:50.383324Z",
     "shell.execute_reply.started": "2022-07-24T04:07:50.367450Z",
     "shell.execute_reply": "2022-07-24T04:07:50.381830Z"
    },
    "trusted": true,
    "pycharm": {
     "name": "#%%\n"
    }
   },
   "execution_count": 39,
   "outputs": []
  },
  {
   "cell_type": "code",
   "source": [
    "train_df['image_path'] = train_df['image_path'].str.replace('./images','../input/xray-body-images-in-png-unifesp-competion/images')"
   ],
   "metadata": {
    "execution": {
     "iopub.status.busy": "2022-07-24T04:15:53.784847Z",
     "iopub.execute_input": "2022-07-24T04:15:53.785260Z",
     "iopub.status.idle": "2022-07-24T04:15:53.799934Z",
     "shell.execute_reply.started": "2022-07-24T04:15:53.785209Z",
     "shell.execute_reply": "2022-07-24T04:15:53.798376Z"
    },
    "trusted": true,
    "pycharm": {
     "name": "#%%\n"
    }
   },
   "execution_count": 43,
   "outputs": []
  },
  {
   "cell_type": "markdown",
   "source": [
    "## Create more training samples"
   ],
   "metadata": {
    "pycharm": {
     "name": "#%% md\n"
    }
   }
  },
  {
   "cell_type": "code",
   "source": [
    "new_train_data = []\n",
    "\n",
    "if not os.path.isdir('./train'):\n",
    "    os.mkdir('./train')\n",
    "    \n",
    "for j, (tar, file) in enumerate(train_df.values):\n",
    "    img = cv2.imread(file, cv2.IMREAD_GRAYSCALE)\n",
    "    img = np.expand_dims(img, 2)\n",
    "    \n",
    "    for i, scale in enumerate([0.5, 0.65, 0.8, 0.95]):\n",
    "        new_file_path = f\"./train/c-{i}-{file.split('/')[-1]}\"\n",
    "        temp = tf.image.central_crop(img, scale).numpy()\n",
    "        temp = edge_enhancing(temp)\n",
    "        cv2.imwrite(new_file_path, temp)\n",
    "        new_train_data.append([tar, new_file_path])\n",
    "        \n",
    "        print(f'{j}/{train_df.shape[0]} -- {i+1}', end='\\r')"
   ],
   "metadata": {
    "execution": {
     "iopub.status.busy": "2022-07-24T04:26:59.041799Z",
     "iopub.execute_input": "2022-07-24T04:26:59.042217Z",
     "iopub.status.idle": "2022-07-24T04:27:33.616889Z",
     "shell.execute_reply.started": "2022-07-24T04:26:59.042186Z",
     "shell.execute_reply": "2022-07-24T04:27:33.614912Z"
    },
    "trusted": true,
    "pycharm": {
     "name": "#%%\n"
    }
   },
   "execution_count": 65,
   "outputs": []
  },
  {
   "cell_type": "code",
   "source": [
    "files = os.listdir('./train/')\n",
    "rand_files = random.choices(files, k=24)\n",
    "\n",
    "fig, axes = plt.subplots(nrows=4, ncols=6, figsize=[12,8], dpi=200)\n",
    "axes = axes.ravel()\n",
    "\n",
    "for i in range(len(axes)):\n",
    "    img = Image.open(os.path.join('./train',rand_files[i]))\n",
    "    axes[i].imshow(img, cmap=plt.cm.gray)\n",
    "    axes[i].axis('off')"
   ],
   "metadata": {
    "execution": {
     "iopub.status.busy": "2022-07-24T04:33:36.758497Z",
     "iopub.execute_input": "2022-07-24T04:33:36.759003Z",
     "iopub.status.idle": "2022-07-24T04:33:39.004695Z",
     "shell.execute_reply.started": "2022-07-24T04:33:36.758960Z",
     "shell.execute_reply": "2022-07-24T04:33:39.003286Z"
    },
    "trusted": true,
    "pycharm": {
     "name": "#%%\n"
    }
   },
   "execution_count": 70,
   "outputs": []
  },
  {
   "cell_type": "code",
   "source": [
    "new_train_data = pd.DataFrame(new_train_data, columns=['Target', 'image_path'])\n",
    "new_train_data"
   ],
   "metadata": {
    "execution": {
     "iopub.status.busy": "2022-07-24T04:28:35.348492Z",
     "iopub.execute_input": "2022-07-24T04:28:35.349010Z",
     "iopub.status.idle": "2022-07-24T04:28:35.381750Z",
     "shell.execute_reply.started": "2022-07-24T04:28:35.348971Z",
     "shell.execute_reply": "2022-07-24T04:28:35.380385Z"
    },
    "trusted": true,
    "pycharm": {
     "name": "#%%\n"
    }
   },
   "execution_count": 67,
   "outputs": []
  },
  {
   "cell_type": "code",
   "source": [
    "train_df = pd.concat([train_df, new_train_data], ignore_index=True)\n",
    "train_df"
   ],
   "metadata": {
    "execution": {
     "iopub.status.busy": "2022-07-24T04:30:14.422220Z",
     "iopub.execute_input": "2022-07-24T04:30:14.422701Z",
     "iopub.status.idle": "2022-07-24T04:30:14.441885Z",
     "shell.execute_reply.started": "2022-07-24T04:30:14.422671Z",
     "shell.execute_reply": "2022-07-24T04:30:14.440489Z"
    },
    "trusted": true,
    "pycharm": {
     "name": "#%%\n"
    }
   },
   "execution_count": 69,
   "outputs": []
  },
  {
   "cell_type": "markdown",
   "source": [
    "## Build Model"
   ],
   "metadata": {
    "pycharm": {
     "name": "#%% md\n"
    }
   }
  },
  {
   "cell_type": "code",
   "source": [
    "train, test = train_test_split(train_df[['image_path', 'Target']], test_size=0.1)\n",
    "train.shape, test.shape"
   ],
   "metadata": {
    "pycharm": {
     "name": "#%%\n"
    },
    "execution": {
     "iopub.status.busy": "2022-07-24T04:34:30.048319Z",
     "iopub.execute_input": "2022-07-24T04:34:30.048684Z",
     "iopub.status.idle": "2022-07-24T04:34:30.063858Z",
     "shell.execute_reply.started": "2022-07-24T04:34:30.048656Z",
     "shell.execute_reply": "2022-07-24T04:34:30.062631Z"
    },
    "trusted": true
   },
   "execution_count": 71,
   "outputs": []
  },
  {
   "cell_type": "markdown",
   "source": [
    "### Config Data Loders"
   ],
   "metadata": {
    "pycharm": {
     "name": "#%% md\n"
    }
   }
  },
  {
   "cell_type": "code",
   "source": [
    "generator = ImageDataGenerator(rescale=1 / 255,\n",
    "                               rotation_range=10,\n",
    "                               width_shift_range=0.25,\n",
    "                               height_shift_range=0.25,\n",
    "                               shear_range=0.2,\n",
    "                               horizontal_flip=True,\n",
    "                               vertical_flip=True,\n",
    "                               samplewise_center=True,\n",
    "                               samplewise_std_normalization=True,\n",
    "                               validation_split=valid_split,\n",
    "                               preprocessing_function=pre_procrssing\n",
    "                              )\n",
    "\n",
    "test_generator = ImageDataGenerator(rescale=1 / 255,\n",
    "                                    samplewise_center=True,\n",
    "                                    samplewise_std_normalization=True)\n",
    "\n",
    "train_datagen = generator.flow_from_dataframe(dataframe=train,\n",
    "                                              x_col='image_path',\n",
    "                                              y_col='Target',\n",
    "                                              target_size=(input_size, input_size),\n",
    "                                              batch_size=batch_size,\n",
    "                                              color_mode='grayscale',\n",
    "                                              subset='training',\n",
    "                                              seed=48)\n",
    "\n",
    "valid_datagen = generator.flow_from_dataframe(dataframe=train,\n",
    "                                              x_col='image_path',\n",
    "                                              y_col='Target',\n",
    "                                              target_size=(input_size, input_size),\n",
    "                                              batch_size=batch_size,\n",
    "                                              color_mode='grayscale',\n",
    "                                              subset='validation',\n",
    "                                              shuffle=False,\n",
    "                                              seed=48)\n",
    "\n",
    "test_datagen = test_generator.flow_from_dataframe(dataframe=test,\n",
    "                                                  x_col='image_path',\n",
    "                                                  y_col='Target',\n",
    "                                                  color_mode='grayscale',\n",
    "                                                  batch_size=batch_size,\n",
    "                                                  target_size=(input_size, input_size),\n",
    "                                                  shuffle=False,\n",
    "                                                  seed=48)"
   ],
   "metadata": {
    "pycharm": {
     "name": "#%%\n"
    },
    "execution": {
     "iopub.status.busy": "2022-07-24T05:40:28.519765Z",
     "iopub.execute_input": "2022-07-24T05:40:28.520125Z",
     "iopub.status.idle": "2022-07-24T05:40:29.705023Z",
     "shell.execute_reply.started": "2022-07-24T05:40:28.520097Z",
     "shell.execute_reply": "2022-07-24T05:40:29.703713Z"
    },
    "trusted": true
   },
   "execution_count": 95,
   "outputs": []
  },
  {
   "cell_type": "markdown",
   "source": [
    "#### Train mini batch"
   ],
   "metadata": {
    "pycharm": {
     "name": "#%% md\n"
    }
   }
  },
  {
   "cell_type": "code",
   "source": [
    "fig, axes = plt.subplots(nrows=4, ncols=8, figsize=[32, 10], dpi=200)\n",
    "axes = axes.ravel()\n",
    "\n",
    "for i, arr in enumerate(train_datagen.next()[0]):\n",
    "    img = tf.keras.utils.array_to_img(arr)\n",
    "    axes[i].imshow(img, cmap=plt.cm.gray)\n",
    "    \n",
    "plt.show()"
   ],
   "metadata": {
    "pycharm": {
     "name": "#%%\n"
    },
    "execution": {
     "iopub.status.busy": "2022-07-24T05:40:35.679213Z",
     "iopub.execute_input": "2022-07-24T05:40:35.679650Z",
     "iopub.status.idle": "2022-07-24T05:40:41.976793Z",
     "shell.execute_reply.started": "2022-07-24T05:40:35.679621Z",
     "shell.execute_reply": "2022-07-24T05:40:41.974994Z"
    },
    "trusted": true
   },
   "execution_count": 96,
   "outputs": []
  },
  {
   "cell_type": "markdown",
   "source": [
    "### Validation mini batch"
   ],
   "metadata": {
    "pycharm": {
     "name": "#%% md\n"
    }
   }
  },
  {
   "cell_type": "code",
   "source": [
    "fig, axes = plt.subplots(nrows=4, ncols=8, figsize=[32, 10], dpi=200)\n",
    "axes = axes.ravel()\n",
    "\n",
    "for i, arr in enumerate(valid_datagen.next()[0]):\n",
    "    img = tf.keras.utils.array_to_img(arr)\n",
    "    axes[i].imshow(img, cmap=plt.cm.gray)\n",
    "    \n",
    "plt.show()"
   ],
   "metadata": {
    "pycharm": {
     "name": "#%%\n"
    },
    "execution": {
     "iopub.status.busy": "2022-07-24T05:42:42.696203Z",
     "iopub.execute_input": "2022-07-24T05:42:42.696644Z",
     "iopub.status.idle": "2022-07-24T05:42:47.798762Z",
     "shell.execute_reply.started": "2022-07-24T05:42:42.696598Z",
     "shell.execute_reply": "2022-07-24T05:42:47.797593Z"
    },
    "trusted": true
   },
   "execution_count": 97,
   "outputs": []
  },
  {
   "cell_type": "markdown",
   "source": [
    "### Test mini batch"
   ],
   "metadata": {
    "pycharm": {
     "name": "#%% md\n"
    }
   }
  },
  {
   "cell_type": "code",
   "source": [
    "fig, axes = plt.subplots(nrows=4, ncols=8, figsize=[32, 10], dpi=200)\n",
    "axes = axes.ravel()\n",
    "\n",
    "for i, arr in enumerate(test_datagen.next()[0]):\n",
    "    img = tf.keras.utils.array_to_img(arr)\n",
    "    axes[i].imshow(img, cmap=plt.cm.gray)\n",
    "    \n",
    "plt.show()"
   ],
   "metadata": {
    "pycharm": {
     "name": "#%%\n"
    },
    "execution": {
     "iopub.status.busy": "2022-07-24T05:42:47.801119Z",
     "iopub.execute_input": "2022-07-24T05:42:47.801852Z",
     "iopub.status.idle": "2022-07-24T05:42:53.761903Z",
     "shell.execute_reply.started": "2022-07-24T05:42:47.801812Z",
     "shell.execute_reply": "2022-07-24T05:42:53.759426Z"
    },
    "trusted": true
   },
   "execution_count": 98,
   "outputs": []
  },
  {
   "cell_type": "markdown",
   "source": [
    "### Baseline Sequential Model"
   ],
   "metadata": {
    "pycharm": {
     "name": "#%% md\n"
    }
   }
  },
  {
   "cell_type": "code",
   "source": [
    "early_stop = tf.keras.callbacks.EarlyStopping(patience=25,\n",
    "                                              monitor='val_loss',\n",
    "                                              restore_best_weights=True,\n",
    "                                              verbose=1)\n",
    "\n",
    "reduce_lr = tf.keras.callbacks.ReduceLROnPlateau(patience=5,\n",
    "                                                 monitor='val_loss',\n",
    "                                                 factor=0.5,\n",
    "                                                 verbose=1)"
   ],
   "metadata": {
    "pycharm": {
     "name": "#%%\n"
    },
    "execution": {
     "iopub.status.busy": "2022-07-24T05:43:50.820660Z",
     "iopub.execute_input": "2022-07-24T05:43:50.821041Z",
     "iopub.status.idle": "2022-07-24T05:43:50.828827Z",
     "shell.execute_reply.started": "2022-07-24T05:43:50.821012Z",
     "shell.execute_reply": "2022-07-24T05:43:50.827391Z"
    },
    "trusted": true
   },
   "execution_count": 99,
   "outputs": []
  },
  {
   "cell_type": "code",
   "source": [
    "def residual_block(x, filters, kernel=(3, 3), strid=(1, 1), projection=False):\n",
    "    r = Conv2D(filters=filters, kernel_size=kernel, kernel_initializer=initializer, strides=strid, padding='same')(x)\n",
    "    r = BatchNormalization()(r)\n",
    "    r = Activation(activation=relu)(r)\n",
    "    r = Conv2D(filters=filters, kernel_size=kernel, kernel_initializer=initializer, padding='same')(r)\n",
    "    r = BatchNormalization()(r)\n",
    "\n",
    "    if projection:\n",
    "        skip = Conv2D(filters=filters, kernel_size=kernel, kernel_initializer=initializer, strides=strid, padding='same')(x)\n",
    "        skip = BatchNormalization()(skip)\n",
    "        r = Add()([r, skip])\n",
    "    else:\n",
    "        r = Add()([r, x])\n",
    "\n",
    "    r = Activation(activation=relu)(r)\n",
    "\n",
    "    return r\n",
    "\n",
    "\n",
    "def build(input_shape=(input_size,input_size,1), classes=classes):\n",
    "    input_layer = Input(input_shape)\n",
    "    x = Conv2D(filters=64, kernel_size=(7, 7), kernel_initializer=initializer, strides=(2, 2), padding='valid')(input_layer)\n",
    "    x = BatchNormalization()(x)\n",
    "    x = Activation(activation=relu)(x)\n",
    "    x = MaxPooling2D(pool_size=(3, 3), strides=(2, 2))(x)\n",
    "\n",
    "    x = residual_block(x, filters=64)\n",
    "    x = residual_block(x, filters=64)\n",
    "    x = residual_block(x, filters=64)\n",
    "\n",
    "    x = residual_block(x, filters=128, strid=(2, 2), projection=True)\n",
    "    x = residual_block(x, filters=128)\n",
    "    x = residual_block(x, filters=128)\n",
    "    x = residual_block(x, filters=128)\n",
    "\n",
    "    x = residual_block(x, filters=256, strid=(2, 2), projection=True)\n",
    "    x = residual_block(x, filters=256)\n",
    "    x = residual_block(x, filters=256)\n",
    "    x = residual_block(x, filters=256)\n",
    "    x = residual_block(x, filters=256)\n",
    "    x = residual_block(x, filters=256)\n",
    "\n",
    "    x = residual_block(x, filters=512, strid=(2, 2), projection=True)\n",
    "    x = residual_block(x, filters=512)\n",
    "    x = residual_block(x, filters=512)\n",
    "\n",
    "    x = AveragePooling2D((5,5))(x)\n",
    "    x = Flatten()(x)\n",
    "    output_layer = Dense(units=classes, activation=softmax)(x)\n",
    "\n",
    "    model = Model(input_layer, output_layer)\n",
    "    model.compile(optimizer=optimizer,\n",
    "                  loss=loss,\n",
    "                  metrics=['accuracy', tfa.metrics.F1Score(num_classes=classes, threshold=0.5)])\n",
    "    \n",
    "    model.summary()\n",
    "\n",
    "    return model"
   ],
   "metadata": {
    "execution": {
     "iopub.status.busy": "2022-07-24T05:43:56.946581Z",
     "iopub.execute_input": "2022-07-24T05:43:56.946964Z",
     "iopub.status.idle": "2022-07-24T05:43:56.968390Z",
     "shell.execute_reply.started": "2022-07-24T05:43:56.946935Z",
     "shell.execute_reply": "2022-07-24T05:43:56.967074Z"
    },
    "trusted": true,
    "pycharm": {
     "name": "#%%\n"
    }
   },
   "execution_count": 100,
   "outputs": []
  },
  {
   "cell_type": "code",
   "source": [
    "model = build()"
   ],
   "metadata": {
    "execution": {
     "iopub.status.busy": "2022-07-24T05:44:03.607014Z",
     "iopub.execute_input": "2022-07-24T05:44:03.609580Z",
     "iopub.status.idle": "2022-07-24T05:44:04.425859Z",
     "shell.execute_reply.started": "2022-07-24T05:44:03.609532Z",
     "shell.execute_reply": "2022-07-24T05:44:04.424420Z"
    },
    "trusted": true,
    "pycharm": {
     "name": "#%%\n"
    }
   },
   "execution_count": 101,
   "outputs": []
  },
  {
   "cell_type": "markdown",
   "source": [
    "### Training and Evaluation"
   ],
   "metadata": {
    "pycharm": {
     "name": "#%% md\n"
    }
   }
  },
  {
   "cell_type": "code",
   "source": [
    "history = model.fit(train_datagen,\n",
    "                    validation_data=valid_datagen,\n",
    "                    batch_size=batch_size,\n",
    "                    epochs=epochs,\n",
    "                    callbacks=[early_stop,reduce_lr])"
   ],
   "metadata": {
    "pycharm": {
     "name": "#%%\n"
    },
    "execution": {
     "iopub.status.busy": "2022-07-24T05:44:18.766433Z",
     "iopub.execute_input": "2022-07-24T05:44:18.766934Z",
     "iopub.status.idle": "2022-07-24T08:40:33.108287Z",
     "shell.execute_reply.started": "2022-07-24T05:44:18.766895Z",
     "shell.execute_reply": "2022-07-24T08:40:33.106908Z"
    },
    "trusted": true
   },
   "execution_count": 102,
   "outputs": []
  },
  {
   "cell_type": "code",
   "source": [
    "model.evaluate(test_datagen)"
   ],
   "metadata": {
    "execution": {
     "iopub.status.busy": "2022-07-24T08:45:09.904707Z",
     "iopub.execute_input": "2022-07-24T08:45:09.905160Z",
     "iopub.status.idle": "2022-07-24T08:45:12.638885Z",
     "shell.execute_reply.started": "2022-07-24T08:45:09.905109Z",
     "shell.execute_reply": "2022-07-24T08:45:12.637459Z"
    },
    "trusted": true,
    "pycharm": {
     "name": "#%%\n"
    }
   },
   "execution_count": 105,
   "outputs": []
  },
  {
   "cell_type": "code",
   "source": [
    "test_preds = np.argmax(model.predict(test_datagen), axis=1)\n",
    "pred_y = [{v:k for k,v in train_datagen.class_indices.items()}[k] for k in test_preds]\n",
    "true_y = test.Target.values"
   ],
   "metadata": {
    "pycharm": {
     "name": "#%%\n"
    },
    "execution": {
     "iopub.status.busy": "2022-07-24T08:54:59.924658Z",
     "iopub.execute_input": "2022-07-24T08:54:59.925067Z",
     "iopub.status.idle": "2022-07-24T08:55:02.327375Z",
     "shell.execute_reply.started": "2022-07-24T08:54:59.925039Z",
     "shell.execute_reply": "2022-07-24T08:55:02.326007Z"
    },
    "trusted": true
   },
   "execution_count": 127,
   "outputs": []
  },
  {
   "cell_type": "code",
   "source": [
    "acc_score_test = accuracy_score(true_y, pred_y)\n",
    "conf_metric = confusion_matrix(true_y, pred_y, labels=list(train_datagen.class_indices.keys()))"
   ],
   "metadata": {
    "execution": {
     "iopub.status.busy": "2022-07-24T08:57:18.384341Z",
     "iopub.execute_input": "2022-07-24T08:57:18.384804Z",
     "iopub.status.idle": "2022-07-24T08:57:18.399013Z",
     "shell.execute_reply.started": "2022-07-24T08:57:18.384759Z",
     "shell.execute_reply": "2022-07-24T08:57:18.397684Z"
    },
    "trusted": true,
    "pycharm": {
     "name": "#%%\n"
    }
   },
   "execution_count": 128,
   "outputs": []
  },
  {
   "cell_type": "code",
   "source": [
    "plt.figure(figsize=[12,12], dpi=100)\n",
    "sns.heatmap(np.round(conf_metric/np.sum(conf_metric, axis=1), 2),\n",
    "            cbar=False,\n",
    "            annot=True,\n",
    "            annot_kws={\"size\": 9},\n",
    "            cmap=plt.cm.Blues)\n",
    "plt.xlabel('True labels')\n",
    "plt.ylabel('Predicted labels')\n",
    "plt.show()"
   ],
   "metadata": {
    "execution": {
     "iopub.status.busy": "2022-07-24T09:54:22.660936Z",
     "iopub.execute_input": "2022-07-24T09:54:22.662202Z",
     "iopub.status.idle": "2022-07-24T09:54:24.830939Z",
     "shell.execute_reply.started": "2022-07-24T09:54:22.662121Z",
     "shell.execute_reply": "2022-07-24T09:54:24.829573Z"
    },
    "trusted": true,
    "pycharm": {
     "name": "#%%\n"
    }
   },
   "execution_count": 180,
   "outputs": []
  },
  {
   "cell_type": "code",
   "source": [
    "plt.figure(figsize=[12,6], dpi=300)\n",
    "sns.lineplot(x=list(range(len(history.history['accuracy']))),\n",
    "             y=history.history['accuracy'],\n",
    "             label='train')\n",
    "sns.lineplot(x=list(range(len(history.history['val_accuracy']))),\n",
    "             y=history.history['val_accuracy'],\n",
    "             label='validation')\n",
    "plt.show()"
   ],
   "metadata": {
    "pycharm": {
     "name": "#%%\n"
    },
    "execution": {
     "iopub.status.busy": "2022-07-24T08:45:54.044434Z",
     "iopub.execute_input": "2022-07-24T08:45:54.044834Z",
     "iopub.status.idle": "2022-07-24T08:45:54.586921Z",
     "shell.execute_reply.started": "2022-07-24T08:45:54.044804Z",
     "shell.execute_reply": "2022-07-24T08:45:54.585559Z"
    },
    "trusted": true
   },
   "execution_count": 109,
   "outputs": []
  },
  {
   "cell_type": "code",
   "source": [
    "plt.figure(figsize=[12,6], dpi=300)\n",
    "sns.lineplot(x=list(range(len(np.mean(history.history['f1_score'], axis=1)))),\n",
    "             y=np.mean(history.history['f1_score'], axis=1),\n",
    "             label='train')\n",
    "sns.lineplot(x=list(range(len(np.mean(history.history['val_f1_score'], axis=1)))),\n",
    "             y=np.mean(history.history['val_f1_score'], axis=1),\n",
    "             label='validation')\n",
    "plt.show()"
   ],
   "metadata": {
    "pycharm": {
     "name": "#%%\n"
    },
    "execution": {
     "iopub.status.busy": "2022-07-24T08:45:58.244607Z",
     "iopub.execute_input": "2022-07-24T08:45:58.244989Z",
     "iopub.status.idle": "2022-07-24T08:45:58.781703Z",
     "shell.execute_reply.started": "2022-07-24T08:45:58.244960Z",
     "shell.execute_reply": "2022-07-24T08:45:58.780304Z"
    },
    "trusted": true
   },
   "execution_count": 110,
   "outputs": []
  },
  {
   "cell_type": "code",
   "source": [
    "plt.figure(figsize=[12,6], dpi=300)\n",
    "sns.lineplot(x=list(range(len(history.history['loss']))),\n",
    "             y=history.history['loss'],\n",
    "             label='train')\n",
    "sns.lineplot(x=list(range(len(history.history['val_loss']))),\n",
    "             y=history.history['val_loss'],\n",
    "             label='validation')\n",
    "plt.show()"
   ],
   "metadata": {
    "pycharm": {
     "name": "#%%\n"
    },
    "execution": {
     "iopub.status.busy": "2022-07-24T08:46:02.150166Z",
     "iopub.execute_input": "2022-07-24T08:46:02.151626Z",
     "iopub.status.idle": "2022-07-24T08:46:02.686020Z",
     "shell.execute_reply.started": "2022-07-24T08:46:02.151544Z",
     "shell.execute_reply": "2022-07-24T08:46:02.684693Z"
    },
    "trusted": true
   },
   "execution_count": 111,
   "outputs": []
  },
  {
   "cell_type": "markdown",
   "source": [
    "### Saving files"
   ],
   "metadata": {
    "pycharm": {
     "name": "#%% md\n"
    }
   }
  },
  {
   "cell_type": "code",
   "source": [
    "temp = pd.DataFrame(history.history)\n",
    "temp.to_csv('model_resnet36.csv', index=False)"
   ],
   "metadata": {
    "pycharm": {
     "name": "#%%\n"
    },
    "execution": {
     "iopub.status.busy": "2022-07-24T08:46:21.706827Z",
     "iopub.execute_input": "2022-07-24T08:46:21.707231Z",
     "iopub.status.idle": "2022-07-24T08:46:21.792535Z",
     "shell.execute_reply.started": "2022-07-24T08:46:21.707203Z",
     "shell.execute_reply": "2022-07-24T08:46:21.791298Z"
    },
    "trusted": true
   },
   "execution_count": 112,
   "outputs": []
  },
  {
   "cell_type": "code",
   "source": [
    "model.save('model_resnet36.hdf5')"
   ],
   "metadata": {
    "pycharm": {
     "name": "#%%\n"
    },
    "execution": {
     "iopub.status.busy": "2022-07-24T08:46:25.030366Z",
     "iopub.execute_input": "2022-07-24T08:46:25.030731Z",
     "iopub.status.idle": "2022-07-24T08:46:25.872928Z",
     "shell.execute_reply.started": "2022-07-24T08:46:25.030703Z",
     "shell.execute_reply": "2022-07-24T08:46:25.871742Z"
    },
    "trusted": true
   },
   "execution_count": 113,
   "outputs": []
  },
  {
   "cell_type": "code",
   "source": [
    "model.save_weights('model_resnet36_weight.hdf5')"
   ],
   "metadata": {
    "pycharm": {
     "name": "#%%\n"
    },
    "execution": {
     "iopub.status.busy": "2022-07-24T08:46:29.390703Z",
     "iopub.execute_input": "2022-07-24T08:46:29.391127Z",
     "iopub.status.idle": "2022-07-24T08:46:29.725966Z",
     "shell.execute_reply.started": "2022-07-24T08:46:29.391082Z",
     "shell.execute_reply": "2022-07-24T08:46:29.724569Z"
    },
    "trusted": true
   },
   "execution_count": 114,
   "outputs": []
  },
  {
   "cell_type": "markdown",
   "source": [
    "### Inference"
   ],
   "metadata": {
    "pycharm": {
     "name": "#%% md\n"
    }
   }
  },
  {
   "cell_type": "code",
   "source": [
    "test_loc = '../input/xray-body-images-in-png-unifesp-competion/images/test'\n",
    "\n",
    "test_data = ImageDataGenerator(rescale=1.0/255,\n",
    "                               samplewise_center=True,\n",
    "                               samplewise_std_normalization=True).flow_from_directory(directory=test_loc,\n",
    "                                                                                      target_size=(input_size, input_size),\n",
    "                                                                                      batch_size=batch_size,\n",
    "                                                                                      classes=['.'],\n",
    "                                                                                      color_mode='grayscale',\n",
    "                                                                                      shuffle=False)"
   ],
   "metadata": {
    "pycharm": {
     "name": "#%%\n"
    },
    "execution": {
     "iopub.status.busy": "2022-07-24T09:54:55.173601Z",
     "iopub.execute_input": "2022-07-24T09:54:55.174059Z",
     "iopub.status.idle": "2022-07-24T09:54:55.477146Z",
     "shell.execute_reply.started": "2022-07-24T09:54:55.174028Z",
     "shell.execute_reply": "2022-07-24T09:54:55.475793Z"
    },
    "trusted": true
   },
   "execution_count": 181,
   "outputs": []
  },
  {
   "cell_type": "code",
   "source": [
    "preds_p = model.predict(test_data, verbose=1)"
   ],
   "metadata": {
    "pycharm": {
     "name": "#%%\n"
    },
    "execution": {
     "iopub.status.busy": "2022-07-24T09:54:57.676289Z",
     "iopub.execute_input": "2022-07-24T09:54:57.676700Z",
     "iopub.status.idle": "2022-07-24T09:55:02.979658Z",
     "shell.execute_reply.started": "2022-07-24T09:54:57.676669Z",
     "shell.execute_reply": "2022-07-24T09:55:02.978186Z"
    },
    "trusted": true
   },
   "execution_count": 182,
   "outputs": []
  },
  {
   "cell_type": "code",
   "source": [
    "inverse_map = {v:k for k,v in train_datagen.class_indices.items()}\n",
    "inverse_map"
   ],
   "metadata": {
    "execution": {
     "iopub.status.busy": "2022-07-24T09:55:02.982419Z",
     "iopub.execute_input": "2022-07-24T09:55:02.983361Z",
     "iopub.status.idle": "2022-07-24T09:55:02.994627Z",
     "shell.execute_reply.started": "2022-07-24T09:55:02.983304Z",
     "shell.execute_reply": "2022-07-24T09:55:02.993292Z"
    },
    "trusted": true,
    "pycharm": {
     "name": "#%%\n"
    }
   },
   "execution_count": 183,
   "outputs": []
  },
  {
   "cell_type": "code",
   "source": [
    "test_preds = []\n",
    "\n",
    "for i in range(len(preds_p)):\n",
    "    multi_lab = np.where(preds_p[i]>0.5)[0].tolist()\n",
    "    \n",
    "    if len(multi_lab) > 1:\n",
    "        test_preds.append([test_data.filenames[i], ' '.join([inverse_map[m] for m in multi_lab])])\n",
    "    else:\n",
    "        test_preds.append([test_data.filenames[i], inverse_map[np.argmax(preds_p[i])]])"
   ],
   "metadata": {
    "execution": {
     "iopub.status.busy": "2022-07-24T10:01:00.121557Z",
     "iopub.execute_input": "2022-07-24T10:01:00.121948Z",
     "iopub.status.idle": "2022-07-24T10:01:00.155757Z",
     "shell.execute_reply.started": "2022-07-24T10:01:00.121919Z",
     "shell.execute_reply": "2022-07-24T10:01:00.154403Z"
    },
    "trusted": true,
    "pycharm": {
     "name": "#%%\n"
    }
   },
   "execution_count": 187,
   "outputs": []
  },
  {
   "cell_type": "code",
   "source": [
    "test_preds = pd.DataFrame(test_preds, columns=['SOPInstanceUID', 'Target'])\n",
    "test_preds"
   ],
   "metadata": {
    "execution": {
     "iopub.status.busy": "2022-07-24T10:01:01.820070Z",
     "iopub.execute_input": "2022-07-24T10:01:01.820562Z",
     "iopub.status.idle": "2022-07-24T10:01:01.839559Z",
     "shell.execute_reply.started": "2022-07-24T10:01:01.820533Z",
     "shell.execute_reply": "2022-07-24T10:01:01.837170Z"
    },
    "trusted": true,
    "pycharm": {
     "name": "#%%\n"
    }
   },
   "execution_count": 188,
   "outputs": []
  },
  {
   "cell_type": "code",
   "source": [
    "test_preds['SOPInstanceUID'] = test_preds['SOPInstanceUID'].str.replace('-c.png', '')\n",
    "test_preds['SOPInstanceUID'] = test_preds['SOPInstanceUID'].str.replace('./', '')\n",
    "test_preds"
   ],
   "metadata": {
    "execution": {
     "iopub.status.busy": "2022-07-24T10:01:07.863208Z",
     "iopub.execute_input": "2022-07-24T10:01:07.863854Z",
     "iopub.status.idle": "2022-07-24T10:01:07.897561Z",
     "shell.execute_reply.started": "2022-07-24T10:01:07.863822Z",
     "shell.execute_reply": "2022-07-24T10:01:07.896298Z"
    },
    "trusted": true,
    "pycharm": {
     "name": "#%%\n"
    }
   },
   "execution_count": 189,
   "outputs": []
  },
  {
   "cell_type": "code",
   "source": [
    "test_preds.to_csv('model_submission_v3.csv', index=False)"
   ],
   "metadata": {
    "execution": {
     "iopub.status.busy": "2022-07-24T10:01:17.440863Z",
     "iopub.execute_input": "2022-07-24T10:01:17.441475Z",
     "iopub.status.idle": "2022-07-24T10:01:17.455891Z",
     "shell.execute_reply.started": "2022-07-24T10:01:17.441429Z",
     "shell.execute_reply": "2022-07-24T10:01:17.454435Z"
    },
    "trusted": true,
    "pycharm": {
     "name": "#%%\n"
    }
   },
   "execution_count": 191,
   "outputs": []
  },
  {
   "cell_type": "code",
   "source": [
    "pd.options.display.max_rows = 150\n",
    "test_preds.Target.value_counts()"
   ],
   "metadata": {
    "execution": {
     "iopub.status.busy": "2022-07-24T10:01:20.520016Z",
     "iopub.execute_input": "2022-07-24T10:01:20.520477Z",
     "iopub.status.idle": "2022-07-24T10:01:20.531567Z",
     "shell.execute_reply.started": "2022-07-24T10:01:20.520446Z",
     "shell.execute_reply": "2022-07-24T10:01:20.530066Z"
    },
    "trusted": true,
    "pycharm": {
     "name": "#%%\n"
    }
   },
   "execution_count": 192,
   "outputs": []
  }
 ]
}
{
 "metadata": {
  "kernelspec": {
   "language": "python",
   "display_name": "Python 3",
   "name": "python3"
  },
  "language_info": {
   "name": "python",
   "version": "3.7.12",
   "mimetype": "text/x-python",
   "codemirror_mode": {
    "name": "ipython",
    "version": 3
   },
   "pygments_lexer": "ipython3",
   "nbconvert_exporter": "python",
   "file_extension": ".py"
  }
 },
 "nbformat_minor": 4,
 "nbformat": 4,
 "cells": [
  {
   "cell_type": "code",
   "source": [
    "import os\n",
    "import random\n",
    "import numpy as np\n",
    "import pandas as pd\n",
    "import tensorflow as tf\n",
    "import tensorflow_addons as tfa\n",
    "import seaborn as sns\n",
    "import cv2\n",
    "import albumentations as A\n",
    "import math\n",
    "import tensorflow_hub as hub\n",
    "import keras\n",
    "\n",
    "from PIL import Image\n",
    "from tensorflow import keras\n",
    "from albumentations.core.composition import Compose, OneOf\n",
    "from matplotlib import pyplot as plt\n",
    "from sklearn.metrics import confusion_matrix\n",
    "from sklearn.model_selection import train_test_split\n",
    "\n",
    "from tensorflow.keras.models import Model, Sequential\n",
    "from tensorflow.keras.layers import Input\n",
    "from tensorflow.keras.layers import Dense\n",
    "from tensorflow.keras.layers import Conv2D\n",
    "from tensorflow.keras.layers import Add, Activation\n",
    "from tensorflow.keras.layers import MaxPooling2D, AveragePooling2D, GlobalAveragePooling2D\n",
    "from tensorflow.keras.layers import BatchNormalization\n",
    "from tensorflow.keras.layers import concatenate\n",
    "from tensorflow.keras.layers import Dropout\n",
    "from tensorflow.keras.layers import Flatten\n",
    "\n",
    "from tensorflow.keras.applications import EfficientNetB3\n",
    "from tensorflow.keras.activations import relu, softmax\n",
    "from tensorflow.keras.preprocessing.image import ImageDataGenerator\n",
    "from tensorflow.keras.utils import load_img, img_to_array, array_to_img"
   ],
   "metadata": {
    "pycharm": {
     "name": "#%%\n"
    },
    "execution": {
     "iopub.status.busy": "2022-07-05T19:44:31.666518Z",
     "iopub.execute_input": "2022-07-05T19:44:31.667392Z",
     "iopub.status.idle": "2022-07-05T19:44:31.679510Z",
     "shell.execute_reply.started": "2022-07-05T19:44:31.667343Z",
     "shell.execute_reply": "2022-07-05T19:44:31.678520Z"
    },
    "trusted": true
   },
   "execution_count": 49,
   "outputs": []
  },
  {
   "cell_type": "markdown",
   "source": [
    "### Config"
   ],
   "metadata": {
    "pycharm": {
     "name": "#%% md\n"
    }
   }
  },
  {
   "cell_type": "code",
   "source": [
    "train_meta_data = '../train.csv'\n",
    "train_data_dir = '../input/paddy-disease-classification/train_images'\n",
    "epochs = 100\n",
    "lr = 1e-4\n",
    "valid_split = 0.2\n",
    "input_size = 256\n",
    "batch_size = 16\n",
    "classes = 10\n",
    "steps_in_epoch = 580\n",
    "initializer = tf.keras.initializers.HeUniform()\n",
    "optimizer = tf.keras.optimizers.Adam(learning_rate=lr)\n",
    "loss = tf.keras.losses.categorical_crossentropy"
   ],
   "metadata": {
    "collapsed": false,
    "pycharm": {
     "name": "#%%\n"
    },
    "jupyter": {
     "outputs_hidden": false
    },
    "execution": {
     "iopub.status.busy": "2022-07-05T15:26:29.020024Z",
     "iopub.execute_input": "2022-07-05T15:26:29.020989Z",
     "iopub.status.idle": "2022-07-05T15:26:29.037526Z",
     "shell.execute_reply.started": "2022-07-05T15:26:29.020907Z",
     "shell.execute_reply": "2022-07-05T15:26:29.036434Z"
    },
    "trusted": true
   },
   "execution_count": 2,
   "outputs": []
  },
  {
   "cell_type": "markdown",
   "source": [
    "### Callback functions"
   ],
   "metadata": {
    "pycharm": {
     "name": "#%% md\n"
    }
   }
  },
  {
   "cell_type": "code",
   "source": [
    "early_stop = tf.keras.callbacks.EarlyStopping(patience=15,\n",
    "                                              monitor='val_loss',\n",
    "                                              restore_best_weights=True,\n",
    "                                              verbose=1)\n",
    "\n",
    "reduce_lr = tf.keras.callbacks.ReduceLROnPlateau(patience=3,\n",
    "                                                 monitor='val_loss',\n",
    "                                                 factor=0.75,\n",
    "                                                 verbose=1)\n",
    "\n",
    "checkpoint = tf.keras.callbacks.ModelCheckpoint(filepath='best_checkpoint.hdf5',\n",
    "                                                monitor='val_loss',\n",
    "                                                verbose=1,\n",
    "                                                save_best_only=True)"
   ],
   "metadata": {
    "collapsed": false,
    "pycharm": {
     "name": "#%%\n"
    },
    "jupyter": {
     "outputs_hidden": false
    },
    "execution": {
     "iopub.status.busy": "2022-07-05T15:26:29.041484Z",
     "iopub.execute_input": "2022-07-05T15:26:29.042302Z",
     "iopub.status.idle": "2022-07-05T15:26:29.051676Z",
     "shell.execute_reply.started": "2022-07-05T15:26:29.042264Z",
     "shell.execute_reply": "2022-07-05T15:26:29.050231Z"
    },
    "trusted": true
   },
   "execution_count": 3,
   "outputs": []
  },
  {
   "cell_type": "markdown",
   "source": [
    "### Pre-processing Pipeline"
   ],
   "metadata": {
    "pycharm": {
     "name": "#%% md\n"
    }
   }
  },
  {
   "cell_type": "markdown",
   "source": [
    "#### utility functions"
   ],
   "metadata": {
    "pycharm": {
     "name": "#%% md\n"
    }
   }
  },
  {
   "cell_type": "code",
   "source": [
    "def random_cut_out(images):\n",
    "    return tfa.image.random_cutout(images, (32, 32), constant_values=0)\n",
    "\n",
    "\n",
    "def cropping(arr):\n",
    "    h, w = arr.shape[:2]\n",
    "    central_crop_width=(0.45, 0.65, 0.85)\n",
    "    central_crop_height=(0.45, 0.65, 0.85)\n",
    "    h_factor, w_factor = random.choice(list(zip(central_crop_width, central_crop_height)))\n",
    "    offset_h = (h - h_factor * h) // 2\n",
    "    offset_w = (w - w_factor * w) // 2\n",
    "\n",
    "    return tf.image.crop_to_bounding_box(arr, int(offset_h), int(offset_w), int(h * h_factor), int(w * w_factor))\n",
    "\n",
    "\n",
    "def center_crop_and_random_augmentations_fn(image):\n",
    "    image = cropping(image)\n",
    "    image = tf.image.resize(image, (256, 256))\n",
    "    image = tf.image.random_brightness(image, 0.2)\n",
    "    image = tf.image.random_contrast(image, 0.5, 2.0)\n",
    "    image = tf.image.random_saturation(image, 0.75, 1.25)\n",
    "    image = tf.image.random_hue(image, 0.1)\n",
    "    \n",
    "    return image"
   ],
   "metadata": {
    "execution": {
     "iopub.status.busy": "2022-07-05T15:26:29.055488Z",
     "iopub.execute_input": "2022-07-05T15:26:29.056063Z",
     "iopub.status.idle": "2022-07-05T15:26:29.066739Z",
     "shell.execute_reply.started": "2022-07-05T15:26:29.056001Z",
     "shell.execute_reply": "2022-07-05T15:26:29.065302Z"
    },
    "trusted": true,
    "pycharm": {
     "name": "#%%\n"
    }
   },
   "execution_count": 4,
   "outputs": []
  },
  {
   "cell_type": "markdown",
   "source": [
    "### Config data loaders"
   ],
   "metadata": {
    "pycharm": {
     "name": "#%% md\n"
    }
   }
  },
  {
   "cell_type": "code",
   "source": [
    "train_data = []\n",
    "\n",
    "for i, folder in enumerate(os.listdir('../input/paddy-disease-classification/train_images/')):\n",
    "    folder_path = os.path.join('../input/paddy-disease-classification/train_images',folder)\n",
    "    \n",
    "    for j, file in enumerate(os.listdir(folder_path)):\n",
    "        file_path = os.path.join(folder_path, file)\n",
    "        train_data.append([file_path, folder, file])\n",
    "\n",
    "train_data = pd.DataFrame(train_data, columns=['file_path', 'label', 'image_id'])\n",
    "train_data"
   ],
   "metadata": {
    "execution": {
     "iopub.status.busy": "2022-07-05T15:26:29.068702Z",
     "iopub.execute_input": "2022-07-05T15:26:29.069523Z",
     "iopub.status.idle": "2022-07-05T15:26:29.833596Z",
     "shell.execute_reply.started": "2022-07-05T15:26:29.069480Z",
     "shell.execute_reply": "2022-07-05T15:26:29.832663Z"
    },
    "trusted": true,
    "pycharm": {
     "name": "#%%\n"
    }
   },
   "execution_count": 5,
   "outputs": []
  },
  {
   "cell_type": "code",
   "source": [
    "meta = pd.read_csv('../input/paddy-disease-classification/train.csv')\n",
    "train_data = pd.merge(train_data, meta.drop('label', axis=1), on='image_id')\n",
    "train_data"
   ],
   "metadata": {
    "execution": {
     "iopub.status.busy": "2022-07-05T15:26:29.834893Z",
     "iopub.execute_input": "2022-07-05T15:26:29.835742Z",
     "iopub.status.idle": "2022-07-05T15:26:29.885431Z",
     "shell.execute_reply.started": "2022-07-05T15:26:29.835703Z",
     "shell.execute_reply": "2022-07-05T15:26:29.884416Z"
    },
    "trusted": true,
    "pycharm": {
     "name": "#%%\n"
    }
   },
   "execution_count": 6,
   "outputs": []
  },
  {
   "cell_type": "code",
   "source": [
    "train, test = train_test_split(train_data, test_size=0.05, random_state=48)\n",
    "\n",
    "train.shape, test.shape"
   ],
   "metadata": {
    "execution": {
     "iopub.status.busy": "2022-07-05T19:40:52.787793Z",
     "iopub.execute_input": "2022-07-05T19:40:52.788263Z",
     "iopub.status.idle": "2022-07-05T19:40:52.802704Z",
     "shell.execute_reply.started": "2022-07-05T19:40:52.788221Z",
     "shell.execute_reply": "2022-07-05T19:40:52.801778Z"
    },
    "trusted": true,
    "pycharm": {
     "name": "#%%\n"
    }
   },
   "execution_count": 44,
   "outputs": []
  },
  {
   "cell_type": "code",
   "source": [
    "tr = pd.DataFrame(train['label'].value_counts()/train.shape[0])\n",
    "te = pd.DataFrame(test['label'].value_counts()/test.shape[0])\n",
    "\n",
    "tr['subset'] = 'train'\n",
    "te['subset'] = 'test'\n",
    "\n",
    "temp = pd.concat([tr,te]).reset_index()\n",
    "\n",
    "plt.figure(figsize=[24,6], dpi=300)\n",
    "sns.barplot(x='index',\n",
    "            y='label',\n",
    "            hue='subset',\n",
    "            data=temp)\n",
    "plt.savefig('class-balance.jpg')\n",
    "plt.show()"
   ],
   "metadata": {
    "execution": {
     "iopub.status.busy": "2022-07-05T19:41:10.057000Z",
     "iopub.execute_input": "2022-07-05T19:41:10.057375Z",
     "iopub.status.idle": "2022-07-05T19:41:11.776729Z",
     "shell.execute_reply.started": "2022-07-05T19:41:10.057346Z",
     "shell.execute_reply": "2022-07-05T19:41:11.775763Z"
    },
    "trusted": true,
    "pycharm": {
     "name": "#%%\n"
    }
   },
   "execution_count": 45,
   "outputs": []
  },
  {
   "cell_type": "code",
   "source": [
    "generator = ImageDataGenerator(rescale=1 / 255,\n",
    "                               rotation_range=10,\n",
    "                               width_shift_range=0.25,\n",
    "                               height_shift_range=0.25,\n",
    "                               horizontal_flip=True,\n",
    "                               vertical_flip=True,\n",
    "                               channel_shift_range=0.65,\n",
    "                               fill_mode='reflect',\n",
    "                               validation_split=valid_split,\n",
    "                               preprocessing_function=center_crop_and_random_augmentations_fn)\n",
    "\n",
    "train_datagen = generator.flow_from_dataframe(dataframe=train,\n",
    "                                              x_col='file_path',\n",
    "                                              y_col='label',\n",
    "                                              target_size=(input_size, input_size),\n",
    "                                              batch_size=batch_size,\n",
    "                                              subset='training')\n",
    "\n",
    "valid_datagen = generator.flow_from_dataframe(dataframe=train,\n",
    "                                              x_col='file_path',\n",
    "                                              y_col='label',\n",
    "                                              target_size=(input_size, input_size),\n",
    "                                              batch_size=batch_size,\n",
    "                                              subset='validation')\n",
    "\n",
    "test_datagen = ImageDataGenerator(rescale=1.0/255).flow_from_dataframe(dataframe=test,\n",
    "                                                                       x_col='file_path',\n",
    "                                                                       y_col='label',\n",
    "                                                                       target_size=(input_size, input_size),\n",
    "                                                                       batch_size=batch_size,\n",
    "                                                                       shuffle=False)"
   ],
   "metadata": {
    "collapsed": false,
    "pycharm": {
     "name": "#%%\n"
    },
    "jupyter": {
     "outputs_hidden": false
    },
    "execution": {
     "iopub.status.busy": "2022-07-05T19:47:16.556374Z",
     "iopub.execute_input": "2022-07-05T19:47:16.556746Z",
     "iopub.status.idle": "2022-07-05T19:47:20.925945Z",
     "shell.execute_reply.started": "2022-07-05T19:47:16.556715Z",
     "shell.execute_reply": "2022-07-05T19:47:20.924867Z"
    },
    "trusted": true
   },
   "execution_count": 54,
   "outputs": []
  },
  {
   "cell_type": "code",
   "source": [
    "len(train_datagen.next()[0]), len(valid_datagen.next()[0])"
   ],
   "metadata": {
    "collapsed": false,
    "pycharm": {
     "name": "#%%\n"
    },
    "jupyter": {
     "outputs_hidden": false
    },
    "execution": {
     "iopub.status.busy": "2022-07-05T19:41:40.187786Z",
     "iopub.execute_input": "2022-07-05T19:41:40.188142Z",
     "iopub.status.idle": "2022-07-05T19:41:40.847457Z",
     "shell.execute_reply.started": "2022-07-05T19:41:40.188110Z",
     "shell.execute_reply": "2022-07-05T19:41:40.846515Z"
    },
    "trusted": true
   },
   "execution_count": 47,
   "outputs": []
  },
  {
   "cell_type": "markdown",
   "source": [
    "#### data loders output"
   ],
   "metadata": {
    "pycharm": {
     "name": "#%% md\n"
    }
   }
  },
  {
   "cell_type": "markdown",
   "source": [
    "#### train mini batch"
   ],
   "metadata": {
    "pycharm": {
     "name": "#%% md\n"
    }
   }
  },
  {
   "cell_type": "code",
   "source": [
    "fig, axes = plt.subplots(nrows=2, ncols=8, figsize=[32, 8], dpi=200)\n",
    "axes = axes.ravel()\n",
    "\n",
    "for i, arr in enumerate(train_datagen.next()[0]):\n",
    "    img = array_to_img(arr)\n",
    "    axes[i].imshow(img)\n",
    "    \n",
    "plt.savefig('train-mini-batch.jpg')\n",
    "plt.show()"
   ],
   "metadata": {
    "execution": {
     "iopub.status.busy": "2022-07-05T15:26:37.889859Z",
     "iopub.execute_input": "2022-07-05T15:26:37.890227Z",
     "iopub.status.idle": "2022-07-05T15:26:45.786010Z",
     "shell.execute_reply.started": "2022-07-05T15:26:37.890191Z",
     "shell.execute_reply": "2022-07-05T15:26:45.780709Z"
    },
    "trusted": true,
    "pycharm": {
     "name": "#%%\n"
    }
   },
   "execution_count": 11,
   "outputs": []
  },
  {
   "cell_type": "markdown",
   "source": [
    "#### validation mini batch"
   ],
   "metadata": {
    "pycharm": {
     "name": "#%% md\n"
    }
   }
  },
  {
   "cell_type": "code",
   "source": [
    "fig, axes = plt.subplots(nrows=2, ncols=8, figsize=[32, 8], dpi=200)\n",
    "axes = axes.ravel()\n",
    "\n",
    "for i, arr in enumerate(valid_datagen.next()[0]):\n",
    "    img = array_to_img(arr)\n",
    "    axes[i].imshow(img)\n",
    "    \n",
    "plt.savefig('valid-mini-batch.jpg')\n",
    "plt.show()"
   ],
   "metadata": {
    "execution": {
     "iopub.status.busy": "2022-07-05T15:26:45.787546Z",
     "iopub.execute_input": "2022-07-05T15:26:45.788249Z",
     "iopub.status.idle": "2022-07-05T15:26:52.896794Z",
     "shell.execute_reply.started": "2022-07-05T15:26:45.788200Z",
     "shell.execute_reply": "2022-07-05T15:26:52.895679Z"
    },
    "trusted": true,
    "pycharm": {
     "name": "#%%\n"
    }
   },
   "execution_count": 12,
   "outputs": []
  },
  {
   "cell_type": "code",
   "source": [
    "plt.figure(figsize=[24,20], dpi=200)\n",
    "sns.barplot(x='age', y='label', hue='variety', data=meta, palette='OrRd_r')\n",
    "plt.savefig('age-vs-label.jpg')\n",
    "plt.show()"
   ],
   "metadata": {
    "execution": {
     "iopub.status.busy": "2022-07-05T15:26:52.898726Z",
     "iopub.execute_input": "2022-07-05T15:26:52.899450Z",
     "iopub.status.idle": "2022-07-05T15:26:57.247464Z",
     "shell.execute_reply.started": "2022-07-05T15:26:52.899397Z",
     "shell.execute_reply": "2022-07-05T15:26:57.246614Z"
    },
    "trusted": true,
    "pycharm": {
     "name": "#%%\n"
    }
   },
   "execution_count": 13,
   "outputs": []
  },
  {
   "cell_type": "code",
   "source": [
    "plt.figure(figsize=[12,6], dpi=200)\n",
    "sns.barplot(x='age', y='label', hue='variety', \n",
    "            data=meta.groupby(by=['age', 'variety'])[['label']].count().reset_index(), \n",
    "            palette='OrRd_r')\n",
    "plt.savefig('class-sizes.jpg')\n",
    "plt.show()"
   ],
   "metadata": {
    "execution": {
     "iopub.status.busy": "2022-07-05T15:26:57.249030Z",
     "iopub.execute_input": "2022-07-05T15:26:57.249609Z",
     "iopub.status.idle": "2022-07-05T15:26:59.294076Z",
     "shell.execute_reply.started": "2022-07-05T15:26:57.249574Z",
     "shell.execute_reply": "2022-07-05T15:26:59.292921Z"
    },
    "trusted": true,
    "pycharm": {
     "name": "#%%\n"
    }
   },
   "execution_count": 14,
   "outputs": []
  },
  {
   "cell_type": "markdown",
   "source": [
    "### Model"
   ],
   "metadata": {
    "pycharm": {
     "name": "#%% md\n"
    }
   }
  },
  {
   "cell_type": "code",
   "source": [
    "model_base = EfficientNetB3(include_top=False, input_shape=(256, 256, 3), weights='imagenet')"
   ],
   "metadata": {
    "collapsed": false,
    "pycharm": {
     "name": "#%%\n"
    },
    "jupyter": {
     "outputs_hidden": false
    },
    "_kg_hide-input": true,
    "_kg_hide-output": true,
    "execution": {
     "iopub.status.busy": "2022-07-05T19:49:18.506096Z",
     "iopub.execute_input": "2022-07-05T19:49:18.506482Z",
     "iopub.status.idle": "2022-07-05T19:49:20.792597Z",
     "shell.execute_reply.started": "2022-07-05T19:49:18.506448Z",
     "shell.execute_reply": "2022-07-05T19:49:20.791402Z"
    },
    "trusted": true
   },
   "execution_count": 56,
   "outputs": []
  },
  {
   "cell_type": "code",
   "source": [
    "tf.keras.utils.plot_model(model_base, to_file='EfficientNetB3.png')"
   ],
   "metadata": {
    "_kg_hide-input": true,
    "_kg_hide-output": true,
    "execution": {
     "iopub.status.busy": "2022-07-05T19:45:21.506235Z",
     "iopub.execute_input": "2022-07-05T19:45:21.506596Z",
     "iopub.status.idle": "2022-07-05T19:45:23.897058Z",
     "shell.execute_reply.started": "2022-07-05T19:45:21.506567Z",
     "shell.execute_reply": "2022-07-05T19:45:23.895789Z"
    },
    "trusted": true,
    "pycharm": {
     "name": "#%%\n"
    }
   },
   "execution_count": 51,
   "outputs": []
  },
  {
   "cell_type": "code",
   "source": [
    "input_layer = Input(shape=(input_size,input_size,3))\n",
    "x_ = model_base(input_layer)\n",
    "x_ = GlobalAveragePooling2D()(x_)\n",
    "output_layer = Dense(units=10, activation='softmax')(x_)\n",
    "\n",
    "model = Model(input_layer, output_layer)\n",
    "\n",
    "model.compile(optimizer=optimizer,\n",
    "              loss=loss,\n",
    "              metrics=['accuracy'])"
   ],
   "metadata": {
    "execution": {
     "iopub.status.busy": "2022-07-05T19:49:25.714393Z",
     "iopub.execute_input": "2022-07-05T19:49:25.714763Z",
     "iopub.status.idle": "2022-07-05T19:49:26.592374Z",
     "shell.execute_reply.started": "2022-07-05T19:49:25.714730Z",
     "shell.execute_reply": "2022-07-05T19:49:26.591317Z"
    },
    "trusted": true,
    "pycharm": {
     "name": "#%%\n"
    }
   },
   "execution_count": 57,
   "outputs": []
  },
  {
   "cell_type": "code",
   "source": [
    "model.summary()"
   ],
   "metadata": {
    "execution": {
     "iopub.status.busy": "2022-07-05T19:49:28.764407Z",
     "iopub.execute_input": "2022-07-05T19:49:28.764792Z",
     "iopub.status.idle": "2022-07-05T19:49:28.792336Z",
     "shell.execute_reply.started": "2022-07-05T19:49:28.764759Z",
     "shell.execute_reply": "2022-07-05T19:49:28.791329Z"
    },
    "trusted": true,
    "pycharm": {
     "name": "#%%\n"
    }
   },
   "execution_count": 58,
   "outputs": []
  },
  {
   "cell_type": "code",
   "source": [
    "history = model.fit(train_datagen,\n",
    "                    validation_data=valid_datagen,\n",
    "                    batch_size=batch_size,\n",
    "                    epochs=epochs,\n",
    "                    callbacks=[early_stop,reduce_lr])"
   ],
   "metadata": {
    "collapsed": false,
    "pycharm": {
     "name": "#%%\n"
    },
    "jupyter": {
     "outputs_hidden": false
    },
    "execution": {
     "iopub.status.busy": "2022-07-05T19:49:33.025484Z",
     "iopub.execute_input": "2022-07-05T19:49:33.026168Z"
    },
    "trusted": true
   },
   "execution_count": null,
   "outputs": []
  },
  {
   "cell_type": "code",
   "source": [
    "model.evaluate(test_datagen)"
   ],
   "metadata": {
    "execution": {
     "iopub.status.busy": "2022-07-05T18:36:59.832592Z",
     "iopub.execute_input": "2022-07-05T18:36:59.832910Z",
     "iopub.status.idle": "2022-07-05T18:37:05.165082Z",
     "shell.execute_reply.started": "2022-07-05T18:36:59.832884Z",
     "shell.execute_reply": "2022-07-05T18:37:05.163998Z"
    },
    "trusted": true,
    "pycharm": {
     "name": "#%%\n"
    }
   },
   "execution_count": 20,
   "outputs": []
  },
  {
   "cell_type": "markdown",
   "source": [
    "### Evaluate"
   ],
   "metadata": {
    "pycharm": {
     "name": "#%% md\n"
    }
   }
  },
  {
   "cell_type": "code",
   "source": [
    "plt.figure(figsize=[12,6], dpi=300)\n",
    "sns.lineplot(x=list(range(len(history.history['accuracy']))),\n",
    "             y=history.history['accuracy'],\n",
    "             label='train')\n",
    "sns.lineplot(x=list(range(len(history.history['val_accuracy']))),\n",
    "             y=history.history['val_accuracy'],\n",
    "             label='validation')\n",
    "plt.savefig('accuracy-hist.jpg')\n",
    "plt.show()"
   ],
   "metadata": {
    "collapsed": false,
    "pycharm": {
     "name": "#%%\n"
    },
    "jupyter": {
     "outputs_hidden": false
    },
    "execution": {
     "iopub.status.busy": "2022-07-05T18:37:05.166750Z",
     "iopub.execute_input": "2022-07-05T18:37:05.167134Z",
     "iopub.status.idle": "2022-07-05T18:37:05.925216Z",
     "shell.execute_reply.started": "2022-07-05T18:37:05.167098Z",
     "shell.execute_reply": "2022-07-05T18:37:05.921682Z"
    },
    "trusted": true
   },
   "execution_count": 21,
   "outputs": []
  },
  {
   "cell_type": "code",
   "source": [
    "plt.figure(figsize=[12,6], dpi=300)\n",
    "sns.lineplot(x=list(range(len(history.history['loss']))),\n",
    "             y=history.history['loss'],\n",
    "             label='train')\n",
    "sns.lineplot(x=list(range(len(history.history['val_loss']))),\n",
    "             y=history.history['val_loss'],\n",
    "             label='validation')\n",
    "plt.savefig('loss-hist.jpg')\n",
    "plt.show()"
   ],
   "metadata": {
    "collapsed": false,
    "pycharm": {
     "name": "#%%\n"
    },
    "jupyter": {
     "outputs_hidden": false
    },
    "execution": {
     "iopub.status.busy": "2022-07-05T18:37:05.926958Z",
     "iopub.execute_input": "2022-07-05T18:37:05.927318Z",
     "iopub.status.idle": "2022-07-05T18:37:06.677464Z",
     "shell.execute_reply.started": "2022-07-05T18:37:05.927282Z",
     "shell.execute_reply": "2022-07-05T18:37:06.676411Z"
    },
    "trusted": true
   },
   "execution_count": 22,
   "outputs": []
  },
  {
   "cell_type": "markdown",
   "source": [
    "### Saving files"
   ],
   "metadata": {
    "pycharm": {
     "name": "#%% md\n"
    }
   }
  },
  {
   "cell_type": "code",
   "source": [
    "temp = pd.DataFrame(history.history)\n",
    "temp.to_csv('model_xception_history.csv', index=False)"
   ],
   "metadata": {
    "collapsed": false,
    "pycharm": {
     "name": "#%%\n"
    },
    "jupyter": {
     "outputs_hidden": false
    },
    "execution": {
     "iopub.status.busy": "2022-07-05T18:37:06.679222Z",
     "iopub.execute_input": "2022-07-05T18:37:06.679556Z",
     "iopub.status.idle": "2022-07-05T18:37:06.688727Z",
     "shell.execute_reply.started": "2022-07-05T18:37:06.679524Z",
     "shell.execute_reply": "2022-07-05T18:37:06.687572Z"
    },
    "trusted": true
   },
   "execution_count": 23,
   "outputs": []
  },
  {
   "cell_type": "code",
   "source": [
    "try:\n",
    "    model.save('model_xception.hdf5')\n",
    "except:\n",
    "    print('file saving error.')"
   ],
   "metadata": {
    "execution": {
     "iopub.status.busy": "2022-07-05T18:37:06.690275Z",
     "iopub.execute_input": "2022-07-05T18:37:06.690908Z",
     "iopub.status.idle": "2022-07-05T18:37:07.524126Z",
     "shell.execute_reply.started": "2022-07-05T18:37:06.690871Z",
     "shell.execute_reply": "2022-07-05T18:37:07.523097Z"
    },
    "trusted": true,
    "pycharm": {
     "name": "#%%\n"
    }
   },
   "execution_count": 24,
   "outputs": []
  },
  {
   "cell_type": "code",
   "source": [
    "try:\n",
    "    model.save_weights('model_xception_weights.hdf5')\n",
    "except:\n",
    "    print('file saving error.')"
   ],
   "metadata": {
    "execution": {
     "iopub.status.busy": "2022-07-05T18:37:07.525902Z",
     "iopub.execute_input": "2022-07-05T18:37:07.526546Z",
     "iopub.status.idle": "2022-07-05T18:37:07.829385Z",
     "shell.execute_reply.started": "2022-07-05T18:37:07.526510Z",
     "shell.execute_reply": "2022-07-05T18:37:07.828307Z"
    },
    "trusted": true,
    "pycharm": {
     "name": "#%%\n"
    }
   },
   "execution_count": 25,
   "outputs": []
  },
  {
   "cell_type": "markdown",
   "source": [
    "### Inference"
   ],
   "metadata": {
    "pycharm": {
     "name": "#%% md\n"
    }
   }
  },
  {
   "cell_type": "code",
   "source": [
    "test_loc = '../input/paddy-disease-classification/test_images'\n",
    "\n",
    "test_data = ImageDataGenerator(rescale=1.0/255,\n",
    "                               samplewise_center=True,\n",
    "                               samplewise_std_normalization=True).flow_from_directory(directory=test_loc,\n",
    "                                                                                      target_size=(input_size, input_size),\n",
    "                                                                                      batch_size=batch_size,\n",
    "                                                                                      classes=['.'],\n",
    "                                                                                      shuffle=False)"
   ],
   "metadata": {
    "execution": {
     "iopub.status.busy": "2022-07-05T18:37:07.830788Z",
     "iopub.execute_input": "2022-07-05T18:37:07.831125Z",
     "iopub.status.idle": "2022-07-05T18:37:10.373868Z",
     "shell.execute_reply.started": "2022-07-05T18:37:07.831093Z",
     "shell.execute_reply": "2022-07-05T18:37:10.372877Z"
    },
    "trusted": true,
    "pycharm": {
     "name": "#%%\n"
    }
   },
   "execution_count": 26,
   "outputs": []
  },
  {
   "cell_type": "code",
   "source": [
    "train_datagen.class_indices"
   ],
   "metadata": {
    "execution": {
     "iopub.status.busy": "2022-07-05T18:37:10.375332Z",
     "iopub.execute_input": "2022-07-05T18:37:10.375678Z",
     "iopub.status.idle": "2022-07-05T18:37:10.382528Z",
     "shell.execute_reply.started": "2022-07-05T18:37:10.375642Z",
     "shell.execute_reply": "2022-07-05T18:37:10.381381Z"
    },
    "trusted": true,
    "pycharm": {
     "name": "#%%\n"
    }
   },
   "execution_count": 27,
   "outputs": []
  },
  {
   "cell_type": "code",
   "source": [
    "predict_max = np.argmax(model.predict(test_data, verbose=1),axis=1)"
   ],
   "metadata": {
    "execution": {
     "iopub.status.busy": "2022-07-05T18:37:10.388906Z",
     "iopub.execute_input": "2022-07-05T18:37:10.389677Z",
     "iopub.status.idle": "2022-07-05T18:37:52.555104Z",
     "shell.execute_reply.started": "2022-07-05T18:37:10.389642Z",
     "shell.execute_reply": "2022-07-05T18:37:52.554071Z"
    },
    "trusted": true,
    "pycharm": {
     "name": "#%%\n"
    }
   },
   "execution_count": 28,
   "outputs": []
  },
  {
   "cell_type": "code",
   "source": [
    "inverse_map = {v:k for k,v in train_datagen.class_indices.items()}\n",
    "predictions = [inverse_map[k] for k in predict_max]"
   ],
   "metadata": {
    "execution": {
     "iopub.status.busy": "2022-07-05T18:37:52.557829Z",
     "iopub.execute_input": "2022-07-05T18:37:52.558449Z",
     "iopub.status.idle": "2022-07-05T18:37:52.565871Z",
     "shell.execute_reply.started": "2022-07-05T18:37:52.558411Z",
     "shell.execute_reply": "2022-07-05T18:37:52.564775Z"
    },
    "trusted": true,
    "pycharm": {
     "name": "#%%\n"
    }
   },
   "execution_count": 29,
   "outputs": []
  },
  {
   "cell_type": "code",
   "source": [
    "files=test_data.filenames\n",
    "\n",
    "temp = pd.DataFrame({\"image_id\":files,\n",
    "                      \"label\":predictions})\n",
    "\n",
    "temp.image_id = temp.image_id.str.replace('./', '')\n",
    "temp.to_csv('model_submission_v6.csv', index=False)\n",
    "temp"
   ],
   "metadata": {
    "execution": {
     "iopub.status.busy": "2022-07-05T18:37:52.567937Z",
     "iopub.execute_input": "2022-07-05T18:37:52.569240Z",
     "iopub.status.idle": "2022-07-05T18:37:52.600751Z",
     "shell.execute_reply.started": "2022-07-05T18:37:52.569209Z",
     "shell.execute_reply": "2022-07-05T18:37:52.599663Z"
    },
    "trusted": true,
    "pycharm": {
     "name": "#%%\n"
    }
   },
   "execution_count": 30,
   "outputs": []
  },
  {
   "cell_type": "code",
   "source": [
    "temp.label.value_counts()"
   ],
   "metadata": {
    "execution": {
     "iopub.status.busy": "2022-07-05T18:37:52.602227Z",
     "iopub.execute_input": "2022-07-05T18:37:52.603285Z",
     "iopub.status.idle": "2022-07-05T18:37:52.612753Z",
     "shell.execute_reply.started": "2022-07-05T18:37:52.603248Z",
     "shell.execute_reply": "2022-07-05T18:37:52.611674Z"
    },
    "trusted": true,
    "pycharm": {
     "name": "#%%\n"
    }
   },
   "execution_count": 31,
   "outputs": []
  }
 ]
}